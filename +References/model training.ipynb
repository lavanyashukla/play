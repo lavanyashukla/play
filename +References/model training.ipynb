{
 "cells": [
  {
   "cell_type": "markdown",
   "metadata": {},
   "source": [
    "# Model Training\n",
    "\n",
    "Summary of ML models and how to train them (How To Train A Model :P)"
   ]
  },
  {
   "cell_type": "markdown",
   "metadata": {},
   "source": [
    "**Explanatory Variable**\n",
    "What the variable we're measuring depends on\n",
    "\n",
    "**Response Variable**\n",
    "What we're measuring\n",
    "\n",
    "**Confounding Variable**\n",
    "Other key variables the response variable depends on, is tied to.\n",
    "Or, another variable that is associated positively or negatively with the explanatory and response variables.\n",
    "\n",
    "We can control for this variable by grouping by this variable and then studying the groups individually.\n",
    "There can be an infinite number of confounding variables. That's why we can never be 100% certain of a claim of causation based on an observational study.\n",
    "\n",
    "Observational studies cannopt prove causality. They;re great to draw conclusions about causal connections. To do this, we must control for the most likely confounding variables. Only then can we suggest that an observational study may suggest a causal relationship.\n",
    "\n",
    "The observed association isn't always causation.\n",
    "**Association does not imply causation.** There is another confounding variable(s) that causes the observed relationship.\n",
    "The observed associations with the response variable should be attributed to the confounding variable, not the explanatory variable.\n",
    "We need to control for the confounding variable(s) to avoid incorrectly believing that the response variable is associated with the explanatory varaible.\n",
    "We want to demonstrate that our association of interest is significangt even after controlling for potential confounding variables.\n",
    "\n",
    "Confoudning is a major threat to the validity of inferences made about statistical associations.\n",
    "\n",
    "Was the explanatory variable manipulated (controlled by the researcher)\n",
    "\n",
    "For most studies we can't control every variable so we're not able to determine if X causes Y, but we are able to determine if X is associated with Y.\n",
    "\n",
    "----------------------------\n",
    "\n",
    "Data can be:\n",
    "\n",
    "**Experimental**\n",
    "* Researchers controlled/manipulated the variable.\n",
    "* Studies in which groups of observations are pre-selected or randomly assigned to the the values of the explanatory variable\n",
    "    * e.g. The researchers asked you to do X at a threshold of Y to compare you to other individuals who were asked to not do X.\n",
    "    * True Experimental Study\n",
    "        * Only one variable is manipulated and all other variables are held constant\n",
    "        * Control Group - There is a control group to which other values of the explanatory variable are compared to on the response variable\n",
    "        * Random Assignment - Observations are randomly assigned to one group or another\n",
    "        * Can't determine causality, only if the treatment variable is associated with the response variable.\n",
    "    * Quasi Experimental Study\n",
    "        * Treatment and control groups are pre-selected\n",
    "            * (e.g. if we're testing the affect of cocaine of memory, we can't randomly assign some users to have cocaine as that would be unethical, therefore we select those who already test +ve for cocaine)\n",
    "        * Only one variable is manipulated\n",
    "        * Control Group - There is a control group\n",
    "        * No Random Assignment\n",
    "        * We can increase the rigor of a quasi-experimental design by:\n",
    "            * Measuring as many confounding variables as possible\n",
    "            * Having a control group\n",
    "            * Using a pre and post-test design whenever possible.\n",
    "        * A quasi-experimental design will not allow us to infer causality between an explanatory variable and our response variable.\n",
    "\n",
    "\n",
    "**Observational**\n",
    "* Data Reporting\n",
    "* Sample Survey\n",
    "* Observational Study\n",
    "* The researchers simply reported the variable.\n",
    "\n",
    "\n",
    "One of the first things we want to do is to check for any imbalances between your treatment and control groups on key variables that could change how the treatment affects the response variable.\n",
    "If imbalances are identified, those variables can be included in the statsitical model to predict the response variable so that they can be statistically controlled.\n",
    "\n",
    "**Statistical Control:** Include unbalanced covariates as additional explanatory variables in the analysis.\n",
    "\n",
    "**Multivariate Methods**\n"
   ]
  },
  {
   "cell_type": "code",
   "execution_count": 3,
   "metadata": {},
   "outputs": [],
   "source": [
    "# libraries\n",
    "import matplotlib.pyplot as plt\n",
    "import numpy as np\n",
    "import pandas as pd\n",
    "import seaborn as sns\n",
    "sns.set_style(\"white\")\n",
    "my_dpi=96\n",
    "import warnings\n",
    "warnings.filterwarnings('ignore')\n",
    "# For Model Training\n",
    "from sklearn.model_selection import train_test_split, KFold, cross_val_score, ShuffleSplit, GridSearchCV\n",
    "from sklearn.ensemble import RandomForestRegressor, AdaBoostRegressor\n",
    "from sklearn.linear_model import LinearRegression\n",
    "from sklearn.tree import DecisionTreeRegressor\n",
    "from sklearn.metrics import classification_report\n",
    "from sklearn.metrics import confusion_matrix\n",
    "from sklearn.metrics import accuracy_score\n",
    "from sklearn.svm import SVC\n",
    "from sklearn.linear_model import SGDClassifier\n",
    "from sklearn.ensemble import BaggingClassifier\n",
    "from sklearn.ensemble import AdaBoostClassifier\n",
    "from sklearn.linear_model import LogisticRegression\n",
    "from sklearn.tree import DecisionTreeClassifier\n",
    "from sklearn.ensemble import RandomForestClassifier\n",
    "from sklearn.neighbors import KNeighborsClassifier\n",
    "from sklearn.naive_bayes import GaussianNB\n",
    "from sklearn.ensemble import GradientBoostingClassifier\n",
    "from sklearn.metrics import r2_score, mean_squared_error, mean_absolute_error\n",
    "from sklearn.metrics import make_scorer"
   ]
  },
  {
   "cell_type": "markdown",
   "metadata": {},
   "source": [
    "# Training and Evaluating Models"
   ]
  },
  {
   "cell_type": "markdown",
   "metadata": {},
   "source": [
    "## ML Summary"
   ]
  },
  {
   "cell_type": "markdown",
   "metadata": {},
   "source": [
    "## Supervised Learning Summary"
   ]
  },
  {
   "cell_type": "markdown",
   "metadata": {},
   "source": [
    "<img src=\"supervised_learning_flowchart.png\">"
   ]
  },
  {
   "cell_type": "markdown",
   "metadata": {},
   "source": [
    "<img src=\"ML-Summary.png\">"
   ]
  },
  {
   "cell_type": "markdown",
   "metadata": {},
   "source": [
    "## Evaluating Many ML Models Quickly"
   ]
  },
  {
   "cell_type": "markdown",
   "metadata": {},
   "source": [
    "### Find the best models with GridSearch and CrossValidation"
   ]
  },
  {
   "cell_type": "code",
   "execution_count": 4,
   "metadata": {},
   "outputs": [],
   "source": [
    "def not_yo_nanas_model(features=None, labels=None, model_type='regression'):\n",
    "    '''\n",
    "    Takes in a dataset, trains a plethora of models on it (performs GridSearch\n",
    "        and Cross Validation to find optimal model), and returns the best performing model.\n",
    "    Args:\n",
    "        labels (Pandas series):      Labels to predict \n",
    "        features (Pandas dataframe): Features in dataset used to predict the labels\n",
    "        model_type (str):            Accepts \"regression\" and \"classification\" as values.\n",
    "                                        Models tried will change according to this param.\n",
    "    Returns:\n",
    "        model  (Model object): Model that achieved the highest accuracy\n",
    "        params (Dict):         Dict of parameters for the optimal model\n",
    "        score  (Float):        Accuracy of the optimal model\n",
    "    '''\n",
    "    \n",
    "    predictions = []\n",
    "    r2_scores = []\n",
    "    models = []\n",
    "    scores = []\n",
    "    best_score = []\n",
    "    params = []\n",
    "    optimal_model = {'model':'','params':'default','score':''}\n",
    "    # Type of cross validation to perform: options 'shuffle' or 'kfold'\n",
    "    cv_type = 'shuffle'\n",
    "    # turn GridSearch on or off\n",
    "    grid_search = 0\n",
    "    gs_bestscore = 0\n",
    "    \n",
    "    # Initialize em models and range of parameters to try out during GridSearch\n",
    "    ## Models for Regression\n",
    "    if(model_type == 'regression'):\n",
    "        models.append(DecisionTreeRegressor())\n",
    "        params.append({\n",
    "                'criterion': ['mse', 'mae'],\n",
    "                'min_samples_split': [10, 20, 40],\n",
    "                'max_depth': [2, 6, 8],\n",
    "                'min_samples_leaf': [20, 40, 100],\n",
    "                'max_leaf_nodes': [5, 20, 100]})\n",
    "        models.append(RandomForestRegressor())\n",
    "        params.append({\n",
    "                'n_estimators': [int(x) for x in np.linspace(start = 200, stop = 2000, num = 10)],\n",
    "                'max_features': ['auto', 'sqrt'],\n",
    "                'max_depth': [int(x) for x in np.linspace(10, 110, num = 11)],\n",
    "                'min_samples_split': [2, 5, 10],\n",
    "                'min_samples_leaf': [1, 2, 4],\n",
    "                'bootstrap': [True, False]})\n",
    "        models.append(AdaBoostRegressor())\n",
    "        params.append({\n",
    "                'n_estimators': [50, 100],\n",
    "                'learning_rate' : [0.01,0.05,0.1,0.3,1],\n",
    "                'loss' : ['linear', 'square', 'exponential']})\n",
    "        models.append(LinearRegression())\n",
    "        params.append({\n",
    "                'penalty': ['l1','l2'],\n",
    "                'dual': [True,False],\n",
    "                'max_iter': [100,110,120,130,140],\n",
    "                'C': [1.0,1.5,2.0,2.5]})\n",
    "        model_names = ['Decision Trees','Random Forest','Adaptive Boosting','Linear Regression']\n",
    "    ## Models for Classification\n",
    "    elif(model_type == 'classification'):\n",
    "        models.append(DecisionTreeClassifier())\n",
    "        params.append({\n",
    "                'criterion': ['gini', 'entropy'],\n",
    "                'max_depth': [1,2,15,20,30,40,50],\n",
    "                'max_features': ['sqrt','log2'],\n",
    "                'min_samples_split': [2,5,10]})\n",
    "        models.append(BaggingClassifier())\n",
    "        params.append({\n",
    "                'n_estimators': [40, 42],\n",
    "                'base_estimator__max_leaf_nodes':[10, 15],\n",
    "                'base_estimator__max_depth':[4, 5, 6]})\n",
    "        models.append(AdaBoostClassifier())\n",
    "        params.append({\n",
    "                'algorithm': ['SAMME', 'SAMME.R'],\n",
    "                'n_estimators': [1,10,100,1000]})\n",
    "        models.append(GradientBoostingClassifier())\n",
    "        params.append({\n",
    "                'n_estimators': [1,10,100,1000],\n",
    "                'learning_rate' : [0.001,0.01,0.05,0.1,0.5],\n",
    "                'subsample' : [0.1,0.5,1.0],\n",
    "                'max_depth': [1,3,5,10,20,50,100],\n",
    "                'minsamplessplit': [3]})\n",
    "        models.append(KNeighborsClassifier())\n",
    "        params.append({\n",
    "                'n_neighbors': [1, 3, 5, 10, 50, 100],\n",
    "                'weights': ['uniform', 'distance'],\n",
    "                'algorithm': ['auto','ball_tree','kd_tree'],\n",
    "                'metric': ['euclidean', 'cityblock']})\n",
    "        models.append(GaussianNB())\n",
    "        params.append({})\n",
    "        models.append(SGDClassifier())\n",
    "        params.append({\n",
    "                'loss': ['log'],\n",
    "                'penalty': ['l2','l1','elasticnet']})\n",
    "        models.append(LogisticRegression())\n",
    "        params.append({\n",
    "                'penalty': ['l1','l2'],\n",
    "                'C': [0.00001,0.0001,0.001,0.01,0.1,1,10]})\n",
    "        models.append(RandomForestClassifier())\n",
    "        params.append({\n",
    "                'n_estimators': [1,10,100,1000],\n",
    "                'max_depth': [10, 15,20,30,40,50,60,70,100],\n",
    "                'min_samples_split': [2,5,10],\n",
    "                'max_features': ['auto', 'sqrt', 'log2']})\n",
    "        models.append(SVC())\n",
    "        params.append({\n",
    "                'kernel':('linear', 'rbf'),\n",
    "                'C':(1,0.25,0.5,0.75),\n",
    "                'gamma': (1,2,3,'auto'),\n",
    "                'decision_function_shape':('ovo','ovr'),\n",
    "                'shrinking':(True,False)})\n",
    "        model_names = ['GaussianNB','Decision Tree','Bagging', 'AdaBoost', 'Gradient Boosting', 'KNeighbors', 'Stochastic Gradient Descent', 'Logistic Regression', 'Random Forest', 'Support Vector']\n",
    "    ## Models for Clustering\n",
    "    elif(model_type == 'clustering'):\n",
    "        # TODO - Implement clustering algos\n",
    "        model_names = []\n",
    "        \n",
    "    # Train Test Split\n",
    "    X_train, X_test, y_train, y_test = train_test_split(features, labels, test_size=0.1, random_state=42)\n",
    "\n",
    "    # Fit em models to the training data and get predictions on test set\n",
    "    for i in range(len(models)):\n",
    "        # Cross Validation to get more juice out of our training data\n",
    "        if(cv_type=='kfold'):\n",
    "            # K-Fold Cross Validation\n",
    "            cv_kfold = KFold(n_splits=10, shuffle=True, random_state=42)\n",
    "        elif(cv_type=='shuffle'):\n",
    "            # ShuffleSplit Cross Validation\n",
    "            cv_shuffle = ShuffleSplit(n_splits = 10, test_size = 0.20, random_state = 42)\n",
    "        cv = cross_val_score(models[i], X_train, y_train, cv=cv_shuffle)\n",
    "        \n",
    "        # Cross Validation Scores\n",
    "        scores.append(cv)\n",
    "        print(\"%s: %f (%f)\" % (model_names[i], cv.mean(), cv.std()))\n",
    "        \n",
    "        if(grid_search==0):\n",
    "            # Fit the model\n",
    "            models[i].fit(X_train, y_train)\n",
    "            \n",
    "            # Make predictions\n",
    "            predictions.append(models[i].predict(X_test))\n",
    "        else:\n",
    "            # Compute the optimal model by finding best set of model params over training data\n",
    "            grid = GridSearchCV(models[i], params[i], cv=cv_shuffle)\n",
    "            \n",
    "            # Fit the model\n",
    "            grid = grid.fit(X_train, y_train)\n",
    "            \n",
    "            # Store highest scoring model in 'optimal_model'\n",
    "            if(grid.best_score_>gs_bestscore):\n",
    "                optimal_model['model'] = grid.best_estimator_\n",
    "                optimal_model['params'] = grid.best_params_\n",
    "                optimal_model['score'] = grid.best_score_\n",
    "                gs_bestscore = grid.best_score_\n",
    "                \n",
    "                # Make predictions\n",
    "                predictions.append(optimal_model['model'].predict(X_test))\n",
    "    \n",
    "    if(grid_search==0):\n",
    "        # Find model with highest accuracy\n",
    "        for i in range(len(scores)):\n",
    "            best_score.append(scores[i].mean())\n",
    "            # print(best_score)\n",
    "        optimal_model['model'] = models[best_score.index(max(best_score))]\n",
    "        optimal_model['score'] = max(best_score)\n",
    "    \n",
    "\n",
    "    # Plot performance of models during CV and GridSearch\n",
    "    fig = plt.figure(figsize = [12, 12])\n",
    "    plt.suptitle('Plot Model Performance')\n",
    "    afig = fig.add_subplot(111)\n",
    "    plt.boxplot(scores)\n",
    "    afig.set_xticklabels(model_names)\n",
    "    plt.xticks(rotation=60)\n",
    "    plt.show()\n",
    "    \n",
    "    return optimal_model"
   ]
  },
  {
   "cell_type": "code",
   "execution_count": 5,
   "metadata": {
    "scrolled": true
   },
   "outputs": [
    {
     "name": "stdout",
     "output_type": "stream",
     "text": [
      "Decision Trees: 0.736923 (0.063394)\n",
      "Random Forest: 0.850214 (0.052040)\n",
      "Adaptive Boosting: 0.829694 (0.059901)\n",
      "Linear Regression: 0.747550 (0.049284)\n"
     ]
    },
    {
     "data": {
      "image/png": "[encoded data removed]",
      "text/plain": [
       "<Figure size 864x864 with 1 Axes>"
      ]
     },
     "metadata": {
      "needs_background": "light"
     },
     "output_type": "display_data"
    },
    {
     "data": {
      "text/plain": [
       "{'model': RandomForestRegressor(bootstrap=True, criterion='mse', max_depth=None,\n",
       "            max_features='auto', max_leaf_nodes=None,\n",
       "            min_impurity_decrease=0.0, min_impurity_split=None,\n",
       "            min_samples_leaf=1, min_samples_split=2,\n",
       "            min_weight_fraction_leaf=0.0, n_estimators=10, n_jobs=None,\n",
       "            oob_score=False, random_state=None, verbose=0, warm_start=False),\n",
       " 'params': 'default',\n",
       " 'score': 0.8502137038403571}"
      ]
     },
     "execution_count": 5,
     "metadata": {},
     "output_type": "execute_result"
    }
   ],
   "source": [
    "# Testing very_cool_predictions() with sample Regression dataset\n",
    "from sklearn.datasets import load_boston\n",
    "boston = load_boston()\n",
    "y = boston.target\n",
    "X = boston.data\n",
    "model = not_yo_nanas_model(X,y,'regression')\n",
    "model"
   ]
  },
  {
   "cell_type": "code",
   "execution_count": 6,
   "metadata": {},
   "outputs": [
    {
     "name": "stdout",
     "output_type": "stream",
     "text": [
      "GaussianNB: 0.915534 (0.017395)\n",
      "Decision Tree: 0.943689 (0.016704)\n",
      "Bagging: 0.954369 (0.020388)\n",
      "AdaBoost: 0.947573 (0.016928)\n",
      "Gradient Boosting: 0.926214 (0.012433)\n",
      "KNeighbors: 0.934951 (0.016275)\n",
      "Stochastic Gradient Descent: 0.856311 (0.075178)\n",
      "Logistic Regression: 0.939806 (0.019802)\n",
      "Random Forest: 0.945631 (0.012433)\n",
      "Support Vector: 0.638835 (0.020732)\n"
     ]
    },
    {
     "data": {
      "image/png": "[encoded data removed]",
      "text/plain": [
       "<Figure size 864x864 with 1 Axes>"
      ]
     },
     "metadata": {
      "needs_background": "light"
     },
     "output_type": "display_data"
    },
    {
     "data": {
      "text/plain": [
       "{'model': AdaBoostClassifier(algorithm='SAMME.R', base_estimator=None,\n",
       "           learning_rate=1.0, n_estimators=50, random_state=None),\n",
       " 'params': 'default',\n",
       " 'score': 0.9543689320388349}"
      ]
     },
     "execution_count": 6,
     "metadata": {},
     "output_type": "execute_result"
    }
   ],
   "source": [
    "# Testing very_cool_predictions() with sample Classification dataset\n",
    "from sklearn.datasets import load_breast_cancer\n",
    "bc = load_breast_cancer()\n",
    "y = bc.target\n",
    "X = bc.data\n",
    "model = not_yo_nanas_model(X,y,'classification')\n",
    "model"
   ]
  },
  {
   "cell_type": "markdown",
   "metadata": {},
   "source": [
    "## Exploring New Algorithms"
   ]
  },
  {
   "cell_type": "markdown",
   "metadata": {},
   "source": [
    "Note on exploring new algorithms:\n",
    "<img src=\"learning_an_ml_algorithm.png\">\n",
    "Evaluate includes getting the accuracy, explaining why it worked/didn't worked, and plotting the decision boundary."
   ]
  },
  {
   "cell_type": "markdown",
   "metadata": {},
   "source": [
    "# Naive Bayes"
   ]
  },
  {
   "cell_type": "code",
   "execution_count": null,
   "metadata": {},
   "outputs": [],
   "source": [
    "# Initialize + Train\n",
    "from sklearn.naive_bayes import GaussianNB\n",
    "clf = GaussianNB()\n",
    "t0 = time()\n",
    "# fit to learn the patterns given the training data\n",
    "clf.fit(features_train, labels_train)\n",
    "print \"training time:\", round(time()-t0, 3), \"s\""
   ]
  },
  {
   "cell_type": "code",
   "execution_count": null,
   "metadata": {},
   "outputs": [],
   "source": [
    "# Get Predictions\n",
    "t1 = time()\n",
    "# create a vector of predictions\n",
    "pred = clf.predict(features_test)\n",
    "print \"prediction time:\", round(time()-t1, 3), \"s\""
   ]
  },
  {
   "cell_type": "code",
   "execution_count": null,
   "metadata": {},
   "outputs": [],
   "source": [
    "# Measure Accuracy\n",
    "accuracy = clf.score(features_test, labels_test)"
   ]
  },
  {
   "cell_type": "markdown",
   "metadata": {
    "heading_collapsed": true
   },
   "source": [
    "## Pros and Cons"
   ]
  },
  {
   "cell_type": "markdown",
   "metadata": {
    "hidden": true
   },
   "source": [
    "**Pros**\n",
    "* Easy to implement. Great with big feature spaces (works great for text and English has 20,000-30,000 words)\n",
    "\t* One particular feature of Naive Bayes is that it’s a good algorithm for working with text classification. When dealing with text, it’s very common to treat each unique word as a feature, and since the typical person’s vocabulary is many thousands of words, this makes for a large number of features. The relative simplicity of the algorithm and the independent features assumption of Naive Bayes make it a strong performer for classifying texts.\n",
    "* Simple and efficient to run.\n",
    "\t* Prediction time is orders of magnitude << Training time.\n",
    "    \n",
    "**Cons**\n",
    "* Can break in funny ways. For e.g. can't combine phrases with 2 words\n",
    "\n",
    "**Why is Naïve Bayes \"naïve\"**\n",
    "\n",
    "Because it ignores the order of the features (or words), i.e. assumes independence between every pair of features. It only looks at all the features and their frequencies as a way to do classification. But it's good for many cases."
   ]
  },
  {
   "cell_type": "markdown",
   "metadata": {
    "heading_collapsed": true
   },
   "source": [
    "# SVM"
   ]
  },
  {
   "cell_type": "code",
   "execution_count": null,
   "metadata": {
    "hidden": true
   },
   "outputs": [],
   "source": [
    "# Initialize + Train\n",
    "from sklearn import svm\n",
    "clf = svm.SVC()\n",
    "t0 = time()\n",
    "# fit to learn the patterns given the training data\n",
    "clf.fit(features_train, labels_train)\n",
    "print \"training time:\", round(time()-t0, 3), \"s\""
   ]
  },
  {
   "cell_type": "code",
   "execution_count": null,
   "metadata": {
    "hidden": true
   },
   "outputs": [],
   "source": [
    "# Get Predictions\n",
    "t1 = time()\n",
    "# create a vector of predictions\n",
    "pred = clf.predict(features_test)\n",
    "print \"prediction time:\", round(time()-t1, 3), \"s\""
   ]
  },
  {
   "cell_type": "code",
   "execution_count": null,
   "metadata": {
    "hidden": true
   },
   "outputs": [],
   "source": [
    "# Measure Accuracy\n",
    "accuracy = clf.score(features_test, labels_test)"
   ]
  },
  {
   "cell_type": "markdown",
   "metadata": {
    "hidden": true
   },
   "source": [
    "## Parameters"
   ]
  },
  {
   "cell_type": "markdown",
   "metadata": {
    "hidden": true
   },
   "source": [
    "**Good C and Gamma ranges to try:**\n",
    "* C_range = np.logspace(-3, 10, 13)\n",
    "gamma_range = np.logspace(-9, 3, 14)\n",
    "* {'C': np.logspace(-3, 2, 6), 'gamma': np.logspace(-3, 2, 6)}\n",
    "\n",
    "From http://stackoverflow.com/questions/26337403/what-is-a-good-range-of-values-for-the-svm-svc-hyperparameters-to-be-explored\n",
    "\n",
    "**C** controls the tradeoff between smooth decision boundary and classifying points correctly. A large C = more training points classified correctly. Figuring out how much you want a smooth decision boundery vs something that classifies a lot of points correctly is part of the artistry of machine learning.\n",
    "\n",
    "**Gamma** values determine how much the influence is spread out, i.e. how far the influence of each point reaches or how many points out of the total actually influence the decision boundary (or how many data points we use as support).\n",
    "* Low Values: Far Reach\n",
    "* High Values: Close Reach\n",
    "* A high gamma means a small number of data points are used as supports, a low gamma means a lot of points qualify as being supports and thus influence our decision boundary.\n",
    "* For high values of gamma, we can end up overfitting to the small number of supports, because each support carries a lot of weight.\n",
    "* A lower gamma has a smoother, more linear decision boundary.\n",
    "\n",
    "**kernel** type:\n",
    "* The 'rbf' kernel is more sensitive to values of C, so a large value of C will be reflected more prominently in the decision boundary. \n",
    "* 'linear' kernels are going to give us a straight line. The 'gamma' parameter actually has no effect on the 'linear' kernel for SVMs. The key parameter for this kernel function is \"C\"."
   ]
  },
  {
   "cell_type": "markdown",
   "metadata": {
    "hidden": true
   },
   "source": [
    "## \tLessons from implementing in sklearn:"
   ]
  },
  {
   "cell_type": "markdown",
   "metadata": {
    "hidden": true
   },
   "source": [
    "* SVM is MUCH slower to train and use for predicting than Naïve Bayes.\n",
    "* One way to speed up an algorithm is to train it on a smaller training dataset. The tradeoff is that the accuracy almost always goes down when you do this.\n",
    "    * features_train = features_train[:len(features_train)/100] \n",
    "labels_train = labels_train[:len(labels_train)/100] \n",
    "\t* In my test, using only 1% of the features, still resulted in 88% performance (as compared to 0.984 with 100% of the data)? Not too shabby!\n",
    "\t* If speed is a major consideration (and for many real-time machine learning applications, it certainly is) then you may want to sacrifice a bit of accuracy if it means you can train/predict faster. For e.g. Voice recognition and transaction blocking need to happen in real time, with almost no delay.\n",
    "* Changing the kernel of SVM to “rbf” resulted in lower accuracy (fell to 0.6), as the SVM is now overfitting.\n",
    "* Increasing C increased the accuracy. The decision boundary gets more complex with an increase in C:\n",
    "\t* C = 10, acc = 0.616040955631\n",
    "\t* C = 100, acc = 0.616040955631\n",
    "\t* C = 1000, acc = 0.821387940842\n",
    "\t* C = 10000, acc = 0.892491467577\n",
    "* Optimized C values for the rbf kernel on 1% of the test/training dataset. Now time to test on full training/test dataset.\n",
    "* Accuracy with optimized C and using the rbf kernel = 0.990898748578\n",
    "* Naive Bayes is great for text--it’s faster and generally gives better performance than an SVM for this particular problem. Of course, there are plenty of other problems where an SVM might work better. \n",
    "* Knowing which one to try when you’re tackling a problem for the first time is part of the art and science of machine learning. In addition to picking your algorithm, depending on which one you try, there are parameter tunes to worry about as well, and the possibility of overfitting (especially if you don’t have lots of training data). \n",
    "*\" Our general suggestion is to try a few different algorithms for each problem. Tuning the parameters can be a lot of work, but just sit tight for now--toward the end of the class we will introduce you to GridCV, a great sklearn tool that can find an optimal parameter tune almost automatically."
   ]
  },
  {
   "cell_type": "markdown",
   "metadata": {
    "heading_collapsed": true,
    "hidden": true
   },
   "source": [
    "## Pros and Cons"
   ]
  },
  {
   "cell_type": "markdown",
   "metadata": {
    "hidden": true
   },
   "source": [
    "Goal: Pick the plane that is the most robust to classification errors.\n",
    "\n",
    "**Pros:**\n",
    "\n",
    "* Work really well in complicated domains where there is a clear marginal separation.\n",
    "* Effective in high dimensional spaces.\n",
    "* Still effective in cases where number of dimensions is greater than the number of samples.\n",
    "* Uses a subset of training points in the decision function (called support vectors), so it is also memory efficient.\n",
    "* Versatile: different Kernel functions can be specified for the decision function. Common kernels are provided, but it is also possible to specify custom kernels.\n",
    "\n",
    "**Cons:**\n",
    "\n",
    "* Don't perform as well in large datasets because the training time would be the cube of the size of the dataset.\n",
    "* Also doesn't perform well in a dataset with lots of features. Tend to be slow in this case.\n",
    "* Don't perform well with lots of noise, so when the classes are very overlapping, you have to count independent evidence. Tend to overfit in this case. Here a Naïve Bayes classifier would be better.\n",
    "* If the number of features is much greater than the number of samples, avoid over-fitting in choosing Kernel functions and regularization term is crucial.\n",
    "* SVMs do not directly provide probability estimates, these are calculated using an expensive five-fold cross-validation (see Scores and probabilities, below)."
   ]
  },
  {
   "cell_type": "markdown",
   "metadata": {},
   "source": [
    "# KNN"
   ]
  },
  {
   "cell_type": "code",
   "execution_count": null,
   "metadata": {},
   "outputs": [],
   "source": []
  },
  {
   "cell_type": "markdown",
   "metadata": {},
   "source": [
    "# Regression"
   ]
  },
  {
   "cell_type": "markdown",
   "metadata": {},
   "source": [
    "Regression answers:\n",
    "* What's the best predictor of the relationship between our explanatory and response variables?\n",
    "* Is the relationship b/w the response and explanatory variable real? Or, is there a confounding variable A or variable B that actually explains this relationship? -- Testing for presence of confounding variables\n",
    "\n",
    "There could be many conclusions:\n",
    "* Y (response var) could be caused by X (explanatory var). Or it could be caused by a confounding var Z. Or X and Z could independently cause Y after controlling for each other."
   ]
  },
  {
   "cell_type": "code",
   "execution_count": null,
   "metadata": {},
   "outputs": [],
   "source": []
  },
  {
   "cell_type": "code",
   "execution_count": null,
   "metadata": {},
   "outputs": [],
   "source": []
  },
  {
   "cell_type": "code",
   "execution_count": null,
   "metadata": {},
   "outputs": [],
   "source": []
  },
  {
   "cell_type": "markdown",
   "metadata": {},
   "source": [
    "# Decision Trees"
   ]
  },
  {
   "cell_type": "code",
   "execution_count": null,
   "metadata": {},
   "outputs": [],
   "source": []
  },
  {
   "cell_type": "markdown",
   "metadata": {},
   "source": [
    "# Random Forests"
   ]
  },
  {
   "cell_type": "code",
   "execution_count": null,
   "metadata": {},
   "outputs": [],
   "source": []
  },
  {
   "cell_type": "markdown",
   "metadata": {},
   "source": [
    "# AdaBoost"
   ]
  },
  {
   "cell_type": "code",
   "execution_count": null,
   "metadata": {},
   "outputs": [],
   "source": []
  },
  {
   "cell_type": "markdown",
   "metadata": {},
   "source": [
    "# Lasso Regression"
   ]
  },
  {
   "cell_type": "code",
   "execution_count": null,
   "metadata": {},
   "outputs": [],
   "source": []
  },
  {
   "cell_type": "markdown",
   "metadata": {},
   "source": [
    "# K-means Cluster Analysis"
   ]
  },
  {
   "cell_type": "code",
   "execution_count": null,
   "metadata": {},
   "outputs": [],
   "source": []
  },
  {
   "cell_type": "markdown",
   "metadata": {},
   "source": [
    "# Cross Validation"
   ]
  },
  {
   "cell_type": "code",
   "execution_count": null,
   "metadata": {},
   "outputs": [],
   "source": []
  }
 ],
 "metadata": {
  "kernelspec": {
   "display_name": "Python 3",
   "language": "python",
   "name": "python3"
  },
  "toc": {
   "base_numbering": 1,
   "nav_menu": {},
   "number_sections": true,
   "sideBar": true,
   "skip_h1_title": false,
   "title_cell": "Table of Contents",
   "title_sidebar": "Contents",
   "toc_cell": false,
   "toc_position": {},
   "toc_section_display": true,
   "toc_window_display": true
  }
 },
 "nbformat": 4,
 "nbformat_minor": 2
}

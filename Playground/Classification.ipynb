{
 "cells": [
  {
   "cell_type": "code",
   "execution_count": 1,
   "metadata": {},
   "outputs": [
    {
     "name": "stdout",
     "output_type": "stream",
     "text": [
      "Collecting package metadata: done\n",
      "Solving environment: done\n",
      "\n",
      "## Package Plan ##\n",
      "\n",
      "  environment location: /Users/lavanya/anaconda3\n",
      "\n",
      "  added / updated specs:\n",
      "    - lightgbm\n",
      "\n",
      "\n",
      "The following packages will be downloaded:\n",
      "\n",
      "    package                    |            build\n",
      "    ---------------------------|-----------------\n",
      "    clangdev-4.0.0             |        default_0        62.8 MB  conda-forge\n",
      "    lightgbm-2.2.3             |   py37h0a44026_0         645 KB  conda-forge\n",
      "    llvmdev-4.0.0              |        default_0       100.9 MB  conda-forge\n",
      "    openmp-4.0.0               |                1         195 KB  conda-forge\n",
      "    ------------------------------------------------------------\n",
      "                                           Total:       164.5 MB\n",
      "\n",
      "The following NEW packages will be INSTALLED:\n",
      "\n",
      "  clangdev           conda-forge/osx-64::clangdev-4.0.0-default_0\n",
      "  lightgbm           conda-forge/osx-64::lightgbm-2.2.3-py37h0a44026_0\n",
      "  llvmdev            conda-forge/osx-64::llvmdev-4.0.0-default_0\n",
      "  openmp             conda-forge/osx-64::openmp-4.0.0-1\n",
      "\n",
      "\n",
      "\n",
      "Downloading and Extracting Packages\n",
      "openmp-4.0.0         | 195 KB    | ##################################### | 100% \n",
      "llvmdev-4.0.0        | 100.9 MB  | ##################################### | 100% \n",
      "clangdev-4.0.0       | 62.8 MB   | ##################################### | 100% \n",
      "lightgbm-2.2.3       | 645 KB    | ##################################### | 100% \n",
      "Preparing transaction: done\n",
      "Verifying transaction: done\n",
      "Executing transaction: done\n"
     ]
    }
   ],
   "source": [
    "import sys\n",
    "!conda install --yes --prefix {sys.prefix} -c conda-forge lightgbm"
   ]
  },
  {
   "cell_type": "code",
   "execution_count": null,
   "metadata": {},
   "outputs": [],
   "source": []
  }
 ],
 "metadata": {
  "kernelspec": {
   "display_name": "Python 3",
   "language": "python",
   "name": "python3"
  },
  "language_info": {
   "codemirror_mode": {
    "name": "ipython",
    "version": 3
   },
   "file_extension": ".py",
   "mimetype": "text/x-python",
   "name": "python",
   "nbconvert_exporter": "python",
   "pygments_lexer": "ipython3",
   "version": "3.7.3"
  },
  "toc": {
   "base_numbering": 1,
   "nav_menu": {},
   "number_sections": true,
   "sideBar": true,
   "skip_h1_title": false,
   "title_cell": "Table of Contents",
   "title_sidebar": "Contents",
   "toc_cell": false,
   "toc_position": {},
   "toc_section_display": true,
   "toc_window_display": true
  }
 },
 "nbformat": 4,
 "nbformat_minor": 2
}

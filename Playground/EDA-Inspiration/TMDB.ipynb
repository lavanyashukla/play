{
 "cells": [
  {
   "cell_type": "markdown",
   "metadata": {
    "_uuid": "578320fad012a00fc8231b6e0a7210f1b1975aa6"
   },
   "source": []
  },
  {
   "cell_type": "markdown",
   "metadata": {
    "_uuid": "c840315e4b1eb635f30beded0ba94a12687621a9"
   },
   "source": [
    "# Let's Get Started"
   ]
  },
  {
   "cell_type": "code",
   "execution_count": 66,
   "metadata": {
    "_cell_guid": "b1076dfc-b9ad-4769-8c92-a6c4dae69d19",
    "_uuid": "8f2839f25d086af736a60e9eeb907d3b93b6e0e5",
    "scrolled": false
   },
   "outputs": [],
   "source": [
    "import numpy as np\n",
    "import pandas as pd\n",
    "import matplotlib.pyplot as plt\n",
    "import seaborn as sns \n",
    "import warnings\n",
    "from tqdm import tqdm\n",
    "from datetime import datetime\n",
    "import json\n",
    "from sklearn.preprocessing import LabelEncoder\n",
    "warnings.filterwarnings(\"ignore\")"
   ]
  },
  {
   "cell_type": "code",
   "execution_count": 67,
   "metadata": {
    "_cell_guid": "79c7e3d0-c299-4dcb-8224-4455121ee9b0",
    "_uuid": "d629ff2d2480ee46fbb7e2d37f6b5fab8052498a",
    "scrolled": false
   },
   "outputs": [
    {
     "name": "stdout",
     "output_type": "stream",
     "text": [
      "<class 'pandas.core.frame.DataFrame'>\n",
      "RangeIndex: 3000 entries, 0 to 2999\n",
      "Data columns (total 23 columns):\n",
      "id                       3000 non-null int64\n",
      "belongs_to_collection    604 non-null object\n",
      "budget                   3000 non-null int64\n",
      "genres                   2993 non-null object\n",
      "homepage                 946 non-null object\n",
      "imdb_id                  3000 non-null object\n",
      "original_language        3000 non-null object\n",
      "original_title           3000 non-null object\n",
      "overview                 2992 non-null object\n",
      "popularity               3000 non-null float64\n",
      "poster_path              2999 non-null object\n",
      "production_companies     2844 non-null object\n",
      "production_countries     2945 non-null object\n",
      "release_date             3000 non-null object\n",
      "runtime                  2998 non-null float64\n",
      "spoken_languages         2980 non-null object\n",
      "status                   3000 non-null object\n",
      "tagline                  2403 non-null object\n",
      "title                    3000 non-null object\n",
      "Keywords                 2724 non-null object\n",
      "cast                     2987 non-null object\n",
      "crew                     2984 non-null object\n",
      "revenue                  3000 non-null int64\n",
      "dtypes: float64(2), int64(3), object(18)\n",
      "memory usage: 539.1+ KB\n"
     ]
    }
   ],
   "source": [
    "train = pd.read_csv('../data/tmdb/train.csv')\n",
    "train.info()"
   ]
  },
  {
   "cell_type": "code",
   "execution_count": 68,
   "metadata": {
    "_uuid": "6ce768e3d079cf4b761436f6c89ed3c69873c342",
    "scrolled": false
   },
   "outputs": [
    {
     "name": "stdout",
     "output_type": "stream",
     "text": [
      "<class 'pandas.core.frame.DataFrame'>\n",
      "RangeIndex: 4398 entries, 0 to 4397\n",
      "Data columns (total 22 columns):\n",
      "id                       4398 non-null int64\n",
      "belongs_to_collection    877 non-null object\n",
      "budget                   4398 non-null int64\n",
      "genres                   4382 non-null object\n",
      "homepage                 1420 non-null object\n",
      "imdb_id                  4398 non-null object\n",
      "original_language        4398 non-null object\n",
      "original_title           4398 non-null object\n",
      "overview                 4384 non-null object\n",
      "popularity               4398 non-null float64\n",
      "poster_path              4397 non-null object\n",
      "production_companies     4140 non-null object\n",
      "production_countries     4296 non-null object\n",
      "release_date             4397 non-null object\n",
      "runtime                  4394 non-null float64\n",
      "spoken_languages         4356 non-null object\n",
      "status                   4396 non-null object\n",
      "tagline                  3535 non-null object\n",
      "title                    4395 non-null object\n",
      "Keywords                 4005 non-null object\n",
      "cast                     4385 non-null object\n",
      "crew                     4376 non-null object\n",
      "dtypes: float64(2), int64(2), object(18)\n",
      "memory usage: 756.0+ KB\n"
     ]
    }
   ],
   "source": [
    "test = pd.read_csv('../data/tmdb/test.csv')\n",
    "test.info()"
   ]
  },
  {
   "cell_type": "markdown",
   "metadata": {
    "_uuid": "368ff82a0798f2cdaa186b17ffa021b956515850"
   },
   "source": [
    "**Data Description**\n",
    "**id** - Integer unique id of each movie\n",
    "\n",
    "**belongs_to_collection** - Contains the TMDB Id, Name, Movie Poster and Backdrop URL  of a movie in JSON format. You can see the Poster and Backdrop Image like this: https://image.tmdb.org/t/p/original/<Poster_path_here>. Example: https://image.tmdb.org/t/p/original//iEhb00TGPucF0b4joM1ieyY026U.jpg\n",
    "\n",
    "**budget**:Budget of a movie in dollars. 0 values mean unknown. \n",
    "\n",
    "**genres** : Contains all the Genres Name & TMDB Id in JSON Format\n",
    "\n",
    "**homepage** - Contains the official homepage URL of a movie. Example: http://sonyclassics.com/whiplash/\t, this is the homepage of Whiplash movie.\n",
    "\n",
    "**imdb_id** - IMDB id of a movie (string). You can visit the IMDB Page like this: https://www.imdb.com/title/<imdb_id_here>\n",
    "\n",
    "**original_language** - Two digit code of the original language, in which the movie was made. Like: en = English, fr = french. \n",
    "\n",
    "**original_title** - The original title of a movie. Title & Original title may differ, if the original title is not in English. \n",
    "\n",
    "**overview** - Brief description of the movie.\n",
    "\n",
    "**popularity** -  Popularity of the movie in float. \n",
    "\n",
    "**poster_path** - Poster path of a movie. You can see the full image like this: https://image.tmdb.org/t/p/original/<Poster_path_here>\n",
    "\n",
    "**production_companies** - All production company name and TMDB id in JSON format of a movie.\n",
    "\n",
    "**production_countries** - Two digit code and full name of the production company in JSON format.\n",
    "\n",
    "**release_date** - Release date of a movie in mm/dd/yy format.\n",
    "\n",
    "**runtime** - Total runtime of a movie in minutes (Integer).\n",
    "\n",
    "**spoken_languages** - Two digit code and full name of the spoken language. \n",
    "\n",
    "**status** - Is the movie released or rumored? \n",
    "\n",
    "**tagline** - Tagline of a movie \n",
    "\n",
    "**title** - English title of a movie\n",
    "\n",
    "**Keywords** - TMDB Id and name of all the keywords in JSON format. \n",
    "\n",
    "**cast** - All cast TMDB id, name, character name, gender (1 = Female, 2 = Male) in JSON format\n",
    "\n",
    "**crew** - Name, TMDB id, profile path of various kind of crew members job like Director, Writer, Art, Sound etc. \n",
    "\n",
    "**revenue** - Total revenue earned by a movie in dollars. "
   ]
  },
  {
   "cell_type": "markdown",
   "metadata": {
    "_uuid": "0bd21da0f033d7f23498be1c8ad6f528a08be5d7"
   },
   "source": [
    "# **EDA**"
   ]
  },
  {
   "cell_type": "code",
   "execution_count": 69,
   "metadata": {
    "_uuid": "e2163d865f7ae6bd5b0ef10e1d48f199200747a6",
    "scrolled": true
   },
   "outputs": [
    {
     "data": {
      "text/html": [
       "<div>\n",
       "<style scoped>\n",
       "    .dataframe tbody tr th:only-of-type {\n",
       "        vertical-align: middle;\n",
       "    }\n",
       "\n",
       "    .dataframe tbody tr th {\n",
       "        vertical-align: top;\n",
       "    }\n",
       "\n",
       "    .dataframe thead th {\n",
       "        text-align: right;\n",
       "    }\n",
       "</style>\n",
       "<table border=\"1\" class=\"dataframe\">\n",
       "  <thead>\n",
       "    <tr style=\"text-align: right;\">\n",
       "      <th></th>\n",
       "      <th>id</th>\n",
       "      <th>belongs_to_collection</th>\n",
       "      <th>budget</th>\n",
       "      <th>genres</th>\n",
       "      <th>homepage</th>\n",
       "      <th>imdb_id</th>\n",
       "      <th>original_language</th>\n",
       "      <th>original_title</th>\n",
       "      <th>overview</th>\n",
       "      <th>popularity</th>\n",
       "      <th>...</th>\n",
       "      <th>release_date</th>\n",
       "      <th>runtime</th>\n",
       "      <th>spoken_languages</th>\n",
       "      <th>status</th>\n",
       "      <th>tagline</th>\n",
       "      <th>title</th>\n",
       "      <th>Keywords</th>\n",
       "      <th>cast</th>\n",
       "      <th>crew</th>\n",
       "      <th>revenue</th>\n",
       "    </tr>\n",
       "  </thead>\n",
       "  <tbody>\n",
       "    <tr>\n",
       "      <th>0</th>\n",
       "      <td>1</td>\n",
       "      <td>[{'id': 313576, 'name': 'Hot Tub Time Machine ...</td>\n",
       "      <td>14000000</td>\n",
       "      <td>[{'id': 35, 'name': 'Comedy'}]</td>\n",
       "      <td>NaN</td>\n",
       "      <td>tt2637294</td>\n",
       "      <td>en</td>\n",
       "      <td>Hot Tub Time Machine 2</td>\n",
       "      <td>When Lou, who has become the \"father of the In...</td>\n",
       "      <td>6.575393</td>\n",
       "      <td>...</td>\n",
       "      <td>2/20/15</td>\n",
       "      <td>93.0</td>\n",
       "      <td>[{'iso_639_1': 'en', 'name': 'English'}]</td>\n",
       "      <td>Released</td>\n",
       "      <td>The Laws of Space and Time are About to be Vio...</td>\n",
       "      <td>Hot Tub Time Machine 2</td>\n",
       "      <td>[{'id': 4379, 'name': 'time travel'}, {'id': 9...</td>\n",
       "      <td>[{'cast_id': 4, 'character': 'Lou', 'credit_id...</td>\n",
       "      <td>[{'credit_id': '59ac067c92514107af02c8c8', 'de...</td>\n",
       "      <td>12314651</td>\n",
       "    </tr>\n",
       "    <tr>\n",
       "      <th>1</th>\n",
       "      <td>2</td>\n",
       "      <td>[{'id': 107674, 'name': 'The Princess Diaries ...</td>\n",
       "      <td>40000000</td>\n",
       "      <td>[{'id': 35, 'name': 'Comedy'}, {'id': 18, 'nam...</td>\n",
       "      <td>NaN</td>\n",
       "      <td>tt0368933</td>\n",
       "      <td>en</td>\n",
       "      <td>The Princess Diaries 2: Royal Engagement</td>\n",
       "      <td>Mia Thermopolis is now a college graduate and ...</td>\n",
       "      <td>8.248895</td>\n",
       "      <td>...</td>\n",
       "      <td>8/6/04</td>\n",
       "      <td>113.0</td>\n",
       "      <td>[{'iso_639_1': 'en', 'name': 'English'}]</td>\n",
       "      <td>Released</td>\n",
       "      <td>It can take a lifetime to find true love; she'...</td>\n",
       "      <td>The Princess Diaries 2: Royal Engagement</td>\n",
       "      <td>[{'id': 2505, 'name': 'coronation'}, {'id': 42...</td>\n",
       "      <td>[{'cast_id': 1, 'character': 'Mia Thermopolis'...</td>\n",
       "      <td>[{'credit_id': '52fe43fe9251416c7502563d', 'de...</td>\n",
       "      <td>95149435</td>\n",
       "    </tr>\n",
       "    <tr>\n",
       "      <th>2</th>\n",
       "      <td>3</td>\n",
       "      <td>NaN</td>\n",
       "      <td>3300000</td>\n",
       "      <td>[{'id': 18, 'name': 'Drama'}]</td>\n",
       "      <td>http://sonyclassics.com/whiplash/</td>\n",
       "      <td>tt2582802</td>\n",
       "      <td>en</td>\n",
       "      <td>Whiplash</td>\n",
       "      <td>Under the direction of a ruthless instructor, ...</td>\n",
       "      <td>64.299990</td>\n",
       "      <td>...</td>\n",
       "      <td>10/10/14</td>\n",
       "      <td>105.0</td>\n",
       "      <td>[{'iso_639_1': 'en', 'name': 'English'}]</td>\n",
       "      <td>Released</td>\n",
       "      <td>The road to greatness can take you to the edge.</td>\n",
       "      <td>Whiplash</td>\n",
       "      <td>[{'id': 1416, 'name': 'jazz'}, {'id': 1523, 'n...</td>\n",
       "      <td>[{'cast_id': 5, 'character': 'Andrew Neimann',...</td>\n",
       "      <td>[{'credit_id': '54d5356ec3a3683ba0000039', 'de...</td>\n",
       "      <td>13092000</td>\n",
       "    </tr>\n",
       "    <tr>\n",
       "      <th>3</th>\n",
       "      <td>4</td>\n",
       "      <td>NaN</td>\n",
       "      <td>1200000</td>\n",
       "      <td>[{'id': 53, 'name': 'Thriller'}, {'id': 18, 'n...</td>\n",
       "      <td>http://kahaanithefilm.com/</td>\n",
       "      <td>tt1821480</td>\n",
       "      <td>hi</td>\n",
       "      <td>Kahaani</td>\n",
       "      <td>Vidya Bagchi (Vidya Balan) arrives in Kolkata ...</td>\n",
       "      <td>3.174936</td>\n",
       "      <td>...</td>\n",
       "      <td>3/9/12</td>\n",
       "      <td>122.0</td>\n",
       "      <td>[{'iso_639_1': 'en', 'name': 'English'}, {'iso...</td>\n",
       "      <td>Released</td>\n",
       "      <td>NaN</td>\n",
       "      <td>Kahaani</td>\n",
       "      <td>[{'id': 10092, 'name': 'mystery'}, {'id': 1054...</td>\n",
       "      <td>[{'cast_id': 1, 'character': 'Vidya Bagchi', '...</td>\n",
       "      <td>[{'credit_id': '52fe48779251416c9108d6eb', 'de...</td>\n",
       "      <td>16000000</td>\n",
       "    </tr>\n",
       "    <tr>\n",
       "      <th>4</th>\n",
       "      <td>5</td>\n",
       "      <td>NaN</td>\n",
       "      <td>0</td>\n",
       "      <td>[{'id': 28, 'name': 'Action'}, {'id': 53, 'nam...</td>\n",
       "      <td>NaN</td>\n",
       "      <td>tt1380152</td>\n",
       "      <td>ko</td>\n",
       "      <td>마린보이</td>\n",
       "      <td>Marine Boy is the story of a former national s...</td>\n",
       "      <td>1.148070</td>\n",
       "      <td>...</td>\n",
       "      <td>2/5/09</td>\n",
       "      <td>118.0</td>\n",
       "      <td>[{'iso_639_1': 'ko', 'name': '한국어/조선말'}]</td>\n",
       "      <td>Released</td>\n",
       "      <td>NaN</td>\n",
       "      <td>Marine Boy</td>\n",
       "      <td>NaN</td>\n",
       "      <td>[{'cast_id': 3, 'character': 'Chun-soo', 'cred...</td>\n",
       "      <td>[{'credit_id': '52fe464b9251416c75073b43', 'de...</td>\n",
       "      <td>3923970</td>\n",
       "    </tr>\n",
       "  </tbody>\n",
       "</table>\n",
       "<p>5 rows × 23 columns</p>\n",
       "</div>"
      ],
      "text/plain": [
       "   id                              belongs_to_collection    budget  \\\n",
       "0   1  [{'id': 313576, 'name': 'Hot Tub Time Machine ...  14000000   \n",
       "1   2  [{'id': 107674, 'name': 'The Princess Diaries ...  40000000   \n",
       "2   3                                                NaN   3300000   \n",
       "3   4                                                NaN   1200000   \n",
       "4   5                                                NaN         0   \n",
       "\n",
       "                                              genres  \\\n",
       "0                     [{'id': 35, 'name': 'Comedy'}]   \n",
       "1  [{'id': 35, 'name': 'Comedy'}, {'id': 18, 'nam...   \n",
       "2                      [{'id': 18, 'name': 'Drama'}]   \n",
       "3  [{'id': 53, 'name': 'Thriller'}, {'id': 18, 'n...   \n",
       "4  [{'id': 28, 'name': 'Action'}, {'id': 53, 'nam...   \n",
       "\n",
       "                            homepage    imdb_id original_language  \\\n",
       "0                                NaN  tt2637294                en   \n",
       "1                                NaN  tt0368933                en   \n",
       "2  http://sonyclassics.com/whiplash/  tt2582802                en   \n",
       "3         http://kahaanithefilm.com/  tt1821480                hi   \n",
       "4                                NaN  tt1380152                ko   \n",
       "\n",
       "                             original_title  \\\n",
       "0                    Hot Tub Time Machine 2   \n",
       "1  The Princess Diaries 2: Royal Engagement   \n",
       "2                                  Whiplash   \n",
       "3                                   Kahaani   \n",
       "4                                      마린보이   \n",
       "\n",
       "                                            overview  popularity  ...  \\\n",
       "0  When Lou, who has become the \"father of the In...    6.575393  ...   \n",
       "1  Mia Thermopolis is now a college graduate and ...    8.248895  ...   \n",
       "2  Under the direction of a ruthless instructor, ...   64.299990  ...   \n",
       "3  Vidya Bagchi (Vidya Balan) arrives in Kolkata ...    3.174936  ...   \n",
       "4  Marine Boy is the story of a former national s...    1.148070  ...   \n",
       "\n",
       "  release_date runtime                                   spoken_languages  \\\n",
       "0      2/20/15    93.0           [{'iso_639_1': 'en', 'name': 'English'}]   \n",
       "1       8/6/04   113.0           [{'iso_639_1': 'en', 'name': 'English'}]   \n",
       "2     10/10/14   105.0           [{'iso_639_1': 'en', 'name': 'English'}]   \n",
       "3       3/9/12   122.0  [{'iso_639_1': 'en', 'name': 'English'}, {'iso...   \n",
       "4       2/5/09   118.0           [{'iso_639_1': 'ko', 'name': '한국어/조선말'}]   \n",
       "\n",
       "     status                                            tagline  \\\n",
       "0  Released  The Laws of Space and Time are About to be Vio...   \n",
       "1  Released  It can take a lifetime to find true love; she'...   \n",
       "2  Released    The road to greatness can take you to the edge.   \n",
       "3  Released                                                NaN   \n",
       "4  Released                                                NaN   \n",
       "\n",
       "                                      title  \\\n",
       "0                    Hot Tub Time Machine 2   \n",
       "1  The Princess Diaries 2: Royal Engagement   \n",
       "2                                  Whiplash   \n",
       "3                                   Kahaani   \n",
       "4                                Marine Boy   \n",
       "\n",
       "                                            Keywords  \\\n",
       "0  [{'id': 4379, 'name': 'time travel'}, {'id': 9...   \n",
       "1  [{'id': 2505, 'name': 'coronation'}, {'id': 42...   \n",
       "2  [{'id': 1416, 'name': 'jazz'}, {'id': 1523, 'n...   \n",
       "3  [{'id': 10092, 'name': 'mystery'}, {'id': 1054...   \n",
       "4                                                NaN   \n",
       "\n",
       "                                                cast  \\\n",
       "0  [{'cast_id': 4, 'character': 'Lou', 'credit_id...   \n",
       "1  [{'cast_id': 1, 'character': 'Mia Thermopolis'...   \n",
       "2  [{'cast_id': 5, 'character': 'Andrew Neimann',...   \n",
       "3  [{'cast_id': 1, 'character': 'Vidya Bagchi', '...   \n",
       "4  [{'cast_id': 3, 'character': 'Chun-soo', 'cred...   \n",
       "\n",
       "                                                crew   revenue  \n",
       "0  [{'credit_id': '59ac067c92514107af02c8c8', 'de...  12314651  \n",
       "1  [{'credit_id': '52fe43fe9251416c7502563d', 'de...  95149435  \n",
       "2  [{'credit_id': '54d5356ec3a3683ba0000039', 'de...  13092000  \n",
       "3  [{'credit_id': '52fe48779251416c9108d6eb', 'de...  16000000  \n",
       "4  [{'credit_id': '52fe464b9251416c75073b43', 'de...   3923970  \n",
       "\n",
       "[5 rows x 23 columns]"
      ]
     },
     "execution_count": 69,
     "metadata": {},
     "output_type": "execute_result"
    }
   ],
   "source": [
    "train.head()"
   ]
  },
  {
   "cell_type": "code",
   "execution_count": 70,
   "metadata": {
    "_uuid": "dfd6e44bb069b05b0afcec8eed8e68909ccbda66",
    "scrolled": false
   },
   "outputs": [
    {
     "data": {
      "text/html": [
       "<div>\n",
       "<style scoped>\n",
       "    .dataframe tbody tr th:only-of-type {\n",
       "        vertical-align: middle;\n",
       "    }\n",
       "\n",
       "    .dataframe tbody tr th {\n",
       "        vertical-align: top;\n",
       "    }\n",
       "\n",
       "    .dataframe thead th {\n",
       "        text-align: right;\n",
       "    }\n",
       "</style>\n",
       "<table border=\"1\" class=\"dataframe\">\n",
       "  <thead>\n",
       "    <tr style=\"text-align: right;\">\n",
       "      <th></th>\n",
       "      <th>id</th>\n",
       "      <th>belongs_to_collection</th>\n",
       "      <th>budget</th>\n",
       "      <th>genres</th>\n",
       "      <th>homepage</th>\n",
       "      <th>imdb_id</th>\n",
       "      <th>original_language</th>\n",
       "      <th>original_title</th>\n",
       "      <th>overview</th>\n",
       "      <th>popularity</th>\n",
       "      <th>...</th>\n",
       "      <th>production_countries</th>\n",
       "      <th>release_date</th>\n",
       "      <th>runtime</th>\n",
       "      <th>spoken_languages</th>\n",
       "      <th>status</th>\n",
       "      <th>tagline</th>\n",
       "      <th>title</th>\n",
       "      <th>Keywords</th>\n",
       "      <th>cast</th>\n",
       "      <th>crew</th>\n",
       "    </tr>\n",
       "  </thead>\n",
       "  <tbody>\n",
       "    <tr>\n",
       "      <th>0</th>\n",
       "      <td>3001</td>\n",
       "      <td>[{'id': 34055, 'name': 'Pokémon Collection', '...</td>\n",
       "      <td>0</td>\n",
       "      <td>[{'id': 12, 'name': 'Adventure'}, {'id': 16, '...</td>\n",
       "      <td>http://www.pokemon.com/us/movies/movie-pokemon...</td>\n",
       "      <td>tt1226251</td>\n",
       "      <td>ja</td>\n",
       "      <td>ディアルガVSパルキアVSダークライ</td>\n",
       "      <td>Ash and friends (this time accompanied by newc...</td>\n",
       "      <td>3.851534</td>\n",
       "      <td>...</td>\n",
       "      <td>[{'iso_3166_1': 'JP', 'name': 'Japan'}, {'iso_...</td>\n",
       "      <td>7/14/07</td>\n",
       "      <td>90.0</td>\n",
       "      <td>[{'iso_639_1': 'en', 'name': 'English'}, {'iso...</td>\n",
       "      <td>Released</td>\n",
       "      <td>Somewhere Between Time &amp; Space... A Legend Is ...</td>\n",
       "      <td>Pokémon: The Rise of Darkrai</td>\n",
       "      <td>[{'id': 11451, 'name': 'pok√©mon'}, {'id': 115...</td>\n",
       "      <td>[{'cast_id': 3, 'character': 'Tonio', 'credit_...</td>\n",
       "      <td>[{'credit_id': '52fe44e7c3a368484e03d683', 'de...</td>\n",
       "    </tr>\n",
       "    <tr>\n",
       "      <th>1</th>\n",
       "      <td>3002</td>\n",
       "      <td>NaN</td>\n",
       "      <td>88000</td>\n",
       "      <td>[{'id': 27, 'name': 'Horror'}, {'id': 878, 'na...</td>\n",
       "      <td>NaN</td>\n",
       "      <td>tt0051380</td>\n",
       "      <td>en</td>\n",
       "      <td>Attack of the 50 Foot Woman</td>\n",
       "      <td>When an abused wife grows to giant size becaus...</td>\n",
       "      <td>3.559789</td>\n",
       "      <td>...</td>\n",
       "      <td>[{'iso_3166_1': 'US', 'name': 'United States o...</td>\n",
       "      <td>5/19/58</td>\n",
       "      <td>65.0</td>\n",
       "      <td>[{'iso_639_1': 'en', 'name': 'English'}]</td>\n",
       "      <td>Released</td>\n",
       "      <td>A titanic beauty spreads a macabre wave of hor...</td>\n",
       "      <td>Attack of the 50 Foot Woman</td>\n",
       "      <td>[{'id': 9748, 'name': 'revenge'}, {'id': 9951,...</td>\n",
       "      <td>[{'cast_id': 2, 'character': 'Nancy Fowler Arc...</td>\n",
       "      <td>[{'credit_id': '55807805c3a3685b1300060b', 'de...</td>\n",
       "    </tr>\n",
       "    <tr>\n",
       "      <th>2</th>\n",
       "      <td>3003</td>\n",
       "      <td>NaN</td>\n",
       "      <td>0</td>\n",
       "      <td>[{'id': 35, 'name': 'Comedy'}, {'id': 10749, '...</td>\n",
       "      <td>NaN</td>\n",
       "      <td>tt0118556</td>\n",
       "      <td>en</td>\n",
       "      <td>Addicted to Love</td>\n",
       "      <td>Good-natured astronomer Sam is devastated when...</td>\n",
       "      <td>8.085194</td>\n",
       "      <td>...</td>\n",
       "      <td>[{'iso_3166_1': 'US', 'name': 'United States o...</td>\n",
       "      <td>5/23/97</td>\n",
       "      <td>100.0</td>\n",
       "      <td>[{'iso_639_1': 'en', 'name': 'English'}]</td>\n",
       "      <td>Released</td>\n",
       "      <td>A Comedy About Lost Loves And Last Laughs</td>\n",
       "      <td>Addicted to Love</td>\n",
       "      <td>[{'id': 931, 'name': 'jealousy'}, {'id': 9673,...</td>\n",
       "      <td>[{'cast_id': 11, 'character': 'Maggie', 'credi...</td>\n",
       "      <td>[{'credit_id': '52fe4330c3a36847f8041367', 'de...</td>\n",
       "    </tr>\n",
       "    <tr>\n",
       "      <th>3</th>\n",
       "      <td>3004</td>\n",
       "      <td>NaN</td>\n",
       "      <td>6800000</td>\n",
       "      <td>[{'id': 18, 'name': 'Drama'}, {'id': 10752, 'n...</td>\n",
       "      <td>http://www.sonyclassics.com/incendies/</td>\n",
       "      <td>tt1255953</td>\n",
       "      <td>fr</td>\n",
       "      <td>Incendies</td>\n",
       "      <td>A mother's last wishes send twins Jeanne and S...</td>\n",
       "      <td>8.596012</td>\n",
       "      <td>...</td>\n",
       "      <td>[{'iso_3166_1': 'CA', 'name': 'Canada'}, {'iso...</td>\n",
       "      <td>9/4/10</td>\n",
       "      <td>130.0</td>\n",
       "      <td>[{'iso_639_1': 'fr', 'name': 'Français'}, {'is...</td>\n",
       "      <td>Released</td>\n",
       "      <td>The search began at the opening of their mothe...</td>\n",
       "      <td>Incendies</td>\n",
       "      <td>[{'id': 378, 'name': 'prison'}, {'id': 539, 'n...</td>\n",
       "      <td>[{'cast_id': 6, 'character': 'Nawal', 'credit_...</td>\n",
       "      <td>[{'credit_id': '56478092c3a36826140043af', 'de...</td>\n",
       "    </tr>\n",
       "    <tr>\n",
       "      <th>4</th>\n",
       "      <td>3005</td>\n",
       "      <td>NaN</td>\n",
       "      <td>2000000</td>\n",
       "      <td>[{'id': 36, 'name': 'History'}, {'id': 99, 'na...</td>\n",
       "      <td>NaN</td>\n",
       "      <td>tt0418753</td>\n",
       "      <td>en</td>\n",
       "      <td>Inside Deep Throat</td>\n",
       "      <td>In 1972, a seemingly typical shoestring budget...</td>\n",
       "      <td>3.217680</td>\n",
       "      <td>...</td>\n",
       "      <td>[{'iso_3166_1': 'US', 'name': 'United States o...</td>\n",
       "      <td>2/11/05</td>\n",
       "      <td>92.0</td>\n",
       "      <td>[{'iso_639_1': 'en', 'name': 'English'}]</td>\n",
       "      <td>Released</td>\n",
       "      <td>It was filmed in 6 days for 25 thousand dollar...</td>\n",
       "      <td>Inside Deep Throat</td>\n",
       "      <td>[{'id': 279, 'name': 'usa'}, {'id': 1228, 'nam...</td>\n",
       "      <td>[{'cast_id': 1, 'character': 'Narrator (voice)...</td>\n",
       "      <td>[{'credit_id': '52fe44ce9251416c75041967', 'de...</td>\n",
       "    </tr>\n",
       "  </tbody>\n",
       "</table>\n",
       "<p>5 rows × 22 columns</p>\n",
       "</div>"
      ],
      "text/plain": [
       "     id                              belongs_to_collection   budget  \\\n",
       "0  3001  [{'id': 34055, 'name': 'Pokémon Collection', '...        0   \n",
       "1  3002                                                NaN    88000   \n",
       "2  3003                                                NaN        0   \n",
       "3  3004                                                NaN  6800000   \n",
       "4  3005                                                NaN  2000000   \n",
       "\n",
       "                                              genres  \\\n",
       "0  [{'id': 12, 'name': 'Adventure'}, {'id': 16, '...   \n",
       "1  [{'id': 27, 'name': 'Horror'}, {'id': 878, 'na...   \n",
       "2  [{'id': 35, 'name': 'Comedy'}, {'id': 10749, '...   \n",
       "3  [{'id': 18, 'name': 'Drama'}, {'id': 10752, 'n...   \n",
       "4  [{'id': 36, 'name': 'History'}, {'id': 99, 'na...   \n",
       "\n",
       "                                            homepage    imdb_id  \\\n",
       "0  http://www.pokemon.com/us/movies/movie-pokemon...  tt1226251   \n",
       "1                                                NaN  tt0051380   \n",
       "2                                                NaN  tt0118556   \n",
       "3             http://www.sonyclassics.com/incendies/  tt1255953   \n",
       "4                                                NaN  tt0418753   \n",
       "\n",
       "  original_language               original_title  \\\n",
       "0                ja           ディアルガVSパルキアVSダークライ   \n",
       "1                en  Attack of the 50 Foot Woman   \n",
       "2                en             Addicted to Love   \n",
       "3                fr                    Incendies   \n",
       "4                en           Inside Deep Throat   \n",
       "\n",
       "                                            overview  popularity  ...  \\\n",
       "0  Ash and friends (this time accompanied by newc...    3.851534  ...   \n",
       "1  When an abused wife grows to giant size becaus...    3.559789  ...   \n",
       "2  Good-natured astronomer Sam is devastated when...    8.085194  ...   \n",
       "3  A mother's last wishes send twins Jeanne and S...    8.596012  ...   \n",
       "4  In 1972, a seemingly typical shoestring budget...    3.217680  ...   \n",
       "\n",
       "                                production_countries release_date runtime  \\\n",
       "0  [{'iso_3166_1': 'JP', 'name': 'Japan'}, {'iso_...      7/14/07    90.0   \n",
       "1  [{'iso_3166_1': 'US', 'name': 'United States o...      5/19/58    65.0   \n",
       "2  [{'iso_3166_1': 'US', 'name': 'United States o...      5/23/97   100.0   \n",
       "3  [{'iso_3166_1': 'CA', 'name': 'Canada'}, {'iso...       9/4/10   130.0   \n",
       "4  [{'iso_3166_1': 'US', 'name': 'United States o...      2/11/05    92.0   \n",
       "\n",
       "                                    spoken_languages    status  \\\n",
       "0  [{'iso_639_1': 'en', 'name': 'English'}, {'iso...  Released   \n",
       "1           [{'iso_639_1': 'en', 'name': 'English'}]  Released   \n",
       "2           [{'iso_639_1': 'en', 'name': 'English'}]  Released   \n",
       "3  [{'iso_639_1': 'fr', 'name': 'Français'}, {'is...  Released   \n",
       "4           [{'iso_639_1': 'en', 'name': 'English'}]  Released   \n",
       "\n",
       "                                             tagline  \\\n",
       "0  Somewhere Between Time & Space... A Legend Is ...   \n",
       "1  A titanic beauty spreads a macabre wave of hor...   \n",
       "2          A Comedy About Lost Loves And Last Laughs   \n",
       "3  The search began at the opening of their mothe...   \n",
       "4  It was filmed in 6 days for 25 thousand dollar...   \n",
       "\n",
       "                          title  \\\n",
       "0  Pokémon: The Rise of Darkrai   \n",
       "1   Attack of the 50 Foot Woman   \n",
       "2              Addicted to Love   \n",
       "3                     Incendies   \n",
       "4            Inside Deep Throat   \n",
       "\n",
       "                                            Keywords  \\\n",
       "0  [{'id': 11451, 'name': 'pok√©mon'}, {'id': 115...   \n",
       "1  [{'id': 9748, 'name': 'revenge'}, {'id': 9951,...   \n",
       "2  [{'id': 931, 'name': 'jealousy'}, {'id': 9673,...   \n",
       "3  [{'id': 378, 'name': 'prison'}, {'id': 539, 'n...   \n",
       "4  [{'id': 279, 'name': 'usa'}, {'id': 1228, 'nam...   \n",
       "\n",
       "                                                cast  \\\n",
       "0  [{'cast_id': 3, 'character': 'Tonio', 'credit_...   \n",
       "1  [{'cast_id': 2, 'character': 'Nancy Fowler Arc...   \n",
       "2  [{'cast_id': 11, 'character': 'Maggie', 'credi...   \n",
       "3  [{'cast_id': 6, 'character': 'Nawal', 'credit_...   \n",
       "4  [{'cast_id': 1, 'character': 'Narrator (voice)...   \n",
       "\n",
       "                                                crew  \n",
       "0  [{'credit_id': '52fe44e7c3a368484e03d683', 'de...  \n",
       "1  [{'credit_id': '55807805c3a3685b1300060b', 'de...  \n",
       "2  [{'credit_id': '52fe4330c3a36847f8041367', 'de...  \n",
       "3  [{'credit_id': '56478092c3a36826140043af', 'de...  \n",
       "4  [{'credit_id': '52fe44ce9251416c75041967', 'de...  \n",
       "\n",
       "[5 rows x 22 columns]"
      ]
     },
     "execution_count": 70,
     "metadata": {},
     "output_type": "execute_result"
    }
   ],
   "source": [
    "test.head()"
   ]
  },
  {
   "cell_type": "code",
   "execution_count": 71,
   "metadata": {
    "_uuid": "a449860b0fe9083a0f9de33f6dca2ff24d35918a",
    "scrolled": false
   },
   "outputs": [
    {
     "data": {
      "text/html": [
       "<div>\n",
       "<style scoped>\n",
       "    .dataframe tbody tr th:only-of-type {\n",
       "        vertical-align: middle;\n",
       "    }\n",
       "\n",
       "    .dataframe tbody tr th {\n",
       "        vertical-align: top;\n",
       "    }\n",
       "\n",
       "    .dataframe thead th {\n",
       "        text-align: right;\n",
       "    }\n",
       "</style>\n",
       "<table border=\"1\" class=\"dataframe\">\n",
       "  <thead>\n",
       "    <tr style=\"text-align: right;\">\n",
       "      <th></th>\n",
       "      <th>id</th>\n",
       "      <th>belongs_to_collection</th>\n",
       "      <th>budget</th>\n",
       "      <th>genres</th>\n",
       "      <th>homepage</th>\n",
       "      <th>imdb_id</th>\n",
       "      <th>original_language</th>\n",
       "      <th>original_title</th>\n",
       "      <th>overview</th>\n",
       "      <th>popularity</th>\n",
       "      <th>...</th>\n",
       "      <th>release_date</th>\n",
       "      <th>runtime</th>\n",
       "      <th>spoken_languages</th>\n",
       "      <th>status</th>\n",
       "      <th>tagline</th>\n",
       "      <th>title</th>\n",
       "      <th>Keywords</th>\n",
       "      <th>cast</th>\n",
       "      <th>crew</th>\n",
       "      <th>revenue</th>\n",
       "    </tr>\n",
       "  </thead>\n",
       "  <tbody>\n",
       "    <tr>\n",
       "      <th>count</th>\n",
       "      <td>3000.000000</td>\n",
       "      <td>604</td>\n",
       "      <td>3.000000e+03</td>\n",
       "      <td>2993</td>\n",
       "      <td>946</td>\n",
       "      <td>3000</td>\n",
       "      <td>3000</td>\n",
       "      <td>3000</td>\n",
       "      <td>2992</td>\n",
       "      <td>3000.000000</td>\n",
       "      <td>...</td>\n",
       "      <td>3000</td>\n",
       "      <td>2998.000000</td>\n",
       "      <td>2980</td>\n",
       "      <td>3000</td>\n",
       "      <td>2403</td>\n",
       "      <td>3000</td>\n",
       "      <td>2724</td>\n",
       "      <td>2987</td>\n",
       "      <td>2984</td>\n",
       "      <td>3.000000e+03</td>\n",
       "    </tr>\n",
       "    <tr>\n",
       "      <th>unique</th>\n",
       "      <td>NaN</td>\n",
       "      <td>422</td>\n",
       "      <td>NaN</td>\n",
       "      <td>872</td>\n",
       "      <td>941</td>\n",
       "      <td>3000</td>\n",
       "      <td>36</td>\n",
       "      <td>2975</td>\n",
       "      <td>2992</td>\n",
       "      <td>NaN</td>\n",
       "      <td>...</td>\n",
       "      <td>2398</td>\n",
       "      <td>NaN</td>\n",
       "      <td>401</td>\n",
       "      <td>2</td>\n",
       "      <td>2400</td>\n",
       "      <td>2969</td>\n",
       "      <td>2648</td>\n",
       "      <td>2975</td>\n",
       "      <td>2984</td>\n",
       "      <td>NaN</td>\n",
       "    </tr>\n",
       "    <tr>\n",
       "      <th>top</th>\n",
       "      <td>NaN</td>\n",
       "      <td>[{'id': 645, 'name': 'James Bond Collection', ...</td>\n",
       "      <td>NaN</td>\n",
       "      <td>[{'id': 18, 'name': 'Drama'}]</td>\n",
       "      <td>http://www.transformersmovie.com/</td>\n",
       "      <td>tt0093437</td>\n",
       "      <td>en</td>\n",
       "      <td>The Magnificent Seven</td>\n",
       "      <td>Decorated soldier Captain Colter Stevens wakes...</td>\n",
       "      <td>NaN</td>\n",
       "      <td>...</td>\n",
       "      <td>9/10/10</td>\n",
       "      <td>NaN</td>\n",
       "      <td>[{'iso_639_1': 'en', 'name': 'English'}]</td>\n",
       "      <td>Released</td>\n",
       "      <td>Based on a true story.</td>\n",
       "      <td>Hercules</td>\n",
       "      <td>[{'id': 10183, 'name': 'independent film'}]</td>\n",
       "      <td>[]</td>\n",
       "      <td>[{'credit_id': '52fe43459251416c7500a0e3', 'de...</td>\n",
       "      <td>NaN</td>\n",
       "    </tr>\n",
       "    <tr>\n",
       "      <th>freq</th>\n",
       "      <td>NaN</td>\n",
       "      <td>16</td>\n",
       "      <td>NaN</td>\n",
       "      <td>266</td>\n",
       "      <td>4</td>\n",
       "      <td>1</td>\n",
       "      <td>2575</td>\n",
       "      <td>2</td>\n",
       "      <td>1</td>\n",
       "      <td>NaN</td>\n",
       "      <td>...</td>\n",
       "      <td>5</td>\n",
       "      <td>NaN</td>\n",
       "      <td>1817</td>\n",
       "      <td>2996</td>\n",
       "      <td>3</td>\n",
       "      <td>2</td>\n",
       "      <td>27</td>\n",
       "      <td>13</td>\n",
       "      <td>1</td>\n",
       "      <td>NaN</td>\n",
       "    </tr>\n",
       "    <tr>\n",
       "      <th>mean</th>\n",
       "      <td>1500.500000</td>\n",
       "      <td>NaN</td>\n",
       "      <td>2.253133e+07</td>\n",
       "      <td>NaN</td>\n",
       "      <td>NaN</td>\n",
       "      <td>NaN</td>\n",
       "      <td>NaN</td>\n",
       "      <td>NaN</td>\n",
       "      <td>NaN</td>\n",
       "      <td>8.463274</td>\n",
       "      <td>...</td>\n",
       "      <td>NaN</td>\n",
       "      <td>107.856571</td>\n",
       "      <td>NaN</td>\n",
       "      <td>NaN</td>\n",
       "      <td>NaN</td>\n",
       "      <td>NaN</td>\n",
       "      <td>NaN</td>\n",
       "      <td>NaN</td>\n",
       "      <td>NaN</td>\n",
       "      <td>6.672585e+07</td>\n",
       "    </tr>\n",
       "    <tr>\n",
       "      <th>std</th>\n",
       "      <td>866.169729</td>\n",
       "      <td>NaN</td>\n",
       "      <td>3.702609e+07</td>\n",
       "      <td>NaN</td>\n",
       "      <td>NaN</td>\n",
       "      <td>NaN</td>\n",
       "      <td>NaN</td>\n",
       "      <td>NaN</td>\n",
       "      <td>NaN</td>\n",
       "      <td>12.104000</td>\n",
       "      <td>...</td>\n",
       "      <td>NaN</td>\n",
       "      <td>22.086434</td>\n",
       "      <td>NaN</td>\n",
       "      <td>NaN</td>\n",
       "      <td>NaN</td>\n",
       "      <td>NaN</td>\n",
       "      <td>NaN</td>\n",
       "      <td>NaN</td>\n",
       "      <td>NaN</td>\n",
       "      <td>1.375323e+08</td>\n",
       "    </tr>\n",
       "    <tr>\n",
       "      <th>min</th>\n",
       "      <td>1.000000</td>\n",
       "      <td>NaN</td>\n",
       "      <td>0.000000e+00</td>\n",
       "      <td>NaN</td>\n",
       "      <td>NaN</td>\n",
       "      <td>NaN</td>\n",
       "      <td>NaN</td>\n",
       "      <td>NaN</td>\n",
       "      <td>NaN</td>\n",
       "      <td>0.000001</td>\n",
       "      <td>...</td>\n",
       "      <td>NaN</td>\n",
       "      <td>0.000000</td>\n",
       "      <td>NaN</td>\n",
       "      <td>NaN</td>\n",
       "      <td>NaN</td>\n",
       "      <td>NaN</td>\n",
       "      <td>NaN</td>\n",
       "      <td>NaN</td>\n",
       "      <td>NaN</td>\n",
       "      <td>1.000000e+00</td>\n",
       "    </tr>\n",
       "    <tr>\n",
       "      <th>25%</th>\n",
       "      <td>750.750000</td>\n",
       "      <td>NaN</td>\n",
       "      <td>0.000000e+00</td>\n",
       "      <td>NaN</td>\n",
       "      <td>NaN</td>\n",
       "      <td>NaN</td>\n",
       "      <td>NaN</td>\n",
       "      <td>NaN</td>\n",
       "      <td>NaN</td>\n",
       "      <td>4.018053</td>\n",
       "      <td>...</td>\n",
       "      <td>NaN</td>\n",
       "      <td>94.000000</td>\n",
       "      <td>NaN</td>\n",
       "      <td>NaN</td>\n",
       "      <td>NaN</td>\n",
       "      <td>NaN</td>\n",
       "      <td>NaN</td>\n",
       "      <td>NaN</td>\n",
       "      <td>NaN</td>\n",
       "      <td>2.379808e+06</td>\n",
       "    </tr>\n",
       "    <tr>\n",
       "      <th>50%</th>\n",
       "      <td>1500.500000</td>\n",
       "      <td>NaN</td>\n",
       "      <td>8.000000e+06</td>\n",
       "      <td>NaN</td>\n",
       "      <td>NaN</td>\n",
       "      <td>NaN</td>\n",
       "      <td>NaN</td>\n",
       "      <td>NaN</td>\n",
       "      <td>NaN</td>\n",
       "      <td>7.374861</td>\n",
       "      <td>...</td>\n",
       "      <td>NaN</td>\n",
       "      <td>104.000000</td>\n",
       "      <td>NaN</td>\n",
       "      <td>NaN</td>\n",
       "      <td>NaN</td>\n",
       "      <td>NaN</td>\n",
       "      <td>NaN</td>\n",
       "      <td>NaN</td>\n",
       "      <td>NaN</td>\n",
       "      <td>1.680707e+07</td>\n",
       "    </tr>\n",
       "    <tr>\n",
       "      <th>75%</th>\n",
       "      <td>2250.250000</td>\n",
       "      <td>NaN</td>\n",
       "      <td>2.900000e+07</td>\n",
       "      <td>NaN</td>\n",
       "      <td>NaN</td>\n",
       "      <td>NaN</td>\n",
       "      <td>NaN</td>\n",
       "      <td>NaN</td>\n",
       "      <td>NaN</td>\n",
       "      <td>10.890983</td>\n",
       "      <td>...</td>\n",
       "      <td>NaN</td>\n",
       "      <td>118.000000</td>\n",
       "      <td>NaN</td>\n",
       "      <td>NaN</td>\n",
       "      <td>NaN</td>\n",
       "      <td>NaN</td>\n",
       "      <td>NaN</td>\n",
       "      <td>NaN</td>\n",
       "      <td>NaN</td>\n",
       "      <td>6.891920e+07</td>\n",
       "    </tr>\n",
       "    <tr>\n",
       "      <th>max</th>\n",
       "      <td>3000.000000</td>\n",
       "      <td>NaN</td>\n",
       "      <td>3.800000e+08</td>\n",
       "      <td>NaN</td>\n",
       "      <td>NaN</td>\n",
       "      <td>NaN</td>\n",
       "      <td>NaN</td>\n",
       "      <td>NaN</td>\n",
       "      <td>NaN</td>\n",
       "      <td>294.337037</td>\n",
       "      <td>...</td>\n",
       "      <td>NaN</td>\n",
       "      <td>338.000000</td>\n",
       "      <td>NaN</td>\n",
       "      <td>NaN</td>\n",
       "      <td>NaN</td>\n",
       "      <td>NaN</td>\n",
       "      <td>NaN</td>\n",
       "      <td>NaN</td>\n",
       "      <td>NaN</td>\n",
       "      <td>1.519558e+09</td>\n",
       "    </tr>\n",
       "  </tbody>\n",
       "</table>\n",
       "<p>11 rows × 23 columns</p>\n",
       "</div>"
      ],
      "text/plain": [
       "                 id                              belongs_to_collection  \\\n",
       "count   3000.000000                                                604   \n",
       "unique          NaN                                                422   \n",
       "top             NaN  [{'id': 645, 'name': 'James Bond Collection', ...   \n",
       "freq            NaN                                                 16   \n",
       "mean    1500.500000                                                NaN   \n",
       "std      866.169729                                                NaN   \n",
       "min        1.000000                                                NaN   \n",
       "25%      750.750000                                                NaN   \n",
       "50%     1500.500000                                                NaN   \n",
       "75%     2250.250000                                                NaN   \n",
       "max     3000.000000                                                NaN   \n",
       "\n",
       "              budget                         genres  \\\n",
       "count   3.000000e+03                           2993   \n",
       "unique           NaN                            872   \n",
       "top              NaN  [{'id': 18, 'name': 'Drama'}]   \n",
       "freq             NaN                            266   \n",
       "mean    2.253133e+07                            NaN   \n",
       "std     3.702609e+07                            NaN   \n",
       "min     0.000000e+00                            NaN   \n",
       "25%     0.000000e+00                            NaN   \n",
       "50%     8.000000e+06                            NaN   \n",
       "75%     2.900000e+07                            NaN   \n",
       "max     3.800000e+08                            NaN   \n",
       "\n",
       "                                 homepage    imdb_id original_language  \\\n",
       "count                                 946       3000              3000   \n",
       "unique                                941       3000                36   \n",
       "top     http://www.transformersmovie.com/  tt0093437                en   \n",
       "freq                                    4          1              2575   \n",
       "mean                                  NaN        NaN               NaN   \n",
       "std                                   NaN        NaN               NaN   \n",
       "min                                   NaN        NaN               NaN   \n",
       "25%                                   NaN        NaN               NaN   \n",
       "50%                                   NaN        NaN               NaN   \n",
       "75%                                   NaN        NaN               NaN   \n",
       "max                                   NaN        NaN               NaN   \n",
       "\n",
       "               original_title  \\\n",
       "count                    3000   \n",
       "unique                   2975   \n",
       "top     The Magnificent Seven   \n",
       "freq                        2   \n",
       "mean                      NaN   \n",
       "std                       NaN   \n",
       "min                       NaN   \n",
       "25%                       NaN   \n",
       "50%                       NaN   \n",
       "75%                       NaN   \n",
       "max                       NaN   \n",
       "\n",
       "                                                 overview   popularity  ...  \\\n",
       "count                                                2992  3000.000000  ...   \n",
       "unique                                               2992          NaN  ...   \n",
       "top     Decorated soldier Captain Colter Stevens wakes...          NaN  ...   \n",
       "freq                                                    1          NaN  ...   \n",
       "mean                                                  NaN     8.463274  ...   \n",
       "std                                                   NaN    12.104000  ...   \n",
       "min                                                   NaN     0.000001  ...   \n",
       "25%                                                   NaN     4.018053  ...   \n",
       "50%                                                   NaN     7.374861  ...   \n",
       "75%                                                   NaN    10.890983  ...   \n",
       "max                                                   NaN   294.337037  ...   \n",
       "\n",
       "       release_date      runtime                          spoken_languages  \\\n",
       "count          3000  2998.000000                                      2980   \n",
       "unique         2398          NaN                                       401   \n",
       "top         9/10/10          NaN  [{'iso_639_1': 'en', 'name': 'English'}]   \n",
       "freq              5          NaN                                      1817   \n",
       "mean            NaN   107.856571                                       NaN   \n",
       "std             NaN    22.086434                                       NaN   \n",
       "min             NaN     0.000000                                       NaN   \n",
       "25%             NaN    94.000000                                       NaN   \n",
       "50%             NaN   104.000000                                       NaN   \n",
       "75%             NaN   118.000000                                       NaN   \n",
       "max             NaN   338.000000                                       NaN   \n",
       "\n",
       "          status                 tagline     title  \\\n",
       "count       3000                    2403      3000   \n",
       "unique         2                    2400      2969   \n",
       "top     Released  Based on a true story.  Hercules   \n",
       "freq        2996                       3         2   \n",
       "mean         NaN                     NaN       NaN   \n",
       "std          NaN                     NaN       NaN   \n",
       "min          NaN                     NaN       NaN   \n",
       "25%          NaN                     NaN       NaN   \n",
       "50%          NaN                     NaN       NaN   \n",
       "75%          NaN                     NaN       NaN   \n",
       "max          NaN                     NaN       NaN   \n",
       "\n",
       "                                           Keywords  cast  \\\n",
       "count                                          2724  2987   \n",
       "unique                                         2648  2975   \n",
       "top     [{'id': 10183, 'name': 'independent film'}]    []   \n",
       "freq                                             27    13   \n",
       "mean                                            NaN   NaN   \n",
       "std                                             NaN   NaN   \n",
       "min                                             NaN   NaN   \n",
       "25%                                             NaN   NaN   \n",
       "50%                                             NaN   NaN   \n",
       "75%                                             NaN   NaN   \n",
       "max                                             NaN   NaN   \n",
       "\n",
       "                                                     crew       revenue  \n",
       "count                                                2984  3.000000e+03  \n",
       "unique                                               2984           NaN  \n",
       "top     [{'credit_id': '52fe43459251416c7500a0e3', 'de...           NaN  \n",
       "freq                                                    1           NaN  \n",
       "mean                                                  NaN  6.672585e+07  \n",
       "std                                                   NaN  1.375323e+08  \n",
       "min                                                   NaN  1.000000e+00  \n",
       "25%                                                   NaN  2.379808e+06  \n",
       "50%                                                   NaN  1.680707e+07  \n",
       "75%                                                   NaN  6.891920e+07  \n",
       "max                                                   NaN  1.519558e+09  \n",
       "\n",
       "[11 rows x 23 columns]"
      ]
     },
     "execution_count": 71,
     "metadata": {},
     "output_type": "execute_result"
    }
   ],
   "source": [
    "train.describe(include='all')"
   ]
  },
  {
   "cell_type": "code",
   "execution_count": 72,
   "metadata": {
    "_uuid": "41582cfffe64bc08bb4b90940711b27b2c8814d4",
    "scrolled": false
   },
   "outputs": [
    {
     "data": {
      "text/html": [
       "<div>\n",
       "<style scoped>\n",
       "    .dataframe tbody tr th:only-of-type {\n",
       "        vertical-align: middle;\n",
       "    }\n",
       "\n",
       "    .dataframe tbody tr th {\n",
       "        vertical-align: top;\n",
       "    }\n",
       "\n",
       "    .dataframe thead th {\n",
       "        text-align: right;\n",
       "    }\n",
       "</style>\n",
       "<table border=\"1\" class=\"dataframe\">\n",
       "  <thead>\n",
       "    <tr style=\"text-align: right;\">\n",
       "      <th></th>\n",
       "      <th>id</th>\n",
       "      <th>belongs_to_collection</th>\n",
       "      <th>budget</th>\n",
       "      <th>genres</th>\n",
       "      <th>homepage</th>\n",
       "      <th>imdb_id</th>\n",
       "      <th>original_language</th>\n",
       "      <th>original_title</th>\n",
       "      <th>overview</th>\n",
       "      <th>popularity</th>\n",
       "      <th>...</th>\n",
       "      <th>production_countries</th>\n",
       "      <th>release_date</th>\n",
       "      <th>runtime</th>\n",
       "      <th>spoken_languages</th>\n",
       "      <th>status</th>\n",
       "      <th>tagline</th>\n",
       "      <th>title</th>\n",
       "      <th>Keywords</th>\n",
       "      <th>cast</th>\n",
       "      <th>crew</th>\n",
       "    </tr>\n",
       "  </thead>\n",
       "  <tbody>\n",
       "    <tr>\n",
       "      <th>count</th>\n",
       "      <td>4398.000000</td>\n",
       "      <td>877</td>\n",
       "      <td>4.398000e+03</td>\n",
       "      <td>4382</td>\n",
       "      <td>1420</td>\n",
       "      <td>4398</td>\n",
       "      <td>4398</td>\n",
       "      <td>4398</td>\n",
       "      <td>4384</td>\n",
       "      <td>4398.000000</td>\n",
       "      <td>...</td>\n",
       "      <td>4296</td>\n",
       "      <td>4397</td>\n",
       "      <td>4394.000000</td>\n",
       "      <td>4356</td>\n",
       "      <td>4396</td>\n",
       "      <td>3535</td>\n",
       "      <td>4395</td>\n",
       "      <td>4005</td>\n",
       "      <td>4385</td>\n",
       "      <td>4376</td>\n",
       "    </tr>\n",
       "    <tr>\n",
       "      <th>unique</th>\n",
       "      <td>NaN</td>\n",
       "      <td>556</td>\n",
       "      <td>NaN</td>\n",
       "      <td>1101</td>\n",
       "      <td>1402</td>\n",
       "      <td>4398</td>\n",
       "      <td>39</td>\n",
       "      <td>4353</td>\n",
       "      <td>4383</td>\n",
       "      <td>NaN</td>\n",
       "      <td>...</td>\n",
       "      <td>458</td>\n",
       "      <td>3289</td>\n",
       "      <td>NaN</td>\n",
       "      <td>526</td>\n",
       "      <td>3</td>\n",
       "      <td>3529</td>\n",
       "      <td>4342</td>\n",
       "      <td>3885</td>\n",
       "      <td>4365</td>\n",
       "      <td>4376</td>\n",
       "    </tr>\n",
       "    <tr>\n",
       "      <th>top</th>\n",
       "      <td>NaN</td>\n",
       "      <td>[{'id': 645, 'name': 'James Bond Collection', ...</td>\n",
       "      <td>NaN</td>\n",
       "      <td>[{'id': 18, 'name': 'Drama'}]</td>\n",
       "      <td>http://www.thehungergames.movie/</td>\n",
       "      <td>tt1802197</td>\n",
       "      <td>en</td>\n",
       "      <td>Night of the Living Dead</td>\n",
       "      <td>No overview found.</td>\n",
       "      <td>NaN</td>\n",
       "      <td>...</td>\n",
       "      <td>[{'iso_3166_1': 'US', 'name': 'United States o...</td>\n",
       "      <td>9/9/11</td>\n",
       "      <td>NaN</td>\n",
       "      <td>[{'iso_639_1': 'en', 'name': 'English'}]</td>\n",
       "      <td>Released</td>\n",
       "      <td>Love is a force of nature.</td>\n",
       "      <td>The In-Laws</td>\n",
       "      <td>[{'id': 187056, 'name': 'woman director'}]</td>\n",
       "      <td>[]</td>\n",
       "      <td>[{'credit_id': '52fe452fc3a36847f80c10f9', 'de...</td>\n",
       "    </tr>\n",
       "    <tr>\n",
       "      <th>freq</th>\n",
       "      <td>NaN</td>\n",
       "      <td>10</td>\n",
       "      <td>NaN</td>\n",
       "      <td>348</td>\n",
       "      <td>3</td>\n",
       "      <td>1</td>\n",
       "      <td>3776</td>\n",
       "      <td>2</td>\n",
       "      <td>2</td>\n",
       "      <td>NaN</td>\n",
       "      <td>...</td>\n",
       "      <td>2587</td>\n",
       "      <td>7</td>\n",
       "      <td>NaN</td>\n",
       "      <td>2704</td>\n",
       "      <td>4389</td>\n",
       "      <td>2</td>\n",
       "      <td>2</td>\n",
       "      <td>30</td>\n",
       "      <td>21</td>\n",
       "      <td>1</td>\n",
       "    </tr>\n",
       "    <tr>\n",
       "      <th>mean</th>\n",
       "      <td>5199.500000</td>\n",
       "      <td>NaN</td>\n",
       "      <td>2.264929e+07</td>\n",
       "      <td>NaN</td>\n",
       "      <td>NaN</td>\n",
       "      <td>NaN</td>\n",
       "      <td>NaN</td>\n",
       "      <td>NaN</td>\n",
       "      <td>NaN</td>\n",
       "      <td>8.550230</td>\n",
       "      <td>...</td>\n",
       "      <td>NaN</td>\n",
       "      <td>NaN</td>\n",
       "      <td>107.622212</td>\n",
       "      <td>NaN</td>\n",
       "      <td>NaN</td>\n",
       "      <td>NaN</td>\n",
       "      <td>NaN</td>\n",
       "      <td>NaN</td>\n",
       "      <td>NaN</td>\n",
       "      <td>NaN</td>\n",
       "    </tr>\n",
       "    <tr>\n",
       "      <th>std</th>\n",
       "      <td>1269.737571</td>\n",
       "      <td>NaN</td>\n",
       "      <td>3.689991e+07</td>\n",
       "      <td>NaN</td>\n",
       "      <td>NaN</td>\n",
       "      <td>NaN</td>\n",
       "      <td>NaN</td>\n",
       "      <td>NaN</td>\n",
       "      <td>NaN</td>\n",
       "      <td>12.209014</td>\n",
       "      <td>...</td>\n",
       "      <td>NaN</td>\n",
       "      <td>NaN</td>\n",
       "      <td>21.058290</td>\n",
       "      <td>NaN</td>\n",
       "      <td>NaN</td>\n",
       "      <td>NaN</td>\n",
       "      <td>NaN</td>\n",
       "      <td>NaN</td>\n",
       "      <td>NaN</td>\n",
       "      <td>NaN</td>\n",
       "    </tr>\n",
       "    <tr>\n",
       "      <th>min</th>\n",
       "      <td>3001.000000</td>\n",
       "      <td>NaN</td>\n",
       "      <td>0.000000e+00</td>\n",
       "      <td>NaN</td>\n",
       "      <td>NaN</td>\n",
       "      <td>NaN</td>\n",
       "      <td>NaN</td>\n",
       "      <td>NaN</td>\n",
       "      <td>NaN</td>\n",
       "      <td>0.000001</td>\n",
       "      <td>...</td>\n",
       "      <td>NaN</td>\n",
       "      <td>NaN</td>\n",
       "      <td>0.000000</td>\n",
       "      <td>NaN</td>\n",
       "      <td>NaN</td>\n",
       "      <td>NaN</td>\n",
       "      <td>NaN</td>\n",
       "      <td>NaN</td>\n",
       "      <td>NaN</td>\n",
       "      <td>NaN</td>\n",
       "    </tr>\n",
       "    <tr>\n",
       "      <th>25%</th>\n",
       "      <td>4100.250000</td>\n",
       "      <td>NaN</td>\n",
       "      <td>0.000000e+00</td>\n",
       "      <td>NaN</td>\n",
       "      <td>NaN</td>\n",
       "      <td>NaN</td>\n",
       "      <td>NaN</td>\n",
       "      <td>NaN</td>\n",
       "      <td>NaN</td>\n",
       "      <td>3.895186</td>\n",
       "      <td>...</td>\n",
       "      <td>NaN</td>\n",
       "      <td>NaN</td>\n",
       "      <td>94.000000</td>\n",
       "      <td>NaN</td>\n",
       "      <td>NaN</td>\n",
       "      <td>NaN</td>\n",
       "      <td>NaN</td>\n",
       "      <td>NaN</td>\n",
       "      <td>NaN</td>\n",
       "      <td>NaN</td>\n",
       "    </tr>\n",
       "    <tr>\n",
       "      <th>50%</th>\n",
       "      <td>5199.500000</td>\n",
       "      <td>NaN</td>\n",
       "      <td>7.450000e+06</td>\n",
       "      <td>NaN</td>\n",
       "      <td>NaN</td>\n",
       "      <td>NaN</td>\n",
       "      <td>NaN</td>\n",
       "      <td>NaN</td>\n",
       "      <td>NaN</td>\n",
       "      <td>7.482241</td>\n",
       "      <td>...</td>\n",
       "      <td>NaN</td>\n",
       "      <td>NaN</td>\n",
       "      <td>104.000000</td>\n",
       "      <td>NaN</td>\n",
       "      <td>NaN</td>\n",
       "      <td>NaN</td>\n",
       "      <td>NaN</td>\n",
       "      <td>NaN</td>\n",
       "      <td>NaN</td>\n",
       "      <td>NaN</td>\n",
       "    </tr>\n",
       "    <tr>\n",
       "      <th>75%</th>\n",
       "      <td>6298.750000</td>\n",
       "      <td>NaN</td>\n",
       "      <td>2.800000e+07</td>\n",
       "      <td>NaN</td>\n",
       "      <td>NaN</td>\n",
       "      <td>NaN</td>\n",
       "      <td>NaN</td>\n",
       "      <td>NaN</td>\n",
       "      <td>NaN</td>\n",
       "      <td>10.938524</td>\n",
       "      <td>...</td>\n",
       "      <td>NaN</td>\n",
       "      <td>NaN</td>\n",
       "      <td>118.000000</td>\n",
       "      <td>NaN</td>\n",
       "      <td>NaN</td>\n",
       "      <td>NaN</td>\n",
       "      <td>NaN</td>\n",
       "      <td>NaN</td>\n",
       "      <td>NaN</td>\n",
       "      <td>NaN</td>\n",
       "    </tr>\n",
       "    <tr>\n",
       "      <th>max</th>\n",
       "      <td>7398.000000</td>\n",
       "      <td>NaN</td>\n",
       "      <td>2.600000e+08</td>\n",
       "      <td>NaN</td>\n",
       "      <td>NaN</td>\n",
       "      <td>NaN</td>\n",
       "      <td>NaN</td>\n",
       "      <td>NaN</td>\n",
       "      <td>NaN</td>\n",
       "      <td>547.488298</td>\n",
       "      <td>...</td>\n",
       "      <td>NaN</td>\n",
       "      <td>NaN</td>\n",
       "      <td>320.000000</td>\n",
       "      <td>NaN</td>\n",
       "      <td>NaN</td>\n",
       "      <td>NaN</td>\n",
       "      <td>NaN</td>\n",
       "      <td>NaN</td>\n",
       "      <td>NaN</td>\n",
       "      <td>NaN</td>\n",
       "    </tr>\n",
       "  </tbody>\n",
       "</table>\n",
       "<p>11 rows × 22 columns</p>\n",
       "</div>"
      ],
      "text/plain": [
       "                 id                              belongs_to_collection  \\\n",
       "count   4398.000000                                                877   \n",
       "unique          NaN                                                556   \n",
       "top             NaN  [{'id': 645, 'name': 'James Bond Collection', ...   \n",
       "freq            NaN                                                 10   \n",
       "mean    5199.500000                                                NaN   \n",
       "std     1269.737571                                                NaN   \n",
       "min     3001.000000                                                NaN   \n",
       "25%     4100.250000                                                NaN   \n",
       "50%     5199.500000                                                NaN   \n",
       "75%     6298.750000                                                NaN   \n",
       "max     7398.000000                                                NaN   \n",
       "\n",
       "              budget                         genres  \\\n",
       "count   4.398000e+03                           4382   \n",
       "unique           NaN                           1101   \n",
       "top              NaN  [{'id': 18, 'name': 'Drama'}]   \n",
       "freq             NaN                            348   \n",
       "mean    2.264929e+07                            NaN   \n",
       "std     3.689991e+07                            NaN   \n",
       "min     0.000000e+00                            NaN   \n",
       "25%     0.000000e+00                            NaN   \n",
       "50%     7.450000e+06                            NaN   \n",
       "75%     2.800000e+07                            NaN   \n",
       "max     2.600000e+08                            NaN   \n",
       "\n",
       "                                homepage    imdb_id original_language  \\\n",
       "count                               1420       4398              4398   \n",
       "unique                              1402       4398                39   \n",
       "top     http://www.thehungergames.movie/  tt1802197                en   \n",
       "freq                                   3          1              3776   \n",
       "mean                                 NaN        NaN               NaN   \n",
       "std                                  NaN        NaN               NaN   \n",
       "min                                  NaN        NaN               NaN   \n",
       "25%                                  NaN        NaN               NaN   \n",
       "50%                                  NaN        NaN               NaN   \n",
       "75%                                  NaN        NaN               NaN   \n",
       "max                                  NaN        NaN               NaN   \n",
       "\n",
       "                  original_title            overview   popularity  ...  \\\n",
       "count                       4398                4384  4398.000000  ...   \n",
       "unique                      4353                4383          NaN  ...   \n",
       "top     Night of the Living Dead  No overview found.          NaN  ...   \n",
       "freq                           2                   2          NaN  ...   \n",
       "mean                         NaN                 NaN     8.550230  ...   \n",
       "std                          NaN                 NaN    12.209014  ...   \n",
       "min                          NaN                 NaN     0.000001  ...   \n",
       "25%                          NaN                 NaN     3.895186  ...   \n",
       "50%                          NaN                 NaN     7.482241  ...   \n",
       "75%                          NaN                 NaN    10.938524  ...   \n",
       "max                          NaN                 NaN   547.488298  ...   \n",
       "\n",
       "                                     production_countries release_date  \\\n",
       "count                                                4296         4397   \n",
       "unique                                                458         3289   \n",
       "top     [{'iso_3166_1': 'US', 'name': 'United States o...       9/9/11   \n",
       "freq                                                 2587            7   \n",
       "mean                                                  NaN          NaN   \n",
       "std                                                   NaN          NaN   \n",
       "min                                                   NaN          NaN   \n",
       "25%                                                   NaN          NaN   \n",
       "50%                                                   NaN          NaN   \n",
       "75%                                                   NaN          NaN   \n",
       "max                                                   NaN          NaN   \n",
       "\n",
       "            runtime                          spoken_languages    status  \\\n",
       "count   4394.000000                                      4356      4396   \n",
       "unique          NaN                                       526         3   \n",
       "top             NaN  [{'iso_639_1': 'en', 'name': 'English'}]  Released   \n",
       "freq            NaN                                      2704      4389   \n",
       "mean     107.622212                                       NaN       NaN   \n",
       "std       21.058290                                       NaN       NaN   \n",
       "min        0.000000                                       NaN       NaN   \n",
       "25%       94.000000                                       NaN       NaN   \n",
       "50%      104.000000                                       NaN       NaN   \n",
       "75%      118.000000                                       NaN       NaN   \n",
       "max      320.000000                                       NaN       NaN   \n",
       "\n",
       "                           tagline        title  \\\n",
       "count                         3535         4395   \n",
       "unique                        3529         4342   \n",
       "top     Love is a force of nature.  The In-Laws   \n",
       "freq                             2            2   \n",
       "mean                           NaN          NaN   \n",
       "std                            NaN          NaN   \n",
       "min                            NaN          NaN   \n",
       "25%                            NaN          NaN   \n",
       "50%                            NaN          NaN   \n",
       "75%                            NaN          NaN   \n",
       "max                            NaN          NaN   \n",
       "\n",
       "                                          Keywords  cast  \\\n",
       "count                                         4005  4385   \n",
       "unique                                        3885  4365   \n",
       "top     [{'id': 187056, 'name': 'woman director'}]    []   \n",
       "freq                                            30    21   \n",
       "mean                                           NaN   NaN   \n",
       "std                                            NaN   NaN   \n",
       "min                                            NaN   NaN   \n",
       "25%                                            NaN   NaN   \n",
       "50%                                            NaN   NaN   \n",
       "75%                                            NaN   NaN   \n",
       "max                                            NaN   NaN   \n",
       "\n",
       "                                                     crew  \n",
       "count                                                4376  \n",
       "unique                                               4376  \n",
       "top     [{'credit_id': '52fe452fc3a36847f80c10f9', 'de...  \n",
       "freq                                                    1  \n",
       "mean                                                  NaN  \n",
       "std                                                   NaN  \n",
       "min                                                   NaN  \n",
       "25%                                                   NaN  \n",
       "50%                                                   NaN  \n",
       "75%                                                   NaN  \n",
       "max                                                   NaN  \n",
       "\n",
       "[11 rows x 22 columns]"
      ]
     },
     "execution_count": 72,
     "metadata": {},
     "output_type": "execute_result"
    }
   ],
   "source": [
    "test.describe(include='all')"
   ]
  },
  {
   "cell_type": "markdown",
   "metadata": {
    "_uuid": "2a39bc3f6bb67e6ec646d60c3c64f60c42c6bafd"
   },
   "source": [
    "Count of missing values in each column in train:"
   ]
  },
  {
   "cell_type": "code",
   "execution_count": 73,
   "metadata": {
    "_uuid": "9d36461eaf0f66bb381a80a6bbeb4df9db445d17",
    "scrolled": false
   },
   "outputs": [
    {
     "data": {
      "text/plain": [
       "id                          0\n",
       "belongs_to_collection    2396\n",
       "budget                      0\n",
       "genres                      7\n",
       "homepage                 2054\n",
       "imdb_id                     0\n",
       "original_language           0\n",
       "original_title              0\n",
       "overview                    8\n",
       "popularity                  0\n",
       "poster_path                 1\n",
       "production_companies      156\n",
       "production_countries       55\n",
       "release_date                0\n",
       "runtime                     2\n",
       "spoken_languages           20\n",
       "status                      0\n",
       "tagline                   597\n",
       "title                       0\n",
       "Keywords                  276\n",
       "cast                       13\n",
       "crew                       16\n",
       "revenue                     0\n",
       "dtype: int64"
      ]
     },
     "execution_count": 73,
     "metadata": {},
     "output_type": "execute_result"
    }
   ],
   "source": [
    "train.isna().sum()"
   ]
  },
  {
   "cell_type": "markdown",
   "metadata": {
    "_uuid": "4bf479e8f5957a551c47dc1b356d95decc634994"
   },
   "source": [
    "Count of missing values in each column in train:"
   ]
  },
  {
   "cell_type": "code",
   "execution_count": 74,
   "metadata": {
    "_uuid": "0a5d3e1c4048dfb3ed878d549a58122648a78632",
    "scrolled": false
   },
   "outputs": [
    {
     "data": {
      "text/plain": [
       "id                          0\n",
       "belongs_to_collection    3521\n",
       "budget                      0\n",
       "genres                     16\n",
       "homepage                 2978\n",
       "imdb_id                     0\n",
       "original_language           0\n",
       "original_title              0\n",
       "overview                   14\n",
       "popularity                  0\n",
       "poster_path                 1\n",
       "production_companies      258\n",
       "production_countries      102\n",
       "release_date                1\n",
       "runtime                     4\n",
       "spoken_languages           42\n",
       "status                      2\n",
       "tagline                   863\n",
       "title                       3\n",
       "Keywords                  393\n",
       "cast                       13\n",
       "crew                       22\n",
       "dtype: int64"
      ]
     },
     "execution_count": 74,
     "metadata": {},
     "output_type": "execute_result"
    }
   ],
   "source": [
    "test.isna().sum()"
   ]
  },
  {
   "cell_type": "markdown",
   "metadata": {
    "_uuid": "d0894ecd95a98f2dbe12109f236385723f3d92f4"
   },
   "source": [
    "Plot Budget vs Revenue."
   ]
  },
  {
   "cell_type": "code",
   "execution_count": 75,
   "metadata": {
    "_uuid": "cf80df779cc67f6bad2454688bf6aacb23936b08",
    "scrolled": false
   },
   "outputs": [
    {
     "data": {
      "image/png": "[encoded data removed]",
      "text/plain": [
       "<Figure size 792x792 with 3 Axes>"
      ]
     },
     "metadata": {
      "needs_background": "light"
     },
     "output_type": "display_data"
    }
   ],
   "source": [
    "sns.jointplot(x=\"budget\", y=\"revenue\", data=train, height=11, ratio=4, color=\"g\")\n",
    "plt.show()"
   ]
  },
  {
   "cell_type": "markdown",
   "metadata": {
    "_uuid": "6c1a23d4fc3249f04b8a88de0489a3e3f895705a"
   },
   "source": [
    "Plot popularity vs revenue"
   ]
  },
  {
   "cell_type": "code",
   "execution_count": 76,
   "metadata": {
    "_uuid": "e5727c559e6cfc589f70672e1ac525d413620396",
    "scrolled": false
   },
   "outputs": [
    {
     "data": {
      "image/png": "[encoded data removed]",
      "text/plain": [
       "<Figure size 792x792 with 3 Axes>"
      ]
     },
     "metadata": {
      "needs_background": "light"
     },
     "output_type": "display_data"
    }
   ],
   "source": [
    "sns.jointplot(x=\"popularity\", y=\"revenue\", data=train, height=11, ratio=4, color=\"g\")\n",
    "plt.show()"
   ]
  },
  {
   "cell_type": "markdown",
   "metadata": {
    "_uuid": "987855bd8f7e4a236ec08df162daba63895500c8"
   },
   "source": [
    "Plot runtime vs revenue"
   ]
  },
  {
   "cell_type": "code",
   "execution_count": 77,
   "metadata": {
    "_uuid": "3a3d5e62259b8d3132a05b7ff888b3a1bc2471d4",
    "scrolled": false
   },
   "outputs": [
    {
     "data": {
      "image/png": "[encoded data removed]",
      "text/plain": [
       "<Figure size 792x792 with 3 Axes>"
      ]
     },
     "metadata": {
      "needs_background": "light"
     },
     "output_type": "display_data"
    }
   ],
   "source": [
    "sns.jointplot(x=\"runtime\", y=\"revenue\", data=train, height=11, ratio=4, color=\"g\")\n",
    "plt.show()"
   ]
  },
  {
   "cell_type": "markdown",
   "metadata": {
    "_uuid": "f576ad9726e79abe8a95f528d0ed0eda3c8bb6d1"
   },
   "source": [
    "**Revenue (Target Variable) Distribution**"
   ]
  },
  {
   "cell_type": "code",
   "execution_count": 78,
   "metadata": {
    "_uuid": "8c6d5c31ad4eacc79d9fdf4eb5ea37029554299b",
    "scrolled": false
   },
   "outputs": [
    {
     "data": {
      "text/plain": [
       "<matplotlib.axes._subplots.AxesSubplot at 0x1a33573978>"
      ]
     },
     "execution_count": 78,
     "metadata": {},
     "output_type": "execute_result"
    },
    {
     "data": {
      "image/png": "[encoded data removed]",
      "text/plain": [
       "<Figure size 432x288 with 1 Axes>"
      ]
     },
     "metadata": {
      "needs_background": "light"
     },
     "output_type": "display_data"
    }
   ],
   "source": [
    "sns.distplot(train.revenue)"
   ]
  },
  {
   "cell_type": "code",
   "execution_count": 79,
   "metadata": {
    "_uuid": "66906ffd251d040c82247919a8fc826745268eb0",
    "scrolled": false
   },
   "outputs": [
    {
     "data": {
      "text/plain": [
       "count    3.000000e+03\n",
       "mean     6.672585e+07\n",
       "std      1.375323e+08\n",
       "min      1.000000e+00\n",
       "25%      2.379808e+06\n",
       "50%      1.680707e+07\n",
       "75%      6.891920e+07\n",
       "max      1.519558e+09\n",
       "Name: revenue, dtype: float64"
      ]
     },
     "execution_count": 79,
     "metadata": {},
     "output_type": "execute_result"
    }
   ],
   "source": [
    "train.revenue.describe()"
   ]
  },
  {
   "cell_type": "markdown",
   "metadata": {
    "_uuid": "d688f4ae3b41ca75875f6eb15cbb4510707e3c58"
   },
   "source": [
    "Because revenue variable is skewed, let's calculate log of it. "
   ]
  },
  {
   "cell_type": "code",
   "execution_count": 80,
   "metadata": {
    "_uuid": "24585742b66d79a2e9db56333959542502931799",
    "scrolled": false
   },
   "outputs": [
    {
     "data": {
      "text/plain": [
       "<matplotlib.axes._subplots.AxesSubplot at 0x1a2dafccc0>"
      ]
     },
     "execution_count": 80,
     "metadata": {},
     "output_type": "execute_result"
    },
    {
     "data": {
      "image/png": "[encoded data removed]",
      "text/plain": [
       "<Figure size 432x288 with 1 Axes>"
      ]
     },
     "metadata": {
      "needs_background": "light"
     },
     "output_type": "display_data"
    }
   ],
   "source": [
    "train['logRevenue'] = np.log1p(train['revenue'])\n",
    "sns.distplot(train['logRevenue'] )"
   ]
  },
  {
   "cell_type": "markdown",
   "metadata": {
    "_uuid": "9227c576db2939255978c3ee7908df91cede4209"
   },
   "source": [
    "Get Month, Day Year, Week day, quarter from release date"
   ]
  },
  {
   "cell_type": "code",
   "execution_count": 81,
   "metadata": {
    "_uuid": "96b8e77c1e237c201cbf0d1272ca7d3d8b21bfff",
    "scrolled": false
   },
   "outputs": [],
   "source": [
    "#Since only last two digits of year are provided, this is the correct way of getting the year.\n",
    "train[['release_month','release_day','release_year']]=train['release_date'].str.split('/',expand=True).replace(np.nan, -1).astype(int)\n",
    "# Some rows have 4 digits of year instead of 2, that's why I am applying (train['release_year'] < 100) this condition\n",
    "train.loc[ (train['release_year'] <= 19) & (train['release_year'] < 100), \"release_year\"] += 2000\n",
    "train.loc[ (train['release_year'] > 19)  & (train['release_year'] < 100), \"release_year\"] += 1900\n",
    "\n",
    "releaseDate = pd.to_datetime(train['release_date']) \n",
    "train['release_dayofweek'] = releaseDate.dt.dayofweek\n",
    "train['release_quarter'] = releaseDate.dt.quarter"
   ]
  },
  {
   "cell_type": "markdown",
   "metadata": {
    "_uuid": "d3809c76d186aa2a9d9397fb0589f5b23bf31e2a"
   },
   "source": [
    "Plot Release Year Count"
   ]
  },
  {
   "cell_type": "code",
   "execution_count": 82,
   "metadata": {
    "_uuid": "e8c54008d747f93e8eb75a1d95841337d95e6bd3",
    "scrolled": false
   },
   "outputs": [
    {
     "data": {
      "image/png": "[encoded data removed]",
      "text/plain": [
       "<Figure size 1440x864 with 1 Axes>"
      ]
     },
     "metadata": {
      "needs_background": "light"
     },
     "output_type": "display_data"
    }
   ],
   "source": [
    "plt.figure(figsize=(20,12))\n",
    "sns.countplot(train['release_year'].sort_values())\n",
    "plt.title(\"Movie Release count by Year\",fontsize=20)\n",
    "loc, labels = plt.xticks()\n",
    "plt.xticks(fontsize=12,rotation=90)\n",
    "plt.show()"
   ]
  },
  {
   "cell_type": "markdown",
   "metadata": {
    "_uuid": "d35cbcbac601e86a0f21dfbcf977a90e145e972c"
   },
   "source": [
    "Plot Release month count"
   ]
  },
  {
   "cell_type": "code",
   "execution_count": 83,
   "metadata": {
    "_uuid": "a1f5b24b321ff00072f108194cf6ed1449ea3608",
    "scrolled": false
   },
   "outputs": [
    {
     "data": {
      "image/png": "[encoded data removed]",
      "text/plain": [
       "<Figure size 1440x864 with 1 Axes>"
      ]
     },
     "metadata": {
      "needs_background": "light"
     },
     "output_type": "display_data"
    }
   ],
   "source": [
    "plt.figure(figsize=(20,12))\n",
    "sns.countplot(train['release_month'].sort_values())\n",
    "plt.title(\"Release Month Count\",fontsize=20)\n",
    "loc, labels = plt.xticks()\n",
    "loc, labels = loc, [\"Jan\", \"Feb\", \"Mar\", \"Apr\", \"May\", \"Jun\", \"Jul\", \"Aug\", \"Sep\", \"Oct\", \"Nov\", \"Dec\"]\n",
    "plt.xticks(loc, labels,fontsize=20)\n",
    "plt.show()"
   ]
  },
  {
   "cell_type": "markdown",
   "metadata": {
    "_uuid": "542e7f3076f65c890fb8b7007bc1dd98350dbf9e"
   },
   "source": [
    "Plot release day count"
   ]
  },
  {
   "cell_type": "code",
   "execution_count": 84,
   "metadata": {
    "_uuid": "542061d067100e1d33d34b2e21dc3db0b3b95689",
    "scrolled": false
   },
   "outputs": [
    {
     "data": {
      "image/png": "[encoded data removed]",
      "text/plain": [
       "<Figure size 1440x864 with 1 Axes>"
      ]
     },
     "metadata": {
      "needs_background": "light"
     },
     "output_type": "display_data"
    }
   ],
   "source": [
    "plt.figure(figsize=(20,12))\n",
    "sns.countplot(train['release_day'].sort_values())\n",
    "plt.title(\"Release Day Count\",fontsize=20)\n",
    "plt.xticks(fontsize=20)\n",
    "plt.show()"
   ]
  },
  {
   "cell_type": "markdown",
   "metadata": {
    "_uuid": "e4f3af7492eccb03976b2760b41251c42a92e422"
   },
   "source": [
    "Plot Release Day of Week"
   ]
  },
  {
   "cell_type": "code",
   "execution_count": 85,
   "metadata": {
    "_uuid": "15cd6d4de4ef5045db3222b4b57837414f9a9a2f",
    "scrolled": false
   },
   "outputs": [
    {
     "data": {
      "image/png": "[encoded data removed]",
      "text/plain": [
       "<Figure size 1440x864 with 1 Axes>"
      ]
     },
     "metadata": {
      "needs_background": "light"
     },
     "output_type": "display_data"
    }
   ],
   "source": [
    "plt.figure(figsize=(20,12))\n",
    "sns.countplot(train['release_dayofweek'].sort_values())\n",
    "plt.title(\"Total movies released on Day Of Week\",fontsize=20)\n",
    "loc, labels = plt.xticks()\n",
    "loc, labels = loc, [\"Mon\",\"Tue\",\"Wed\",\"Thu\",\"Fri\",\"Sat\",\"Sun\"]\n",
    "plt.xticks(loc, labels,fontsize=20)\n",
    "plt.show()"
   ]
  },
  {
   "cell_type": "markdown",
   "metadata": {
    "_uuid": "dc18208a3f2f4666cece2c2e9a73ad617646d120"
   },
   "source": [
    "Plot release quater Count"
   ]
  },
  {
   "cell_type": "code",
   "execution_count": 86,
   "metadata": {
    "_uuid": "ac7fadb074ecaf353d3669ef2b97933ceae1f84b",
    "scrolled": false
   },
   "outputs": [
    {
     "data": {
      "image/png": "[encoded data removed]",
      "text/plain": [
       "<Figure size 1440x864 with 1 Axes>"
      ]
     },
     "metadata": {
      "needs_background": "light"
     },
     "output_type": "display_data"
    }
   ],
   "source": [
    "plt.figure(figsize=(20,12))\n",
    "sns.countplot(train['release_quarter'].sort_values())\n",
    "plt.title(\"Total movies released in a quarter\",fontsize=20)\n",
    "plt.show()"
   ]
  },
  {
   "cell_type": "markdown",
   "metadata": {
    "_uuid": "bf94127cd6ef84353fc895589389744fb841bfe2"
   },
   "source": [
    "Plot Release Year vs Revenue. "
   ]
  },
  {
   "cell_type": "code",
   "execution_count": 87,
   "metadata": {
    "_uuid": "a1fb6dfc2f6c7ba9645cb935494296109d5b44b4",
    "scrolled": false
   },
   "outputs": [
    {
     "data": {
      "image/png": "[encoded data removed]",
      "text/plain": [
       "<Figure size 1080x720 with 1 Axes>"
      ]
     },
     "metadata": {
      "needs_background": "light"
     },
     "output_type": "display_data"
    }
   ],
   "source": [
    "train['meanRevenueByYear'] = train.groupby(\"release_year\")[\"revenue\"].aggregate('mean')\n",
    "train['meanRevenueByYear'].plot(figsize=(15,10),color=\"g\")\n",
    "plt.xticks(np.arange(1920,2018,4))\n",
    "plt.xlabel(\"Release Year\")\n",
    "plt.ylabel(\"Revenue\")\n",
    "plt.title(\"Movie Mean Revenue By Year\",fontsize=20)\n",
    "plt.show()"
   ]
  },
  {
   "cell_type": "markdown",
   "metadata": {
    "_uuid": "cafb3bda335688e65c31d78dd47708243e4c685c"
   },
   "source": [
    "Release Month Vs Revenue Plot"
   ]
  },
  {
   "cell_type": "code",
   "execution_count": 88,
   "metadata": {
    "_uuid": "fc63abc6d1fba04cff637aa12fe6eb66bdae9017",
    "scrolled": false
   },
   "outputs": [
    {
     "data": {
      "image/png": "[encoded data removed]",
      "text/plain": [
       "<Figure size 1080x720 with 1 Axes>"
      ]
     },
     "metadata": {
      "needs_background": "light"
     },
     "output_type": "display_data"
    }
   ],
   "source": [
    "train['meanRevenueByMonth'] = train.groupby(\"release_month\")[\"revenue\"].aggregate('mean')\n",
    "train['meanRevenueByMonth'].plot(figsize=(15,10),color=\"g\")\n",
    "plt.xlabel(\"Release Month\")\n",
    "plt.ylabel(\"Revenue\")\n",
    "plt.title(\"Movie Mean Revenue Release Month\",fontsize=20)\n",
    "plt.show()"
   ]
  },
  {
   "cell_type": "markdown",
   "metadata": {
    "_uuid": "e413e963ea3a62da20595042efd25d03d5a224a0"
   },
   "source": [
    "Release day of week vs Revenue"
   ]
  },
  {
   "cell_type": "code",
   "execution_count": 89,
   "metadata": {
    "_uuid": "8653c1342b4e0af1158e5ccb51a0e05e839b0fe5",
    "scrolled": false
   },
   "outputs": [
    {
     "data": {
      "image/png": "[encoded data removed]",
      "text/plain": [
       "<Figure size 1080x720 with 1 Axes>"
      ]
     },
     "metadata": {
      "needs_background": "light"
     },
     "output_type": "display_data"
    }
   ],
   "source": [
    "train['meanRevenueByDayOfWeek'] = train.groupby(\"release_dayofweek\")[\"revenue\"].aggregate('mean')\n",
    "train['meanRevenueByDayOfWeek'].plot(figsize=(15,10),color=\"g\")\n",
    "plt.xlabel(\"Day of Week\")\n",
    "plt.ylabel(\"Revenue\")\n",
    "plt.title(\"Movie Mean Revenue by Day of Week\",fontsize=20)\n",
    "plt.show()"
   ]
  },
  {
   "cell_type": "code",
   "execution_count": 90,
   "metadata": {
    "_uuid": "78000938ee2f137119a9b49b9311ca69c7c42013",
    "scrolled": false
   },
   "outputs": [
    {
     "data": {
      "image/png": "[encoded data removed]",
      "text/plain": [
       "<Figure size 1080x720 with 1 Axes>"
      ]
     },
     "metadata": {
      "needs_background": "light"
     },
     "output_type": "display_data"
    }
   ],
   "source": [
    "train['meanRevenueByQuarter'] = train.groupby(\"release_quarter\")[\"revenue\"].aggregate('mean')\n",
    "train['meanRevenueByQuarter'].plot(figsize=(15,10),color=\"g\")\n",
    "plt.xticks(np.arange(1,5,1))\n",
    "plt.xlabel(\"Quarter\")\n",
    "plt.ylabel(\"Revenue\")\n",
    "plt.title(\"Movie Mean Revenue by Quarter\",fontsize=20)\n",
    "plt.show()"
   ]
  },
  {
   "cell_type": "code",
   "execution_count": 91,
   "metadata": {
    "_uuid": "06ffeca741b8d3a2d1f640e154f901462fbb2f66",
    "scrolled": false
   },
   "outputs": [
    {
     "data": {
      "image/png": "[encoded data removed]",
      "text/plain": [
       "<Figure size 1080x720 with 1 Axes>"
      ]
     },
     "metadata": {
      "needs_background": "light"
     },
     "output_type": "display_data"
    }
   ],
   "source": [
    "train['meanruntimeByYear'] = train.groupby(\"release_year\")[\"runtime\"].aggregate('mean')\n",
    "train['meanruntimeByYear'].plot(figsize=(15,10),color=\"g\")\n",
    "plt.xticks(np.arange(1920,2018,4))\n",
    "plt.xlabel(\"Release Year\")\n",
    "plt.ylabel(\"Runtime\")\n",
    "plt.title(\"Movie Mean Runtime by Year\",fontsize=20)\n",
    "plt.show()"
   ]
  },
  {
   "cell_type": "code",
   "execution_count": 92,
   "metadata": {
    "_uuid": "8f5080b5ffc6519df8175a84d59142d49b47a7da",
    "scrolled": false
   },
   "outputs": [
    {
     "data": {
      "image/png": "[encoded data removed]",
      "text/plain": [
       "<Figure size 1080x720 with 1 Axes>"
      ]
     },
     "metadata": {
      "needs_background": "light"
     },
     "output_type": "display_data"
    }
   ],
   "source": [
    "train['meanPopularityByYear'] = train.groupby(\"release_year\")[\"popularity\"].aggregate('mean')\n",
    "train['meanPopularityByYear'].plot(figsize=(15,10),color=\"g\")\n",
    "plt.xticks(np.arange(1920,2018,4))\n",
    "plt.xlabel(\"Release Year\")\n",
    "plt.ylabel(\"Popularity\")\n",
    "plt.title(\"Movie Mean Popularity by Year\",fontsize=20)\n",
    "plt.show()"
   ]
  },
  {
   "cell_type": "code",
   "execution_count": 93,
   "metadata": {
    "_uuid": "2ca59d66228082cdac7c3729b1873d5cf983f9b5",
    "scrolled": false
   },
   "outputs": [
    {
     "data": {
      "image/png": "[encoded data removed]",
      "text/plain": [
       "<Figure size 1080x720 with 1 Axes>"
      ]
     },
     "metadata": {
      "needs_background": "light"
     },
     "output_type": "display_data"
    }
   ],
   "source": [
    "train['meanBudgetByYear'] = train.groupby(\"release_year\")[\"budget\"].aggregate('mean')\n",
    "train['meanBudgetByYear'].plot(figsize=(15,10),color=\"g\")\n",
    "plt.xticks(np.arange(1920,2018,4))\n",
    "plt.xlabel(\"Release Year\")\n",
    "plt.ylabel(\"Budget\")\n",
    "plt.title(\"Movie Mean Budget by Year\",fontsize=20)\n",
    "plt.show()"
   ]
  },
  {
   "cell_type": "markdown",
   "metadata": {
    "_uuid": "c5d2e559951284b4504e76883ba710752a3071af"
   },
   "source": [
    "Count Genres in Train set"
   ]
  },
  {
   "cell_type": "code",
   "execution_count": 94,
   "metadata": {
    "_uuid": "6f12e5fdfa98814a1df3574cb4a0c7efb63b3921",
    "scrolled": false
   },
   "outputs": [
    {
     "name": "stdout",
     "output_type": "stream",
     "text": [
      "Action Genres Movie            741\n",
      "Adventure Genres Movie         439\n",
      "Animation Genres Movie         141\n",
      "Comedy Genres Movie            1028\n",
      "Crime Genres Movie             469\n",
      "Documentary Genres Movie       87\n",
      "Drama Genres Movie             1531\n",
      "Family Genres Movie            260\n",
      "Fantasy Genres Movie           232\n",
      "Foreign Genres Movie           31\n",
      "History Genres Movie           132\n",
      "Music Genres Movie             100\n",
      "Mystery Genres Movie           225\n",
      "Romance Genres Movie           571\n",
      "Science Fiction Genres Movie   290\n",
      "TV Movie Genres Movie          1\n",
      "Thriller Genres Movie          789\n",
      "War Genres Movie               100\n",
      "Western Genres Movie           43\n"
     ]
    }
   ],
   "source": [
    "def get_dictionary(s):\n",
    "    try:\n",
    "        d = eval(s)\n",
    "    except:\n",
    "        d = {}\n",
    "    return d\n",
    "train = train\n",
    "train['genres'] = train['genres'].map(lambda x: sorted([d['name'] for d in get_dictionary(x)])).map(lambda x: ','.join(map(str, x)))\n",
    "genres = train.genres.str.get_dummies(sep=',')\n",
    "train = pd.concat([train, genres], axis=1, sort=False)\n",
    "print(\"Action Genres Movie           \", train[train.Action == 1].shape[0])\n",
    "print(\"Adventure Genres Movie        \", train[train.Adventure == 1].shape[0])\n",
    "print(\"Animation Genres Movie        \", train[train.Animation == 1].shape[0])\n",
    "print(\"Comedy Genres Movie           \", train[train.Comedy == 1].shape[0])\n",
    "print(\"Crime Genres Movie            \", train[train.Crime == 1].shape[0])\n",
    "print(\"Documentary Genres Movie      \", train[train.Documentary == 1].shape[0])\n",
    "print(\"Drama Genres Movie            \", train[train.Drama == 1].shape[0])\n",
    "print(\"Family Genres Movie           \", train[train.Family == 1].shape[0])\n",
    "print(\"Fantasy Genres Movie          \", train[train.Fantasy == 1].shape[0])\n",
    "print(\"Foreign Genres Movie          \", train[train.Foreign == 1].shape[0])\n",
    "print(\"History Genres Movie          \", train[train.History == 1].shape[0])\n",
    "print(\"Music Genres Movie            \", train[train.Music == 1].shape[0])\n",
    "print(\"Mystery Genres Movie          \", train[train.Mystery == 1].shape[0])\n",
    "print(\"Romance Genres Movie          \", train[train.Romance == 1].shape[0])\n",
    "print(\"Science Fiction Genres Movie  \", train[train['Science Fiction'] == 1].shape[0])\n",
    "print(\"TV Movie Genres Movie         \", train[train['TV Movie'] == 1].shape[0])\n",
    "print(\"Thriller Genres Movie         \", train[train.Thriller == 1].shape[0])\n",
    "print(\"War Genres Movie              \", train[train.War == 1].shape[0])\n",
    "print(\"Western Genres Movie          \", train[train.Western == 1].shape[0])"
   ]
  },
  {
   "cell_type": "markdown",
   "metadata": {
    "_uuid": "f59d99d246e3580ed4a987debe692a4880d34778"
   },
   "source": [
    "Count Genres in Test set"
   ]
  },
  {
   "cell_type": "code",
   "execution_count": 95,
   "metadata": {
    "_uuid": "3e6aa55809a3c610007687b4a95f49f9b323e5f8",
    "scrolled": false
   },
   "outputs": [
    {
     "name": "stdout",
     "output_type": "stream",
     "text": [
      "Action Genres Movie            994\n",
      "Adventure Genres Movie         677\n",
      "Animation Genres Movie         241\n",
      "Comedy Genres Movie            1577\n",
      "Crime Genres Movie             615\n",
      "Documentary Genres Movie       134\n",
      "Drama Genres Movie             2145\n",
      "Family Genres Movie            415\n",
      "Fantasy Genres Movie           396\n",
      "Foreign Genres Movie           53\n",
      "History Genres Movie           163\n",
      "Music Genres Movie             167\n",
      "Mystery Genres Movie           325\n",
      "Romance Genres Movie           864\n",
      "Science Fiction Genres Movie   454\n",
      "TV Movie Genres Movie          0\n",
      "Thriller Genres Movie          1080\n",
      "War Genres Movie               143\n",
      "Western Genres Movie           74\n"
     ]
    }
   ],
   "source": [
    "test = test\n",
    "test['genres'] = test['genres'].map(lambda x: sorted([d['name'] for d in get_dictionary(x)])).map(lambda x: ','.join(map(str, x)))\n",
    "genres = test.genres.str.get_dummies(sep=',')\n",
    "test = pd.concat([test, genres], axis=1, sort=False)\n",
    "print(\"Action Genres Movie           \", test[test.Action == 1].shape[0])\n",
    "print(\"Adventure Genres Movie        \", test[test.Adventure == 1].shape[0])\n",
    "print(\"Animation Genres Movie        \", test[test.Animation == 1].shape[0])\n",
    "print(\"Comedy Genres Movie           \", test[test.Comedy == 1].shape[0])\n",
    "print(\"Crime Genres Movie            \", test[test.Crime == 1].shape[0])\n",
    "print(\"Documentary Genres Movie      \", test[test.Documentary == 1].shape[0])\n",
    "print(\"Drama Genres Movie            \", test[test.Drama == 1].shape[0])\n",
    "print(\"Family Genres Movie           \", test[test.Family == 1].shape[0])\n",
    "print(\"Fantasy Genres Movie          \", test[test.Fantasy == 1].shape[0])\n",
    "print(\"Foreign Genres Movie          \", test[test.Foreign == 1].shape[0])\n",
    "print(\"History Genres Movie          \", test[test.History == 1].shape[0])\n",
    "print(\"Music Genres Movie            \", test[test.Music == 1].shape[0])\n",
    "print(\"Mystery Genres Movie          \", test[test.Mystery == 1].shape[0])\n",
    "print(\"Romance Genres Movie          \", test[test.Romance == 1].shape[0])\n",
    "print(\"Science Fiction Genres Movie  \", test[test['Science Fiction'] == 1].shape[0])\n",
    "print(\"TV Movie Genres Movie          0\")\n",
    "print(\"Thriller Genres Movie         \", test[test.Thriller == 1].shape[0])\n",
    "print(\"War Genres Movie              \", test[test.War == 1].shape[0])\n",
    "print(\"Western Genres Movie          \", test[test.Western == 1].shape[0])"
   ]
  },
  {
   "cell_type": "markdown",
   "metadata": {
    "_uuid": "c28c1e2f39d6fa19a0e728782cbe172cc90ee1d3"
   },
   "source": [
    "Original Language Count"
   ]
  },
  {
   "cell_type": "code",
   "execution_count": 96,
   "metadata": {
    "_uuid": "ec8e5bc2ff42165d84a4a3fedc2ae727a1df73e3",
    "scrolled": false
   },
   "outputs": [
    {
     "data": {
      "image/png": "[encoded data removed]",
      "text/plain": [
       "<Figure size 1440x1080 with 1 Axes>"
      ]
     },
     "metadata": {
      "needs_background": "light"
     },
     "output_type": "display_data"
    }
   ],
   "source": [
    "plt.figure(figsize=(20,15))\n",
    "sns.countplot(train['original_language'].sort_values())\n",
    "plt.title(\"Original Language Count\",fontsize=20)\n",
    "plt.show()"
   ]
  },
  {
   "cell_type": "markdown",
   "metadata": {
    "_uuid": "74484835a18d5cc0c7f27865a627a6aaee4eac18"
   },
   "source": [
    "2996 Movies released in Train and 4 Movies are yet to release. "
   ]
  },
  {
   "cell_type": "code",
   "execution_count": 97,
   "metadata": {
    "_uuid": "bcfee64c5076dd0189cb15119803f42e2b1eda42",
    "scrolled": false
   },
   "outputs": [
    {
     "data": {
      "text/plain": [
       "Released    2996\n",
       "Rumored        4\n",
       "Name: status, dtype: int64"
      ]
     },
     "execution_count": 97,
     "metadata": {},
     "output_type": "execute_result"
    }
   ],
   "source": [
    "train['status'].value_counts()"
   ]
  },
  {
   "cell_type": "markdown",
   "metadata": {
    "_uuid": "50683a05c35e7f6f02534614ee1947e2f17e7a82"
   },
   "source": [
    "This is strange, movie is yet to release and revenue is already given. "
   ]
  },
  {
   "cell_type": "code",
   "execution_count": 98,
   "metadata": {
    "_uuid": "7dfab7cb272b5ea51a0d303b2cfa7a9aeae51446",
    "scrolled": false
   },
   "outputs": [
    {
     "data": {
      "text/html": [
       "<div>\n",
       "<style scoped>\n",
       "    .dataframe tbody tr th:only-of-type {\n",
       "        vertical-align: middle;\n",
       "    }\n",
       "\n",
       "    .dataframe tbody tr th {\n",
       "        vertical-align: top;\n",
       "    }\n",
       "\n",
       "    .dataframe thead th {\n",
       "        text-align: right;\n",
       "    }\n",
       "</style>\n",
       "<table border=\"1\" class=\"dataframe\">\n",
       "  <thead>\n",
       "    <tr style=\"text-align: right;\">\n",
       "      <th></th>\n",
       "      <th>status</th>\n",
       "      <th>revenue</th>\n",
       "    </tr>\n",
       "  </thead>\n",
       "  <tbody>\n",
       "    <tr>\n",
       "      <th>609</th>\n",
       "      <td>Rumored</td>\n",
       "      <td>273644</td>\n",
       "    </tr>\n",
       "    <tr>\n",
       "      <th>1007</th>\n",
       "      <td>Rumored</td>\n",
       "      <td>60</td>\n",
       "    </tr>\n",
       "    <tr>\n",
       "      <th>1216</th>\n",
       "      <td>Rumored</td>\n",
       "      <td>13418091</td>\n",
       "    </tr>\n",
       "    <tr>\n",
       "      <th>1618</th>\n",
       "      <td>Rumored</td>\n",
       "      <td>229000</td>\n",
       "    </tr>\n",
       "  </tbody>\n",
       "</table>\n",
       "</div>"
      ],
      "text/plain": [
       "       status   revenue\n",
       "609   Rumored    273644\n",
       "1007  Rumored        60\n",
       "1216  Rumored  13418091\n",
       "1618  Rumored    229000"
      ]
     },
     "execution_count": 98,
     "metadata": {},
     "output_type": "execute_result"
    }
   ],
   "source": [
    "train.loc[train['status'] == \"Rumored\"][['status','revenue']]"
   ]
  },
  {
   "cell_type": "markdown",
   "metadata": {
    "_uuid": "ad99755308c936be9c8080fb10f546af995c90cf"
   },
   "source": [
    "4389 movies released in test data, 7 are yet to release."
   ]
  },
  {
   "cell_type": "code",
   "execution_count": 99,
   "metadata": {
    "_uuid": "799f0e588a7cba4ff550088e3c1c171d71bd46cf",
    "scrolled": false
   },
   "outputs": [
    {
     "data": {
      "text/plain": [
       "Released           4389\n",
       "Post Production       5\n",
       "Rumored               2\n",
       "Name: status, dtype: int64"
      ]
     },
     "execution_count": 99,
     "metadata": {},
     "output_type": "execute_result"
    }
   ],
   "source": [
    "test['status'].value_counts()"
   ]
  },
  {
   "cell_type": "markdown",
   "metadata": {
    "_uuid": "3cc40bf2040f2291269f86e07e33b02c49043971"
   },
   "source": [
    "How many movies have a homepage?"
   ]
  },
  {
   "cell_type": "code",
   "execution_count": 100,
   "metadata": {
    "_uuid": "28910798353bb4a85170b6aa7fad46011aabd013",
    "scrolled": false
   },
   "outputs": [
    {
     "data": {
      "image/png": "[encoded data removed]",
      "text/plain": [
       "<Figure size 1080x576 with 1 Axes>"
      ]
     },
     "metadata": {
      "needs_background": "light"
     },
     "output_type": "display_data"
    }
   ],
   "source": [
    "train['has_homepage'] = 1\n",
    "train.loc[pd.isnull(train['homepage']) ,\"has_homepage\"] = 0\n",
    "plt.figure(figsize=(15,8))\n",
    "sns.countplot(train['has_homepage'].sort_values())\n",
    "plt.title(\"Has Homepage?\",fontsize=20)\n",
    "plt.show()"
   ]
  },
  {
   "cell_type": "markdown",
   "metadata": {
    "_uuid": "92d911ae620c5db7b50d5bf0b3e4b4248386749a"
   },
   "source": [
    "Correlation between has_homepage variable and revenue"
   ]
  },
  {
   "cell_type": "code",
   "execution_count": 101,
   "metadata": {
    "_uuid": "c3e266b5c526bb4be82d498caa9beb0ce67f9735",
    "scrolled": false
   },
   "outputs": [
    {
     "data": {
      "image/png": "[encoded data removed]",
      "text/plain": [
       "<Figure size 360x360 with 1 Axes>"
      ]
     },
     "metadata": {
      "needs_background": "light"
     },
     "output_type": "display_data"
    }
   ],
   "source": [
    "sns.catplot(x=\"has_homepage\", y=\"revenue\", data=train)\n",
    "plt.title('Revenue of movies with and without homepage');"
   ]
  },
  {
   "cell_type": "code",
   "execution_count": 102,
   "metadata": {
    "_uuid": "e54311884c9d0d7f2fa2b4cc87d618f2b269e952",
    "scrolled": false
   },
   "outputs": [
    {
     "data": {
      "image/png": "[encoded data removed]",
      "text/plain": [
       "<Figure size 360x360 with 1 Axes>"
      ]
     },
     "metadata": {
      "needs_background": "light"
     },
     "output_type": "display_data"
    }
   ],
   "source": [
    "train['isTaglineNA'] = 0\n",
    "train.loc[pd.isnull(train['tagline']) ,\"isTaglineNA\"] = 1\n",
    "sns.catplot(x=\"isTaglineNA\", y=\"revenue\", data=train)\n",
    "plt.title('Revenue of movies with and without a tagline');"
   ]
  },
  {
   "cell_type": "code",
   "execution_count": 103,
   "metadata": {
    "scrolled": false
   },
   "outputs": [
    {
     "data": {
      "image/png": "[encoded data removed]",
      "text/plain": [
       "<Figure size 360x360 with 1 Axes>"
      ]
     },
     "metadata": {
      "needs_background": "light"
     },
     "output_type": "display_data"
    }
   ],
   "source": [
    "train['isTitleDifferent'] = 1\n",
    "train.loc[ train['original_title'] == train['title'] ,\"isTitleDifferent\"] = 0 \n",
    "sns.catplot(x=\"isTitleDifferent\", y=\"revenue\", data=train)\n",
    "plt.title('Revenue of movies with single and multiple titles');"
   ]
  },
  {
   "cell_type": "code",
   "execution_count": 104,
   "metadata": {
    "scrolled": false
   },
   "outputs": [
    {
     "data": {
      "image/png": "[encoded data removed]",
      "text/plain": [
       "<Figure size 360x360 with 1 Axes>"
      ]
     },
     "metadata": {
      "needs_background": "light"
     },
     "output_type": "display_data"
    }
   ],
   "source": [
    "train['isOriginalLanguageEng'] = 0 \n",
    "train.loc[ train['original_language'] == \"en\" ,\"isOriginalLanguageEng\"] = 1\n",
    "sns.catplot(x=\"isOriginalLanguageEng\", y=\"revenue\", data=train)\n",
    "plt.title('Revenue of movies when Original Language is English and Not English');"
   ]
  },
  {
   "cell_type": "markdown",
   "metadata": {
    "_uuid": "4378bde2c9dd2be1b41ebdfb071ca8ddef389685"
   },
   "source": [
    "**Let's Explore External Data**"
   ]
  },
  {
   "cell_type": "code",
   "execution_count": 105,
   "metadata": {
    "_uuid": "e4eadec694d3a7023d5f7babeff4781871c76509",
    "scrolled": false
   },
   "outputs": [],
   "source": [
    "trainAdditionalFeatures = pd.read_csv('../data/tmdb/TrainAdditionalFeatures.csv')\n",
    "testAdditionalFeatures = pd.read_csv('../data/tmdb/TestAdditionalFeatures.csv')\n",
    "\n",
    "train = pd.merge(train, trainAdditionalFeatures, how='left', on=['imdb_id'])\n",
    "test = pd.merge(test, testAdditionalFeatures, how='left', on=['imdb_id'])"
   ]
  },
  {
   "cell_type": "markdown",
   "metadata": {
    "_uuid": "d5c33273ad5b8b5cdb7c0e857dcc283372934bdd"
   },
   "source": [
    "Missing Values"
   ]
  },
  {
   "cell_type": "code",
   "execution_count": 106,
   "metadata": {
    "_uuid": "3a2995c1e621bbebb1d44200d2314936d64cda7b",
    "scrolled": false
   },
   "outputs": [
    {
     "name": "stdout",
     "output_type": "stream",
     "text": [
      "Missing rating in Train set 118\n",
      "Missing total Votes in Train set 118\n",
      "\n",
      "Missing rating in Test set 179\n",
      "Missing total Votes in Test set 179\n"
     ]
    }
   ],
   "source": [
    "print(\"Missing rating in Train set\", train['rating'].isna().sum())\n",
    "print(\"Missing total Votes in Train set\", train['totalVotes'].isna().sum())\n",
    "print(\"\")\n",
    "print(\"Missing rating in Test set\", test['rating'].isna().sum())\n",
    "print(\"Missing total Votes in Test set\", test['totalVotes'].isna().sum())"
   ]
  },
  {
   "cell_type": "markdown",
   "metadata": {
    "_uuid": "79a1fd41116c3325663a34e3fdf1c0f45d518895"
   },
   "source": [
    "Fill  Missing Rating & Total Votes\n",
    "\n",
    " **Note**: Actually, I downloaded the data from my website's database: MoviesRE.com . Before few months, I deleted movies with less than 10 votes or 2.1 rating. So probably around 80% of the missing rows will have less than 10 votes or 2.1 rating. So let's fill them with 1.5 and 6"
   ]
  },
  {
   "cell_type": "code",
   "execution_count": 107,
   "metadata": {
    "_uuid": "f8fd6c8a271321296eda9c3ceed63aee58170e4f",
    "scrolled": false
   },
   "outputs": [],
   "source": [
    "train['rating'] = train['rating'].fillna(1.5)\n",
    "train['totalVotes'] = train['totalVotes'].fillna(6)\n",
    "\n",
    "test['rating'] = test['rating'].fillna(1.5)\n",
    "test['totalVotes'] = test['totalVotes'].fillna(6)"
   ]
  },
  {
   "cell_type": "markdown",
   "metadata": {
    "_uuid": "2a6827ed14217c1676f43106d00fd941e77241f4"
   },
   "source": [
    "Train set Rating Count"
   ]
  },
  {
   "cell_type": "code",
   "execution_count": 108,
   "metadata": {
    "_uuid": "dd66014d4566f2c22488f71a6d9d930c6f95bdf8",
    "scrolled": false
   },
   "outputs": [
    {
     "data": {
      "image/png": "[encoded data removed]",
      "text/plain": [
       "<Figure size 1440x864 with 1 Axes>"
      ]
     },
     "metadata": {
      "needs_background": "light"
     },
     "output_type": "display_data"
    }
   ],
   "source": [
    "plt.figure(figsize=(20,12))\n",
    "sns.countplot(train['rating'].sort_values())\n",
    "plt.title(\"Train Rating Count\",fontsize=20)\n",
    "plt.show()"
   ]
  },
  {
   "cell_type": "code",
   "execution_count": 109,
   "metadata": {
    "_uuid": "a729bc72a5a7a4a32150b58e8d7a3383b0d1f183",
    "scrolled": false
   },
   "outputs": [
    {
     "data": {
      "image/png": "[encoded data removed]",
      "text/plain": [
       "<Figure size 1440x864 with 1 Axes>"
      ]
     },
     "metadata": {
      "needs_background": "light"
     },
     "output_type": "display_data"
    }
   ],
   "source": [
    "plt.figure(figsize=(20,12))\n",
    "sns.countplot(test['rating'].sort_values())\n",
    "plt.title(\"Test set Rating Count\",fontsize=20)\n",
    "plt.show()"
   ]
  },
  {
   "cell_type": "code",
   "execution_count": 110,
   "metadata": {
    "_uuid": "65a725eeb8e3abdaf3b4b02816e9608be16ba0e9",
    "scrolled": false
   },
   "outputs": [
    {
     "data": {
      "image/png": "[encoded data removed]",
      "text/plain": [
       "<Figure size 1080x720 with 1 Axes>"
      ]
     },
     "metadata": {
      "needs_background": "light"
     },
     "output_type": "display_data"
    }
   ],
   "source": [
    "train['meanRevenueByRating'] = train.groupby(\"rating\")[\"revenue\"].aggregate('mean')\n",
    "train['meanRevenueByRating'].plot(figsize=(15,10),color=\"g\")\n",
    "plt.xlabel(\"Release Year\")\n",
    "plt.ylabel(\"Revenue\")\n",
    "plt.title(\"Movie Mean Revenue By Rating\",fontsize=20)\n",
    "plt.show()"
   ]
  },
  {
   "cell_type": "code",
   "execution_count": 111,
   "metadata": {
    "_uuid": "b74413130fe3e19cb8e44bbb80ed213699919dfb",
    "scrolled": false
   },
   "outputs": [
    {
     "data": {
      "image/png": "[encoded data removed]",
      "text/plain": [
       "<Figure size 1080x720 with 1 Axes>"
      ]
     },
     "metadata": {
      "needs_background": "light"
     },
     "output_type": "display_data"
    }
   ],
   "source": [
    "train['meanRevenueByTotalVotes'] = train.groupby(\"totalVotes\")[\"revenue\"].aggregate('mean')\n",
    "train['meanRevenueByTotalVotes'].plot(figsize=(15,10),color=\"g\")\n",
    "plt.xticks(np.arange(0,2500,500))\n",
    "plt.xlabel(\"Total Votes\")\n",
    "plt.ylabel(\"Revenue\")\n",
    "plt.title(\"Movie Mean Revenue By Total Votes\",fontsize=20)\n",
    "plt.show()"
   ]
  },
  {
   "cell_type": "code",
   "execution_count": 112,
   "metadata": {
    "_uuid": "113bc5456957944bea92a369ca22a84f6a47d660",
    "scrolled": false
   },
   "outputs": [
    {
     "data": {
      "image/png": "[encoded data removed]",
      "text/plain": [
       "<Figure size 1080x720 with 1 Axes>"
      ]
     },
     "metadata": {
      "needs_background": "light"
     },
     "output_type": "display_data"
    }
   ],
   "source": [
    "train['meantotalVotesByYear'] = train.groupby(\"release_year\")[\"totalVotes\"].aggregate('mean')\n",
    "train['meantotalVotesByYear'].plot(figsize=(15,10),color=\"g\")\n",
    "plt.xticks(np.arange(1920,2018,4))\n",
    "plt.xlabel(\"Release Year\")\n",
    "plt.ylabel(\"Rating\")\n",
    "plt.title(\"Movie Mean Total Votes by Year\",fontsize=20)\n",
    "plt.show()"
   ]
  },
  {
   "cell_type": "code",
   "execution_count": 113,
   "metadata": {
    "_uuid": "c794ef866c297e55dae0e58c42245ac9367ceed7",
    "scrolled": false
   },
   "outputs": [
    {
     "data": {
      "image/png": "[encoded data removed]",
      "text/plain": [
       "<Figure size 1080x720 with 1 Axes>"
      ]
     },
     "metadata": {
      "needs_background": "light"
     },
     "output_type": "display_data"
    }
   ],
   "source": [
    "train['meanTotalVotesByRating'] = train.groupby(\"rating\")[\"totalVotes\"].aggregate('mean')\n",
    "train['meanTotalVotesByRating'].plot(figsize=(15,10),color=\"g\")\n",
    "#plt.xticks(np.arange(1920,2018,4))\n",
    "plt.xlabel(\"Rating\")\n",
    "plt.ylabel(\"Total Votes\")\n",
    "plt.title(\"Movie Mean Total Votes by Rating\",fontsize=20)\n",
    "plt.show()"
   ]
  },
  {
   "cell_type": "code",
   "execution_count": 114,
   "metadata": {
    "_uuid": "db15d9a121fcede6d16b548019cfab42cdcf99ae",
    "scrolled": false
   },
   "outputs": [
    {
     "data": {
      "image/png": "[encoded data removed]",
      "text/plain": [
       "<Figure size 720x576 with 2 Axes>"
      ]
     },
     "metadata": {
      "needs_background": "light"
     },
     "output_type": "display_data"
    }
   ],
   "source": [
    "train = train[['budget','rating','totalVotes','popularity','runtime','release_year','release_month','release_dayofweek','revenue']]\n",
    "f,ax = plt.subplots(figsize=(10, 8))\n",
    "sns.heatmap(train.corr(), annot=True)\n",
    "plt.show()"
   ]
  },
  {
   "cell_type": "markdown",
   "metadata": {
    "_uuid": "79df05d97ee146e5c540633147be37915b8fdda2"
   },
   "source": [
    "# **Feature Engineering & Prediction**\n",
    "\n",
    "I am using two external datasets.\n",
    "1. **TMDB Competition Additional Features:** This dataset contain rating & number of votes of a movie.\n",
    "2. **TMDB Competition Additional Training Data:** This dataset contain around 2,000 additional rows, which I am using for training the data. \n",
    "\n",
    "I am also manually fixing the budget & revenue of some rows below. Let me know, if any part is not clear."
   ]
  },
  {
   "cell_type": "code",
   "execution_count": 115,
   "metadata": {
    "_uuid": "85e47d6d91209014e7a3e897e4290793054bf2fb",
    "scrolled": false
   },
   "outputs": [
    {
     "name": "stderr",
     "output_type": "stream",
     "text": [
      "\r",
      "  0%|          | 0/8 [00:00<?, ?it/s]"
     ]
    },
    {
     "name": "stdout",
     "output_type": "stream",
     "text": [
      "Index(['Keywords', 'belongs_to_collection', 'budget', 'cast', 'crew', 'genres',\n",
      "       'homepage', 'id', 'imdb_id', 'original_language', 'original_title',\n",
      "       'overview', 'popularity', 'popularity2', 'poster_path',\n",
      "       'production_companies', 'production_countries', 'rating',\n",
      "       'release_date', 'revenue', 'runtime', 'spoken_languages', 'status',\n",
      "       'tagline', 'title', 'totalVotes'],\n",
      "      dtype='object')\n",
      "(5001, 26)\n"
     ]
    },
    {
     "name": "stderr",
     "output_type": "stream",
     "text": [
      "100%|██████████| 8/8 [00:11<00:00,  1.47s/it]\n"
     ]
    }
   ],
   "source": [
    "def prepare(df):\n",
    "    global json_cols\n",
    "    global train_dict\n",
    "\n",
    "    df[['release_month','release_day','release_year']]=df['release_date'].str.split('/',expand=True).replace(np.nan, 0).astype(int)\n",
    "    df['release_year'] = df['release_year']\n",
    "    df.loc[ (df['release_year'] <= 19) & (df['release_year'] < 100), \"release_year\"] += 2000\n",
    "    df.loc[ (df['release_year'] > 19)  & (df['release_year'] < 100), \"release_year\"] += 1900\n",
    "    \n",
    "    releaseDate = pd.to_datetime(df['release_date']) \n",
    "    df['release_dayofweek'] = releaseDate.dt.dayofweek \n",
    "    df['release_quarter'] = releaseDate.dt.quarter     \n",
    "    \n",
    "    rating_na = df.groupby([\"release_year\",\"original_language\"])['rating'].mean().reset_index()\n",
    "    df[df.rating.isna()]['rating'] = df.merge(rating_na, how = 'left' ,on = [\"release_year\",\"original_language\"])\n",
    "    vote_count_na = df.groupby([\"release_year\",\"original_language\"])['totalVotes'].mean().reset_index()\n",
    "    df[df.totalVotes.isna()]['totalVotes'] = df.merge(vote_count_na, how = 'left' ,on = [\"release_year\",\"original_language\"])\n",
    "    #df['rating'] = df['rating'].fillna(1.5)\n",
    "    #df['totalVotes'] = df['totalVotes'].fillna(6)\n",
    "    df['weightedRating'] = ( df['rating']*df['totalVotes'] + 6.367 * 1000 ) / ( df['totalVotes'] + 1000 )\n",
    "\n",
    "\n",
    "    df['originalBudget'] = df['budget']\n",
    "    df['inflationBudget'] = df['budget'] + df['budget']*1.8/100*(2018-df['release_year']) #Inflation simple formula\n",
    "    df['budget'] = np.log1p(df['budget']) \n",
    "    \n",
    "    \n",
    "    # Thanks to this Kernel for the next 7 features https://www.kaggle.com/artgor/eda-feature-engineering-and-model-interpretation\n",
    "    df['genders_0_crew'] = df['crew'].apply(lambda x: sum([1 for i in x if i['gender'] == 0]))\n",
    "    df['genders_1_crew'] = df['crew'].apply(lambda x: sum([1 for i in x if i['gender'] == 1]))\n",
    "    df['genders_2_crew'] = df['crew'].apply(lambda x: sum([1 for i in x if i['gender'] == 2]))\n",
    "    df['_collection_name'] = df['belongs_to_collection'].apply(lambda x: x[0]['name'] if x != {} else 0)\n",
    "    le = LabelEncoder()\n",
    "    le.fit(list(df['_collection_name'].fillna('')))\n",
    "    df['_collection_name'] = le.transform(df['_collection_name'].fillna('').astype(str))\n",
    "    df['_num_Keywords'] = df['Keywords'].apply(lambda x: len(x) if x != {} else 0)\n",
    "    df['_num_cast'] = df['cast'].apply(lambda x: len(x) if x != {} else 0)\n",
    "\n",
    "    \n",
    "    \n",
    "    df['_popularity_mean_year'] = df['popularity'] / df.groupby(\"release_year\")[\"popularity\"].transform('mean')\n",
    "    df['_budget_runtime_ratio'] = df['budget']/df['runtime'] \n",
    "    df['_budget_popularity_ratio'] = df['budget']/df['popularity']\n",
    "    df['_budget_year_ratio'] = df['budget']/(df['release_year']*df['release_year'])\n",
    "    df['_releaseYear_popularity_ratio'] = df['release_year']/df['popularity']\n",
    "    df['_releaseYear_popularity_ratio2'] = df['popularity']/df['release_year']\n",
    "\n",
    "    df['_popularity_totalVotes_ratio'] = df['totalVotes']/df['popularity']\n",
    "    df['_rating_popularity_ratio'] = df['rating']/df['popularity']\n",
    "    df['_rating_totalVotes_ratio'] = df['totalVotes']/df['rating']\n",
    "    df['_totalVotes_releaseYear_ratio'] = df['totalVotes']/df['release_year']\n",
    "    df['_budget_rating_ratio'] = df['budget']/df['rating']\n",
    "    df['_runtime_rating_ratio'] = df['runtime']/df['rating']\n",
    "    df['_budget_totalVotes_ratio'] = df['budget']/df['totalVotes']\n",
    "    \n",
    "    df['has_homepage'] = 1\n",
    "    df.loc[pd.isnull(df['homepage']) ,\"has_homepage\"] = 0\n",
    "    \n",
    "    df['isbelongs_to_collectionNA'] = 0\n",
    "    df.loc[pd.isnull(df['belongs_to_collection']) ,\"isbelongs_to_collectionNA\"] = 1\n",
    "    \n",
    "    df['isTaglineNA'] = 0\n",
    "    df.loc[df['tagline'] == 0 ,\"isTaglineNA\"] = 1 \n",
    "\n",
    "    df['isOriginalLanguageEng'] = 0 \n",
    "    df.loc[ df['original_language'] == \"en\" ,\"isOriginalLanguageEng\"] = 1\n",
    "    \n",
    "    df['isTitleDifferent'] = 1\n",
    "    df.loc[ df['original_title'] == df['title'] ,\"isTitleDifferent\"] = 0 \n",
    "\n",
    "    df['isMovieReleased'] = 1\n",
    "    df.loc[ df['status'] != \"Released\" ,\"isMovieReleased\"] = 0 \n",
    "\n",
    "    # get collection id\n",
    "    df['collection_id'] = df['belongs_to_collection'].apply(lambda x : np.nan if len(x)==0 else x[0]['id'])\n",
    "    \n",
    "    df['original_title_letter_count'] = df['original_title'].str.len() \n",
    "    df['original_title_word_count'] = df['original_title'].str.split().str.len() \n",
    "\n",
    "\n",
    "    df['title_word_count'] = df['title'].str.split().str.len()\n",
    "    df['overview_word_count'] = df['overview'].str.split().str.len()\n",
    "    df['tagline_word_count'] = df['tagline'].str.split().str.len()\n",
    "    \n",
    "    df['production_countries_count'] = df['production_countries'].apply(lambda x : len(x))\n",
    "    df['production_companies_count'] = df['production_companies'].apply(lambda x : len(x))\n",
    "    df['cast_count'] = df['cast'].apply(lambda x : len(x))\n",
    "    df['crew_count'] = df['crew'].apply(lambda x : len(x))\n",
    "    \n",
    "\n",
    "    df['meanruntimeByYear'] = df.groupby(\"release_year\")[\"runtime\"].aggregate('mean')\n",
    "    df['meanPopularityByYear'] = df.groupby(\"release_year\")[\"popularity\"].aggregate('mean')\n",
    "    df['meanBudgetByYear'] = df.groupby(\"release_year\")[\"budget\"].aggregate('mean')\n",
    "    df['meantotalVotesByYear'] = df.groupby(\"release_year\")[\"totalVotes\"].aggregate('mean')\n",
    "    df['meanTotalVotesByRating'] = df.groupby(\"rating\")[\"totalVotes\"].aggregate('mean')\n",
    "    df['medianBudgetByYear'] = df.groupby(\"release_year\")[\"budget\"].aggregate('median')\n",
    "\n",
    "    for col in ['genres', 'production_countries', 'spoken_languages', 'production_companies'] :\n",
    "        df[col] = df[col].map(lambda x: sorted(list(set([n if n in train_dict[col] else col+'_etc' for n in [d['name'] for d in x]])))).map(lambda x: ','.join(map(str, x)))\n",
    "        temp = df[col].str.get_dummies(sep=',')\n",
    "        df = pd.concat([df, temp], axis=1, sort=False)\n",
    "    df.drop(['genres_etc'], axis = 1, inplace = True)\n",
    "    \n",
    "    df = df.drop(['id', 'revenue','belongs_to_collection','genres','homepage','imdb_id','overview','runtime'\n",
    "    ,'poster_path','production_companies','production_countries','release_date','spoken_languages'\n",
    "    ,'status','title','Keywords','cast','crew','original_language','original_title','tagline', 'collection_id'\n",
    "    ],axis=1)\n",
    "    \n",
    "    df.fillna(value=0.0, inplace = True) \n",
    "\n",
    "    return df\n",
    "train = pd.read_csv('../data/tmdb/train.csv')\n",
    "\n",
    "#power_six = train.id[train.budget > 1000][train.revenue < 100]\n",
    "\n",
    "#for k in power_six :\n",
    "#    train.loc[train['id'] == k,'revenue'] =  train.loc[train['id'] == k,'revenue'] * 1000000\n",
    "#Clean Datapower_six \n",
    " \n",
    "train.loc[train['id'] == 16,'revenue'] = 192864          # Skinning\n",
    "train.loc[train['id'] == 90,'budget'] = 30000000         # Sommersby          \n",
    "train.loc[train['id'] == 118,'budget'] = 60000000        # Wild Hogs\n",
    "train.loc[train['id'] == 149,'budget'] = 18000000        # Beethoven\n",
    "train.loc[train['id'] == 313,'revenue'] = 12000000       # The Cookout \n",
    "train.loc[train['id'] == 451,'revenue'] = 12000000       # Chasing Liberty\n",
    "train.loc[train['id'] == 464,'budget'] = 20000000        # Parenthood\n",
    "train.loc[train['id'] == 470,'budget'] = 13000000        # The Karate Kid, Part II\n",
    "train.loc[train['id'] == 513,'budget'] = 930000          # From Prada to Nada\n",
    "train.loc[train['id'] == 797,'budget'] = 8000000         # Welcome to Dongmakgol\n",
    "train.loc[train['id'] == 819,'budget'] = 90000000        # Alvin and the Chipmunks: The Road Chip\n",
    "train.loc[train['id'] == 850,'budget'] = 90000000        # Modern Times\n",
    "train.loc[train['id'] == 1007,'budget'] = 2              # Zyzzyx Road \n",
    "train.loc[train['id'] == 1112,'budget'] = 7500000        # An Officer and a Gentleman\n",
    "train.loc[train['id'] == 1131,'budget'] = 4300000        # Smokey and the Bandit   \n",
    "train.loc[train['id'] == 1359,'budget'] = 10000000       # Stir Crazy \n",
    "train.loc[train['id'] == 1542,'budget'] = 1              # All at Once\n",
    "train.loc[train['id'] == 1570,'budget'] = 15800000       # Crocodile Dundee II\n",
    "train.loc[train['id'] == 1571,'budget'] = 4000000        # Lady and the Tramp\n",
    "train.loc[train['id'] == 1714,'budget'] = 46000000       # The Recruit\n",
    "train.loc[train['id'] == 1721,'budget'] = 17500000       # Cocoon\n",
    "train.loc[train['id'] == 1865,'revenue'] = 25000000      # Scooby-Doo 2: Monsters Unleashed\n",
    "train.loc[train['id'] == 1885,'budget'] = 12             # In the Cut\n",
    "train.loc[train['id'] == 2091,'budget'] = 10             # Deadfall\n",
    "train.loc[train['id'] == 2268,'budget'] = 17500000       # Madea Goes to Jail budget\n",
    "train.loc[train['id'] == 2491,'budget'] = 6              # Never Talk to Strangers\n",
    "train.loc[train['id'] == 2602,'budget'] = 31000000       # Mr. Holland's Opus\n",
    "train.loc[train['id'] == 2612,'budget'] = 15000000       # Field of Dreams\n",
    "train.loc[train['id'] == 2696,'budget'] = 10000000       # Nurse 3-D\n",
    "train.loc[train['id'] == 2801,'budget'] = 10000000       # Fracture\n",
    "train.loc[train['id'] == 335,'budget'] = 2 \n",
    "train.loc[train['id'] == 348,'budget'] = 12\n",
    "train.loc[train['id'] == 470,'budget'] = 13000000 \n",
    "train.loc[train['id'] == 513,'budget'] = 1100000\n",
    "train.loc[train['id'] == 640,'budget'] = 6 \n",
    "train.loc[train['id'] == 696,'budget'] = 1\n",
    "train.loc[train['id'] == 797,'budget'] = 8000000 \n",
    "train.loc[train['id'] == 850,'budget'] = 1500000\n",
    "train.loc[train['id'] == 1199,'budget'] = 5 \n",
    "train.loc[train['id'] == 1282,'budget'] = 9               # Death at a Funeral\n",
    "train.loc[train['id'] == 1347,'budget'] = 1\n",
    "train.loc[train['id'] == 1755,'budget'] = 2\n",
    "train.loc[train['id'] == 1801,'budget'] = 5\n",
    "train.loc[train['id'] == 1918,'budget'] = 592 \n",
    "train.loc[train['id'] == 2033,'budget'] = 4\n",
    "train.loc[train['id'] == 2118,'budget'] = 344 \n",
    "train.loc[train['id'] == 2252,'budget'] = 130\n",
    "train.loc[train['id'] == 2256,'budget'] = 1 \n",
    "train.loc[train['id'] == 2696,'budget'] = 10000000\n",
    "\n",
    "\n",
    "\n",
    "\n",
    "\n",
    "test = pd.read_csv('../data/tmdb/test.csv')\n",
    "\n",
    "#Clean Data\n",
    "test.loc[test['id'] == 6733,'budget'] = 5000000\n",
    "test.loc[test['id'] == 3889,'budget'] = 15000000\n",
    "test.loc[test['id'] == 6683,'budget'] = 50000000\n",
    "test.loc[test['id'] == 5704,'budget'] = 4300000\n",
    "test.loc[test['id'] == 6109,'budget'] = 281756\n",
    "test.loc[test['id'] == 7242,'budget'] = 10000000\n",
    "test.loc[test['id'] == 7021,'budget'] = 17540562       #  Two Is a Family\n",
    "test.loc[test['id'] == 5591,'budget'] = 4000000        # The Orphanage\n",
    "test.loc[test['id'] == 4282,'budget'] = 20000000       # Big Top Pee-wee\n",
    "test.loc[test['id'] == 3033,'budget'] = 250 \n",
    "test.loc[test['id'] == 3051,'budget'] = 50\n",
    "test.loc[test['id'] == 3084,'budget'] = 337\n",
    "test.loc[test['id'] == 3224,'budget'] = 4  \n",
    "test.loc[test['id'] == 3594,'budget'] = 25  \n",
    "test.loc[test['id'] == 3619,'budget'] = 500  \n",
    "test.loc[test['id'] == 3831,'budget'] = 3  \n",
    "test.loc[test['id'] == 3935,'budget'] = 500  \n",
    "test.loc[test['id'] == 4049,'budget'] = 995946 \n",
    "test.loc[test['id'] == 4424,'budget'] = 3  \n",
    "test.loc[test['id'] == 4460,'budget'] = 8  \n",
    "test.loc[test['id'] == 4555,'budget'] = 1200000 \n",
    "test.loc[test['id'] == 4624,'budget'] = 30 \n",
    "test.loc[test['id'] == 4645,'budget'] = 500 \n",
    "test.loc[test['id'] == 4709,'budget'] = 450 \n",
    "test.loc[test['id'] == 4839,'budget'] = 7\n",
    "test.loc[test['id'] == 3125,'budget'] = 25 \n",
    "test.loc[test['id'] == 3142,'budget'] = 1\n",
    "test.loc[test['id'] == 3201,'budget'] = 450\n",
    "test.loc[test['id'] == 3222,'budget'] = 6\n",
    "test.loc[test['id'] == 3545,'budget'] = 38\n",
    "test.loc[test['id'] == 3670,'budget'] = 18\n",
    "test.loc[test['id'] == 3792,'budget'] = 19\n",
    "test.loc[test['id'] == 3881,'budget'] = 7\n",
    "test.loc[test['id'] == 3969,'budget'] = 400\n",
    "test.loc[test['id'] == 4196,'budget'] = 6\n",
    "test.loc[test['id'] == 4221,'budget'] = 11\n",
    "test.loc[test['id'] == 4222,'budget'] = 500\n",
    "test.loc[test['id'] == 4285,'budget'] = 11\n",
    "test.loc[test['id'] == 4319,'budget'] = 1\n",
    "test.loc[test['id'] == 4639,'budget'] = 10\n",
    "test.loc[test['id'] == 4719,'budget'] = 45\n",
    "test.loc[test['id'] == 4822,'budget'] = 22\n",
    "test.loc[test['id'] == 4829,'budget'] = 20\n",
    "test.loc[test['id'] == 4969,'budget'] = 20\n",
    "test.loc[test['id'] == 5021,'budget'] = 40 \n",
    "test.loc[test['id'] == 5035,'budget'] = 1 \n",
    "test.loc[test['id'] == 5063,'budget'] = 14 \n",
    "test.loc[test['id'] == 5119,'budget'] = 2 \n",
    "test.loc[test['id'] == 5214,'budget'] = 30 \n",
    "test.loc[test['id'] == 5221,'budget'] = 50 \n",
    "test.loc[test['id'] == 4903,'budget'] = 15\n",
    "test.loc[test['id'] == 4983,'budget'] = 3\n",
    "test.loc[test['id'] == 5102,'budget'] = 28\n",
    "test.loc[test['id'] == 5217,'budget'] = 75\n",
    "test.loc[test['id'] == 5224,'budget'] = 3 \n",
    "test.loc[test['id'] == 5469,'budget'] = 20 \n",
    "test.loc[test['id'] == 5840,'budget'] = 1 \n",
    "test.loc[test['id'] == 5960,'budget'] = 30\n",
    "test.loc[test['id'] == 6506,'budget'] = 11 \n",
    "test.loc[test['id'] == 6553,'budget'] = 280\n",
    "test.loc[test['id'] == 6561,'budget'] = 7\n",
    "test.loc[test['id'] == 6582,'budget'] = 218\n",
    "test.loc[test['id'] == 6638,'budget'] = 5\n",
    "test.loc[test['id'] == 6749,'budget'] = 8 \n",
    "test.loc[test['id'] == 6759,'budget'] = 50 \n",
    "test.loc[test['id'] == 6856,'budget'] = 10\n",
    "test.loc[test['id'] == 6858,'budget'] =  100\n",
    "test.loc[test['id'] == 6876,'budget'] =  250\n",
    "test.loc[test['id'] == 6972,'budget'] = 1\n",
    "test.loc[test['id'] == 7079,'budget'] = 8000000\n",
    "test.loc[test['id'] == 7150,'budget'] = 118\n",
    "test.loc[test['id'] == 6506,'budget'] = 118\n",
    "test.loc[test['id'] == 7225,'budget'] = 6\n",
    "test.loc[test['id'] == 7231,'budget'] = 85\n",
    "test.loc[test['id'] == 5222,'budget'] = 5\n",
    "test.loc[test['id'] == 5322,'budget'] = 90\n",
    "test.loc[test['id'] == 5350,'budget'] = 70\n",
    "test.loc[test['id'] == 5378,'budget'] = 10\n",
    "test.loc[test['id'] == 5545,'budget'] = 80\n",
    "test.loc[test['id'] == 5810,'budget'] = 8\n",
    "test.loc[test['id'] == 5926,'budget'] = 300\n",
    "test.loc[test['id'] == 5927,'budget'] = 4\n",
    "test.loc[test['id'] == 5986,'budget'] = 1\n",
    "test.loc[test['id'] == 6053,'budget'] = 20\n",
    "test.loc[test['id'] == 6104,'budget'] = 1\n",
    "test.loc[test['id'] == 6130,'budget'] = 30\n",
    "test.loc[test['id'] == 6301,'budget'] = 150\n",
    "test.loc[test['id'] == 6276,'budget'] = 100\n",
    "test.loc[test['id'] == 6473,'budget'] = 100\n",
    "test.loc[test['id'] == 6842,'budget'] = 30\n",
    "\n",
    "\n",
    "test['revenue'] = np.nan\n",
    "\n",
    "# features from https://www.kaggle.com/kamalchhirang/eda-simple-feature-engineering-external-data\n",
    "train = pd.merge(train, pd.read_csv('../data/tmdb/TrainAdditionalFeatures.csv'), how='left', on=['imdb_id'])\n",
    "test = pd.merge(test, pd.read_csv('../data/tmdb/TestAdditionalFeatures.csv'), how='left', on=['imdb_id'])\n",
    "\n",
    "additionalTrainData = pd.read_csv('../data/tmdb/additionalTrainData.csv')\n",
    "additionalTrainData['release_date'] = additionalTrainData['release_date'].astype('str')\n",
    "additionalTrainData['release_date'] = additionalTrainData['release_date'].str.replace('-', '/')\n",
    "train = pd.concat([train, additionalTrainData])\n",
    "\n",
    "#train = pd.merge(train, additionalTrainData, how='left', on=['imdb_id'],axis=1)\n",
    "print(train.columns)\n",
    "print(train.shape)\n",
    "train['revenue'] = np.log1p(train['revenue'])\n",
    "y = train['revenue'].values\n",
    "\n",
    "json_cols = ['genres', 'production_companies', 'production_countries', 'spoken_languages', 'Keywords', 'cast', 'crew']\n",
    "\n",
    "def get_dictionary(s):\n",
    "    try:\n",
    "        d = eval(s)\n",
    "    except:\n",
    "        d = {}\n",
    "    return d\n",
    "\n",
    "for col in tqdm(json_cols + ['belongs_to_collection']) :\n",
    "    train[col] = train[col].apply(lambda x : get_dictionary(x))\n",
    "    test[col] = test[col].apply(lambda x : get_dictionary(x))\n",
    "    \n",
    "def get_json_dict(df) :\n",
    "    global json_cols\n",
    "    result = dict()\n",
    "    for e_col in json_cols :\n",
    "        d = dict()\n",
    "        rows = df[e_col].values\n",
    "        for row in rows :\n",
    "            if row is None : continue\n",
    "            for i in row :\n",
    "                if i['name'] not in d :\n",
    "                    d[i['name']] = 0\n",
    "                d[i['name']] += 1\n",
    "        result[e_col] = d\n",
    "    return result\n",
    "\n",
    "train_dict = get_json_dict(train)\n",
    "test_dict = get_json_dict(test)\n",
    "\n",
    "# remove cateogry with bias and low frequency\n",
    "for col in json_cols :\n",
    "    \n",
    "    remove = []\n",
    "    train_id = set(list(train_dict[col].keys()))\n",
    "    test_id = set(list(test_dict[col].keys()))   \n",
    "    \n",
    "    remove += list(train_id - test_id) + list(test_id - train_id)\n",
    "    for i in train_id.union(test_id) - set(remove) :\n",
    "        if train_dict[col][i] < 10 or i == '' :\n",
    "            remove += [i]\n",
    "            \n",
    "    for i in remove :\n",
    "        if i in train_dict[col] :\n",
    "            del train_dict[col][i]\n",
    "        if i in test_dict[col] :\n",
    "            del test_dict[col][i]\n",
    "            \n",
    "all_data = prepare(pd.concat([train, test]).reset_index(drop = True))\n",
    "train = all_data.loc[:train.shape[0] - 1,:]\n",
    "test = all_data.loc[train.shape[0]:,:]"
   ]
  },
  {
   "cell_type": "code",
   "execution_count": 116,
   "metadata": {},
   "outputs": [
    {
     "data": {
      "text/html": [
       "<div>\n",
       "<style scoped>\n",
       "    .dataframe tbody tr th:only-of-type {\n",
       "        vertical-align: middle;\n",
       "    }\n",
       "\n",
       "    .dataframe tbody tr th {\n",
       "        vertical-align: top;\n",
       "    }\n",
       "\n",
       "    .dataframe thead th {\n",
       "        text-align: right;\n",
       "    }\n",
       "</style>\n",
       "<table border=\"1\" class=\"dataframe\">\n",
       "  <thead>\n",
       "    <tr style=\"text-align: right;\">\n",
       "      <th></th>\n",
       "      <th>budget</th>\n",
       "      <th>popularity</th>\n",
       "      <th>popularity2</th>\n",
       "      <th>rating</th>\n",
       "      <th>totalVotes</th>\n",
       "      <th>release_month</th>\n",
       "      <th>release_day</th>\n",
       "      <th>release_year</th>\n",
       "      <th>release_dayofweek</th>\n",
       "      <th>release_quarter</th>\n",
       "      <th>...</th>\n",
       "      <th>UK Film Council</th>\n",
       "      <th>United Artists</th>\n",
       "      <th>Universal Pictures</th>\n",
       "      <th>Village Roadshow Pictures</th>\n",
       "      <th>Walt Disney Pictures</th>\n",
       "      <th>Warner Bros.</th>\n",
       "      <th>Wild Bunch</th>\n",
       "      <th>Wildwood Enterprises</th>\n",
       "      <th>Working Title Films</th>\n",
       "      <th>production_companies_etc</th>\n",
       "    </tr>\n",
       "  </thead>\n",
       "  <tbody>\n",
       "    <tr>\n",
       "      <th>0</th>\n",
       "      <td>16.454568</td>\n",
       "      <td>6.575393</td>\n",
       "      <td>10.400</td>\n",
       "      <td>5.0</td>\n",
       "      <td>482.0</td>\n",
       "      <td>2</td>\n",
       "      <td>20</td>\n",
       "      <td>2015</td>\n",
       "      <td>4.0</td>\n",
       "      <td>1.0</td>\n",
       "      <td>...</td>\n",
       "      <td>0</td>\n",
       "      <td>1</td>\n",
       "      <td>0</td>\n",
       "      <td>0</td>\n",
       "      <td>0</td>\n",
       "      <td>0</td>\n",
       "      <td>0</td>\n",
       "      <td>0</td>\n",
       "      <td>0</td>\n",
       "      <td>0</td>\n",
       "    </tr>\n",
       "    <tr>\n",
       "      <th>1</th>\n",
       "      <td>17.504390</td>\n",
       "      <td>8.248895</td>\n",
       "      <td>15.229</td>\n",
       "      <td>6.4</td>\n",
       "      <td>1528.0</td>\n",
       "      <td>8</td>\n",
       "      <td>6</td>\n",
       "      <td>2004</td>\n",
       "      <td>4.0</td>\n",
       "      <td>3.0</td>\n",
       "      <td>...</td>\n",
       "      <td>0</td>\n",
       "      <td>0</td>\n",
       "      <td>0</td>\n",
       "      <td>0</td>\n",
       "      <td>1</td>\n",
       "      <td>0</td>\n",
       "      <td>0</td>\n",
       "      <td>0</td>\n",
       "      <td>0</td>\n",
       "      <td>0</td>\n",
       "    </tr>\n",
       "    <tr>\n",
       "      <th>2</th>\n",
       "      <td>15.009433</td>\n",
       "      <td>64.299990</td>\n",
       "      <td>26.082</td>\n",
       "      <td>8.4</td>\n",
       "      <td>7314.0</td>\n",
       "      <td>10</td>\n",
       "      <td>10</td>\n",
       "      <td>2014</td>\n",
       "      <td>4.0</td>\n",
       "      <td>4.0</td>\n",
       "      <td>...</td>\n",
       "      <td>0</td>\n",
       "      <td>0</td>\n",
       "      <td>0</td>\n",
       "      <td>0</td>\n",
       "      <td>0</td>\n",
       "      <td>0</td>\n",
       "      <td>0</td>\n",
       "      <td>0</td>\n",
       "      <td>0</td>\n",
       "      <td>1</td>\n",
       "    </tr>\n",
       "    <tr>\n",
       "      <th>3</th>\n",
       "      <td>13.997833</td>\n",
       "      <td>3.174936</td>\n",
       "      <td>5.531</td>\n",
       "      <td>7.5</td>\n",
       "      <td>115.0</td>\n",
       "      <td>3</td>\n",
       "      <td>9</td>\n",
       "      <td>2012</td>\n",
       "      <td>4.0</td>\n",
       "      <td>1.0</td>\n",
       "      <td>...</td>\n",
       "      <td>0</td>\n",
       "      <td>0</td>\n",
       "      <td>0</td>\n",
       "      <td>0</td>\n",
       "      <td>0</td>\n",
       "      <td>0</td>\n",
       "      <td>0</td>\n",
       "      <td>0</td>\n",
       "      <td>0</td>\n",
       "      <td>0</td>\n",
       "    </tr>\n",
       "    <tr>\n",
       "      <th>4</th>\n",
       "      <td>0.000000</td>\n",
       "      <td>1.148070</td>\n",
       "      <td>0.000</td>\n",
       "      <td>0.0</td>\n",
       "      <td>0.0</td>\n",
       "      <td>2</td>\n",
       "      <td>5</td>\n",
       "      <td>2009</td>\n",
       "      <td>3.0</td>\n",
       "      <td>1.0</td>\n",
       "      <td>...</td>\n",
       "      <td>0</td>\n",
       "      <td>0</td>\n",
       "      <td>0</td>\n",
       "      <td>0</td>\n",
       "      <td>0</td>\n",
       "      <td>0</td>\n",
       "      <td>0</td>\n",
       "      <td>0</td>\n",
       "      <td>0</td>\n",
       "      <td>0</td>\n",
       "    </tr>\n",
       "  </tbody>\n",
       "</table>\n",
       "<p>5 rows × 204 columns</p>\n",
       "</div>"
      ],
      "text/plain": [
       "      budget  popularity  popularity2  rating  totalVotes  release_month  \\\n",
       "0  16.454568    6.575393       10.400     5.0       482.0              2   \n",
       "1  17.504390    8.248895       15.229     6.4      1528.0              8   \n",
       "2  15.009433   64.299990       26.082     8.4      7314.0             10   \n",
       "3  13.997833    3.174936        5.531     7.5       115.0              3   \n",
       "4   0.000000    1.148070        0.000     0.0         0.0              2   \n",
       "\n",
       "   release_day  release_year  release_dayofweek  release_quarter  ...  \\\n",
       "0           20          2015                4.0              1.0  ...   \n",
       "1            6          2004                4.0              3.0  ...   \n",
       "2           10          2014                4.0              4.0  ...   \n",
       "3            9          2012                4.0              1.0  ...   \n",
       "4            5          2009                3.0              1.0  ...   \n",
       "\n",
       "   UK Film Council  United Artists  Universal Pictures  \\\n",
       "0                0               1                   0   \n",
       "1                0               0                   0   \n",
       "2                0               0                   0   \n",
       "3                0               0                   0   \n",
       "4                0               0                   0   \n",
       "\n",
       "   Village Roadshow Pictures  Walt Disney Pictures  Warner Bros.  Wild Bunch  \\\n",
       "0                          0                     0             0           0   \n",
       "1                          0                     1             0           0   \n",
       "2                          0                     0             0           0   \n",
       "3                          0                     0             0           0   \n",
       "4                          0                     0             0           0   \n",
       "\n",
       "   Wildwood Enterprises  Working Title Films  production_companies_etc  \n",
       "0                     0                    0                         0  \n",
       "1                     0                    0                         0  \n",
       "2                     0                    0                         1  \n",
       "3                     0                    0                         0  \n",
       "4                     0                    0                         0  \n",
       "\n",
       "[5 rows x 204 columns]"
      ]
     },
     "execution_count": 116,
     "metadata": {},
     "output_type": "execute_result"
    }
   ],
   "source": [
    "train = all_data.loc[:train.shape[0] - 1,:]\n",
    "train[:5]"
   ]
  },
  {
   "cell_type": "code",
   "execution_count": 117,
   "metadata": {},
   "outputs": [
    {
     "data": {
      "text/html": [
       "<div>\n",
       "<style scoped>\n",
       "    .dataframe tbody tr th:only-of-type {\n",
       "        vertical-align: middle;\n",
       "    }\n",
       "\n",
       "    .dataframe tbody tr th {\n",
       "        vertical-align: top;\n",
       "    }\n",
       "\n",
       "    .dataframe thead th {\n",
       "        text-align: right;\n",
       "    }\n",
       "</style>\n",
       "<table border=\"1\" class=\"dataframe\">\n",
       "  <thead>\n",
       "    <tr style=\"text-align: right;\">\n",
       "      <th></th>\n",
       "      <th>budget</th>\n",
       "      <th>popularity</th>\n",
       "      <th>popularity2</th>\n",
       "      <th>rating</th>\n",
       "      <th>totalVotes</th>\n",
       "      <th>release_month</th>\n",
       "      <th>release_day</th>\n",
       "      <th>release_year</th>\n",
       "      <th>release_dayofweek</th>\n",
       "      <th>release_quarter</th>\n",
       "      <th>...</th>\n",
       "      <th>UK Film Council</th>\n",
       "      <th>United Artists</th>\n",
       "      <th>Universal Pictures</th>\n",
       "      <th>Village Roadshow Pictures</th>\n",
       "      <th>Walt Disney Pictures</th>\n",
       "      <th>Warner Bros.</th>\n",
       "      <th>Wild Bunch</th>\n",
       "      <th>Wildwood Enterprises</th>\n",
       "      <th>Working Title Films</th>\n",
       "      <th>production_companies_etc</th>\n",
       "    </tr>\n",
       "  </thead>\n",
       "  <tbody>\n",
       "    <tr>\n",
       "      <th>5001</th>\n",
       "      <td>0.000000</td>\n",
       "      <td>3.851534</td>\n",
       "      <td>6.468</td>\n",
       "      <td>6.6</td>\n",
       "      <td>91.0</td>\n",
       "      <td>7</td>\n",
       "      <td>14</td>\n",
       "      <td>2007</td>\n",
       "      <td>5.0</td>\n",
       "      <td>3.0</td>\n",
       "      <td>...</td>\n",
       "      <td>0</td>\n",
       "      <td>0</td>\n",
       "      <td>0</td>\n",
       "      <td>0</td>\n",
       "      <td>0</td>\n",
       "      <td>0</td>\n",
       "      <td>0</td>\n",
       "      <td>0</td>\n",
       "      <td>0</td>\n",
       "      <td>0</td>\n",
       "    </tr>\n",
       "    <tr>\n",
       "      <th>5002</th>\n",
       "      <td>11.385103</td>\n",
       "      <td>3.559789</td>\n",
       "      <td>3.649</td>\n",
       "      <td>4.5</td>\n",
       "      <td>51.0</td>\n",
       "      <td>5</td>\n",
       "      <td>19</td>\n",
       "      <td>1958</td>\n",
       "      <td>6.0</td>\n",
       "      <td>2.0</td>\n",
       "      <td>...</td>\n",
       "      <td>0</td>\n",
       "      <td>0</td>\n",
       "      <td>0</td>\n",
       "      <td>0</td>\n",
       "      <td>0</td>\n",
       "      <td>0</td>\n",
       "      <td>0</td>\n",
       "      <td>0</td>\n",
       "      <td>0</td>\n",
       "      <td>1</td>\n",
       "    </tr>\n",
       "    <tr>\n",
       "      <th>5003</th>\n",
       "      <td>0.000000</td>\n",
       "      <td>8.085194</td>\n",
       "      <td>9.012</td>\n",
       "      <td>6.1</td>\n",
       "      <td>176.0</td>\n",
       "      <td>5</td>\n",
       "      <td>23</td>\n",
       "      <td>1997</td>\n",
       "      <td>4.0</td>\n",
       "      <td>2.0</td>\n",
       "      <td>...</td>\n",
       "      <td>0</td>\n",
       "      <td>0</td>\n",
       "      <td>0</td>\n",
       "      <td>0</td>\n",
       "      <td>0</td>\n",
       "      <td>1</td>\n",
       "      <td>0</td>\n",
       "      <td>0</td>\n",
       "      <td>0</td>\n",
       "      <td>1</td>\n",
       "    </tr>\n",
       "    <tr>\n",
       "      <th>5004</th>\n",
       "      <td>15.732433</td>\n",
       "      <td>8.596012</td>\n",
       "      <td>10.923</td>\n",
       "      <td>8.0</td>\n",
       "      <td>937.0</td>\n",
       "      <td>9</td>\n",
       "      <td>4</td>\n",
       "      <td>2010</td>\n",
       "      <td>5.0</td>\n",
       "      <td>3.0</td>\n",
       "      <td>...</td>\n",
       "      <td>0</td>\n",
       "      <td>0</td>\n",
       "      <td>0</td>\n",
       "      <td>0</td>\n",
       "      <td>0</td>\n",
       "      <td>0</td>\n",
       "      <td>0</td>\n",
       "      <td>0</td>\n",
       "      <td>0</td>\n",
       "      <td>1</td>\n",
       "    </tr>\n",
       "    <tr>\n",
       "      <th>5005</th>\n",
       "      <td>14.508658</td>\n",
       "      <td>3.217680</td>\n",
       "      <td>5.692</td>\n",
       "      <td>6.8</td>\n",
       "      <td>50.0</td>\n",
       "      <td>2</td>\n",
       "      <td>11</td>\n",
       "      <td>2005</td>\n",
       "      <td>4.0</td>\n",
       "      <td>1.0</td>\n",
       "      <td>...</td>\n",
       "      <td>0</td>\n",
       "      <td>0</td>\n",
       "      <td>0</td>\n",
       "      <td>0</td>\n",
       "      <td>0</td>\n",
       "      <td>0</td>\n",
       "      <td>0</td>\n",
       "      <td>0</td>\n",
       "      <td>0</td>\n",
       "      <td>0</td>\n",
       "    </tr>\n",
       "  </tbody>\n",
       "</table>\n",
       "<p>5 rows × 204 columns</p>\n",
       "</div>"
      ],
      "text/plain": [
       "         budget  popularity  popularity2  rating  totalVotes  release_month  \\\n",
       "5001   0.000000    3.851534        6.468     6.6        91.0              7   \n",
       "5002  11.385103    3.559789        3.649     4.5        51.0              5   \n",
       "5003   0.000000    8.085194        9.012     6.1       176.0              5   \n",
       "5004  15.732433    8.596012       10.923     8.0       937.0              9   \n",
       "5005  14.508658    3.217680        5.692     6.8        50.0              2   \n",
       "\n",
       "      release_day  release_year  release_dayofweek  release_quarter  ...  \\\n",
       "5001           14          2007                5.0              3.0  ...   \n",
       "5002           19          1958                6.0              2.0  ...   \n",
       "5003           23          1997                4.0              2.0  ...   \n",
       "5004            4          2010                5.0              3.0  ...   \n",
       "5005           11          2005                4.0              1.0  ...   \n",
       "\n",
       "      UK Film Council  United Artists  Universal Pictures  \\\n",
       "5001                0               0                   0   \n",
       "5002                0               0                   0   \n",
       "5003                0               0                   0   \n",
       "5004                0               0                   0   \n",
       "5005                0               0                   0   \n",
       "\n",
       "      Village Roadshow Pictures  Walt Disney Pictures  Warner Bros.  \\\n",
       "5001                          0                     0             0   \n",
       "5002                          0                     0             0   \n",
       "5003                          0                     0             1   \n",
       "5004                          0                     0             0   \n",
       "5005                          0                     0             0   \n",
       "\n",
       "      Wild Bunch  Wildwood Enterprises  Working Title Films  \\\n",
       "5001           0                     0                    0   \n",
       "5002           0                     0                    0   \n",
       "5003           0                     0                    0   \n",
       "5004           0                     0                    0   \n",
       "5005           0                     0                    0   \n",
       "\n",
       "      production_companies_etc  \n",
       "5001                         0  \n",
       "5002                         1  \n",
       "5003                         1  \n",
       "5004                         1  \n",
       "5005                         0  \n",
       "\n",
       "[5 rows x 204 columns]"
      ]
     },
     "execution_count": 117,
     "metadata": {},
     "output_type": "execute_result"
    }
   ],
   "source": [
    "test = all_data.loc[train.shape[0]:,:]\n",
    "test[:5]"
   ]
  },
  {
   "cell_type": "code",
   "execution_count": 118,
   "metadata": {},
   "outputs": [],
   "source": [
    "train.to_csv('../data/tmdb/train_all.csv')"
   ]
  },
  {
   "cell_type": "code",
   "execution_count": 119,
   "metadata": {},
   "outputs": [],
   "source": [
    "test.to_csv('../data/tmdb/test_all.csv')"
   ]
  },
  {
   "cell_type": "markdown",
   "metadata": {},
   "source": [
    "# Exploring Prepared Data"
   ]
  },
  {
   "cell_type": "code",
   "execution_count": 120,
   "metadata": {},
   "outputs": [],
   "source": [
    "all_data.to_csv('../data/tmdb/all_data.csv')"
   ]
  },
  {
   "cell_type": "code",
   "execution_count": 121,
   "metadata": {},
   "outputs": [
    {
     "data": {
      "text/html": [
       "<div>\n",
       "<style scoped>\n",
       "    .dataframe tbody tr th:only-of-type {\n",
       "        vertical-align: middle;\n",
       "    }\n",
       "\n",
       "    .dataframe tbody tr th {\n",
       "        vertical-align: top;\n",
       "    }\n",
       "\n",
       "    .dataframe thead th {\n",
       "        text-align: right;\n",
       "    }\n",
       "</style>\n",
       "<table border=\"1\" class=\"dataframe\">\n",
       "  <thead>\n",
       "    <tr style=\"text-align: right;\">\n",
       "      <th></th>\n",
       "      <th>budget</th>\n",
       "      <th>popularity</th>\n",
       "      <th>popularity2</th>\n",
       "      <th>rating</th>\n",
       "      <th>totalVotes</th>\n",
       "      <th>release_month</th>\n",
       "      <th>release_day</th>\n",
       "      <th>release_year</th>\n",
       "      <th>release_dayofweek</th>\n",
       "      <th>release_quarter</th>\n",
       "      <th>...</th>\n",
       "      <th>UK Film Council</th>\n",
       "      <th>United Artists</th>\n",
       "      <th>Universal Pictures</th>\n",
       "      <th>Village Roadshow Pictures</th>\n",
       "      <th>Walt Disney Pictures</th>\n",
       "      <th>Warner Bros.</th>\n",
       "      <th>Wild Bunch</th>\n",
       "      <th>Wildwood Enterprises</th>\n",
       "      <th>Working Title Films</th>\n",
       "      <th>production_companies_etc</th>\n",
       "    </tr>\n",
       "  </thead>\n",
       "  <tbody>\n",
       "    <tr>\n",
       "      <th>0</th>\n",
       "      <td>16.454568</td>\n",
       "      <td>6.575393</td>\n",
       "      <td>10.400</td>\n",
       "      <td>5.0</td>\n",
       "      <td>482.0</td>\n",
       "      <td>2</td>\n",
       "      <td>20</td>\n",
       "      <td>2015</td>\n",
       "      <td>4.0</td>\n",
       "      <td>1.0</td>\n",
       "      <td>...</td>\n",
       "      <td>0</td>\n",
       "      <td>1</td>\n",
       "      <td>0</td>\n",
       "      <td>0</td>\n",
       "      <td>0</td>\n",
       "      <td>0</td>\n",
       "      <td>0</td>\n",
       "      <td>0</td>\n",
       "      <td>0</td>\n",
       "      <td>0</td>\n",
       "    </tr>\n",
       "    <tr>\n",
       "      <th>1</th>\n",
       "      <td>17.504390</td>\n",
       "      <td>8.248895</td>\n",
       "      <td>15.229</td>\n",
       "      <td>6.4</td>\n",
       "      <td>1528.0</td>\n",
       "      <td>8</td>\n",
       "      <td>6</td>\n",
       "      <td>2004</td>\n",
       "      <td>4.0</td>\n",
       "      <td>3.0</td>\n",
       "      <td>...</td>\n",
       "      <td>0</td>\n",
       "      <td>0</td>\n",
       "      <td>0</td>\n",
       "      <td>0</td>\n",
       "      <td>1</td>\n",
       "      <td>0</td>\n",
       "      <td>0</td>\n",
       "      <td>0</td>\n",
       "      <td>0</td>\n",
       "      <td>0</td>\n",
       "    </tr>\n",
       "    <tr>\n",
       "      <th>2</th>\n",
       "      <td>15.009433</td>\n",
       "      <td>64.299990</td>\n",
       "      <td>26.082</td>\n",
       "      <td>8.4</td>\n",
       "      <td>7314.0</td>\n",
       "      <td>10</td>\n",
       "      <td>10</td>\n",
       "      <td>2014</td>\n",
       "      <td>4.0</td>\n",
       "      <td>4.0</td>\n",
       "      <td>...</td>\n",
       "      <td>0</td>\n",
       "      <td>0</td>\n",
       "      <td>0</td>\n",
       "      <td>0</td>\n",
       "      <td>0</td>\n",
       "      <td>0</td>\n",
       "      <td>0</td>\n",
       "      <td>0</td>\n",
       "      <td>0</td>\n",
       "      <td>1</td>\n",
       "    </tr>\n",
       "    <tr>\n",
       "      <th>3</th>\n",
       "      <td>13.997833</td>\n",
       "      <td>3.174936</td>\n",
       "      <td>5.531</td>\n",
       "      <td>7.5</td>\n",
       "      <td>115.0</td>\n",
       "      <td>3</td>\n",
       "      <td>9</td>\n",
       "      <td>2012</td>\n",
       "      <td>4.0</td>\n",
       "      <td>1.0</td>\n",
       "      <td>...</td>\n",
       "      <td>0</td>\n",
       "      <td>0</td>\n",
       "      <td>0</td>\n",
       "      <td>0</td>\n",
       "      <td>0</td>\n",
       "      <td>0</td>\n",
       "      <td>0</td>\n",
       "      <td>0</td>\n",
       "      <td>0</td>\n",
       "      <td>0</td>\n",
       "    </tr>\n",
       "    <tr>\n",
       "      <th>4</th>\n",
       "      <td>0.000000</td>\n",
       "      <td>1.148070</td>\n",
       "      <td>0.000</td>\n",
       "      <td>0.0</td>\n",
       "      <td>0.0</td>\n",
       "      <td>2</td>\n",
       "      <td>5</td>\n",
       "      <td>2009</td>\n",
       "      <td>3.0</td>\n",
       "      <td>1.0</td>\n",
       "      <td>...</td>\n",
       "      <td>0</td>\n",
       "      <td>0</td>\n",
       "      <td>0</td>\n",
       "      <td>0</td>\n",
       "      <td>0</td>\n",
       "      <td>0</td>\n",
       "      <td>0</td>\n",
       "      <td>0</td>\n",
       "      <td>0</td>\n",
       "      <td>0</td>\n",
       "    </tr>\n",
       "  </tbody>\n",
       "</table>\n",
       "<p>5 rows × 204 columns</p>\n",
       "</div>"
      ],
      "text/plain": [
       "      budget  popularity  popularity2  rating  totalVotes  release_month  \\\n",
       "0  16.454568    6.575393       10.400     5.0       482.0              2   \n",
       "1  17.504390    8.248895       15.229     6.4      1528.0              8   \n",
       "2  15.009433   64.299990       26.082     8.4      7314.0             10   \n",
       "3  13.997833    3.174936        5.531     7.5       115.0              3   \n",
       "4   0.000000    1.148070        0.000     0.0         0.0              2   \n",
       "\n",
       "   release_day  release_year  release_dayofweek  release_quarter  ...  \\\n",
       "0           20          2015                4.0              1.0  ...   \n",
       "1            6          2004                4.0              3.0  ...   \n",
       "2           10          2014                4.0              4.0  ...   \n",
       "3            9          2012                4.0              1.0  ...   \n",
       "4            5          2009                3.0              1.0  ...   \n",
       "\n",
       "   UK Film Council  United Artists  Universal Pictures  \\\n",
       "0                0               1                   0   \n",
       "1                0               0                   0   \n",
       "2                0               0                   0   \n",
       "3                0               0                   0   \n",
       "4                0               0                   0   \n",
       "\n",
       "   Village Roadshow Pictures  Walt Disney Pictures  Warner Bros.  Wild Bunch  \\\n",
       "0                          0                     0             0           0   \n",
       "1                          0                     1             0           0   \n",
       "2                          0                     0             0           0   \n",
       "3                          0                     0             0           0   \n",
       "4                          0                     0             0           0   \n",
       "\n",
       "   Wildwood Enterprises  Working Title Films  production_companies_etc  \n",
       "0                     0                    0                         0  \n",
       "1                     0                    0                         0  \n",
       "2                     0                    0                         1  \n",
       "3                     0                    0                         0  \n",
       "4                     0                    0                         0  \n",
       "\n",
       "[5 rows x 204 columns]"
      ]
     },
     "execution_count": 121,
     "metadata": {},
     "output_type": "execute_result"
    }
   ],
   "source": [
    "all_data[:5]"
   ]
  },
  {
   "cell_type": "code",
   "execution_count": 122,
   "metadata": {},
   "outputs": [
    {
     "data": {
      "text/plain": [
       "(9399, 204)"
      ]
     },
     "execution_count": 122,
     "metadata": {},
     "output_type": "execute_result"
    }
   ],
   "source": [
    "all_data.shape"
   ]
  },
  {
   "cell_type": "code",
   "execution_count": 123,
   "metadata": {},
   "outputs": [
    {
     "name": "stdout",
     "output_type": "stream",
     "text": [
      "<class 'pandas.core.frame.DataFrame'>\n",
      "RangeIndex: 9399 entries, 0 to 9398\n",
      "Columns: 204 entries, budget to production_companies_etc\n",
      "dtypes: float64(31), int64(173)\n",
      "memory usage: 14.6 MB\n"
     ]
    }
   ],
   "source": [
    "all_data.info()"
   ]
  },
  {
   "cell_type": "code",
   "execution_count": 124,
   "metadata": {},
   "outputs": [
    {
     "data": {
      "text/html": [
       "<div>\n",
       "<style scoped>\n",
       "    .dataframe tbody tr th:only-of-type {\n",
       "        vertical-align: middle;\n",
       "    }\n",
       "\n",
       "    .dataframe tbody tr th {\n",
       "        vertical-align: top;\n",
       "    }\n",
       "\n",
       "    .dataframe thead th {\n",
       "        text-align: right;\n",
       "    }\n",
       "</style>\n",
       "<table border=\"1\" class=\"dataframe\">\n",
       "  <thead>\n",
       "    <tr style=\"text-align: right;\">\n",
       "      <th></th>\n",
       "      <th>budget</th>\n",
       "      <th>popularity</th>\n",
       "      <th>popularity2</th>\n",
       "      <th>rating</th>\n",
       "      <th>totalVotes</th>\n",
       "      <th>release_month</th>\n",
       "      <th>release_day</th>\n",
       "      <th>release_year</th>\n",
       "      <th>release_dayofweek</th>\n",
       "      <th>release_quarter</th>\n",
       "      <th>...</th>\n",
       "      <th>UK Film Council</th>\n",
       "      <th>United Artists</th>\n",
       "      <th>Universal Pictures</th>\n",
       "      <th>Village Roadshow Pictures</th>\n",
       "      <th>Walt Disney Pictures</th>\n",
       "      <th>Warner Bros.</th>\n",
       "      <th>Wild Bunch</th>\n",
       "      <th>Wildwood Enterprises</th>\n",
       "      <th>Working Title Films</th>\n",
       "      <th>production_companies_etc</th>\n",
       "    </tr>\n",
       "  </thead>\n",
       "  <tbody>\n",
       "    <tr>\n",
       "      <th>0</th>\n",
       "      <td>16.454568</td>\n",
       "      <td>6.575393</td>\n",
       "      <td>10.400</td>\n",
       "      <td>5.0</td>\n",
       "      <td>482.0</td>\n",
       "      <td>2</td>\n",
       "      <td>20</td>\n",
       "      <td>2015</td>\n",
       "      <td>4.0</td>\n",
       "      <td>1.0</td>\n",
       "      <td>...</td>\n",
       "      <td>0</td>\n",
       "      <td>1</td>\n",
       "      <td>0</td>\n",
       "      <td>0</td>\n",
       "      <td>0</td>\n",
       "      <td>0</td>\n",
       "      <td>0</td>\n",
       "      <td>0</td>\n",
       "      <td>0</td>\n",
       "      <td>0</td>\n",
       "    </tr>\n",
       "    <tr>\n",
       "      <th>1</th>\n",
       "      <td>17.504390</td>\n",
       "      <td>8.248895</td>\n",
       "      <td>15.229</td>\n",
       "      <td>6.4</td>\n",
       "      <td>1528.0</td>\n",
       "      <td>8</td>\n",
       "      <td>6</td>\n",
       "      <td>2004</td>\n",
       "      <td>4.0</td>\n",
       "      <td>3.0</td>\n",
       "      <td>...</td>\n",
       "      <td>0</td>\n",
       "      <td>0</td>\n",
       "      <td>0</td>\n",
       "      <td>0</td>\n",
       "      <td>1</td>\n",
       "      <td>0</td>\n",
       "      <td>0</td>\n",
       "      <td>0</td>\n",
       "      <td>0</td>\n",
       "      <td>0</td>\n",
       "    </tr>\n",
       "    <tr>\n",
       "      <th>2</th>\n",
       "      <td>15.009433</td>\n",
       "      <td>64.299990</td>\n",
       "      <td>26.082</td>\n",
       "      <td>8.4</td>\n",
       "      <td>7314.0</td>\n",
       "      <td>10</td>\n",
       "      <td>10</td>\n",
       "      <td>2014</td>\n",
       "      <td>4.0</td>\n",
       "      <td>4.0</td>\n",
       "      <td>...</td>\n",
       "      <td>0</td>\n",
       "      <td>0</td>\n",
       "      <td>0</td>\n",
       "      <td>0</td>\n",
       "      <td>0</td>\n",
       "      <td>0</td>\n",
       "      <td>0</td>\n",
       "      <td>0</td>\n",
       "      <td>0</td>\n",
       "      <td>1</td>\n",
       "    </tr>\n",
       "    <tr>\n",
       "      <th>3</th>\n",
       "      <td>13.997833</td>\n",
       "      <td>3.174936</td>\n",
       "      <td>5.531</td>\n",
       "      <td>7.5</td>\n",
       "      <td>115.0</td>\n",
       "      <td>3</td>\n",
       "      <td>9</td>\n",
       "      <td>2012</td>\n",
       "      <td>4.0</td>\n",
       "      <td>1.0</td>\n",
       "      <td>...</td>\n",
       "      <td>0</td>\n",
       "      <td>0</td>\n",
       "      <td>0</td>\n",
       "      <td>0</td>\n",
       "      <td>0</td>\n",
       "      <td>0</td>\n",
       "      <td>0</td>\n",
       "      <td>0</td>\n",
       "      <td>0</td>\n",
       "      <td>0</td>\n",
       "    </tr>\n",
       "    <tr>\n",
       "      <th>4</th>\n",
       "      <td>0.000000</td>\n",
       "      <td>1.148070</td>\n",
       "      <td>0.000</td>\n",
       "      <td>0.0</td>\n",
       "      <td>0.0</td>\n",
       "      <td>2</td>\n",
       "      <td>5</td>\n",
       "      <td>2009</td>\n",
       "      <td>3.0</td>\n",
       "      <td>1.0</td>\n",
       "      <td>...</td>\n",
       "      <td>0</td>\n",
       "      <td>0</td>\n",
       "      <td>0</td>\n",
       "      <td>0</td>\n",
       "      <td>0</td>\n",
       "      <td>0</td>\n",
       "      <td>0</td>\n",
       "      <td>0</td>\n",
       "      <td>0</td>\n",
       "      <td>0</td>\n",
       "    </tr>\n",
       "  </tbody>\n",
       "</table>\n",
       "<p>5 rows × 204 columns</p>\n",
       "</div>"
      ],
      "text/plain": [
       "      budget  popularity  popularity2  rating  totalVotes  release_month  \\\n",
       "0  16.454568    6.575393       10.400     5.0       482.0              2   \n",
       "1  17.504390    8.248895       15.229     6.4      1528.0              8   \n",
       "2  15.009433   64.299990       26.082     8.4      7314.0             10   \n",
       "3  13.997833    3.174936        5.531     7.5       115.0              3   \n",
       "4   0.000000    1.148070        0.000     0.0         0.0              2   \n",
       "\n",
       "   release_day  release_year  release_dayofweek  release_quarter  ...  \\\n",
       "0           20          2015                4.0              1.0  ...   \n",
       "1            6          2004                4.0              3.0  ...   \n",
       "2           10          2014                4.0              4.0  ...   \n",
       "3            9          2012                4.0              1.0  ...   \n",
       "4            5          2009                3.0              1.0  ...   \n",
       "\n",
       "   UK Film Council  United Artists  Universal Pictures  \\\n",
       "0                0               1                   0   \n",
       "1                0               0                   0   \n",
       "2                0               0                   0   \n",
       "3                0               0                   0   \n",
       "4                0               0                   0   \n",
       "\n",
       "   Village Roadshow Pictures  Walt Disney Pictures  Warner Bros.  Wild Bunch  \\\n",
       "0                          0                     0             0           0   \n",
       "1                          0                     1             0           0   \n",
       "2                          0                     0             0           0   \n",
       "3                          0                     0             0           0   \n",
       "4                          0                     0             0           0   \n",
       "\n",
       "   Wildwood Enterprises  Working Title Films  production_companies_etc  \n",
       "0                     0                    0                         0  \n",
       "1                     0                    0                         0  \n",
       "2                     0                    0                         1  \n",
       "3                     0                    0                         0  \n",
       "4                     0                    0                         0  \n",
       "\n",
       "[5 rows x 204 columns]"
      ]
     },
     "execution_count": 124,
     "metadata": {},
     "output_type": "execute_result"
    }
   ],
   "source": [
    "all_data.head()"
   ]
  },
  {
   "cell_type": "code",
   "execution_count": 125,
   "metadata": {},
   "outputs": [
    {
     "data": {
      "text/html": [
       "<div>\n",
       "<style scoped>\n",
       "    .dataframe tbody tr th:only-of-type {\n",
       "        vertical-align: middle;\n",
       "    }\n",
       "\n",
       "    .dataframe tbody tr th {\n",
       "        vertical-align: top;\n",
       "    }\n",
       "\n",
       "    .dataframe thead th {\n",
       "        text-align: right;\n",
       "    }\n",
       "</style>\n",
       "<table border=\"1\" class=\"dataframe\">\n",
       "  <thead>\n",
       "    <tr style=\"text-align: right;\">\n",
       "      <th></th>\n",
       "      <th>budget</th>\n",
       "      <th>popularity</th>\n",
       "      <th>popularity2</th>\n",
       "      <th>rating</th>\n",
       "      <th>totalVotes</th>\n",
       "      <th>release_month</th>\n",
       "      <th>release_day</th>\n",
       "      <th>release_year</th>\n",
       "      <th>release_dayofweek</th>\n",
       "      <th>release_quarter</th>\n",
       "      <th>...</th>\n",
       "      <th>UK Film Council</th>\n",
       "      <th>United Artists</th>\n",
       "      <th>Universal Pictures</th>\n",
       "      <th>Village Roadshow Pictures</th>\n",
       "      <th>Walt Disney Pictures</th>\n",
       "      <th>Warner Bros.</th>\n",
       "      <th>Wild Bunch</th>\n",
       "      <th>Wildwood Enterprises</th>\n",
       "      <th>Working Title Films</th>\n",
       "      <th>production_companies_etc</th>\n",
       "    </tr>\n",
       "  </thead>\n",
       "  <tbody>\n",
       "    <tr>\n",
       "      <th>count</th>\n",
       "      <td>9399.000000</td>\n",
       "      <td>9399.000000</td>\n",
       "      <td>9399.000000</td>\n",
       "      <td>9399.000000</td>\n",
       "      <td>9399.000000</td>\n",
       "      <td>9399.00000</td>\n",
       "      <td>9399.000000</td>\n",
       "      <td>9399.000000</td>\n",
       "      <td>9399.000000</td>\n",
       "      <td>9399.000000</td>\n",
       "      <td>...</td>\n",
       "      <td>9399.000000</td>\n",
       "      <td>9399.000000</td>\n",
       "      <td>9399.000000</td>\n",
       "      <td>9399.000000</td>\n",
       "      <td>9399.000000</td>\n",
       "      <td>9399.000000</td>\n",
       "      <td>9399.000000</td>\n",
       "      <td>9399.000000</td>\n",
       "      <td>9399.000000</td>\n",
       "      <td>9399.000000</td>\n",
       "    </tr>\n",
       "    <tr>\n",
       "      <th>mean</th>\n",
       "      <td>11.138333</td>\n",
       "      <td>8.035306</td>\n",
       "      <td>6.124663</td>\n",
       "      <td>5.963837</td>\n",
       "      <td>775.345675</td>\n",
       "      <td>8.50133</td>\n",
       "      <td>13.397915</td>\n",
       "      <td>2000.911586</td>\n",
       "      <td>3.199170</td>\n",
       "      <td>2.572189</td>\n",
       "      <td>...</td>\n",
       "      <td>0.003405</td>\n",
       "      <td>0.011171</td>\n",
       "      <td>0.049261</td>\n",
       "      <td>0.009469</td>\n",
       "      <td>0.015640</td>\n",
       "      <td>0.052240</td>\n",
       "      <td>0.003511</td>\n",
       "      <td>0.001383</td>\n",
       "      <td>0.006703</td>\n",
       "      <td>0.625386</td>\n",
       "    </tr>\n",
       "    <tr>\n",
       "      <th>std</th>\n",
       "      <td>7.438015</td>\n",
       "      <td>13.308926</td>\n",
       "      <td>5.584282</td>\n",
       "      <td>1.800770</td>\n",
       "      <td>1665.528294</td>\n",
       "      <td>6.02117</td>\n",
       "      <td>8.568986</td>\n",
       "      <td>15.848793</td>\n",
       "      <td>1.423406</td>\n",
       "      <td>1.106808</td>\n",
       "      <td>...</td>\n",
       "      <td>0.058253</td>\n",
       "      <td>0.105108</td>\n",
       "      <td>0.216423</td>\n",
       "      <td>0.096853</td>\n",
       "      <td>0.124085</td>\n",
       "      <td>0.222522</td>\n",
       "      <td>0.059153</td>\n",
       "      <td>0.037167</td>\n",
       "      <td>0.081600</td>\n",
       "      <td>0.484049</td>\n",
       "    </tr>\n",
       "    <tr>\n",
       "      <th>min</th>\n",
       "      <td>0.000000</td>\n",
       "      <td>0.000001</td>\n",
       "      <td>0.000000</td>\n",
       "      <td>0.000000</td>\n",
       "      <td>0.000000</td>\n",
       "      <td>0.00000</td>\n",
       "      <td>0.000000</td>\n",
       "      <td>1914.000000</td>\n",
       "      <td>0.000000</td>\n",
       "      <td>0.000000</td>\n",
       "      <td>...</td>\n",
       "      <td>0.000000</td>\n",
       "      <td>0.000000</td>\n",
       "      <td>0.000000</td>\n",
       "      <td>0.000000</td>\n",
       "      <td>0.000000</td>\n",
       "      <td>0.000000</td>\n",
       "      <td>0.000000</td>\n",
       "      <td>0.000000</td>\n",
       "      <td>0.000000</td>\n",
       "      <td>0.000000</td>\n",
       "    </tr>\n",
       "    <tr>\n",
       "      <th>25%</th>\n",
       "      <td>0.000000</td>\n",
       "      <td>2.399445</td>\n",
       "      <td>0.724000</td>\n",
       "      <td>5.600000</td>\n",
       "      <td>31.000000</td>\n",
       "      <td>4.00000</td>\n",
       "      <td>6.000000</td>\n",
       "      <td>1994.000000</td>\n",
       "      <td>2.000000</td>\n",
       "      <td>2.000000</td>\n",
       "      <td>...</td>\n",
       "      <td>0.000000</td>\n",
       "      <td>0.000000</td>\n",
       "      <td>0.000000</td>\n",
       "      <td>0.000000</td>\n",
       "      <td>0.000000</td>\n",
       "      <td>0.000000</td>\n",
       "      <td>0.000000</td>\n",
       "      <td>0.000000</td>\n",
       "      <td>0.000000</td>\n",
       "      <td>0.000000</td>\n",
       "    </tr>\n",
       "    <tr>\n",
       "      <th>50%</th>\n",
       "      <td>15.201805</td>\n",
       "      <td>6.518028</td>\n",
       "      <td>6.041000</td>\n",
       "      <td>6.300000</td>\n",
       "      <td>167.000000</td>\n",
       "      <td>8.00000</td>\n",
       "      <td>12.000000</td>\n",
       "      <td>2006.000000</td>\n",
       "      <td>4.000000</td>\n",
       "      <td>3.000000</td>\n",
       "      <td>...</td>\n",
       "      <td>0.000000</td>\n",
       "      <td>0.000000</td>\n",
       "      <td>0.000000</td>\n",
       "      <td>0.000000</td>\n",
       "      <td>0.000000</td>\n",
       "      <td>0.000000</td>\n",
       "      <td>0.000000</td>\n",
       "      <td>0.000000</td>\n",
       "      <td>0.000000</td>\n",
       "      <td>1.000000</td>\n",
       "    </tr>\n",
       "    <tr>\n",
       "      <th>75%</th>\n",
       "      <td>16.951005</td>\n",
       "      <td>10.283406</td>\n",
       "      <td>9.111000</td>\n",
       "      <td>7.000000</td>\n",
       "      <td>698.000000</td>\n",
       "      <td>11.00000</td>\n",
       "      <td>20.000000</td>\n",
       "      <td>2012.000000</td>\n",
       "      <td>4.000000</td>\n",
       "      <td>4.000000</td>\n",
       "      <td>...</td>\n",
       "      <td>0.000000</td>\n",
       "      <td>0.000000</td>\n",
       "      <td>0.000000</td>\n",
       "      <td>0.000000</td>\n",
       "      <td>0.000000</td>\n",
       "      <td>0.000000</td>\n",
       "      <td>0.000000</td>\n",
       "      <td>0.000000</td>\n",
       "      <td>0.000000</td>\n",
       "      <td>1.000000</td>\n",
       "    </tr>\n",
       "    <tr>\n",
       "      <th>max</th>\n",
       "      <td>21.487563</td>\n",
       "      <td>547.488298</td>\n",
       "      <td>47.787000</td>\n",
       "      <td>10.000000</td>\n",
       "      <td>20851.000000</td>\n",
       "      <td>31.00000</td>\n",
       "      <td>31.000000</td>\n",
       "      <td>2018.000000</td>\n",
       "      <td>6.000000</td>\n",
       "      <td>4.000000</td>\n",
       "      <td>...</td>\n",
       "      <td>1.000000</td>\n",
       "      <td>1.000000</td>\n",
       "      <td>1.000000</td>\n",
       "      <td>1.000000</td>\n",
       "      <td>1.000000</td>\n",
       "      <td>1.000000</td>\n",
       "      <td>1.000000</td>\n",
       "      <td>1.000000</td>\n",
       "      <td>1.000000</td>\n",
       "      <td>1.000000</td>\n",
       "    </tr>\n",
       "  </tbody>\n",
       "</table>\n",
       "<p>8 rows × 204 columns</p>\n",
       "</div>"
      ],
      "text/plain": [
       "            budget   popularity  popularity2       rating    totalVotes  \\\n",
       "count  9399.000000  9399.000000  9399.000000  9399.000000   9399.000000   \n",
       "mean     11.138333     8.035306     6.124663     5.963837    775.345675   \n",
       "std       7.438015    13.308926     5.584282     1.800770   1665.528294   \n",
       "min       0.000000     0.000001     0.000000     0.000000      0.000000   \n",
       "25%       0.000000     2.399445     0.724000     5.600000     31.000000   \n",
       "50%      15.201805     6.518028     6.041000     6.300000    167.000000   \n",
       "75%      16.951005    10.283406     9.111000     7.000000    698.000000   \n",
       "max      21.487563   547.488298    47.787000    10.000000  20851.000000   \n",
       "\n",
       "       release_month  release_day  release_year  release_dayofweek  \\\n",
       "count     9399.00000  9399.000000   9399.000000        9399.000000   \n",
       "mean         8.50133    13.397915   2000.911586           3.199170   \n",
       "std          6.02117     8.568986     15.848793           1.423406   \n",
       "min          0.00000     0.000000   1914.000000           0.000000   \n",
       "25%          4.00000     6.000000   1994.000000           2.000000   \n",
       "50%          8.00000    12.000000   2006.000000           4.000000   \n",
       "75%         11.00000    20.000000   2012.000000           4.000000   \n",
       "max         31.00000    31.000000   2018.000000           6.000000   \n",
       "\n",
       "       release_quarter  ...  UK Film Council  United Artists  \\\n",
       "count      9399.000000  ...      9399.000000     9399.000000   \n",
       "mean          2.572189  ...         0.003405        0.011171   \n",
       "std           1.106808  ...         0.058253        0.105108   \n",
       "min           0.000000  ...         0.000000        0.000000   \n",
       "25%           2.000000  ...         0.000000        0.000000   \n",
       "50%           3.000000  ...         0.000000        0.000000   \n",
       "75%           4.000000  ...         0.000000        0.000000   \n",
       "max           4.000000  ...         1.000000        1.000000   \n",
       "\n",
       "       Universal Pictures  Village Roadshow Pictures  Walt Disney Pictures  \\\n",
       "count         9399.000000                9399.000000           9399.000000   \n",
       "mean             0.049261                   0.009469              0.015640   \n",
       "std              0.216423                   0.096853              0.124085   \n",
       "min              0.000000                   0.000000              0.000000   \n",
       "25%              0.000000                   0.000000              0.000000   \n",
       "50%              0.000000                   0.000000              0.000000   \n",
       "75%              0.000000                   0.000000              0.000000   \n",
       "max              1.000000                   1.000000              1.000000   \n",
       "\n",
       "       Warner Bros.   Wild Bunch  Wildwood Enterprises  Working Title Films  \\\n",
       "count   9399.000000  9399.000000           9399.000000          9399.000000   \n",
       "mean       0.052240     0.003511              0.001383             0.006703   \n",
       "std        0.222522     0.059153              0.037167             0.081600   \n",
       "min        0.000000     0.000000              0.000000             0.000000   \n",
       "25%        0.000000     0.000000              0.000000             0.000000   \n",
       "50%        0.000000     0.000000              0.000000             0.000000   \n",
       "75%        0.000000     0.000000              0.000000             0.000000   \n",
       "max        1.000000     1.000000              1.000000             1.000000   \n",
       "\n",
       "       production_companies_etc  \n",
       "count               9399.000000  \n",
       "mean                   0.625386  \n",
       "std                    0.484049  \n",
       "min                    0.000000  \n",
       "25%                    0.000000  \n",
       "50%                    1.000000  \n",
       "75%                    1.000000  \n",
       "max                    1.000000  \n",
       "\n",
       "[8 rows x 204 columns]"
      ]
     },
     "execution_count": 125,
     "metadata": {},
     "output_type": "execute_result"
    }
   ],
   "source": [
    "all_data.describe()"
   ]
  },
  {
   "cell_type": "code",
   "execution_count": 130,
   "metadata": {},
   "outputs": [
    {
     "data": {
      "text/plain": [
       "<matplotlib.axes._subplots.AxesSubplot at 0x1a25fba5c0>"
      ]
     },
     "execution_count": 130,
     "metadata": {},
     "output_type": "execute_result"
    },
    {
     "data": {
      "image/png": "[encoded data removed]",
      "text/plain": [
       "<Figure size 1080x360 with 1 Axes>"
      ]
     },
     "metadata": {
      "needs_background": "light"
     },
     "output_type": "display_data"
    }
   ],
   "source": [
    "all_data.budget.hist(bins=20, figsize=(15,5))"
   ]
  },
  {
   "cell_type": "code",
   "execution_count": 132,
   "metadata": {},
   "outputs": [
    {
     "data": {
      "text/plain": [
       "0"
      ]
     },
     "execution_count": 132,
     "metadata": {},
     "output_type": "execute_result"
    }
   ],
   "source": [
    "all_data.isna().sum().sum()"
   ]
  },
  {
   "cell_type": "code",
   "execution_count": null,
   "metadata": {},
   "outputs": [],
   "source": []
  },
  {
   "cell_type": "code",
   "execution_count": null,
   "metadata": {},
   "outputs": [],
   "source": []
  }
 ],
 "metadata": {
  "kernelspec": {
   "display_name": "Python 3",
   "language": "python",
   "name": "python3"
  },
  "language_info": {
   "codemirror_mode": {
    "name": "ipython",
    "version": 3
   },
   "file_extension": ".py",
   "mimetype": "text/x-python",
   "name": "python",
   "nbconvert_exporter": "python",
   "pygments_lexer": "ipython3",
   "version": "3.7.3"
  },
  "toc": {
   "base_numbering": 1,
   "nav_menu": {},
   "number_sections": true,
   "sideBar": true,
   "skip_h1_title": false,
   "title_cell": "Table of Contents",
   "title_sidebar": "Contents",
   "toc_cell": false,
   "toc_position": {},
   "toc_section_display": true,
   "toc_window_display": true
  }
 },
 "nbformat": 4,
 "nbformat_minor": 1
}

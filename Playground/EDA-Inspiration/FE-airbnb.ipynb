{
 "cells": [
  {
   "cell_type": "code",
   "execution_count": 2,
   "metadata": {},
   "outputs": [],
   "source": [
    "import numpy as np\n",
    "import pandas as pd\n",
    "from sklearn.preprocessing import LabelEncoder\n",
    "from xgboost.sklearn import XGBClassifier\n",
    "\n",
    "np.random.seed(0)\n",
    "\n",
    "#Loading data\n",
    "df_train = pd.read_csv('../data/airbnb/train_users_2.csv')\n",
    "df_test = pd.read_csv('../data/airbnb/test_users.csv')\n",
    "labels = df_train['country_destination'].values\n",
    "df_train = df_train.drop(['country_destination'], axis=1)\n",
    "id_test = df_test['id']\n",
    "piv_train = df_train.shape[0]"
   ]
  },
  {
   "cell_type": "code",
   "execution_count": 4,
   "metadata": {},
   "outputs": [],
   "source": [
    "#Creating a DataFrame with train+test data\n",
    "df_all = pd.concat((df_train, df_test), axis=0, ignore_index=True)"
   ]
  },
  {
   "cell_type": "code",
   "execution_count": 5,
   "metadata": {},
   "outputs": [],
   "source": [
    "#Filling nan\n",
    "df_all = df_all.fillna(-1)"
   ]
  },
  {
   "cell_type": "code",
   "execution_count": 6,
   "metadata": {},
   "outputs": [],
   "source": [
    "#####Feature engineering#######\n",
    "#date_account_created\n",
    "dac = np.vstack(df_all.date_account_created.astype(str).apply(lambda x: list(map(int, x.split('-')))).values)\n",
    "df_all['dac_year'] = dac[:,0]\n",
    "df_all['dac_month'] = dac[:,1]\n",
    "df_all['dac_day'] = dac[:,2]\n",
    "\n",
    "#timestamp_first_active\n",
    "tfa = np.vstack(df_all.timestamp_first_active.astype(str).apply(lambda x: list(map(int, [x[:4],x[4:6],x[6:8],x[8:10],x[10:12],x[12:14]]))).values)\n",
    "df_all['tfa_year'] = tfa[:,0]\n",
    "df_all['tfa_month'] = tfa[:,1]\n",
    "df_all['tfa_day'] = tfa[:,2]\n",
    "\n",
    "## dates\n",
    "df_all['date_account_created'] = pd.to_datetime(df_all['date_account_created'])\n",
    "df_all['date_first_active'] = pd.to_datetime((df_all.timestamp_first_active // 1000000), format='%Y%m%d')\n",
    "df_all['date_first_booking'] = pd.to_datetime(df_all['date_first_booking'])\n",
    "\n",
    "## dow\n",
    "df_all['dac_dow'] = df_all['date_account_created'].dt.dayofweek\n",
    "df_all['dfa_dow'] = df_all['date_first_active'].dt.dayofweek\n",
    "df_all['dfb_dow'] = df_all['date_first_booking'].dt.dayofweek\n",
    "\n",
    "## drops\n",
    "df_all = df_all.drop(['date_account_created'], axis=1)\n",
    "df_all = df_all.drop(['timestamp_first_active'], axis=1)\n",
    "df_all = df_all.drop(['date_first_active'], axis=1)\n",
    "df_all = df_all.drop(['id', 'date_first_booking'], axis=1)\n",
    "\n",
    "#Age\n",
    "av = df_all.age.values\n",
    "df_all['age'] = np.where(np.logical_and(av>1919, av<1995), 2015-av, av)\n",
    "df_all['age'] = np.where(np.logical_or(av<14, av>100), -1, av)"
   ]
  },
  {
   "cell_type": "code",
   "execution_count": 7,
   "metadata": {},
   "outputs": [
    {
     "name": "stdout",
     "output_type": "stream",
     "text": [
      "(275547, 164)\n",
      "['age', 'dac_year', 'dac_month', 'dac_day', 'tfa_year', 'tfa_month', 'tfa_day', 'dac_dow', 'dfa_dow', 'dfb_dow', 'gender_-unknown-', 'gender_FEMALE', 'gender_MALE', 'gender_OTHER', 'signup_method_basic', 'signup_method_facebook', 'signup_method_google', 'signup_method_weibo', 'signup_flow_0', 'signup_flow_1', 'signup_flow_2', 'signup_flow_3', 'signup_flow_4', 'signup_flow_5', 'signup_flow_6', 'signup_flow_8', 'signup_flow_10', 'signup_flow_12', 'signup_flow_14', 'signup_flow_15', 'signup_flow_16', 'signup_flow_20', 'signup_flow_21', 'signup_flow_23', 'signup_flow_24', 'signup_flow_25', 'language_-unknown-', 'language_ca', 'language_cs', 'language_da', 'language_de', 'language_el', 'language_en', 'language_es', 'language_fi', 'language_fr', 'language_hr', 'language_hu', 'language_id', 'language_is', 'language_it', 'language_ja', 'language_ko', 'language_nl', 'language_no', 'language_pl', 'language_pt', 'language_ru', 'language_sv', 'language_th', 'language_tr', 'language_zh', 'affiliate_channel_api', 'affiliate_channel_content', 'affiliate_channel_direct', 'affiliate_channel_other', 'affiliate_channel_remarketing', 'affiliate_channel_sem-brand', 'affiliate_channel_sem-non-brand', 'affiliate_channel_seo', 'affiliate_provider_baidu', 'affiliate_provider_bing', 'affiliate_provider_craigslist', 'affiliate_provider_daum', 'affiliate_provider_direct', 'affiliate_provider_email-marketing', 'affiliate_provider_facebook', 'affiliate_provider_facebook-open-graph', 'affiliate_provider_google', 'affiliate_provider_gsp', 'affiliate_provider_meetup', 'affiliate_provider_naver', 'affiliate_provider_other', 'affiliate_provider_padmapper', 'affiliate_provider_vast', 'affiliate_provider_wayn', 'affiliate_provider_yahoo', 'affiliate_provider_yandex', 'first_affiliate_tracked_-1', 'first_affiliate_tracked_linked', 'first_affiliate_tracked_local ops', 'first_affiliate_tracked_marketing', 'first_affiliate_tracked_omg', 'first_affiliate_tracked_product', 'first_affiliate_tracked_tracked-other', 'first_affiliate_tracked_untracked', 'signup_app_Android', 'signup_app_Moweb', 'signup_app_Web', 'signup_app_iOS', 'first_device_type_Android Phone', 'first_device_type_Android Tablet', 'first_device_type_Desktop (Other)', 'first_device_type_Mac Desktop', 'first_device_type_Other/Unknown', 'first_device_type_SmartPhone (Other)', 'first_device_type_Windows Desktop', 'first_device_type_iPad', 'first_device_type_iPhone', 'first_browser_-unknown-', 'first_browser_AOL Explorer', 'first_browser_Android Browser', 'first_browser_Apple Mail', 'first_browser_Arora', 'first_browser_Avant Browser', 'first_browser_BlackBerry Browser', 'first_browser_Camino', 'first_browser_Chrome', 'first_browser_Chrome Mobile', 'first_browser_Chromium', 'first_browser_CometBird', 'first_browser_Comodo Dragon', 'first_browser_Conkeror', 'first_browser_CoolNovo', 'first_browser_Crazy Browser', 'first_browser_Epic', 'first_browser_Firefox', 'first_browser_Flock', 'first_browser_Google Earth', 'first_browser_Googlebot', 'first_browser_IBrowse', 'first_browser_IE', 'first_browser_IE Mobile', 'first_browser_IceDragon', 'first_browser_IceWeasel', 'first_browser_Iron', 'first_browser_Kindle Browser', 'first_browser_Maxthon', 'first_browser_Mobile Firefox', 'first_browser_Mobile Safari', 'first_browser_Mozilla', 'first_browser_NetNewsWire', 'first_browser_Nintendo Browser', 'first_browser_OmniWeb', 'first_browser_Opera', 'first_browser_Opera Mini', 'first_browser_Opera Mobile', 'first_browser_Outlook 2007', 'first_browser_PS Vita browser', 'first_browser_Pale Moon', 'first_browser_Palm Pre web browser', 'first_browser_RockMelt', 'first_browser_Safari', 'first_browser_SeaMonkey', 'first_browser_Silk', 'first_browser_SiteKiosk', 'first_browser_SlimBrowser', 'first_browser_Sogou Explorer', 'first_browser_Stainless', 'first_browser_TenFourFox', 'first_browser_TheWorld Browser', 'first_browser_UC Browser', 'first_browser_Yandex.Browser', 'first_browser_wOSBrowser']\n",
      "    age  dac_year  dac_month  dac_day  tfa_year  tfa_month  tfa_day  dac_dow  \\\n",
      "0  -1.0      2010          6       28      2009          3       19        0   \n",
      "1  38.0      2011          5       25      2009          5       23        2   \n",
      "2  56.0      2010          9       28      2009          6        9        1   \n",
      "3  42.0      2011         12        5      2009         10       31        0   \n",
      "4  41.0      2010          9       14      2009         12        8        1   \n",
      "\n",
      "   dfa_dow  dfb_dow  ...  first_browser_Silk  first_browser_SiteKiosk  \\\n",
      "0        3        2  ...                   0                        0   \n",
      "1        5        2  ...                   0                        0   \n",
      "2        1        0  ...                   0                        0   \n",
      "3        5        5  ...                   0                        0   \n",
      "4        1        3  ...                   0                        0   \n",
      "\n",
      "   first_browser_SlimBrowser  first_browser_Sogou Explorer  \\\n",
      "0                          0                             0   \n",
      "1                          0                             0   \n",
      "2                          0                             0   \n",
      "3                          0                             0   \n",
      "4                          0                             0   \n",
      "\n",
      "   first_browser_Stainless  first_browser_TenFourFox  \\\n",
      "0                        0                         0   \n",
      "1                        0                         0   \n",
      "2                        0                         0   \n",
      "3                        0                         0   \n",
      "4                        0                         0   \n",
      "\n",
      "   first_browser_TheWorld Browser  first_browser_UC Browser  \\\n",
      "0                               0                         0   \n",
      "1                               0                         0   \n",
      "2                               0                         0   \n",
      "3                               0                         0   \n",
      "4                               0                         0   \n",
      "\n",
      "   first_browser_Yandex.Browser  first_browser_wOSBrowser  \n",
      "0                             0                         0  \n",
      "1                             0                         0  \n",
      "2                             0                         0  \n",
      "3                             0                         0  \n",
      "4                             0                         0  \n",
      "\n",
      "[5 rows x 164 columns]\n"
     ]
    }
   ],
   "source": [
    "#One-hot-encoding features\n",
    "ohe_feats = ['gender', 'signup_method', 'signup_flow', 'language', 'affiliate_channel', 'affiliate_provider', 'first_affiliate_tracked', 'signup_app', 'first_device_type', 'first_browser']\n",
    "for f in ohe_feats:\n",
    "    df_all_dummy = pd.get_dummies(df_all[f], prefix=f)\n",
    "    df_all = df_all.drop([f], axis=1)\n",
    "    df_all = pd.concat((df_all, df_all_dummy), axis=1)\n",
    "    \n",
    "print(df_all.shape)\n",
    "print(list(df_all.columns.values))\n",
    "print(df_all.head(5))"
   ]
  },
  {
   "cell_type": "code",
   "execution_count": 8,
   "metadata": {},
   "outputs": [],
   "source": [
    "#Splitting train and test\n",
    "vals = df_all.values\n",
    "X = vals[:piv_train]\n",
    "le = LabelEncoder()\n",
    "y = le.fit_transform(labels)   \n",
    "X_test = vals[piv_train:]"
   ]
  },
  {
   "cell_type": "code",
   "execution_count": 9,
   "metadata": {},
   "outputs": [],
   "source": [
    "#Classifier\n",
    "xgb = XGBClassifier(max_depth=5, learning_rate=0.2, n_estimators=50,\n",
    "                    objective='multi:softprob', subsample=0.6, colsample_bytree=0.6, seed=0, silent=0)                  \n",
    "xgb.fit(X, y)\n",
    "y_pred = xgb.predict_proba(X_test)  "
   ]
  },
  {
   "cell_type": "code",
   "execution_count": 10,
   "metadata": {},
   "outputs": [],
   "source": [
    "#Taking the 5 classes with highest probabilities\n",
    "ids = []  #list of ids\n",
    "cts = []  #list of countries\n",
    "for i in range(len(id_test)):\n",
    "    idx = id_test[i]\n",
    "    ids += [idx] * 5\n",
    "    cts += le.inverse_transform(np.argsort(y_pred[i])[::-1])[:5].tolist()"
   ]
  },
  {
   "cell_type": "code",
   "execution_count": 11,
   "metadata": {},
   "outputs": [],
   "source": [
    "#Generate submission\n",
    "sub = pd.DataFrame(np.column_stack((ids, cts)), columns=['id', 'country'])\n",
    "sub.to_csv('sub2.csv',index=False)"
   ]
  },
  {
   "cell_type": "code",
   "execution_count": null,
   "metadata": {},
   "outputs": [],
   "source": []
  }
 ],
 "metadata": {
  "kernelspec": {
   "display_name": "Python 3",
   "language": "python",
   "name": "python3"
  },
  "language_info": {
   "codemirror_mode": {
    "name": "ipython",
    "version": 3
   },
   "file_extension": ".py",
   "mimetype": "text/x-python",
   "name": "python",
   "nbconvert_exporter": "python",
   "pygments_lexer": "ipython3",
   "version": "3.7.3"
  },
  "toc": {
   "base_numbering": 1,
   "nav_menu": {},
   "number_sections": true,
   "sideBar": true,
   "skip_h1_title": false,
   "title_cell": "Table of Contents",
   "title_sidebar": "Contents",
   "toc_cell": false,
   "toc_position": {},
   "toc_section_display": true,
   "toc_window_display": true
  }
 },
 "nbformat": 4,
 "nbformat_minor": 2
}

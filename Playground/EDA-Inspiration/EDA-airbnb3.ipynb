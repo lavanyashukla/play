{
 "cells": [
  {
   "cell_type": "code",
   "execution_count": 48,
   "metadata": {},
   "outputs": [],
   "source": [
    "# Imports\n",
    "\n",
    "# pandas\n",
    "import pandas as pd\n",
    "from pandas import Series,DataFrame\n",
    "\n",
    "# numpy, matplotlib, seaborn\n",
    "import numpy as np\n",
    "import matplotlib.pyplot as plt\n",
    "import seaborn as sns\n",
    "sns.set_style('whitegrid')\n",
    "%matplotlib inline\n",
    "\n",
    "# machine learning\n",
    "from sklearn.linear_model import LogisticRegression\n",
    "from sklearn.svm import SVC, LinearSVC\n",
    "from sklearn.ensemble import RandomForestClassifier\n",
    "from sklearn.neighbors import KNeighborsClassifier\n",
    "from sklearn.naive_bayes import GaussianNB\n",
    "from sklearn import model_selection\n",
    "import xgboost as xgb"
   ]
  },
  {
   "cell_type": "code",
   "execution_count": 49,
   "metadata": {},
   "outputs": [
    {
     "data": {
      "text/html": [
       "<div>\n",
       "<style scoped>\n",
       "    .dataframe tbody tr th:only-of-type {\n",
       "        vertical-align: middle;\n",
       "    }\n",
       "\n",
       "    .dataframe tbody tr th {\n",
       "        vertical-align: top;\n",
       "    }\n",
       "\n",
       "    .dataframe thead th {\n",
       "        text-align: right;\n",
       "    }\n",
       "</style>\n",
       "<table border=\"1\" class=\"dataframe\">\n",
       "  <thead>\n",
       "    <tr style=\"text-align: right;\">\n",
       "      <th></th>\n",
       "      <th>id</th>\n",
       "      <th>date_account_created</th>\n",
       "      <th>timestamp_first_active</th>\n",
       "      <th>date_first_booking</th>\n",
       "      <th>gender</th>\n",
       "      <th>age</th>\n",
       "      <th>signup_method</th>\n",
       "      <th>signup_flow</th>\n",
       "      <th>language</th>\n",
       "      <th>affiliate_channel</th>\n",
       "      <th>affiliate_provider</th>\n",
       "      <th>first_affiliate_tracked</th>\n",
       "      <th>signup_app</th>\n",
       "      <th>first_device_type</th>\n",
       "      <th>first_browser</th>\n",
       "      <th>country_destination</th>\n",
       "    </tr>\n",
       "  </thead>\n",
       "  <tbody>\n",
       "    <tr>\n",
       "      <th>0</th>\n",
       "      <td>gxn3p5htnn</td>\n",
       "      <td>2010-06-28</td>\n",
       "      <td>20090319043255</td>\n",
       "      <td>NaN</td>\n",
       "      <td>-unknown-</td>\n",
       "      <td>NaN</td>\n",
       "      <td>facebook</td>\n",
       "      <td>0</td>\n",
       "      <td>en</td>\n",
       "      <td>direct</td>\n",
       "      <td>direct</td>\n",
       "      <td>untracked</td>\n",
       "      <td>Web</td>\n",
       "      <td>Mac Desktop</td>\n",
       "      <td>Chrome</td>\n",
       "      <td>NDF</td>\n",
       "    </tr>\n",
       "    <tr>\n",
       "      <th>1</th>\n",
       "      <td>820tgsjxq7</td>\n",
       "      <td>2011-05-25</td>\n",
       "      <td>20090523174809</td>\n",
       "      <td>NaN</td>\n",
       "      <td>MALE</td>\n",
       "      <td>38.0</td>\n",
       "      <td>facebook</td>\n",
       "      <td>0</td>\n",
       "      <td>en</td>\n",
       "      <td>seo</td>\n",
       "      <td>google</td>\n",
       "      <td>untracked</td>\n",
       "      <td>Web</td>\n",
       "      <td>Mac Desktop</td>\n",
       "      <td>Chrome</td>\n",
       "      <td>NDF</td>\n",
       "    </tr>\n",
       "    <tr>\n",
       "      <th>2</th>\n",
       "      <td>4ft3gnwmtx</td>\n",
       "      <td>2010-09-28</td>\n",
       "      <td>20090609231247</td>\n",
       "      <td>2010-08-02</td>\n",
       "      <td>FEMALE</td>\n",
       "      <td>56.0</td>\n",
       "      <td>basic</td>\n",
       "      <td>3</td>\n",
       "      <td>en</td>\n",
       "      <td>direct</td>\n",
       "      <td>direct</td>\n",
       "      <td>untracked</td>\n",
       "      <td>Web</td>\n",
       "      <td>Windows Desktop</td>\n",
       "      <td>IE</td>\n",
       "      <td>US</td>\n",
       "    </tr>\n",
       "    <tr>\n",
       "      <th>3</th>\n",
       "      <td>bjjt8pjhuk</td>\n",
       "      <td>2011-12-05</td>\n",
       "      <td>20091031060129</td>\n",
       "      <td>2012-09-08</td>\n",
       "      <td>FEMALE</td>\n",
       "      <td>42.0</td>\n",
       "      <td>facebook</td>\n",
       "      <td>0</td>\n",
       "      <td>en</td>\n",
       "      <td>direct</td>\n",
       "      <td>direct</td>\n",
       "      <td>untracked</td>\n",
       "      <td>Web</td>\n",
       "      <td>Mac Desktop</td>\n",
       "      <td>Firefox</td>\n",
       "      <td>other</td>\n",
       "    </tr>\n",
       "    <tr>\n",
       "      <th>4</th>\n",
       "      <td>87mebub9p4</td>\n",
       "      <td>2010-09-14</td>\n",
       "      <td>20091208061105</td>\n",
       "      <td>2010-02-18</td>\n",
       "      <td>-unknown-</td>\n",
       "      <td>41.0</td>\n",
       "      <td>basic</td>\n",
       "      <td>0</td>\n",
       "      <td>en</td>\n",
       "      <td>direct</td>\n",
       "      <td>direct</td>\n",
       "      <td>untracked</td>\n",
       "      <td>Web</td>\n",
       "      <td>Mac Desktop</td>\n",
       "      <td>Chrome</td>\n",
       "      <td>US</td>\n",
       "    </tr>\n",
       "  </tbody>\n",
       "</table>\n",
       "</div>"
      ],
      "text/plain": [
       "           id date_account_created  timestamp_first_active date_first_booking  \\\n",
       "0  gxn3p5htnn           2010-06-28          20090319043255                NaN   \n",
       "1  820tgsjxq7           2011-05-25          20090523174809                NaN   \n",
       "2  4ft3gnwmtx           2010-09-28          20090609231247         2010-08-02   \n",
       "3  bjjt8pjhuk           2011-12-05          20091031060129         2012-09-08   \n",
       "4  87mebub9p4           2010-09-14          20091208061105         2010-02-18   \n",
       "\n",
       "      gender   age signup_method  signup_flow language affiliate_channel  \\\n",
       "0  -unknown-   NaN      facebook            0       en            direct   \n",
       "1       MALE  38.0      facebook            0       en               seo   \n",
       "2     FEMALE  56.0         basic            3       en            direct   \n",
       "3     FEMALE  42.0      facebook            0       en            direct   \n",
       "4  -unknown-  41.0         basic            0       en            direct   \n",
       "\n",
       "  affiliate_provider first_affiliate_tracked signup_app first_device_type  \\\n",
       "0             direct               untracked        Web       Mac Desktop   \n",
       "1             google               untracked        Web       Mac Desktop   \n",
       "2             direct               untracked        Web   Windows Desktop   \n",
       "3             direct               untracked        Web       Mac Desktop   \n",
       "4             direct               untracked        Web       Mac Desktop   \n",
       "\n",
       "  first_browser country_destination  \n",
       "0        Chrome                 NDF  \n",
       "1        Chrome                 NDF  \n",
       "2            IE                  US  \n",
       "3       Firefox               other  \n",
       "4        Chrome                  US  "
      ]
     },
     "execution_count": 49,
     "metadata": {},
     "output_type": "execute_result"
    }
   ],
   "source": [
    "# get airbnb & test csv files as a DataFrame\n",
    "airbnb_df  = pd.read_csv('../data/airbnb/train_users_2.csv')\n",
    "test_df    = pd.read_csv('../data/airbnb/test_users.csv')\n",
    "\n",
    "# preview the data\n",
    "airbnb_df.head()"
   ]
  },
  {
   "cell_type": "code",
   "execution_count": 50,
   "metadata": {},
   "outputs": [
    {
     "name": "stdout",
     "output_type": "stream",
     "text": [
      "<class 'pandas.core.frame.DataFrame'>\n",
      "RangeIndex: 213451 entries, 0 to 213450\n",
      "Data columns (total 16 columns):\n",
      "id                         213451 non-null object\n",
      "date_account_created       213451 non-null object\n",
      "timestamp_first_active     213451 non-null int64\n",
      "date_first_booking         88908 non-null object\n",
      "gender                     213451 non-null object\n",
      "age                        125461 non-null float64\n",
      "signup_method              213451 non-null object\n",
      "signup_flow                213451 non-null int64\n",
      "language                   213451 non-null object\n",
      "affiliate_channel          213451 non-null object\n",
      "affiliate_provider         213451 non-null object\n",
      "first_affiliate_tracked    207386 non-null object\n",
      "signup_app                 213451 non-null object\n",
      "first_device_type          213451 non-null object\n",
      "first_browser              213451 non-null object\n",
      "country_destination        213451 non-null object\n",
      "dtypes: float64(1), int64(2), object(13)\n",
      "memory usage: 26.1+ MB\n",
      "----------------------------\n",
      "<class 'pandas.core.frame.DataFrame'>\n",
      "RangeIndex: 62096 entries, 0 to 62095\n",
      "Data columns (total 15 columns):\n",
      "id                         62096 non-null object\n",
      "date_account_created       62096 non-null object\n",
      "timestamp_first_active     62096 non-null int64\n",
      "date_first_booking         0 non-null float64\n",
      "gender                     62096 non-null object\n",
      "age                        33220 non-null float64\n",
      "signup_method              62096 non-null object\n",
      "signup_flow                62096 non-null int64\n",
      "language                   62096 non-null object\n",
      "affiliate_channel          62096 non-null object\n",
      "affiliate_provider         62096 non-null object\n",
      "first_affiliate_tracked    62076 non-null object\n",
      "signup_app                 62096 non-null object\n",
      "first_device_type          62096 non-null object\n",
      "first_browser              62096 non-null object\n",
      "dtypes: float64(2), int64(2), object(11)\n",
      "memory usage: 7.1+ MB\n"
     ]
    }
   ],
   "source": [
    "airbnb_df.info()\n",
    "print(\"----------------------------\")\n",
    "test_df.info()"
   ]
  },
  {
   "cell_type": "code",
   "execution_count": 51,
   "metadata": {},
   "outputs": [],
   "source": [
    "# drop unnecessary columns, these columns won't be useful in analysis and prediction\n",
    "airbnb_df  = airbnb_df.drop(['date_account_created','timestamp_first_active'], axis=1)\n",
    "test_df    = test_df.drop(['date_account_created','timestamp_first_active'], axis=1)"
   ]
  },
  {
   "cell_type": "code",
   "execution_count": 52,
   "metadata": {},
   "outputs": [
    {
     "data": {
      "text/plain": [
       "<matplotlib.axes._subplots.AxesSubplot at 0x1a281922e8>"
      ]
     },
     "execution_count": 52,
     "metadata": {},
     "output_type": "execute_result"
    },
    {
     "data": {
      "image/png": "[encoded data removed]",
      "text/plain": [
       "<Figure size 1080x360 with 1 Axes>"
      ]
     },
     "metadata": {
      "needs_background": "light"
     },
     "output_type": "display_data"
    }
   ],
   "source": [
    "# country_destination\n",
    "\n",
    "airbnb_df['booked'] = (airbnb_df['country_destination'] != 'NDF').astype(int)\n",
    "# test_df['booked']   = (test_df['country_destination'] != 'NDF').astype(int)\n",
    "\n",
    "# Plot the frequency for every country_destination value\n",
    "fig, (axis1) = plt.subplots(1,1,figsize=(15,5))\n",
    "sns.countplot(x='country_destination', data=airbnb_df, palette=\"husl\", ax=axis1)"
   ]
  },
  {
   "cell_type": "code",
   "execution_count": 53,
   "metadata": {},
   "outputs": [],
   "source": [
    "# date_first_booking\n",
    "def get_year(date):\n",
    "    if date == date: \n",
    "        return int(str(date)[:4])\n",
    "    return date\n",
    "\n",
    "def get_month(date):\n",
    "    if date == date: \n",
    "        return int(str(date)[5:7])\n",
    "    return date"
   ]
  },
  {
   "cell_type": "code",
   "execution_count": 54,
   "metadata": {},
   "outputs": [],
   "source": [
    "# Create Year and Month columns\n",
    "airbnb_df['Year']  = airbnb_df['date_first_booking'].apply(get_year)\n",
    "airbnb_df['Month'] = airbnb_df['date_first_booking'].apply(get_month)\n",
    "\n",
    "test_df['Year']  = test_df['date_first_booking'].apply(get_year)\n",
    "test_df['Month'] = test_df['date_first_booking'].apply(get_month)"
   ]
  },
  {
   "cell_type": "code",
   "execution_count": 55,
   "metadata": {},
   "outputs": [],
   "source": [
    "airbnb_df.fillna(0, inplace=True)\n",
    "test_df.fillna(0, inplace=True)"
   ]
  },
  {
   "cell_type": "code",
   "execution_count": 56,
   "metadata": {},
   "outputs": [],
   "source": [
    "# fill NaN\n",
    "airbnb_df['Year'].fillna(airbnb_df['Year'].median(), inplace=True)\n",
    "airbnb_df['Month'].fillna(airbnb_df['Month'].median(), inplace=True)"
   ]
  },
  {
   "cell_type": "code",
   "execution_count": 57,
   "metadata": {},
   "outputs": [],
   "source": [
    "test_df['Year'].fillna(test_df['Year'].median(), inplace=True)\n",
    "test_df['Month'].fillna(test_df['Month'].median(), inplace=True)"
   ]
  },
  {
   "cell_type": "code",
   "execution_count": 58,
   "metadata": {},
   "outputs": [],
   "source": [
    "# convert type to integer\n",
    "airbnb_df[['Year', 'Month']] = airbnb_df[['Year', 'Month']].astype(int)\n",
    "test_df[['Year', 'Month']]   = test_df[['Year', 'Month']].astype(int)"
   ]
  },
  {
   "cell_type": "code",
   "execution_count": 59,
   "metadata": {},
   "outputs": [
    {
     "data": {
      "text/plain": [
       "<matplotlib.axes._subplots.AxesSubplot at 0x1a23e3ee48>"
      ]
     },
     "execution_count": 59,
     "metadata": {},
     "output_type": "execute_result"
    },
    {
     "data": {
      "image/png": "[encoded data removed]",
      "text/plain": [
       "<Figure size 1080x576 with 2 Axes>"
      ]
     },
     "metadata": {
      "needs_background": "light"
     },
     "output_type": "display_data"
    }
   ],
   "source": [
    "# Plot\n",
    "fig, (axis1, axis2) = plt.subplots(2,1,sharex=True,figsize=(15,8))\n",
    "\n",
    "# frequency of country_destination for every year\n",
    "sns.countplot(x=\"Year\",hue=\"country_destination\", data=airbnb_df[airbnb_df['country_destination'] != 'NDF'], palette=\"husl\", ax=axis1)\n",
    "\n",
    "# frequency of booked Vs no-booking users for every year\n",
    "# NOTICE that in year 2014, and 2015 there wasn't \"no-booking\"\n",
    "sns.countplot(x=\"Year\",hue=\"booked\", data=airbnb_df, palette=\"husl\", order=[2010,2011,2012,2013,2014,2015], ax=axis2)"
   ]
  },
  {
   "cell_type": "code",
   "execution_count": 60,
   "metadata": {},
   "outputs": [],
   "source": [
    "# drop columns\n",
    "airbnb_df.drop(['date_first_booking','Month'], axis=1, inplace=True)\n",
    "test_df.drop(['date_first_booking','Month'], axis=1, inplace=True)"
   ]
  },
  {
   "cell_type": "code",
   "execution_count": null,
   "metadata": {},
   "outputs": [],
   "source": []
  },
  {
   "cell_type": "code",
   "execution_count": 61,
   "metadata": {},
   "outputs": [
    {
     "data": {
      "image/png": "[encoded data removed]",
      "text/plain": [
       "<Figure size 1080x576 with 2 Axes>"
      ]
     },
     "metadata": {
      "needs_background": "light"
     },
     "output_type": "display_data"
    }
   ],
   "source": [
    "# gender\n",
    "\n",
    "i = 0\n",
    "def get_gender(gender):\n",
    "    global i\n",
    "    if gender != 'FEMALE' and gender != 'MALE':\n",
    "        return 'FEMALE' if(i % 2) else 'MALE'\n",
    "    i = i + 1\n",
    "    return gender\n",
    "\n",
    "# replace all values other than 'FEMALE' and 'MALE'\n",
    "airbnb_df['gender'] = airbnb_df['gender'].apply(get_gender)\n",
    "test_df['gender']   = test_df['gender'].apply(get_gender)\n",
    "\n",
    "# Plot\n",
    "fig, (axis1, axis2) = plt.subplots(2,1,sharex=True,figsize=(15,8))\n",
    "\n",
    "# frequency of country_destination for every gender\n",
    "sns.countplot(x=\"gender\",hue=\"country_destination\", data=airbnb_df[airbnb_df['country_destination'] != 'NDF'], palette=\"husl\", ax=axis1)\n",
    "\n",
    "# frequency of booked Vs no-booking users for every gender\n",
    "sns.countplot(x=\"gender\",hue=\"booked\", data=airbnb_df, palette=\"husl\", ax=axis2)\n",
    "\n",
    "# Map gender values to 1s and 0s\n",
    "airbnb_df[\"gender\"] = airbnb_df[\"gender\"].map({\"FEMALE\": 1, \"MALE\": 0})\n",
    "test_df[\"gender\"]   = test_df[\"gender\"].map({\"FEMALE\": 1, \"MALE\": 0})\n",
    "\n",
    "# drop columns\n",
    "airbnb_df.drop(['gender'], axis=1,inplace=True)\n",
    "test_df.drop(['gender'], axis=1,inplace=True)"
   ]
  },
  {
   "cell_type": "code",
   "execution_count": 62,
   "metadata": {},
   "outputs": [
    {
     "name": "stderr",
     "output_type": "stream",
     "text": [
      "/anaconda3/lib/python3.7/site-packages/ipykernel_launcher.py:4: SettingWithCopyWarning: \n",
      "A value is trying to be set on a copy of a slice from a DataFrame\n",
      "\n",
      "See the caveats in the documentation: http://pandas.pydata.org/pandas-docs/stable/indexing.html#indexing-view-versus-copy\n",
      "  after removing the cwd from sys.path.\n",
      "/anaconda3/lib/python3.7/site-packages/ipykernel_launcher.py:5: SettingWithCopyWarning: \n",
      "A value is trying to be set on a copy of a slice from a DataFrame\n",
      "\n",
      "See the caveats in the documentation: http://pandas.pydata.org/pandas-docs/stable/indexing.html#indexing-view-versus-copy\n",
      "  \"\"\"\n",
      "/anaconda3/lib/python3.7/site-packages/ipykernel_launcher.py:22: SettingWithCopyWarning: \n",
      "A value is trying to be set on a copy of a slice from a DataFrame\n",
      "\n",
      "See the caveats in the documentation: http://pandas.pydata.org/pandas-docs/stable/indexing.html#indexing-view-versus-copy\n",
      "/anaconda3/lib/python3.7/site-packages/ipykernel_launcher.py:23: SettingWithCopyWarning: \n",
      "A value is trying to be set on a copy of a slice from a DataFrame\n",
      "\n",
      "See the caveats in the documentation: http://pandas.pydata.org/pandas-docs/stable/indexing.html#indexing-view-versus-copy\n"
     ]
    }
   ],
   "source": [
    "# age\n",
    "\n",
    "# assign all age values > 100 to NaN, these NaN values will be replaced with real ages below\n",
    "airbnb_df[\"age\"][airbnb_df[\"age\"] > 100] = np.NaN\n",
    "test_df[\"age\"][test_df[\"age\"] > 100]     = np.NaN\n",
    "\n",
    "# get average, std, and number of NaN values in airbnb_df\n",
    "average_age_airbnb   = airbnb_df[\"age\"].mean()\n",
    "std_age_airbnb       = airbnb_df[\"age\"].std()\n",
    "count_nan_age_airbnb = airbnb_df[\"age\"].isnull().sum()\n",
    "\n",
    "# get average, std, and number of NaN values in test_df\n",
    "average_age_test   = test_df[\"age\"].mean()\n",
    "std_age_test       = test_df[\"age\"].std()\n",
    "count_nan_age_test = test_df[\"age\"].isnull().sum()\n",
    "\n",
    "# generate random numbers between (mean - std) & (mean + std)\n",
    "rand_1 = np.random.randint(average_age_airbnb - std_age_airbnb, average_age_airbnb + std_age_airbnb, size = count_nan_age_airbnb)\n",
    "rand_2 = np.random.randint(average_age_test - std_age_test, average_age_test + std_age_test, size = count_nan_age_test)\n",
    "\n",
    "# fill NaN values in Age column with random values generated\n",
    "airbnb_df[\"age\"][np.isnan(airbnb_df[\"age\"])] = rand_1\n",
    "test_df[\"age\"][np.isnan(test_df[\"age\"])]     = rand_2\n",
    "\n",
    "# convert type to integer\n",
    "airbnb_df['age'] = airbnb_df['age'].astype(int)\n",
    "test_df['age']   = test_df['age'].astype(int)"
   ]
  },
  {
   "cell_type": "code",
   "execution_count": 63,
   "metadata": {},
   "outputs": [
    {
     "data": {
      "image/png": "[encoded data removed]",
      "text/plain": [
       "<Figure size 1080x720 with 2 Axes>"
      ]
     },
     "metadata": {
      "needs_background": "light"
     },
     "output_type": "display_data"
    }
   ],
   "source": [
    "# .... continue with age\n",
    "\n",
    "# Plot\n",
    "fig, (axis1, axis2) = plt.subplots(2,1,figsize=(15,10))\n",
    "\n",
    "# frequency for age values(in case there was a booking)\n",
    "airbnb_df['age'][airbnb_df['country_destination'] != 'NDF'].hist(ax=axis1)\n",
    "\n",
    "# cut age values into ranges \n",
    "airbnb_df['age_range'] = pd.cut(airbnb_df[\"age\"], [0, 20, 40, 60, 80, 100])\n",
    "\n",
    "# frequency of country_destination for every age range\n",
    "sns.countplot(x=\"age_range\",hue=\"country_destination\", data=airbnb_df[airbnb_df['country_destination'] != 'NDF'], palette=\"husl\", ax=axis2)\n",
    "\n",
    "# drop age_range\n",
    "airbnb_df.drop(['age_range'], axis=1, inplace=True)\n",
    "\n",
    "# drop columns\n",
    "airbnb_df.drop(['age'], axis=1,inplace=True)\n",
    "test_df.drop(['age'], axis=1,inplace=True)"
   ]
  },
  {
   "cell_type": "code",
   "execution_count": 65,
   "metadata": {},
   "outputs": [],
   "source": [
    "# first_affiliate_tracked\n",
    "\n",
    "# fill NaN values randomly\n",
    "count_first_affiliate = 7    # len(np.unique(airbnb_df[\"first_affiliate_tracked\"].value_counts()))\n",
    "\n",
    "count_nan_department_airbnb = airbnb_df[\"first_affiliate_tracked\"].isnull().sum()\n",
    "count_nan_department_test   = test_df[\"first_affiliate_tracked\"].isnull().sum()\n",
    "\n",
    "rand_1 = np.random.randint(0, count_first_affiliate, size = count_nan_department_airbnb)\n",
    "rand_2 = np.random.randint(0, count_first_affiliate, size = count_nan_department_test)\n",
    "\n",
    "range_departments_airbnb = airbnb_df['first_affiliate_tracked'].value_counts().index\n",
    "range_departments_test   = test_df['first_affiliate_tracked'].value_counts().index"
   ]
  },
  {
   "cell_type": "code",
   "execution_count": null,
   "metadata": {},
   "outputs": [],
   "source": [
    "airbnb_df[\"first_affiliate_tracked\"][airbnb_df[\"first_affiliate_tracked\"] != airbnb_df[\"first_affiliate_tracked\"]] = range_departments_airbnb[rand_1]\n",
    "test_df[\"first_affiliate_tracked\"][test_df[\"first_affiliate_tracked\"] != test_df[\"first_affiliate_tracked\"]]       = range_departments_test[rand_2]\n",
    "\n",
    "# drop columns\n",
    "# airbnb_df.drop(['first_affiliate_tracked'], axis=1,inplace=True)\n",
    "# test_df.drop(['first_affiliate_tracked'], axis=1,inplace=True)"
   ]
  },
  {
   "cell_type": "code",
   "execution_count": 67,
   "metadata": {},
   "outputs": [],
   "source": [
    "# signup_method\n",
    "airbnb_df[\"signup_method\"] = (airbnb_df[\"signup_method\"] == \"basic\").astype(int)\n",
    "test_df[\"signup_method\"]   = (test_df[\"signup_method\"] == \"basic\").astype(int)\n",
    "\n",
    "# signup_flow\n",
    "airbnb_df[\"signup_flow\"] = (airbnb_df[\"signup_flow\"] == 3).astype(int)\n",
    "test_df[\"signup_flow\"]   = (test_df[\"signup_flow\"] == 3).astype(int)\n",
    "\n",
    "# language\n",
    "airbnb_df[\"language\"] = (airbnb_df[\"language\"] == 'en').astype(int)\n",
    "test_df[\"language\"]   = (test_df[\"language\"] == 'en').astype(int)\n",
    "\n",
    "# affiliate_channel\n",
    "airbnb_df[\"affiliate_channel\"] = (airbnb_df[\"affiliate_channel\"] == 'direct').astype(int)\n",
    "test_df[\"affiliate_channel\"]   = (test_df[\"affiliate_channel\"] == 'direct').astype(int)\n",
    "\n",
    "# affiliate_provider\n",
    "airbnb_df[\"affiliate_provider\"] = (airbnb_df[\"affiliate_provider\"] == 'direct').astype(int)\n",
    "test_df[\"affiliate_provider\"]   = (test_df[\"affiliate_provider\"] == 'direct').astype(int)"
   ]
  },
  {
   "cell_type": "code",
   "execution_count": 68,
   "metadata": {},
   "outputs": [],
   "source": [
    "# There are some columns with non-numerical values(i.e. dtype='object'),\n",
    "# So, We will create a corresponding unique numerical value for each non-numerical value in a column of training and testing set.\n",
    "\n",
    "from sklearn import preprocessing\n",
    "\n",
    "for f in airbnb_df.columns:\n",
    "    if f == \"country_destination\" or f == \"id\": continue\n",
    "    if airbnb_df[f].dtype == 'object':\n",
    "        lbl = preprocessing.LabelEncoder()\n",
    "        lbl.fit(np.unique(list(airbnb_df[f].values) + list(test_df[f].values)))\n",
    "        airbnb_df[f] = lbl.transform(list(airbnb_df[f].values))\n",
    "        test_df[f]   = lbl.transform(list(test_df[f].values))"
   ]
  },
  {
   "cell_type": "code",
   "execution_count": 69,
   "metadata": {},
   "outputs": [],
   "source": [
    "# define training and testing sets\n",
    "\n",
    "X_train = airbnb_df.drop([\"country_destination\", \"id\", 'booked'],axis=1)\n",
    "Y_train = airbnb_df[\"country_destination\"]\n",
    "X_test  = test_df.drop(\"id\",axis=1).copy()"
   ]
  },
  {
   "cell_type": "code",
   "execution_count": 70,
   "metadata": {},
   "outputs": [],
   "source": [
    "# modify country_destination to numerical values\n",
    "\n",
    "country_num_dic = {'NDF': 0, 'US': 1, 'other': 2, 'FR': 3, 'IT': 4, 'GB': 5, 'ES': 6, 'CA': 7, 'DE': 8, 'NL': 9, 'AU': 10, 'PT': 11}\n",
    "num_country_dic = {y:x for x,y in country_num_dic.items()}\n",
    "\n",
    "Y_train    = Y_train.map(country_num_dic)"
   ]
  },
  {
   "cell_type": "code",
   "execution_count": 71,
   "metadata": {},
   "outputs": [],
   "source": [
    "# Random Forests\n",
    "\n",
    "# random_forest = RandomForestClassifier(n_estimators=100)\n",
    "\n",
    "# random_forest.fit(X_train, Y_train)\n",
    "\n",
    "# Y_pred = random_forest.predict(X_test)\n",
    "\n",
    "# random_forest.score(X_train, Y_train)"
   ]
  },
  {
   "cell_type": "code",
   "execution_count": 72,
   "metadata": {},
   "outputs": [
    {
     "name": "stderr",
     "output_type": "stream",
     "text": [
      "/anaconda3/lib/python3.7/site-packages/xgboost/core.py:587: FutureWarning: Series.base is deprecated and will be removed in a future version\n",
      "  if getattr(data, 'base', None) is not None and \\\n"
     ]
    }
   ],
   "source": [
    "# Xgboost \n",
    "\n",
    "params = {\"objective\": \"multi:softmax\", \"num_class\": 12}\n",
    "\n",
    "T_train_xgb = xgb.DMatrix(X_train, Y_train)\n",
    "X_test_xgb  = xgb.DMatrix(X_test)\n",
    "\n",
    "gbm = xgb.train(params, T_train_xgb, 20)\n",
    "Y_pred = gbm.predict(X_test_xgb)"
   ]
  },
  {
   "cell_type": "code",
   "execution_count": 73,
   "metadata": {},
   "outputs": [],
   "source": [
    "# convert type to integer\n",
    "Y_pred = Y_pred.astype(int)\n",
    "\n",
    "# change values back to original country symbols\n",
    "Y_pred = Series(Y_pred).map(num_country_dic)"
   ]
  },
  {
   "cell_type": "code",
   "execution_count": 74,
   "metadata": {},
   "outputs": [],
   "source": [
    "# Create submission\n",
    "\n",
    "country_df = pd.DataFrame({\n",
    "        \"id\": test_df[\"id\"],\n",
    "        \"country\": Y_pred\n",
    "    })\n",
    "\n",
    "submission = DataFrame(columns=[\"id\", \"country\"])\n",
    "\n",
    "# sort countries according to most probable destination country \n",
    "for key in country_df['country'].value_counts().index:\n",
    "    submission = pd.concat([submission, country_df[country_df[\"country\"] == key]], ignore_index=True)\n",
    "\n",
    "submission.to_csv('airbnb.csv', index=False)"
   ]
  },
  {
   "cell_type": "code",
   "execution_count": null,
   "metadata": {},
   "outputs": [],
   "source": []
  }
 ],
 "metadata": {
  "kernelspec": {
   "display_name": "Python 3",
   "language": "python",
   "name": "python3"
  },
  "language_info": {
   "codemirror_mode": {
    "name": "ipython",
    "version": 3
   },
   "file_extension": ".py",
   "mimetype": "text/x-python",
   "name": "python",
   "nbconvert_exporter": "python",
   "pygments_lexer": "ipython3",
   "version": "3.7.3"
  },
  "toc": {
   "base_numbering": 1,
   "nav_menu": {},
   "number_sections": true,
   "sideBar": true,
   "skip_h1_title": false,
   "title_cell": "Table of Contents",
   "title_sidebar": "Contents",
   "toc_cell": false,
   "toc_position": {},
   "toc_section_display": true,
   "toc_window_display": true
  }
 },
 "nbformat": 4,
 "nbformat_minor": 1
}

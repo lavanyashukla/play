{
 "cells": [
  {
   "cell_type": "markdown",
   "metadata": {
    "_uuid": "5d562c3fbb9e0dd38fb4410f92fcd8075eff37f1"
   },
   "source": [
    "<h1><center><font size=\"6\">TMDB Box Office Prediction</font></center></h1>\n",
    "\n",
    "\n",
    "\n",
    "\n",
    "<img src=\"https://www.themoviedb.org/assets/2/v4/logos/powered-by-square-blue-30582ce92620a08ce2ab8082fb19897a3c69093aa20e786cfe6a041e54e21b2b.svg\" width=\"500\"></img>\n",
    "\n",
    "\n",
    "\n",
    "<br>\n",
    "\n",
    "# <a id='0'>Content</a>\n",
    "\n",
    "- <a href='#1'>Introduction</a>  \n",
    "- <a href='#2'>Prepare the data analysis</a>  \n",
    "- <a href='#3'>External Data</a>  \n",
    "- <a href='#4'>Data exploration</a>   \n",
    " - <a href='#41'>Check the data</a>   \n",
    "  - <a href='#42'>Clean Data</a>     \n",
    " - <a href='#43'>EDA</a>     \n",
    "- <a href='#5'>Feature engineering</a>\n",
    "- <a href='#6'>Model</a>\n",
    "- <a href='#7'>Submission</a>  "
   ]
  },
  {
   "cell_type": "markdown",
   "metadata": {
    "_uuid": "6b56d2158d61803cf8cc73aeed1096bac411fba7"
   },
   "source": [
    "# <a id='1'>Introduction</a>  \n",
    "\n",
    "In a world... where movies made an estimated $41.7 billion in 2018, the film industry is more popular than ever. But what movies make the most money at the box office? How much does a director matter? Or the budget? For some movies, it's \"You had me at 'Hello.'\" For others, the trailer falls short of expectations and you think \"What we have here is a failure to communicate.\"\n",
    "\n",
    "In this competition, you're presented with metadata on over 7,000 past films from The Movie Database to try and predict their overall worldwide box office revenue. Data points provided include cast, crew, plot keywords, budget, posters, release dates, languages, production companies, and countries. You can collect other publicly available data to use in your model predictions, but in the spirit of this competition, use only data that would have been available before a movie's release."
   ]
  },
  {
   "cell_type": "markdown",
   "metadata": {
    "_uuid": "3bc6d6c059bf688d123b0a578207554e31d4f129"
   },
   "source": [
    "# <a id='2'>Prepare for data analysis</a>  \n",
    "\n",
    "\n",
    "## Load packages"
   ]
  },
  {
   "cell_type": "code",
   "execution_count": 1,
   "metadata": {
    "_kg_hide-input": true,
    "_kg_hide-output": true,
    "_uuid": "57432882dee312f49a8635e5ca10dd424af3ebcb"
   },
   "outputs": [
    {
     "name": "stderr",
     "output_type": "stream",
     "text": [
      "/anaconda3/lib/python3.7/site-packages/lightgbm/__init__.py:46: UserWarning: Starting from version 2.2.1, the library file in distribution wheels for macOS is built by the Apple Clang (Xcode_8.3.3) compiler.\n",
      "This means that in case of installing LightGBM from PyPI via the ``pip install lightgbm`` command, you don't need to install the gcc compiler anymore.\n",
      "Instead of that, you need to install the OpenMP library, which is required for running LightGBM on the system with the Apple Clang compiler.\n",
      "You can install the OpenMP library by the following command: ``brew install libomp``.\n",
      "  \"You can install the OpenMP library by the following command: ``brew install libomp``.\", UserWarning)\n"
     ]
    }
   ],
   "source": [
    "import numpy as np \n",
    "import pandas as pd \n",
    "\n",
    "\n",
    "# DRAGONS\n",
    "import xgboost as xgb\n",
    "import lightgbm as lgb\n",
    "import catboost as cat\n",
    "\n",
    "\n",
    "# plots\n",
    "import matplotlib.pyplot as plt\n",
    "import seaborn as sns \n",
    "from mpl_toolkits.mplot3d import Axes3D\n",
    "%matplotlib inline\n",
    "\n",
    "import ast\n",
    "from tqdm import tqdm\n",
    "from datetime import datetime\n",
    "\n",
    "from sklearn.preprocessing import LabelEncoder\n",
    "\n",
    "import warnings\n",
    "warnings.filterwarnings(\"ignore\")\n",
    "\n",
    "import os\n",
    "random_seed = 2019"
   ]
  },
  {
   "cell_type": "markdown",
   "metadata": {
    "_uuid": "ba69e23aad0f423224cb8f1f2eb51e0cf8837925"
   },
   "source": [
    "## Load data  "
   ]
  },
  {
   "cell_type": "code",
   "execution_count": 2,
   "metadata": {
    "_kg_hide-input": true,
    "_kg_hide-output": false,
    "_uuid": "3a18a5be08294ba94b459642b0dead84c5f54e5b"
   },
   "outputs": [
    {
     "ename": "FileNotFoundError",
     "evalue": "[Errno 2] File b'data/tmdbn/test.csv' does not exist: b'data/tmdbn/test.csv'",
     "output_type": "error",
     "traceback": [
      "\u001b[0;31m---------------------------------------------------------------------------\u001b[0m",
      "\u001b[0;31mFileNotFoundError\u001b[0m                         Traceback (most recent call last)",
      "\u001b[0;32m<timed exec>\u001b[0m in \u001b[0;36m<module>\u001b[0;34m\u001b[0m\n",
      "\u001b[0;32m/anaconda3/lib/python3.7/site-packages/pandas/io/parsers.py\u001b[0m in \u001b[0;36mparser_f\u001b[0;34m(filepath_or_buffer, sep, delimiter, header, names, index_col, usecols, squeeze, prefix, mangle_dupe_cols, dtype, engine, converters, true_values, false_values, skipinitialspace, skiprows, skipfooter, nrows, na_values, keep_default_na, na_filter, verbose, skip_blank_lines, parse_dates, infer_datetime_format, keep_date_col, date_parser, dayfirst, iterator, chunksize, compression, thousands, decimal, lineterminator, quotechar, quoting, doublequote, escapechar, comment, encoding, dialect, tupleize_cols, error_bad_lines, warn_bad_lines, delim_whitespace, low_memory, memory_map, float_precision)\u001b[0m\n\u001b[1;32m    700\u001b[0m                     skip_blank_lines=skip_blank_lines)\n\u001b[1;32m    701\u001b[0m \u001b[0;34m\u001b[0m\u001b[0m\n\u001b[0;32m--> 702\u001b[0;31m         \u001b[0;32mreturn\u001b[0m \u001b[0m_read\u001b[0m\u001b[0;34m(\u001b[0m\u001b[0mfilepath_or_buffer\u001b[0m\u001b[0;34m,\u001b[0m \u001b[0mkwds\u001b[0m\u001b[0;34m)\u001b[0m\u001b[0;34m\u001b[0m\u001b[0;34m\u001b[0m\u001b[0m\n\u001b[0m\u001b[1;32m    703\u001b[0m \u001b[0;34m\u001b[0m\u001b[0m\n\u001b[1;32m    704\u001b[0m     \u001b[0mparser_f\u001b[0m\u001b[0;34m.\u001b[0m\u001b[0m__name__\u001b[0m \u001b[0;34m=\u001b[0m \u001b[0mname\u001b[0m\u001b[0;34m\u001b[0m\u001b[0;34m\u001b[0m\u001b[0m\n",
      "\u001b[0;32m/anaconda3/lib/python3.7/site-packages/pandas/io/parsers.py\u001b[0m in \u001b[0;36m_read\u001b[0;34m(filepath_or_buffer, kwds)\u001b[0m\n\u001b[1;32m    427\u001b[0m \u001b[0;34m\u001b[0m\u001b[0m\n\u001b[1;32m    428\u001b[0m     \u001b[0;31m# Create the parser.\u001b[0m\u001b[0;34m\u001b[0m\u001b[0;34m\u001b[0m\u001b[0;34m\u001b[0m\u001b[0m\n\u001b[0;32m--> 429\u001b[0;31m     \u001b[0mparser\u001b[0m \u001b[0;34m=\u001b[0m \u001b[0mTextFileReader\u001b[0m\u001b[0;34m(\u001b[0m\u001b[0mfilepath_or_buffer\u001b[0m\u001b[0;34m,\u001b[0m \u001b[0;34m**\u001b[0m\u001b[0mkwds\u001b[0m\u001b[0;34m)\u001b[0m\u001b[0;34m\u001b[0m\u001b[0;34m\u001b[0m\u001b[0m\n\u001b[0m\u001b[1;32m    430\u001b[0m \u001b[0;34m\u001b[0m\u001b[0m\n\u001b[1;32m    431\u001b[0m     \u001b[0;32mif\u001b[0m \u001b[0mchunksize\u001b[0m \u001b[0;32mor\u001b[0m \u001b[0miterator\u001b[0m\u001b[0;34m:\u001b[0m\u001b[0;34m\u001b[0m\u001b[0;34m\u001b[0m\u001b[0m\n",
      "\u001b[0;32m/anaconda3/lib/python3.7/site-packages/pandas/io/parsers.py\u001b[0m in \u001b[0;36m__init__\u001b[0;34m(self, f, engine, **kwds)\u001b[0m\n\u001b[1;32m    893\u001b[0m             \u001b[0mself\u001b[0m\u001b[0;34m.\u001b[0m\u001b[0moptions\u001b[0m\u001b[0;34m[\u001b[0m\u001b[0;34m'has_index_names'\u001b[0m\u001b[0;34m]\u001b[0m \u001b[0;34m=\u001b[0m \u001b[0mkwds\u001b[0m\u001b[0;34m[\u001b[0m\u001b[0;34m'has_index_names'\u001b[0m\u001b[0;34m]\u001b[0m\u001b[0;34m\u001b[0m\u001b[0;34m\u001b[0m\u001b[0m\n\u001b[1;32m    894\u001b[0m \u001b[0;34m\u001b[0m\u001b[0m\n\u001b[0;32m--> 895\u001b[0;31m         \u001b[0mself\u001b[0m\u001b[0;34m.\u001b[0m\u001b[0m_make_engine\u001b[0m\u001b[0;34m(\u001b[0m\u001b[0mself\u001b[0m\u001b[0;34m.\u001b[0m\u001b[0mengine\u001b[0m\u001b[0;34m)\u001b[0m\u001b[0;34m\u001b[0m\u001b[0;34m\u001b[0m\u001b[0m\n\u001b[0m\u001b[1;32m    896\u001b[0m \u001b[0;34m\u001b[0m\u001b[0m\n\u001b[1;32m    897\u001b[0m     \u001b[0;32mdef\u001b[0m \u001b[0mclose\u001b[0m\u001b[0;34m(\u001b[0m\u001b[0mself\u001b[0m\u001b[0;34m)\u001b[0m\u001b[0;34m:\u001b[0m\u001b[0;34m\u001b[0m\u001b[0;34m\u001b[0m\u001b[0m\n",
      "\u001b[0;32m/anaconda3/lib/python3.7/site-packages/pandas/io/parsers.py\u001b[0m in \u001b[0;36m_make_engine\u001b[0;34m(self, engine)\u001b[0m\n\u001b[1;32m   1120\u001b[0m     \u001b[0;32mdef\u001b[0m \u001b[0m_make_engine\u001b[0m\u001b[0;34m(\u001b[0m\u001b[0mself\u001b[0m\u001b[0;34m,\u001b[0m \u001b[0mengine\u001b[0m\u001b[0;34m=\u001b[0m\u001b[0;34m'c'\u001b[0m\u001b[0;34m)\u001b[0m\u001b[0;34m:\u001b[0m\u001b[0;34m\u001b[0m\u001b[0;34m\u001b[0m\u001b[0m\n\u001b[1;32m   1121\u001b[0m         \u001b[0;32mif\u001b[0m \u001b[0mengine\u001b[0m \u001b[0;34m==\u001b[0m \u001b[0;34m'c'\u001b[0m\u001b[0;34m:\u001b[0m\u001b[0;34m\u001b[0m\u001b[0;34m\u001b[0m\u001b[0m\n\u001b[0;32m-> 1122\u001b[0;31m             \u001b[0mself\u001b[0m\u001b[0;34m.\u001b[0m\u001b[0m_engine\u001b[0m \u001b[0;34m=\u001b[0m \u001b[0mCParserWrapper\u001b[0m\u001b[0;34m(\u001b[0m\u001b[0mself\u001b[0m\u001b[0;34m.\u001b[0m\u001b[0mf\u001b[0m\u001b[0;34m,\u001b[0m \u001b[0;34m**\u001b[0m\u001b[0mself\u001b[0m\u001b[0;34m.\u001b[0m\u001b[0moptions\u001b[0m\u001b[0;34m)\u001b[0m\u001b[0;34m\u001b[0m\u001b[0;34m\u001b[0m\u001b[0m\n\u001b[0m\u001b[1;32m   1123\u001b[0m         \u001b[0;32melse\u001b[0m\u001b[0;34m:\u001b[0m\u001b[0;34m\u001b[0m\u001b[0;34m\u001b[0m\u001b[0m\n\u001b[1;32m   1124\u001b[0m             \u001b[0;32mif\u001b[0m \u001b[0mengine\u001b[0m \u001b[0;34m==\u001b[0m \u001b[0;34m'python'\u001b[0m\u001b[0;34m:\u001b[0m\u001b[0;34m\u001b[0m\u001b[0;34m\u001b[0m\u001b[0m\n",
      "\u001b[0;32m/anaconda3/lib/python3.7/site-packages/pandas/io/parsers.py\u001b[0m in \u001b[0;36m__init__\u001b[0;34m(self, src, **kwds)\u001b[0m\n\u001b[1;32m   1851\u001b[0m         \u001b[0mkwds\u001b[0m\u001b[0;34m[\u001b[0m\u001b[0;34m'usecols'\u001b[0m\u001b[0;34m]\u001b[0m \u001b[0;34m=\u001b[0m \u001b[0mself\u001b[0m\u001b[0;34m.\u001b[0m\u001b[0musecols\u001b[0m\u001b[0;34m\u001b[0m\u001b[0;34m\u001b[0m\u001b[0m\n\u001b[1;32m   1852\u001b[0m \u001b[0;34m\u001b[0m\u001b[0m\n\u001b[0;32m-> 1853\u001b[0;31m         \u001b[0mself\u001b[0m\u001b[0;34m.\u001b[0m\u001b[0m_reader\u001b[0m \u001b[0;34m=\u001b[0m \u001b[0mparsers\u001b[0m\u001b[0;34m.\u001b[0m\u001b[0mTextReader\u001b[0m\u001b[0;34m(\u001b[0m\u001b[0msrc\u001b[0m\u001b[0;34m,\u001b[0m \u001b[0;34m**\u001b[0m\u001b[0mkwds\u001b[0m\u001b[0;34m)\u001b[0m\u001b[0;34m\u001b[0m\u001b[0;34m\u001b[0m\u001b[0m\n\u001b[0m\u001b[1;32m   1854\u001b[0m         \u001b[0mself\u001b[0m\u001b[0;34m.\u001b[0m\u001b[0munnamed_cols\u001b[0m \u001b[0;34m=\u001b[0m \u001b[0mself\u001b[0m\u001b[0;34m.\u001b[0m\u001b[0m_reader\u001b[0m\u001b[0;34m.\u001b[0m\u001b[0munnamed_cols\u001b[0m\u001b[0;34m\u001b[0m\u001b[0;34m\u001b[0m\u001b[0m\n\u001b[1;32m   1855\u001b[0m \u001b[0;34m\u001b[0m\u001b[0m\n",
      "\u001b[0;32mpandas/_libs/parsers.pyx\u001b[0m in \u001b[0;36mpandas._libs.parsers.TextReader.__cinit__\u001b[0;34m()\u001b[0m\n",
      "\u001b[0;32mpandas/_libs/parsers.pyx\u001b[0m in \u001b[0;36mpandas._libs.parsers.TextReader._setup_parser_source\u001b[0;34m()\u001b[0m\n",
      "\u001b[0;31mFileNotFoundError\u001b[0m: [Errno 2] File b'data/tmdbn/test.csv' does not exist: b'data/tmdbn/test.csv'"
     ]
    }
   ],
   "source": [
    "%%time\n",
    "train = pd.read_csv('data/tmdb/train.csv')\n",
    "test = pd.read_csv('data/tmdbn/test.csv')\n",
    "train.index = train['id']\n",
    "test.index = test['id']"
   ]
  },
  {
   "cell_type": "markdown",
   "metadata": {
    "_uuid": "c463d36bc2d1ccee9cdb88bfb39d7a6841b67a20"
   },
   "source": [
    "# <a id='3'>Data exploration</a>  \n",
    "\n",
    "## <a id='31'>Check the data</a>  \n",
    "\n",
    "Let's check the train and test set."
   ]
  },
  {
   "cell_type": "code",
   "execution_count": 3,
   "metadata": {
    "_kg_hide-input": true,
    "_kg_hide-output": false,
    "_uuid": "182f2b4cc4e456152e5ec2f74b7cdb4e1e4fbef0"
   },
   "outputs": [
    {
     "ename": "NameError",
     "evalue": "name 'train' is not defined",
     "output_type": "error",
     "traceback": [
      "\u001b[0;31m---------------------------------------------------------------------------\u001b[0m",
      "\u001b[0;31mNameError\u001b[0m                                 Traceback (most recent call last)",
      "\u001b[0;32m<ipython-input-3-350ca91abd91>\u001b[0m in \u001b[0;36m<module>\u001b[0;34m\u001b[0m\n\u001b[0;32m----> 1\u001b[0;31m \u001b[0mprint\u001b[0m\u001b[0;34m(\u001b[0m\u001b[0;34m\"Dimension of train : \"\u001b[0m \u001b[0;34m+\u001b[0m \u001b[0mstr\u001b[0m\u001b[0;34m(\u001b[0m\u001b[0mtrain\u001b[0m\u001b[0;34m.\u001b[0m\u001b[0mshape\u001b[0m\u001b[0;34m)\u001b[0m \u001b[0;34m+\u001b[0m \u001b[0;34m\" || Dimension of test : \"\u001b[0m \u001b[0;34m+\u001b[0m \u001b[0mstr\u001b[0m\u001b[0;34m(\u001b[0m\u001b[0mtest\u001b[0m\u001b[0;34m.\u001b[0m\u001b[0mshape\u001b[0m\u001b[0;34m)\u001b[0m\u001b[0;34m)\u001b[0m\u001b[0;34m\u001b[0m\u001b[0;34m\u001b[0m\u001b[0m\n\u001b[0m",
      "\u001b[0;31mNameError\u001b[0m: name 'train' is not defined"
     ]
    }
   ],
   "source": [
    "print(\"Dimension of train : \" + str(train.shape) + \" || Dimension of test : \" + str(test.shape))"
   ]
  },
  {
   "cell_type": "code",
   "execution_count": null,
   "metadata": {
    "_kg_hide-input": true,
    "_kg_hide-output": false,
    "_uuid": "4093bcce73414c4ace2087676a893c68f36c1b93"
   },
   "outputs": [],
   "source": [
    "train.head()"
   ]
  },
  {
   "cell_type": "code",
   "execution_count": null,
   "metadata": {
    "_kg_hide-input": true,
    "_uuid": "b3d7196e8afdadc9cdfa46ede3fb4458938cb2ce"
   },
   "outputs": [],
   "source": [
    "print(\"Types columns : \\n\" + str(train.dtypes))"
   ]
  },
  {
   "cell_type": "code",
   "execution_count": null,
   "metadata": {
    "_kg_hide-input": true,
    "_kg_hide-output": false,
    "_uuid": "3fb3b01abae0f164eae99a7d9f918d97f50e4682"
   },
   "outputs": [],
   "source": [
    "print(\"Count NA Train for the variable budget : \\n\" + str(train[train.budget == 0].shape[0]) + \"\\n\")\n",
    "print(\"Count NA Test for the variable budget : \\n\" + str(test[test.budget == 0].shape[0]) + \"\\n\")\n",
    "print(\"Count NA Train per column : \\n\" + str(train.isna().sum()))"
   ]
  },
  {
   "cell_type": "markdown",
   "metadata": {
    "_uuid": "6803fd6e8f1d04fa43e4eba12d52c7ea466478ba"
   },
   "source": [
    "# <a href='#32'>Clean Data</a>    "
   ]
  },
  {
   "cell_type": "markdown",
   "metadata": {
    "_uuid": "031efd87518c64f9d59ea7899061bb28c789aeb5"
   },
   "source": [
    " Press **Output** to display the clean data"
   ]
  },
  {
   "cell_type": "code",
   "execution_count": null,
   "metadata": {
    "_kg_hide-input": true,
    "_kg_hide-output": true,
    "_uuid": "d803f8ba1de9eb73865c405de6c2d15eb6aa6abd"
   },
   "outputs": [],
   "source": [
    "train.loc[train['id'] == 16,'revenue'] = 192864          # Skinning\n",
    "train.loc[train['id'] == 90,'budget'] = 30000000         # Sommersby          \n",
    "train.loc[train['id'] == 118,'budget'] = 60000000        # Wild Hogs\n",
    "train.loc[train['id'] == 149,'budget'] = 18000000        # Beethoven\n",
    "train.loc[train['id'] == 313,'revenue'] = 12000000       # The Cookout \n",
    "train.loc[train['id'] == 451,'revenue'] = 12000000       # Chasing Liberty\n",
    "train.loc[train['id'] == 464,'budget'] = 20000000        # Parenthood\n",
    "train.loc[train['id'] == 470,'budget'] = 13000000        # The Karate Kid, Part II\n",
    "train.loc[train['id'] == 513,'budget'] = 930000          # From Prada to Nada\n",
    "train.loc[train['id'] == 797,'budget'] = 8000000         # Welcome to Dongmakgol\n",
    "train.loc[train['id'] == 819,'budget'] = 90000000        # Alvin and the Chipmunks: The Road Chip\n",
    "train.loc[train['id'] == 850,'budget'] = 90000000        # Modern Times\n",
    "train.loc[train['id'] == 1007,'budget'] = 2              # Zyzzyx Road \n",
    "train.loc[train['id'] == 1112,'budget'] = 7500000        # An Officer and a Gentleman\n",
    "train.loc[train['id'] == 1131,'budget'] = 4300000        # Smokey and the Bandit   \n",
    "train.loc[train['id'] == 1359,'budget'] = 10000000       # Stir Crazy \n",
    "train.loc[train['id'] == 1542,'budget'] = 1              # All at Once\n",
    "train.loc[train['id'] == 1570,'budget'] = 15800000       # Crocodile Dundee II\n",
    "train.loc[train['id'] == 1571,'budget'] = 4000000        # Lady and the Tramp\n",
    "train.loc[train['id'] == 1714,'budget'] = 46000000       # The Recruit\n",
    "train.loc[train['id'] == 1721,'budget'] = 17500000       # Cocoon\n",
    "train.loc[train['id'] == 1865,'revenue'] = 25000000      # Scooby-Doo 2: Monsters Unleashed\n",
    "train.loc[train['id'] == 1885,'budget'] = 12             # In the Cut\n",
    "train.loc[train['id'] == 2091,'budget'] = 10             # Deadfall\n",
    "train.loc[train['id'] == 2268,'budget'] = 17500000       # Madea Goes to Jail budget\n",
    "train.loc[train['id'] == 2491,'budget'] = 6              # Never Talk to Strangers\n",
    "train.loc[train['id'] == 2602,'budget'] = 31000000       # Mr. Holland's Opus\n",
    "train.loc[train['id'] == 2612,'budget'] = 15000000       # Field of Dreams\n",
    "train.loc[train['id'] == 2696,'budget'] = 10000000       # Nurse 3-D\n",
    "train.loc[train['id'] == 2801,'budget'] = 10000000       # Fracture\n",
    "train.loc[train['id'] == 335,'budget'] = 2 \n",
    "train.loc[train['id'] == 348,'budget'] = 12\n",
    "train.loc[train['id'] == 470,'budget'] = 13000000 \n",
    "train.loc[train['id'] == 513,'budget'] = 1100000\n",
    "train.loc[train['id'] == 640,'budget'] = 6 \n",
    "train.loc[train['id'] == 696,'budget'] = 1\n",
    "train.loc[train['id'] == 797,'budget'] = 8000000 \n",
    "train.loc[train['id'] == 850,'budget'] = 1500000\n",
    "train.loc[train['id'] == 1199,'budget'] = 5 \n",
    "train.loc[train['id'] == 1282,'budget'] = 9               # Death at a Funeral\n",
    "train.loc[train['id'] == 1347,'budget'] = 1\n",
    "train.loc[train['id'] == 1755,'budget'] = 2\n",
    "train.loc[train['id'] == 1801,'budget'] = 5\n",
    "train.loc[train['id'] == 1918,'budget'] = 592 \n",
    "train.loc[train['id'] == 2033,'budget'] = 4\n",
    "train.loc[train['id'] == 2118,'budget'] = 344 \n",
    "train.loc[train['id'] == 2252,'budget'] = 130\n",
    "train.loc[train['id'] == 2256,'budget'] = 1 \n",
    "train.loc[train['id'] == 2696,'budget'] = 10000000"
   ]
  },
  {
   "cell_type": "code",
   "execution_count": null,
   "metadata": {
    "_kg_hide-input": true,
    "_kg_hide-output": true,
    "_uuid": "46238bbfc05312adcb8bc339ca6dbc9ed02cd3fb"
   },
   "outputs": [],
   "source": [
    "test.loc[test['id'] == 3033,'budget'] = 250 \n",
    "test.loc[test['id'] == 3051,'budget'] = 50\n",
    "test.loc[test['id'] == 3084,'budget'] = 337\n",
    "test.loc[test['id'] == 3224,'budget'] = 4  \n",
    "test.loc[test['id'] == 3594,'budget'] = 25  \n",
    "test.loc[test['id'] == 3619,'budget'] = 500  \n",
    "test.loc[test['id'] == 3831,'budget'] = 3  \n",
    "test.loc[test['id'] == 3935,'budget'] = 500  \n",
    "test.loc[test['id'] == 4049,'budget'] = 995946 \n",
    "test.loc[test['id'] == 4424,'budget'] = 3  \n",
    "test.loc[test['id'] == 4460,'budget'] = 8  \n",
    "test.loc[test['id'] == 4555,'budget'] = 1200000 \n",
    "test.loc[test['id'] == 4624,'budget'] = 30 \n",
    "test.loc[test['id'] == 4645,'budget'] = 500 \n",
    "test.loc[test['id'] == 4709,'budget'] = 450 \n",
    "test.loc[test['id'] == 4839,'budget'] = 7\n",
    "test.loc[test['id'] == 3125,'budget'] = 25 \n",
    "test.loc[test['id'] == 3142,'budget'] = 1\n",
    "test.loc[test['id'] == 3201,'budget'] = 450\n",
    "test.loc[test['id'] == 3222,'budget'] = 6\n",
    "test.loc[test['id'] == 3545,'budget'] = 38\n",
    "test.loc[test['id'] == 3670,'budget'] = 18\n",
    "test.loc[test['id'] == 3792,'budget'] = 19\n",
    "test.loc[test['id'] == 3881,'budget'] = 7\n",
    "test.loc[test['id'] == 3969,'budget'] = 400\n",
    "test.loc[test['id'] == 4196,'budget'] = 6\n",
    "test.loc[test['id'] == 4221,'budget'] = 11\n",
    "test.loc[test['id'] == 4222,'budget'] = 500\n",
    "test.loc[test['id'] == 4285,'budget'] = 11\n",
    "test.loc[test['id'] == 4319,'budget'] = 1\n",
    "test.loc[test['id'] == 4639,'budget'] = 10\n",
    "test.loc[test['id'] == 4719,'budget'] = 45\n",
    "test.loc[test['id'] == 4822,'budget'] = 22\n",
    "test.loc[test['id'] == 4829,'budget'] = 20\n",
    "test.loc[test['id'] == 4969,'budget'] = 20\n",
    "test.loc[test['id'] == 5021,'budget'] = 40 \n",
    "test.loc[test['id'] == 5035,'budget'] = 1 \n",
    "test.loc[test['id'] == 5063,'budget'] = 14 \n",
    "test.loc[test['id'] == 5119,'budget'] = 2 \n",
    "test.loc[test['id'] == 5214,'budget'] = 30 \n",
    "test.loc[test['id'] == 5221,'budget'] = 50 \n",
    "test.loc[test['id'] == 4903,'budget'] = 15\n",
    "test.loc[test['id'] == 4983,'budget'] = 3\n",
    "test.loc[test['id'] == 5102,'budget'] = 28\n",
    "test.loc[test['id'] == 5217,'budget'] = 75\n",
    "test.loc[test['id'] == 5224,'budget'] = 3 \n",
    "test.loc[test['id'] == 5469,'budget'] = 20 \n",
    "test.loc[test['id'] == 5840,'budget'] = 1 \n",
    "test.loc[test['id'] == 5960,'budget'] = 30\n",
    "test.loc[test['id'] == 6506,'budget'] = 11 \n",
    "test.loc[test['id'] == 6553,'budget'] = 280\n",
    "test.loc[test['id'] == 6561,'budget'] = 7\n",
    "test.loc[test['id'] == 6582,'budget'] = 218\n",
    "test.loc[test['id'] == 6638,'budget'] = 5\n",
    "test.loc[test['id'] == 6749,'budget'] = 8 \n",
    "test.loc[test['id'] == 6759,'budget'] = 50 \n",
    "test.loc[test['id'] == 6856,'budget'] = 10\n",
    "test.loc[test['id'] == 6858,'budget'] =  100\n",
    "test.loc[test['id'] == 6876,'budget'] =  250\n",
    "test.loc[test['id'] == 6972,'budget'] = 1\n",
    "test.loc[test['id'] == 7079,'budget'] = 8000000\n",
    "test.loc[test['id'] == 7150,'budget'] = 118\n",
    "test.loc[test['id'] == 6506,'budget'] = 118\n",
    "test.loc[test['id'] == 7225,'budget'] = 6\n",
    "test.loc[test['id'] == 7231,'budget'] = 85\n",
    "test.loc[test['id'] == 5222,'budget'] = 5\n",
    "test.loc[test['id'] == 5322,'budget'] = 90\n",
    "test.loc[test['id'] == 5350,'budget'] = 70\n",
    "test.loc[test['id'] == 5378,'budget'] = 10\n",
    "test.loc[test['id'] == 5545,'budget'] = 80\n",
    "test.loc[test['id'] == 5810,'budget'] = 8\n",
    "test.loc[test['id'] == 5926,'budget'] = 300\n",
    "test.loc[test['id'] == 5927,'budget'] = 4\n",
    "test.loc[test['id'] == 5986,'budget'] = 1\n",
    "test.loc[test['id'] == 6053,'budget'] = 20\n",
    "test.loc[test['id'] == 6104,'budget'] = 1\n",
    "test.loc[test['id'] == 6130,'budget'] = 30\n",
    "test.loc[test['id'] == 6301,'budget'] = 150\n",
    "test.loc[test['id'] == 6276,'budget'] = 100\n",
    "test.loc[test['id'] == 6473,'budget'] = 100\n",
    "test.loc[test['id'] == 6842,'budget'] = 30"
   ]
  },
  {
   "cell_type": "markdown",
   "metadata": {
    "_uuid": "969c24dbaa6217fb9e236681201682cba098445f"
   },
   "source": [
    "# <a href='#3'>External Data</a> "
   ]
  },
  {
   "cell_type": "markdown",
   "metadata": {
    "_uuid": "75a14953c5c35f793b18f4c33d4e88e64a6a184c"
   },
   "source": [
    "Contains dates per country"
   ]
  },
  {
   "cell_type": "code",
   "execution_count": null,
   "metadata": {
    "_uuid": "ee0c8fdcd1bd7baaa419ce663900d32577184f0e"
   },
   "outputs": [],
   "source": [
    "release_dates = pd.read_csv('data/tmdb/release_dates_per_country.csv')\n",
    "release_dates['id'] = range(1,7399)\n",
    "release_dates.drop(['original_title','title'],axis = 1,inplace = True)\n",
    "release_dates.index = release_dates['id']\n",
    "train = pd.merge(train, release_dates, how='left', on=['id'])\n",
    "test = pd.merge(test, release_dates, how='left', on=['id'])"
   ]
  },
  {
   "cell_type": "markdown",
   "metadata": {
    "_uuid": "147c9f30e5313db95a7d124ed7555080a8dec9f4"
   },
   "source": [
    "Contains the variables totalVotes and vote_average"
   ]
  },
  {
   "cell_type": "markdown",
   "metadata": {
    "_uuid": "fab1a67ffed5232004704d45de0e864b78b200af"
   },
   "source": []
  },
  {
   "cell_type": "markdown",
   "metadata": {
    "_uuid": "4148b185ef7dab1ac4c56e755a609bdd561782be"
   },
   "source": [
    "**The data below comes from the kernel EDA, Feature Engineering, LGB+XGB+CAT of Kamal Chhirang**"
   ]
  },
  {
   "cell_type": "code",
   "execution_count": null,
   "metadata": {
    "_uuid": "8af51fda878e85f5820a768a098b6aafab0f7158"
   },
   "outputs": [],
   "source": [
    "trainAdditionalFeatures = pd.read_csv('data/tmdb/TrainAdditionalFeatures.csv')[['imdb_id','popularity2','rating']]\n",
    "testAdditionalFeatures = pd.read_csv('data/tmdb/TestAdditionalFeatures.csv')[['imdb_id','popularity2','rating']]\n",
    "\n",
    "train = pd.merge(train, trainAdditionalFeatures, how='left', on=['imdb_id'])\n",
    "test = pd.merge(test, testAdditionalFeatures, how='left', on=['imdb_id'])"
   ]
  },
  {
   "cell_type": "code",
   "execution_count": null,
   "metadata": {
    "_uuid": "44b2414c267c7596c4d349df3ff183e5ba3a41c9"
   },
   "outputs": [],
   "source": [
    "\"\"\"\n",
    "train['rating'] = train['rating'].fillna(train['rating'].mean())\n",
    "train['vote_count'] = train['vote_count'].fillna(train['vote_count'].mean())\n",
    "\n",
    "test['rating'] = test['rating'].fillna(test['rating'].mean())\n",
    "test['vote_count'] = test['vote_count'].fillna(test['vote_count'].mean())\n",
    "\"\"\""
   ]
  },
  {
   "cell_type": "markdown",
   "metadata": {
    "_uuid": "d60d7b6cb19723e45438bc3595a140a5350b4fcc"
   },
   "source": [
    "# <a id='33'>EDA</a>  "
   ]
  },
  {
   "cell_type": "code",
   "execution_count": null,
   "metadata": {
    "_uuid": "f019a0f2a1cc8474419ce1d6d44041269312e1df"
   },
   "outputs": [],
   "source": [
    "train.head()"
   ]
  },
  {
   "cell_type": "code",
   "execution_count": null,
   "metadata": {
    "_kg_hide-input": true,
    "_uuid": "ff09a25a71085011eb5dca4bdc48880067d57332"
   },
   "outputs": [],
   "source": [
    "x1 = np.array(train[\"budget\"])\n",
    "y1 = np.array(train[\"revenue\"])\n",
    "\n",
    "fig = plt.figure(1, figsize=(9, 5))\n",
    "\n",
    "\n",
    "plt.plot([0,400000000],[0,400000000],c=\"green\")\n",
    "plt.scatter(x1, y1, c=['blue'],marker='o')\n",
    "plt.grid()\n",
    "plt.xlabel(\"budget\", fontsize=10)  \n",
    "plt.ylabel(\"revenue\", fontsize=10)\n",
    "plt.title(\"Link between revenue and budget\", fontsize=10)"
   ]
  },
  {
   "cell_type": "code",
   "execution_count": null,
   "metadata": {
    "_kg_hide-input": true,
    "_uuid": "a8205f346fbde641bb574cc0da0529e070eccd81"
   },
   "outputs": [],
   "source": [
    "sns.set_style('whitegrid')\n",
    "\n",
    "fig, ax = plt.subplots(1,2,figsize=(20,10))\n",
    "plt.subplot(1,2,1)\n",
    "plt.plot([0,300],[0,400000000],c=\"green\")\n",
    "plt.scatter(train[\"popularity\"], train[\"revenue\"], marker='o')\n",
    "plt.xlabel(\"popularity\", fontsize=9)\n",
    "plt.ylabel(\"revenue\", fontsize=9)\n",
    "plt.subplot(1,2,2)\n",
    "plt.plot([0,120],[0,400000000],c=\"green\")\n",
    "plt.scatter(train[\"theatrical\"], train[\"revenue\"], marker='o',color = 'red')\n",
    "plt.xlabel(\"theatrical\", fontsize=9)\n",
    "plt.ylabel(\"revenue\", fontsize=9)\n",
    "plt.show()"
   ]
  },
  {
   "cell_type": "markdown",
   "metadata": {
    "_uuid": "fdf5b1f28bf21c21d040659fcf7d5f3b9f87c3e4"
   },
   "source": [
    "It is clear from the graph below that revenue depends a lot on budget and total_vote"
   ]
  },
  {
   "cell_type": "code",
   "execution_count": null,
   "metadata": {
    "_kg_hide-input": false,
    "_uuid": "8a4f0ad33c7c6eeb996f52a8984aa27888e6ccb6"
   },
   "outputs": [],
   "source": [
    "fig, ax = plt.subplots(1,2,figsize=(12,10))\n",
    "plt.subplot(1,2,1)\n",
    "ax = plt.subplot(projection='3d')\n",
    "colors = np.random.rand(len(train))\n",
    "\n",
    "xs = np.array(train['vote_count'])\n",
    "ys = np.array(train['budget'])\n",
    "zs = np.array(train['revenue'])\n",
    "ax.scatter(xs,ys, zs, c= colors,marker='o', alpha=1)\n",
    "plt.plot([0,17500],[0,400000000],[0,400000000],c=\"green\")\n",
    "\n",
    "ax.set_xlabel('vote_count')\n",
    "ax.set_ylabel('budget')\n",
    "ax.set_zlabel('revenue')\n",
    "\n",
    "plt.show()"
   ]
  },
  {
   "cell_type": "code",
   "execution_count": null,
   "metadata": {
    "_kg_hide-input": false,
    "_uuid": "60c6d61782f55d147dbfa245d1a259b7ebdc2e09"
   },
   "outputs": [],
   "source": [
    "plt.figure(figsize=(15,11)) #figure size\n",
    "\n",
    "#It's another way to plot our data. using a variable that contains the plot parameters\n",
    "g1 = sns.boxenplot(x='original_language', y='revenue', \n",
    "                   data=train[(train['original_language'].isin((train['original_language'].value_counts()[:10].index.values)))])\n",
    "g1.set_title(\"Revenue by original language's movies\", fontsize=20) # title and fontsize\n",
    "g1.set_xticklabels(g1.get_xticklabels(),rotation=45) # It's the way to rotate the xticks when we use variable to our graphs\n",
    "g1.set_xlabel('Original language', fontsize=18) # Xlabel\n",
    "g1.set_ylabel('Revenue', fontsize=18) #Ylabel\n",
    "\n",
    "plt.show()"
   ]
  },
  {
   "cell_type": "code",
   "execution_count": null,
   "metadata": {
    "_kg_hide-input": false,
    "_uuid": "1b415431151f8bf46f759c2749588fba061d4b8f"
   },
   "outputs": [],
   "source": [
    "(sns.FacetGrid(train[(train['release_year']\\\n",
    "                        .isin(train['release_year']\\\n",
    "                              .value_counts()[:5].index.values))],\n",
    "               hue='release_year', height=5, aspect=2)\n",
    "  .map(sns.kdeplot, 'budget', shade=True)\n",
    " .add_legend()\n",
    ")\n",
    "plt.title(\"Budget's revenue by years\")\n",
    "plt.show()\n"
   ]
  },
  {
   "cell_type": "code",
   "execution_count": null,
   "metadata": {
    "_kg_hide-input": true,
    "_uuid": "656a2b65c7496f0ef6334c008b097e1dfca430a6"
   },
   "outputs": [],
   "source": [
    "plt.figure(figsize=(12,5))\n",
    "\n",
    "# Subplot allow us to plot more than one \n",
    "# in this case, will be create a subplot grid of 2 x 1\n",
    "\n",
    "# seting the distribuition of our data and normalizing using np.log on values highest than 0 and + \n",
    "# also, we will set the number of bins and if we want or not kde on our histogram\n",
    "ax = sns.distplot(np.log1p(train['revenue']), bins=40, kde=True)\n",
    "ax.set_xlabel('Revenue', fontsize=15) #seting the xlabel and size of font\n",
    "ax.set_ylabel('Distribuition', fontsize=15) #seting the ylabel and size of font\n",
    "ax.set_title(\"Distribuition of Revenue\", fontsize=20) #seting the title and size of font"
   ]
  },
  {
   "cell_type": "markdown",
   "metadata": {
    "_uuid": "75da01716af452d993cadc15a213b6ad3490a267"
   },
   "source": [
    "### Correlation Matrix"
   ]
  },
  {
   "cell_type": "code",
   "execution_count": null,
   "metadata": {
    "_kg_hide-input": true,
    "_uuid": "47f5f851996a593fed1a803b2aca21ae864ef33e"
   },
   "outputs": [],
   "source": [
    "col = ['revenue','budget','popularity','theatrical','runtime']\n",
    "\n",
    "plt.subplots(figsize=(10, 8))\n",
    "\n",
    "corr = train[col].corr()\n",
    "\n",
    "sns.heatmap(corr, xticklabels=col,yticklabels=col, linewidths=.5, cmap=\"Reds\")"
   ]
  },
  {
   "cell_type": "markdown",
   "metadata": {
    "_uuid": "38bac430fd0568d0e87ea428e7f76f63a89fd7a8"
   },
   "source": [
    "# <a href='#4'>Feature engineering</a>"
   ]
  },
  {
   "cell_type": "code",
   "execution_count": null,
   "metadata": {
    "_uuid": "85e47d6d91209014e7a3e897e4290793054bf2fb"
   },
   "outputs": [],
   "source": [
    "def prepare(df):\n",
    "    global json_cols\n",
    "    global train_dict\n",
    "    #df['totalVotes'] = df['totalVotes'].fillna(6)\n",
    "\n",
    "    df[['release_month','release_day','release_year']]=df['release_date'].str.split('/',expand=True).replace(np.nan, 0).astype(int)\n",
    "    df['release_year'] = df['release_year']\n",
    "    df.loc[ (df['release_year'] <= 18) & (df['release_year'] < 100), \"release_year\"] += 2000\n",
    "    df.loc[ (df['release_year'] > 18)  & (df['release_year'] < 100), \"release_year\"] += 1900\n",
    "    \n",
    "    rating_na = df.groupby([\"release_year\",\"original_language\"])['rating'].mean().reset_index()\n",
    "    df[df.rating.isna()]['rating'] = df.merge(rating_na, how = 'left' ,on = [\"release_year\",\"original_language\"])\n",
    "    \n",
    "    vote_count_na = df.groupby([\"release_year\",\"original_language\"])['vote_count'].mean().reset_index()\n",
    "    df[df.vote_count.isna()]['vote_count'] = df.merge(vote_count_na, how = 'left' ,on = [\"release_year\",\"original_language\"])\n",
    "    \n",
    "    #budget_na = df.groupby([\"release_year\",\"original_language\"])['budget'].mean().reset_index()\n",
    "    #df.loc[df.budget == 0]['budget'] = df.merge(budget_na, how = 'left' ,on = [\"release_year\",\"original_language\"])\n",
    "\n",
    "    df['budget'] = np.log1p(df['budget'])\n",
    "    \n",
    "    df['genders_0_crew'] = df['crew'].apply(lambda x: sum([1 for i in x if i['gender'] == 0]))\n",
    "    df['genders_1_crew'] = df['crew'].apply(lambda x: sum([1 for i in x if i['gender'] == 1]))\n",
    "    df['genders_2_crew'] = df['crew'].apply(lambda x: sum([1 for i in x if i['gender'] == 2]))\n",
    "\n",
    "    \n",
    "    df['_collection_name'] = df['belongs_to_collection'].apply(lambda x: x[0]['name'] if x != {} else 0)\n",
    "    le = LabelEncoder()\n",
    "    le.fit(list(df['_collection_name'].fillna('')))\n",
    "    df['_collection_name'] = le.transform(df['_collection_name'].fillna('').astype(str))\n",
    "    df['_num_Keywords'] = df['Keywords'].apply(lambda x: len(x) if x != {} else 0)\n",
    "    df['_num_cast'] = df['cast'].apply(lambda x: len(x) if x != {} else 0)\n",
    "    \n",
    "    releaseDate = pd.to_datetime(df['release_date']) \n",
    "    df['release_dayofweek'] = releaseDate.dt.dayofweek \n",
    "    df['release_quarter'] = releaseDate.dt.quarter     \n",
    "\n",
    "    df['_budget_runtime_ratio'] = df['budget']/df['runtime'] \n",
    "    df['_budget_popularity_ratio'] = df['budget']/df['popularity']\n",
    "    df['_budget_year_ratio'] = df['budget']/(df['release_year']*df['release_year'])\n",
    "    df['_releaseYear_popularity_ratio'] = df['release_year']/df['popularity']\n",
    "    df['_releaseYear_popularity_ratio2'] = df['popularity']/df['release_year']\n",
    "\n",
    "\n",
    "    df['meanruntimeByYear'] = df.groupby(\"release_year\")[\"runtime\"].aggregate('mean')\n",
    "    df['meanPopularityByYear'] = df.groupby(\"release_year\")[\"popularity\"].aggregate('mean')\n",
    "    df['meanBudgetByYear'] = df.groupby(\"release_year\")[\"budget\"].aggregate('mean')\n",
    "    df['_popularity_theatrical_ratio'] = df['theatrical']/df['popularity']\n",
    "    df['_budget_theatrical_ratio'] = df['budget']/df['theatrical']\n",
    "    #df['mean_theatrical_ByYear'] = df.groupby(\"release_year\")[\"theatrical\"].aggregate('mean')\n",
    "    df['_popularity_totalVotes_ratio'] = df['vote_count']/df['popularity']\n",
    "    df['_totalVotes_releaseYear_ratio'] = df['vote_count']/df['release_year']\n",
    "    df['_budget_totalVotes_ratio'] = df['budget']/df['vote_count']\n",
    "    \n",
    "    \n",
    "    df['_rating_popularity_ratio'] = df['rating']/df['popularity']\n",
    "    df['_rating_totalVotes_ratio'] = df['vote_count']/df['rating']\n",
    "    df['_budget_rating_ratio'] = df['budget']/df['rating']\n",
    "    df['_runtime_rating_ratio'] = df['runtime']/df['rating']\n",
    "    \n",
    "    \n",
    "    df['has_homepage'] = 0\n",
    "    df.loc[pd.isnull(df['homepage']) ,\"has_homepage\"] = 1\n",
    "    \n",
    "    df['isbelongs_to_collectionNA'] = 0\n",
    "    df.loc[pd.isnull(df['belongs_to_collection']) ,\"isbelongs_to_collectionNA\"] = 1\n",
    "    \n",
    "    df['isTaglineNA'] = 0\n",
    "    df.loc[df['tagline'] == 0 ,\"isTaglineNA\"] = 1 \n",
    "\n",
    "    df['isOriginalLanguageEng'] = 0 \n",
    "    df.loc[ df['original_language'] == \"en\" ,\"isOriginalLanguageEng\"] = 1\n",
    "    \n",
    "    df['isTitleDifferent'] = 1\n",
    "    df.loc[ df['original_title'] == df['title'] ,\"isTitleDifferent\"] = 0 \n",
    "\n",
    "    df['isMovieReleased'] = 1\n",
    "    df.loc[ df['status'] != \"Released\" ,\"isMovieReleased\"] = 0 \n",
    "\n",
    "    # get collection id\n",
    "    df['collection_id'] = df['belongs_to_collection'].apply(lambda x : np.nan if len(x)==0 else x[0]['id'])\n",
    "    \n",
    "    df['original_title_letter_count'] = df['original_title'].str.len() \n",
    "    df['original_title_word_count'] = df['original_title'].str.split().str.len() \n",
    "\n",
    "\n",
    "    df['title_word_count'] = df['title'].str.split().str.len()\n",
    "    df['overview_word_count'] = df['overview'].str.split().str.len()\n",
    "    df['tagline_word_count'] = df['tagline'].str.split().str.len()\n",
    "    \n",
    "    df['production_countries_count'] = df['production_countries'].apply(lambda x : len(x))\n",
    "    df['production_companies_count'] = df['production_companies'].apply(lambda x : len(x))\n",
    "    df['cast_count'] = df['cast'].apply(lambda x : len(x))\n",
    "    df['crew_count'] = df['crew'].apply(lambda x : len(x))\n",
    "\n",
    "    \n",
    "    \n",
    "\n",
    "    for col in ['genres', 'production_countries', 'spoken_languages', 'production_companies'] :\n",
    "        df[col] = df[col].map(lambda x: sorted(list(set([n if n in train_dict[col] else col+'_etc' for n in [d['name'] for d in x]])))).map(lambda x: ','.join(map(str, x)))\n",
    "        temp = df[col].str.get_dummies(sep=',')\n",
    "        df = pd.concat([df, temp], axis=1, sort=False)\n",
    "    df.drop(['genres_etc'], axis = 1, inplace = True)\n",
    "    \n",
    "    df = df.drop(['belongs_to_collection','genres','homepage','imdb_id','overview','runtime'\n",
    "    ,'poster_path','production_companies','production_countries','release_date','spoken_languages'\n",
    "    ,'status','title','Keywords','cast','crew','original_language','original_title','tagline', 'collection_id','movie_id'\n",
    "    ],axis=1)\n",
    "    \n",
    "    df.fillna(value=0.0, inplace = True) \n",
    "\n",
    "    return df\n"
   ]
  },
  {
   "cell_type": "code",
   "execution_count": null,
   "metadata": {
    "_uuid": "2c4e93105fac0ca2c48d0b1d4ac7cac1dce74dbd",
    "scrolled": true
   },
   "outputs": [],
   "source": [
    "test['revenue'] = np.nan\n",
    "\n",
    "json_cols = ['genres', 'production_companies', 'production_countries', 'spoken_languages', 'Keywords', 'cast', 'crew']\n",
    "\n",
    "def get_dictionary(s):\n",
    "    try:\n",
    "        d = eval(s)\n",
    "    except:\n",
    "        d = {}\n",
    "    return d\n",
    "\n",
    "for col in tqdm(json_cols + ['belongs_to_collection']) :\n",
    "    train[col] = train[col].apply(lambda x : get_dictionary(x))\n",
    "    test[col] = test[col].apply(lambda x : get_dictionary(x))\n",
    "\n",
    "print(train.shape)\n",
    "train.head()"
   ]
  },
  {
   "cell_type": "code",
   "execution_count": null,
   "metadata": {
    "_uuid": "21df291d86126c44981d46f9088fcfcbe2ed6306"
   },
   "outputs": [],
   "source": [
    "# parse json data and build category dictionary\n",
    "def get_json_dict(df) :\n",
    "    global json_cols\n",
    "    result = dict()\n",
    "    for e_col in json_cols :\n",
    "        d = dict()\n",
    "        rows = df[e_col].values\n",
    "        for row in rows :\n",
    "            if row is None : continue\n",
    "            for i in row :\n",
    "                if i['name'] not in d :\n",
    "                    d[i['name']] = 0\n",
    "                d[i['name']] += 1\n",
    "        result[e_col] = d\n",
    "    return result\n",
    "\n",
    "train_dict = get_json_dict(train)\n",
    "test_dict = get_json_dict(test)\n",
    "\n",
    "# remove cateogry with bias and low frequency\n",
    "for col in json_cols :\n",
    "    \n",
    "    remove = []\n",
    "    train_id = set(list(train_dict[col].keys()))\n",
    "    test_id = set(list(test_dict[col].keys()))   \n",
    "    \n",
    "    remove += list(train_id - test_id) + list(test_id - train_id)\n",
    "    for i in train_id.union(test_id) - set(remove) :\n",
    "        if train_dict[col][i] < 10 or i == '' :\n",
    "            remove += [i]\n",
    "            \n",
    "    for i in remove :\n",
    "        if i in train_dict[col] :\n",
    "            del train_dict[col][i]\n",
    "        if i in test_dict[col] :\n",
    "            del test_dict[col][i]\n",
    "            \n",
    "    print(col, 'size :', len(train_id.union(test_id)), '->', len(train_dict[col]))"
   ]
  },
  {
   "cell_type": "code",
   "execution_count": null,
   "metadata": {
    "_uuid": "632541eeb1c317a45f78885ba8134e7c0e30a3af"
   },
   "outputs": [],
   "source": [
    "# prepare data\n",
    "all_data = prepare(pd.concat([train, test]).reset_index(drop = True))\n",
    "train = all_data.loc[:train.shape[0] - 1,:]\n",
    "test = all_data.loc[train.shape[0]:,:]                           \n",
    "print(train.shape)\n",
    "train.head()"
   ]
  },
  {
   "cell_type": "code",
   "execution_count": null,
   "metadata": {
    "_uuid": "92091377a63d880f0f627a8c596907c99f6a83b0"
   },
   "outputs": [],
   "source": [
    "features = list(train.columns)\n",
    "features =  [i for i in features if i != 'id' and i != 'revenue']"
   ]
  },
  {
   "cell_type": "markdown",
   "metadata": {
    "_uuid": "95938d0f89650dad01082415615c97e0ee6664fc"
   },
   "source": [
    "# <a href='#5'>Model</a>"
   ]
  },
  {
   "cell_type": "code",
   "execution_count": null,
   "metadata": {
    "_uuid": "c5c5ffd364345402c156a1cfc562fb700e111d9f"
   },
   "outputs": [],
   "source": [
    "from sklearn.metrics import mean_squared_error\n",
    "def score(data, y):\n",
    "    validation_res = pd.DataFrame(\n",
    "    {\"id\": data[\"id\"].values,\n",
    "     \"transactionrevenue\": data[\"revenue\"].values,\n",
    "     \"predictedrevenue\": np.expm1(y)})\n",
    "\n",
    "    validation_res = validation_res.groupby(\"id\")[\"transactionrevenue\", \"predictedrevenue\"].sum().reset_index()\n",
    "    return np.sqrt(mean_squared_error(np.log1p(validation_res[\"transactionrevenue\"].values), \n",
    "                                     np.log1p(validation_res[\"predictedrevenue\"].values)))"
   ]
  },
  {
   "cell_type": "code",
   "execution_count": null,
   "metadata": {
    "_uuid": "0b6fd7e2f4162068c25358ee62a9de2e81708084"
   },
   "outputs": [],
   "source": [
    "from sklearn.model_selection import GroupKFold\n",
    "\n",
    "class KFoldValidation():\n",
    "    def __init__(self, data, n_splits=6):\n",
    "        unique_vis = np.array(sorted(data['id'].astype(str).unique()))\n",
    "        folds = GroupKFold(n_splits)\n",
    "        ids = np.arange(data.shape[0])\n",
    "        \n",
    "        self.fold_ids = []\n",
    "        for trn_vis, val_vis in folds.split(X=unique_vis, y=unique_vis, groups=unique_vis):\n",
    "            self.fold_ids.append([\n",
    "                    ids[data['id'].astype(str).isin(unique_vis[trn_vis])],\n",
    "                    ids[data['id'].astype(str).isin(unique_vis[val_vis])]\n",
    "                ])\n",
    "            \n",
    "    def validate(self, train, test, features, model, name=\"\", prepare_stacking=False, \n",
    "                 fit_params={\"early_stopping_rounds\": 500, \"verbose\": 100, \"eval_metric\": \"rmse\"}):\n",
    "        model.FI = pd.DataFrame(index=features)\n",
    "        full_score = 0\n",
    "        \n",
    "        if prepare_stacking:\n",
    "            test[name] = 0\n",
    "            train[name] = np.NaN\n",
    "        \n",
    "        for fold_id, (trn, val) in enumerate(self.fold_ids):\n",
    "            devel = train[features].iloc[trn]\n",
    "            y_devel = np.log1p(train[\"revenue\"].iloc[trn])\n",
    "            valid = train[features].iloc[val]\n",
    "            y_valid = np.log1p(train[\"revenue\"].iloc[val])\n",
    "                       \n",
    "            print(\"Fold \", fold_id, \":\")\n",
    "            model.fit(devel, y_devel, eval_set=[(valid, y_valid)], **fit_params)\n",
    "            \n",
    "            if len(model.feature_importances_) == len(features):  \n",
    "                model.FI['fold' + str(fold_id)] = model.feature_importances_ / model.feature_importances_.sum()\n",
    "\n",
    "            predictions = model.predict(valid)\n",
    "            predictions[predictions < 0] = 0\n",
    "            print(\"Fold \", fold_id, \" error: \", mean_squared_error(y_valid, predictions)**0.5)\n",
    "            \n",
    "            fold_score = score(train.iloc[val], predictions)\n",
    "            full_score += fold_score / len(self.fold_ids)\n",
    "            print(\"Fold \", fold_id, \" score: \", fold_score)\n",
    "            if prepare_stacking:\n",
    "                train[name].iloc[val] = predictions\n",
    "                \n",
    "                test_predictions = model.predict(test[features])\n",
    "                test_predictions[test_predictions < 0] = 0\n",
    "                test[name] += test_predictions / len(self.fold_ids)\n",
    "                \n",
    "        print(\"Final score: \", full_score)\n",
    "        return full_score"
   ]
  },
  {
   "cell_type": "code",
   "execution_count": null,
   "metadata": {
    "_uuid": "83209ee9a2370b8e9c2ab6245368f7a5c4a737a6"
   },
   "outputs": [],
   "source": [
    "Kfolder = KFoldValidation(train)"
   ]
  },
  {
   "cell_type": "code",
   "execution_count": null,
   "metadata": {
    "_uuid": "da46da509fda1d9b5c49f2af30252bc91ae14a54"
   },
   "outputs": [],
   "source": [
    "train"
   ]
  },
  {
   "cell_type": "code",
   "execution_count": null,
   "metadata": {
    "_uuid": "a64da194e395bf795fe5204a41d9824fbfff0a8a"
   },
   "outputs": [],
   "source": [
    "lgbmodel = lgb.LGBMRegressor(n_estimators=10000, \n",
    "                             objective='regression', \n",
    "                             metric='rmse',\n",
    "                             max_depth = 5,\n",
    "                             num_leaves=30, \n",
    "                             min_child_samples=100,\n",
    "                             learning_rate=0.01,\n",
    "                             boosting = 'gbdt',\n",
    "                             min_data_in_leaf= 10,\n",
    "                             feature_fraction = 0.9,\n",
    "                             bagging_freq = 1,\n",
    "                             bagging_fraction = 0.9,\n",
    "                             importance_type='gain',\n",
    "                             lambda_l1 = 0.2,\n",
    "                             bagging_seed=random_seed, \n",
    "                             subsample=.8, \n",
    "                             colsample_bytree=.9,\n",
    "                             use_best_model=True)"
   ]
  },
  {
   "cell_type": "code",
   "execution_count": null,
   "metadata": {
    "_uuid": "07d33f2c3c851799a0e0522d28622d5ce2c79645",
    "scrolled": true
   },
   "outputs": [],
   "source": [
    "Kfolder.validate(train, test, features , lgbmodel, name=\"lgbfinal\", prepare_stacking=True) "
   ]
  },
  {
   "cell_type": "code",
   "execution_count": null,
   "metadata": {
    "_uuid": "4c2ca2e14e7c48515f366cbebf47d6c0ff8a5070"
   },
   "outputs": [],
   "source": [
    "lgbmodel.FI.mean(axis=1).sort_values()[180:250].plot(kind=\"barh\",title = \"Features Importance\", figsize = (10,10))"
   ]
  },
  {
   "cell_type": "code",
   "execution_count": null,
   "metadata": {
    "_uuid": "5b72f71849cbf0704ee9de95d8af4104f597d8ea"
   },
   "outputs": [],
   "source": [
    "xgbmodel = xgb.XGBRegressor(max_depth=5, \n",
    "                            learning_rate=0.01, \n",
    "                            n_estimators=10000, \n",
    "                            objective='reg:linear', \n",
    "                            gamma=1.45, \n",
    "                            seed=random_seed, \n",
    "                            silent=True,\n",
    "                            subsample=0.8, \n",
    "                            colsample_bytree=0.7, \n",
    "                            colsample_bylevel=0.5)"
   ]
  },
  {
   "cell_type": "code",
   "execution_count": null,
   "metadata": {
    "_uuid": "5434dfe8ef4c3f931e99fbc39c1a7436bb9ff167"
   },
   "outputs": [],
   "source": [
    "Kfolder.validate(train, test, features, xgbmodel, name=\"xgbfinal\", prepare_stacking=True)"
   ]
  },
  {
   "cell_type": "code",
   "execution_count": null,
   "metadata": {
    "_uuid": "29871c5339183800fe9af1d71dd4deb3b1792661"
   },
   "outputs": [],
   "source": [
    "catmodel = cat.CatBoostRegressor(iterations=10000, \n",
    "                                 learning_rate=0.01, \n",
    "                                 depth=5, \n",
    "                                 eval_metric='RMSE',\n",
    "                                 colsample_bylevel=0.8,\n",
    "                                 bagging_temperature = 0.2,\n",
    "                                 metric_period = None,\n",
    "                                 early_stopping_rounds=200,\n",
    "                                 random_seed=random_seed)"
   ]
  },
  {
   "cell_type": "code",
   "execution_count": null,
   "metadata": {
    "_uuid": "9360d3d3b8762bb219ce6ddf31305146a21039c3"
   },
   "outputs": [],
   "source": [
    "Kfolder.validate(train, test, features , catmodel, name=\"catfinal\", prepare_stacking=True,\n",
    "               fit_params={\"use_best_model\": True, \"verbose\": 100})"
   ]
  },
  {
   "cell_type": "code",
   "execution_count": null,
   "metadata": {
    "_uuid": "1bab0b764b89acfa54dfd981564721290aec8677",
    "scrolled": true
   },
   "outputs": [],
   "source": [
    "train['Revenue_lgb'] = train[\"lgbfinal\"]\n",
    "\n",
    "print(\"RMSE model lgb :\" ,score(train, train.Revenue_lgb),)\n",
    "\n",
    "train['Revenue_xgb'] = train[\"xgbfinal\"]\n",
    "\n",
    "print(\"RMSE model xgb :\" ,score(train, train.Revenue_xgb))\n",
    "\n",
    "train['Revenue_cat'] = train[\"catfinal\"]\n",
    "\n",
    "print(\"RMSE model cat :\" ,score(train, train.Revenue_cat))\n",
    "\n",
    "train['Revenue_Dragon1'] = 0.4 * train[\"lgbfinal\"] + \\\n",
    "                               0.2 * train[\"xgbfinal\"] + \\\n",
    "                               0.4 * train[\"catfinal\"]\n",
    "\n",
    "print(\"RMSE model Dragon1 :\" ,score(train, train.Revenue_Dragon1))\n",
    "\n",
    "train['Revenue_Dragon2'] = 0.35 * train[\"lgbfinal\"] + \\\n",
    "                               0.3 * train[\"xgbfinal\"] + \\\n",
    "                               0.35 * train[\"catfinal\"]\n",
    "\n",
    "print(\"RMSE model Dragon2 :\" ,score(train, train.Revenue_Dragon2))"
   ]
  },
  {
   "cell_type": "markdown",
   "metadata": {
    "_uuid": "5917a7207c024c0f63919760a44620285debb20e"
   },
   "source": [
    "# <a href='#6'>Submission</a>  "
   ]
  },
  {
   "cell_type": "markdown",
   "metadata": {
    "_uuid": "02fe233e64adc55ebf96764d19cd850e9bb29457"
   },
   "source": [
    "**LGB** :"
   ]
  },
  {
   "cell_type": "code",
   "execution_count": null,
   "metadata": {
    "_uuid": "c90a2a21f85d523e260c882fba8cccf167e968f3"
   },
   "outputs": [],
   "source": [
    "test['revenue'] =  np.expm1(test[\"lgbfinal\"])\n",
    "test[['id','revenue']].to_csv('submission_lgb.csv', index=False)\n",
    "test[['id','revenue']].head()"
   ]
  },
  {
   "cell_type": "markdown",
   "metadata": {
    "_uuid": "a914319b11dec651a6bfa929019714d2b0c05359"
   },
   "source": [
    "**XGB** :"
   ]
  },
  {
   "cell_type": "code",
   "execution_count": null,
   "metadata": {
    "_uuid": "bc0d5a6b02b76383251a5e47784dee6f822a8544"
   },
   "outputs": [],
   "source": [
    "test['revenue'] =  np.expm1(test[\"xgbfinal\"])\n",
    "test[['id','revenue']].to_csv('submission_xgb.csv', index=False)\n",
    "test[['id','revenue']].head()"
   ]
  },
  {
   "cell_type": "markdown",
   "metadata": {
    "_uuid": "b4da425c3d0a58d704daee8028c3417ca9bfedee"
   },
   "source": [
    "**CAT** :"
   ]
  },
  {
   "cell_type": "code",
   "execution_count": null,
   "metadata": {
    "_uuid": "3848f38731af5b1b050d0b5271468288ac144926"
   },
   "outputs": [],
   "source": [
    "test['revenue'] =  np.expm1(test[\"catfinal\"])\n",
    "test[['id','revenue']].to_csv('submission_cat.csv', index=False)\n",
    "test[['id','revenue']].head()"
   ]
  },
  {
   "cell_type": "markdown",
   "metadata": {
    "_uuid": "79821903ec04ac1437fb2113eb1520446c246f06"
   },
   "source": [
    "**Dragon1** :"
   ]
  },
  {
   "cell_type": "code",
   "execution_count": null,
   "metadata": {
    "_uuid": "88297c1b63a83184c5dd3581d2c0a42509c84bf9"
   },
   "outputs": [],
   "source": [
    "test['revenue'] =  np.expm1(0.4 * test[\"lgbfinal\"]+ 0.4 * test[\"catfinal\"] + 0.2 * test[\"xgbfinal\"])\n",
    "test[['id','revenue']].to_csv('submission_Dragon1.csv', index=False)\n",
    "test[['id','revenue']].head()"
   ]
  },
  {
   "cell_type": "markdown",
   "metadata": {
    "_uuid": "5f9a0588cb191cf5e498a3725da1ae3226902058"
   },
   "source": [
    "**Dragon2** :"
   ]
  },
  {
   "cell_type": "code",
   "execution_count": null,
   "metadata": {
    "_uuid": "a26b7b1410318b20892477ccec47774ace3c8fd8"
   },
   "outputs": [],
   "source": [
    "test['revenue'] =  np.expm1((test[\"lgbfinal\"] + test[\"catfinal\"] + test[\"xgbfinal\"])/3)\n",
    "test[['id','revenue']].to_csv('submission_Dragon2.csv', index=False)\n",
    "test[['id','revenue']].head()"
   ]
  },
  {
   "cell_type": "markdown",
   "metadata": {
    "_uuid": "eb18e5c860d8b89f87a9b55fdef4e2b1fc36b91a"
   },
   "source": [
    "**More to come. Stay tuned **\n",
    "\n",
    "# Thank you for upvoted if it was useful for you\n"
   ]
  }
 ],
 "metadata": {
  "kernelspec": {
   "display_name": "Python 3",
   "language": "python",
   "name": "python3"
  },
  "language_info": {
   "codemirror_mode": {
    "name": "ipython",
    "version": 3
   },
   "file_extension": ".py",
   "mimetype": "text/x-python",
   "name": "python",
   "nbconvert_exporter": "python",
   "pygments_lexer": "ipython3",
   "version": "3.5.6"
  },
  "toc": {
   "base_numbering": 1,
   "nav_menu": {},
   "number_sections": true,
   "sideBar": true,
   "skip_h1_title": false,
   "title_cell": "Table of Contents",
   "title_sidebar": "Contents",
   "toc_cell": false,
   "toc_position": {},
   "toc_section_display": true,
   "toc_window_display": true
  }
 },
 "nbformat": 4,
 "nbformat_minor": 1
}

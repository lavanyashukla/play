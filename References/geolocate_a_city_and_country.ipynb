{
 "cells": [
  {
   "cell_type": "raw",
   "metadata": {},
   "source": [
    "---\n",
    "title: \"Geolocate A City And Country\"\n",
    "author: \"Chris Albon\"\n",
    "date: 2017-12-20T11:53:49-07:00\n",
    "description: \"Geolocate a city or country in Python.\"\n",
    "type: technical_note\n",
    "draft: false\n",
    "---"
   ]
  },
  {
   "cell_type": "markdown",
   "metadata": {},
   "source": [
    "This tutorial creates a function that attempts to take a city and country and return its latitude and longitude. But when the city is unavailable (which is often be the case), the returns the latitude and longitude of the center of the country."
   ]
  },
  {
   "cell_type": "markdown",
   "metadata": {},
   "source": [
    "## Preliminaries"
   ]
  },
  {
   "cell_type": "code",
   "execution_count": 2,
   "metadata": {},
   "outputs": [],
   "source": [
    "from geopy.geocoders import Nominatim\n",
    "geolocator = Nominatim()\n",
    "import numpy as np"
   ]
  },
  {
   "cell_type": "markdown",
   "metadata": {},
   "source": [
    "## Create Geolocation Function"
   ]
  },
  {
   "cell_type": "code",
   "execution_count": 3,
   "metadata": {},
   "outputs": [],
   "source": [
    "def geolocate(city=None, country=None):\n",
    "    '''\n",
    "    Inputs city and country, or just country. Returns the lat/long coordinates of \n",
    "    either the city if possible, if not, then returns lat/long of the center of the country.\n",
    "    '''\n",
    "    \n",
    "    # If the city exists,\n",
    "    if city != None:\n",
    "        # Try\n",
    "        try:\n",
    "            # To geolocate the city and country\n",
    "            loc = geolocator.geocode(str(city + ',' + country))\n",
    "            # And return latitude and longitude\n",
    "            return (loc.latitude, loc.longitude)\n",
    "        # Otherwise\n",
    "        except:\n",
    "            # Return missing value\n",
    "            return np.nan\n",
    "    # If the city doesn't exist\n",
    "    else:\n",
    "        # Try\n",
    "        try:\n",
    "            # Geolocate the center of the country\n",
    "            loc = geolocator.geocode(country)\n",
    "            # And return latitude and longitude \n",
    "            return (loc.latitude, loc.longitude)\n",
    "        # Otherwise\n",
    "        except:\n",
    "            # Return missing value\n",
    "            return np.nan"
   ]
  },
  {
   "cell_type": "markdown",
   "metadata": {},
   "source": [
    "## Geolocate A City And Country"
   ]
  },
  {
   "cell_type": "code",
   "execution_count": 4,
   "metadata": {},
   "outputs": [
    {
     "data": {
      "text/plain": [
       "(30.2711286, -97.7436995)"
      ]
     },
     "execution_count": 4,
     "metadata": {},
     "output_type": "execute_result"
    }
   ],
   "source": [
    "# Geolocate a city and country\n",
    "geolocate(city='Austin', country='USA')"
   ]
  }
 ],
 "metadata": {
  "anaconda-cloud": {},
  "kernelspec": {
   "display_name": "Python 3",
   "language": "python",
   "name": "python3"
  },
  "language_info": {
   "codemirror_mode": {
    "name": "ipython",
    "version": 3
   },
   "file_extension": ".py",
   "mimetype": "text/x-python",
   "name": "python",
   "nbconvert_exporter": "python",
   "pygments_lexer": "ipython3",
   "version": "3.6.3"
  }
 },
 "nbformat": 4,
 "nbformat_minor": 1
}

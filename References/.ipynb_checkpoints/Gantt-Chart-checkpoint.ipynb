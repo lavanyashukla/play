{
 "cells": [
  {
   "cell_type": "markdown",
   "metadata": {},
   "source": [
    "# Introduction: Article Investigation\n",
    "\n",
    "The purpose of this notebook is to look at the articles I published over the past year. This is primarily for enjoyment and for the article \"What I learned by writing one data science article per week\". This should be a fun opportunity to use plotly. \n",
    "\n",
    "You can also run this notebook on mybinder (coming soon)."
   ]
  },
  {
   "cell_type": "code",
   "execution_count": 3,
   "metadata": {
    "ExecuteTime": {
     "end_time": "2019-01-31T15:14:47.569099Z",
     "start_time": "2019-01-31T15:14:46.311106Z"
    }
   },
   "outputs": [
    {
     "data": {
      "text/html": [
       "<script type=\"text/javascript\">window.PlotlyConfig = {MathJaxConfig: 'local'};</script><script type=\"text/javascript\">if (window.MathJax) {MathJax.Hub.Config({SVG: {font: \"STIX-Web\"}});}</script><script>requirejs.config({paths: { 'plotly': ['https://cdn.plot.ly/plotly-latest.min']},});if(!window._Plotly) {require(['plotly'],function(plotly) {window._Plotly=plotly;});}</script>"
      ],
      "text/vnd.plotly.v1+html": [
       "<script type=\"text/javascript\">window.PlotlyConfig = {MathJaxConfig: 'local'};</script><script type=\"text/javascript\">if (window.MathJax) {MathJax.Hub.Config({SVG: {font: \"STIX-Web\"}});}</script><script>requirejs.config({paths: { 'plotly': ['https://cdn.plot.ly/plotly-latest.min']},});if(!window._Plotly) {require(['plotly'],function(plotly) {window._Plotly=plotly;});}</script>"
      ]
     },
     "metadata": {},
     "output_type": "display_data"
    }
   ],
   "source": [
    "# Standard Data Science Helpers\n",
    "import numpy as np\n",
    "import pandas as pd\n",
    "import scipy\n",
    "\n",
    "import plotly.plotly as py\n",
    "import plotly.graph_objs as go\n",
    "from plotly.offline import iplot\n",
    "\n",
    "import cufflinks as cf\n",
    "cf.set_config_file(world_readable=True, theme=\"pearl\")\n",
    "cf.go_offline(connected=True)\n",
    "\n",
    "# Extra options\n",
    "pd.options.display.max_rows = 10\n",
    "pd.options.display.max_columns = 25\n",
    "# Show all code cells outputs\n",
    "from IPython.core.interactiveshell import InteractiveShell\n",
    "InteractiveShell.ast_node_interactivity = 'all'"
   ]
  },
  {
   "cell_type": "markdown",
   "metadata": {},
   "source": [
    "## Data Loading\n",
    "\n",
    "We'll load in the data using the `parquet` format which saves the data and the correct data types. This makes it easier to read and write data (at least in pandas)."
   ]
  },
  {
   "cell_type": "code",
   "execution_count": 4,
   "metadata": {
    "ExecuteTime": {
     "end_time": "2019-01-31T15:14:48.602512Z",
     "start_time": "2019-01-31T15:14:47.570715Z"
    }
   },
   "outputs": [
    {
     "ename": "ImportError",
     "evalue": "Unable to find a usable engine; tried using: 'pyarrow', 'fastparquet'.\npyarrow or fastparquet is required for parquet support",
     "output_type": "error",
     "traceback": [
      "\u001b[0;31m---------------------------------------------------------------------------\u001b[0m",
      "\u001b[0;31mImportError\u001b[0m                               Traceback (most recent call last)",
      "\u001b[0;32m<ipython-input-4-a107c50604d3>\u001b[0m in \u001b[0;36m<module>\u001b[0;34m\u001b[0m\n\u001b[0;32m----> 1\u001b[0;31m \u001b[0mdf\u001b[0m \u001b[0;34m=\u001b[0m \u001b[0mpd\u001b[0m\u001b[0;34m.\u001b[0m\u001b[0mread_parquet\u001b[0m\u001b[0;34m(\u001b[0m\u001b[0;34m'https://github.com/WillKoehrsen/Data-Analysis/blob/master/medium/data/medium_data_2019_01_28?raw=true'\u001b[0m\u001b[0;34m)\u001b[0m\u001b[0;34m\u001b[0m\u001b[0;34m\u001b[0m\u001b[0m\n\u001b[0m\u001b[1;32m      2\u001b[0m \u001b[0mdf\u001b[0m\u001b[0;34m.\u001b[0m\u001b[0mtail\u001b[0m\u001b[0;34m(\u001b[0m\u001b[0;34m)\u001b[0m\u001b[0;34m\u001b[0m\u001b[0;34m\u001b[0m\u001b[0m\n",
      "\u001b[0;32m/anaconda3/lib/python3.6/site-packages/pandas/io/parquet.py\u001b[0m in \u001b[0;36mread_parquet\u001b[0;34m(path, engine, columns, **kwargs)\u001b[0m\n\u001b[1;32m    285\u001b[0m     \"\"\"\n\u001b[1;32m    286\u001b[0m \u001b[0;34m\u001b[0m\u001b[0m\n\u001b[0;32m--> 287\u001b[0;31m     \u001b[0mimpl\u001b[0m \u001b[0;34m=\u001b[0m \u001b[0mget_engine\u001b[0m\u001b[0;34m(\u001b[0m\u001b[0mengine\u001b[0m\u001b[0;34m)\u001b[0m\u001b[0;34m\u001b[0m\u001b[0;34m\u001b[0m\u001b[0m\n\u001b[0m\u001b[1;32m    288\u001b[0m     \u001b[0;32mreturn\u001b[0m \u001b[0mimpl\u001b[0m\u001b[0;34m.\u001b[0m\u001b[0mread\u001b[0m\u001b[0;34m(\u001b[0m\u001b[0mpath\u001b[0m\u001b[0;34m,\u001b[0m \u001b[0mcolumns\u001b[0m\u001b[0;34m=\u001b[0m\u001b[0mcolumns\u001b[0m\u001b[0;34m,\u001b[0m \u001b[0;34m**\u001b[0m\u001b[0mkwargs\u001b[0m\u001b[0;34m)\u001b[0m\u001b[0;34m\u001b[0m\u001b[0;34m\u001b[0m\u001b[0m\n",
      "\u001b[0;32m/anaconda3/lib/python3.6/site-packages/pandas/io/parquet.py\u001b[0m in \u001b[0;36mget_engine\u001b[0;34m(engine)\u001b[0m\n\u001b[1;32m     27\u001b[0m             \u001b[0;32mpass\u001b[0m\u001b[0;34m\u001b[0m\u001b[0;34m\u001b[0m\u001b[0m\n\u001b[1;32m     28\u001b[0m \u001b[0;34m\u001b[0m\u001b[0m\n\u001b[0;32m---> 29\u001b[0;31m         raise ImportError(\"Unable to find a usable engine; \"\n\u001b[0m\u001b[1;32m     30\u001b[0m                           \u001b[0;34m\"tried using: 'pyarrow', 'fastparquet'.\\n\"\u001b[0m\u001b[0;34m\u001b[0m\u001b[0;34m\u001b[0m\u001b[0m\n\u001b[1;32m     31\u001b[0m                           \u001b[0;34m\"pyarrow or fastparquet is required for parquet \"\u001b[0m\u001b[0;34m\u001b[0m\u001b[0;34m\u001b[0m\u001b[0m\n",
      "\u001b[0;31mImportError\u001b[0m: Unable to find a usable engine; tried using: 'pyarrow', 'fastparquet'.\npyarrow or fastparquet is required for parquet support"
     ]
    }
   ],
   "source": [
    "df = pd.read_parquet('https://github.com/WillKoehrsen/Data-Analysis/blob/master/medium/data/medium_data_2019_01_28?raw=true')\n",
    "df.tail()"
   ]
  },
  {
   "cell_type": "code",
   "execution_count": null,
   "metadata": {
    "ExecuteTime": {
     "end_time": "2019-01-31T15:14:48.606804Z",
     "start_time": "2019-01-31T15:14:48.604436Z"
    }
   },
   "outputs": [],
   "source": [
    "import ipywidgets as widgets\n",
    "from ipywidgets import interact"
   ]
  },
  {
   "cell_type": "code",
   "execution_count": null,
   "metadata": {
    "ExecuteTime": {
     "end_time": "2019-01-31T15:14:48.611927Z",
     "start_time": "2019-01-31T15:14:48.608676Z"
    }
   },
   "outputs": [],
   "source": [
    "df_orig = df.copy()\n",
    "df = df.set_index('published_date')"
   ]
  },
  {
   "cell_type": "markdown",
   "metadata": {},
   "source": [
    "# Articles in 2018\n",
    "\n",
    "Let's quickly see how many articles I published in 2018. This uses an interactive widget to select dates."
   ]
  },
  {
   "cell_type": "code",
   "execution_count": 2,
   "metadata": {
    "ExecuteTime": {
     "end_time": "2019-01-31T15:14:48.810267Z",
     "start_time": "2019-01-31T15:14:48.613318Z"
    }
   },
   "outputs": [
    {
     "ename": "NameError",
     "evalue": "name 'interact' is not defined",
     "output_type": "error",
     "traceback": [
      "\u001b[0;31m---------------------------------------------------------------------------\u001b[0m",
      "\u001b[0;31mNameError\u001b[0m                                 Traceback (most recent call last)",
      "\u001b[0;32m<ipython-input-2-54f9ebef083a>\u001b[0m in \u001b[0;36m<module>\u001b[0;34m\u001b[0m\n\u001b[1;32m      9\u001b[0m     \u001b[0mprint\u001b[0m\u001b[0;34m(\u001b[0m\u001b[0;34mf'These articles totalled {total_words:,} words and {total_read_time/60:.2f} hours to read.'\u001b[0m\u001b[0;34m)\u001b[0m\u001b[0;34m\u001b[0m\u001b[0;34m\u001b[0m\u001b[0m\n\u001b[1;32m     10\u001b[0m \u001b[0;34m\u001b[0m\u001b[0m\n\u001b[0;32m---> 11\u001b[0;31m _ = interact(print_articles_published,\n\u001b[0m\u001b[1;32m     12\u001b[0m              \u001b[0mstart_date\u001b[0m\u001b[0;34m=\u001b[0m\u001b[0mwidgets\u001b[0m\u001b[0;34m.\u001b[0m\u001b[0mDatePicker\u001b[0m\u001b[0;34m(\u001b[0m\u001b[0mvalue\u001b[0m\u001b[0;34m=\u001b[0m\u001b[0mpd\u001b[0m\u001b[0;34m.\u001b[0m\u001b[0mto_datetime\u001b[0m\u001b[0;34m(\u001b[0m\u001b[0;34m'2018-01-01'\u001b[0m\u001b[0;34m)\u001b[0m\u001b[0;34m)\u001b[0m\u001b[0;34m,\u001b[0m\u001b[0;34m\u001b[0m\u001b[0;34m\u001b[0m\u001b[0m\n\u001b[1;32m     13\u001b[0m              end_date=widgets.DatePicker(value=pd.to_datetime('2018-12-31')))\n",
      "\u001b[0;31mNameError\u001b[0m: name 'interact' is not defined"
     ]
    }
   ],
   "source": [
    "def print_articles_published(start_date, end_date):\n",
    "    start_date = pd.Timestamp(start_date)\n",
    "    end_date = pd.Timestamp(end_date)\n",
    "    stat_df = df.loc[(df.index >= start_date) & (df.index <= end_date)].copy()\n",
    "    total_words = stat_df['word_count'].sum()\n",
    "    total_read_time = stat_df['read_time'].sum()\n",
    "    num_articles = len(stat_df)\n",
    "    print(f'You published {num_articles} articles between {start_date.date()} and {end_date.date()}.')\n",
    "    print(f'These articles totalled {total_words:,} words and {total_read_time/60:.2f} hours to read.')\n",
    "    \n",
    "_ = interact(print_articles_published,\n",
    "             start_date=widgets.DatePicker(value=pd.to_datetime('2018-01-01')),\n",
    "             end_date=widgets.DatePicker(value=pd.to_datetime('2018-12-31')))"
   ]
  },
  {
   "cell_type": "markdown",
   "metadata": {},
   "source": [
    "## Article Summary\n",
    "\n",
    "We'll use a basic `describe` to get the stats for my 2018 articles."
   ]
  },
  {
   "cell_type": "code",
   "execution_count": 6,
   "metadata": {
    "ExecuteTime": {
     "end_time": "2019-01-31T15:14:48.905928Z",
     "start_time": "2019-01-31T15:14:48.811534Z"
    }
   },
   "outputs": [
    {
     "data": {
      "text/html": [
       "<div>\n",
       "<style scoped>\n",
       "    .dataframe tbody tr th:only-of-type {\n",
       "        vertical-align: middle;\n",
       "    }\n",
       "\n",
       "    .dataframe tbody tr th {\n",
       "        vertical-align: top;\n",
       "    }\n",
       "\n",
       "    .dataframe thead th {\n",
       "        text-align: right;\n",
       "    }\n",
       "</style>\n",
       "<table border=\"1\" class=\"dataframe\">\n",
       "  <thead>\n",
       "    <tr style=\"text-align: right;\">\n",
       "      <th></th>\n",
       "      <th>claps</th>\n",
       "      <th>days_since_publication</th>\n",
       "      <th>fans</th>\n",
       "      <th>num_responses</th>\n",
       "      <th>read_ratio</th>\n",
       "      <th>read_time</th>\n",
       "      <th>reads</th>\n",
       "      <th>title_word_count</th>\n",
       "      <th>views</th>\n",
       "      <th>word_count</th>\n",
       "      <th>claps_per_word</th>\n",
       "      <th>editing_days</th>\n",
       "      <th>&lt;tag&gt;Education</th>\n",
       "      <th>&lt;tag&gt;Data Science</th>\n",
       "      <th>&lt;tag&gt;Towards Data Science</th>\n",
       "      <th>&lt;tag&gt;Machine Learning</th>\n",
       "      <th>&lt;tag&gt;Python</th>\n",
       "    </tr>\n",
       "  </thead>\n",
       "  <tbody>\n",
       "    <tr>\n",
       "      <th>count</th>\n",
       "      <td>98.000000</td>\n",
       "      <td>98.000000</td>\n",
       "      <td>98.000000</td>\n",
       "      <td>98.000000</td>\n",
       "      <td>98.000000</td>\n",
       "      <td>98.000000</td>\n",
       "      <td>98.000000</td>\n",
       "      <td>98.000000</td>\n",
       "      <td>98.00000</td>\n",
       "      <td>98.000000</td>\n",
       "      <td>98.000000</td>\n",
       "      <td>98.000000</td>\n",
       "      <td>98.000000</td>\n",
       "      <td>98.000000</td>\n",
       "      <td>98.000000</td>\n",
       "      <td>98.000000</td>\n",
       "      <td>98.000000</td>\n",
       "    </tr>\n",
       "    <tr>\n",
       "      <th>mean</th>\n",
       "      <td>2216.438776</td>\n",
       "      <td>208.830039</td>\n",
       "      <td>434.061224</td>\n",
       "      <td>8.438776</td>\n",
       "      <td>30.350408</td>\n",
       "      <td>11.418367</td>\n",
       "      <td>7469.224490</td>\n",
       "      <td>7.520408</td>\n",
       "      <td>27213.27551</td>\n",
       "      <td>2703.000000</td>\n",
       "      <td>1.192470</td>\n",
       "      <td>26.428571</td>\n",
       "      <td>0.867347</td>\n",
       "      <td>0.734694</td>\n",
       "      <td>0.540816</td>\n",
       "      <td>0.448980</td>\n",
       "      <td>0.326531</td>\n",
       "    </tr>\n",
       "    <tr>\n",
       "      <th>std</th>\n",
       "      <td>2586.615868</td>\n",
       "      <td>127.978761</td>\n",
       "      <td>502.508405</td>\n",
       "      <td>9.413816</td>\n",
       "      <td>12.300063</td>\n",
       "      <td>8.174544</td>\n",
       "      <td>9006.639102</td>\n",
       "      <td>3.325099</td>\n",
       "      <td>33877.48657</td>\n",
       "      <td>2170.707728</td>\n",
       "      <td>2.036551</td>\n",
       "      <td>85.305515</td>\n",
       "      <td>0.340943</td>\n",
       "      <td>0.443766</td>\n",
       "      <td>0.500893</td>\n",
       "      <td>0.499947</td>\n",
       "      <td>0.471355</td>\n",
       "    </tr>\n",
       "    <tr>\n",
       "      <th>min</th>\n",
       "      <td>0.000000</td>\n",
       "      <td>32.168843</td>\n",
       "      <td>0.000000</td>\n",
       "      <td>0.000000</td>\n",
       "      <td>8.110000</td>\n",
       "      <td>1.000000</td>\n",
       "      <td>1.000000</td>\n",
       "      <td>2.000000</td>\n",
       "      <td>3.00000</td>\n",
       "      <td>163.000000</td>\n",
       "      <td>0.000000</td>\n",
       "      <td>0.000000</td>\n",
       "      <td>0.000000</td>\n",
       "      <td>0.000000</td>\n",
       "      <td>0.000000</td>\n",
       "      <td>0.000000</td>\n",
       "      <td>0.000000</td>\n",
       "    </tr>\n",
       "    <tr>\n",
       "      <th>25%</th>\n",
       "      <td>576.750000</td>\n",
       "      <td>84.224527</td>\n",
       "      <td>102.250000</td>\n",
       "      <td>1.250000</td>\n",
       "      <td>21.955000</td>\n",
       "      <td>7.000000</td>\n",
       "      <td>1258.500000</td>\n",
       "      <td>5.000000</td>\n",
       "      <td>3217.25000</td>\n",
       "      <td>1558.000000</td>\n",
       "      <td>0.205499</td>\n",
       "      <td>0.000000</td>\n",
       "      <td>1.000000</td>\n",
       "      <td>0.000000</td>\n",
       "      <td>0.000000</td>\n",
       "      <td>0.000000</td>\n",
       "      <td>0.000000</td>\n",
       "    </tr>\n",
       "    <tr>\n",
       "      <th>50%</th>\n",
       "      <td>1100.000000</td>\n",
       "      <td>202.735390</td>\n",
       "      <td>221.000000</td>\n",
       "      <td>6.000000</td>\n",
       "      <td>28.265000</td>\n",
       "      <td>10.000000</td>\n",
       "      <td>4264.500000</td>\n",
       "      <td>7.000000</td>\n",
       "      <td>14946.50000</td>\n",
       "      <td>2340.500000</td>\n",
       "      <td>0.636654</td>\n",
       "      <td>1.000000</td>\n",
       "      <td>1.000000</td>\n",
       "      <td>1.000000</td>\n",
       "      <td>1.000000</td>\n",
       "      <td>0.000000</td>\n",
       "      <td>0.000000</td>\n",
       "    </tr>\n",
       "    <tr>\n",
       "      <th>75%</th>\n",
       "      <td>2975.000000</td>\n",
       "      <td>343.152215</td>\n",
       "      <td>607.500000</td>\n",
       "      <td>12.750000</td>\n",
       "      <td>35.727500</td>\n",
       "      <td>13.000000</td>\n",
       "      <td>9674.000000</td>\n",
       "      <td>10.000000</td>\n",
       "      <td>35470.50000</td>\n",
       "      <td>2993.000000</td>\n",
       "      <td>1.417725</td>\n",
       "      <td>6.500000</td>\n",
       "      <td>1.000000</td>\n",
       "      <td>1.000000</td>\n",
       "      <td>1.000000</td>\n",
       "      <td>1.000000</td>\n",
       "      <td>1.000000</td>\n",
       "    </tr>\n",
       "    <tr>\n",
       "      <th>max</th>\n",
       "      <td>13600.000000</td>\n",
       "      <td>394.079582</td>\n",
       "      <td>2600.000000</td>\n",
       "      <td>59.000000</td>\n",
       "      <td>74.240000</td>\n",
       "      <td>54.000000</td>\n",
       "      <td>42301.000000</td>\n",
       "      <td>16.000000</td>\n",
       "      <td>135743.00000</td>\n",
       "      <td>15063.000000</td>\n",
       "      <td>17.891817</td>\n",
       "      <td>349.000000</td>\n",
       "      <td>1.000000</td>\n",
       "      <td>1.000000</td>\n",
       "      <td>1.000000</td>\n",
       "      <td>1.000000</td>\n",
       "      <td>1.000000</td>\n",
       "    </tr>\n",
       "  </tbody>\n",
       "</table>\n",
       "</div>"
      ],
      "text/plain": [
       "              claps  days_since_publication         fans  num_responses  \\\n",
       "count     98.000000               98.000000    98.000000      98.000000   \n",
       "mean    2216.438776              208.830039   434.061224       8.438776   \n",
       "std     2586.615868              127.978761   502.508405       9.413816   \n",
       "min        0.000000               32.168843     0.000000       0.000000   \n",
       "25%      576.750000               84.224527   102.250000       1.250000   \n",
       "50%     1100.000000              202.735390   221.000000       6.000000   \n",
       "75%     2975.000000              343.152215   607.500000      12.750000   \n",
       "max    13600.000000              394.079582  2600.000000      59.000000   \n",
       "\n",
       "       read_ratio  read_time         reads  title_word_count         views  \\\n",
       "count   98.000000  98.000000     98.000000         98.000000      98.00000   \n",
       "mean    30.350408  11.418367   7469.224490          7.520408   27213.27551   \n",
       "std     12.300063   8.174544   9006.639102          3.325099   33877.48657   \n",
       "min      8.110000   1.000000      1.000000          2.000000       3.00000   \n",
       "25%     21.955000   7.000000   1258.500000          5.000000    3217.25000   \n",
       "50%     28.265000  10.000000   4264.500000          7.000000   14946.50000   \n",
       "75%     35.727500  13.000000   9674.000000         10.000000   35470.50000   \n",
       "max     74.240000  54.000000  42301.000000         16.000000  135743.00000   \n",
       "\n",
       "         word_count  claps_per_word  editing_days  <tag>Education  \\\n",
       "count     98.000000       98.000000     98.000000       98.000000   \n",
       "mean    2703.000000        1.192470     26.428571        0.867347   \n",
       "std     2170.707728        2.036551     85.305515        0.340943   \n",
       "min      163.000000        0.000000      0.000000        0.000000   \n",
       "25%     1558.000000        0.205499      0.000000        1.000000   \n",
       "50%     2340.500000        0.636654      1.000000        1.000000   \n",
       "75%     2993.000000        1.417725      6.500000        1.000000   \n",
       "max    15063.000000       17.891817    349.000000        1.000000   \n",
       "\n",
       "       <tag>Data Science  <tag>Towards Data Science  <tag>Machine Learning  \\\n",
       "count          98.000000                  98.000000              98.000000   \n",
       "mean            0.734694                   0.540816               0.448980   \n",
       "std             0.443766                   0.500893               0.499947   \n",
       "min             0.000000                   0.000000               0.000000   \n",
       "25%             0.000000                   0.000000               0.000000   \n",
       "50%             1.000000                   1.000000               0.000000   \n",
       "75%             1.000000                   1.000000               1.000000   \n",
       "max             1.000000                   1.000000               1.000000   \n",
       "\n",
       "       <tag>Python  \n",
       "count    98.000000  \n",
       "mean      0.326531  \n",
       "std       0.471355  \n",
       "min       0.000000  \n",
       "25%       0.000000  \n",
       "50%       0.000000  \n",
       "75%       1.000000  \n",
       "max       1.000000  "
      ]
     },
     "execution_count": 6,
     "metadata": {},
     "output_type": "execute_result"
    }
   ],
   "source": [
    "start_date = pd.to_datetime('2018-01-01'); end_date = pd.to_datetime('2018-12-31')\n",
    "\n",
    "stat_df = df.loc[(df.index >= start_date) & (df.index <= end_date)].copy()\n",
    "stat_df.describe()"
   ]
  },
  {
   "cell_type": "markdown",
   "metadata": {},
   "source": [
    "# Days from Start to Publish"
   ]
  },
  {
   "cell_type": "code",
   "execution_count": 7,
   "metadata": {
    "ExecuteTime": {
     "end_time": "2019-01-31T15:14:48.912937Z",
     "start_time": "2019-01-31T15:14:48.907357Z"
    }
   },
   "outputs": [],
   "source": [
    "stat_df.reset_index(inplace=True)\n",
    "stat_df['days_to_publish'] = ((stat_df['published_date'] - stat_df['started_date']) / pd.Timedelta(days=1)).astype(int)"
   ]
  },
  {
   "cell_type": "code",
   "execution_count": 8,
   "metadata": {
    "ExecuteTime": {
     "end_time": "2019-01-31T15:14:49.317912Z",
     "start_time": "2019-01-31T15:14:48.915643Z"
    }
   },
   "outputs": [],
   "source": [
    "data = [go.Scatter(x=[x['started_date'], x['published_date']], \n",
    "                   y=[x['word_count'], x['word_count']],\n",
    "                  text = x['title'][:10] + ':' + str(int(x['days_to_publish'])),\n",
    "                   mode='markers+lines',\n",
    "                  name=x['title'][:10]) for i, x in stat_df.query(\"days_to_publish < 100\").iterrows()]"
   ]
  },
  {
   "cell_type": "code",
   "execution_count": 9,
   "metadata": {
    "ExecuteTime": {
     "end_time": "2019-01-31T15:14:50.160872Z",
     "start_time": "2019-01-31T15:14:49.320040Z"
    }
   },
   "outputs": [
    {
     "data": {
      "application/vnd.plotly.v1+json": {
       "config": {
        "linkText": "Export to plot.ly",
        "plotlyServerURL": "https://plot.ly",
        "showLink": false
       },
       "data": [
        {
         "mode": "markers+lines",
         "name": "Top Books ",
         "text": "Top Books :4",
         "type": "scatter",
         "uid": "158f9d93-a825-4bc2-a425-0739dfd1ac57",
         "x": [
          "2017-12-27 18:48:00",
          "2018-01-01 13:45:00"
         ],
         "y": [
          5160,
          5160
         ]
        },
        {
         "mode": "markers+lines",
         "name": "Improving ",
         "text": "Improving :2",
         "type": "scatter",
         "uid": "0c755b18-191a-4ab1-9e7f-76b74384a307",
         "x": [
          "2018-01-03 21:38:00",
          "2018-01-06 20:15:00"
         ],
         "y": [
          3504,
          3504
         ]
        },
        {
         "mode": "markers+lines",
         "name": "Data Scien",
         "text": "Data Scien:0",
         "type": "scatter",
         "uid": "98e315dd-022c-436c-bbf2-794d71c94ebb",
         "x": [
          "2018-01-07 13:18:00",
          "2018-01-07 20:37:00"
         ],
         "y": [
          3569,
          3569
         ]
        },
        {
         "mode": "markers+lines",
         "name": "The Simple",
         "text": "The Simple:0",
         "type": "scatter",
         "uid": "b0b2a27b-6f3a-46ec-86ab-0a99c23fc6f9",
         "x": [
          "2018-01-07 20:44:00",
          "2018-01-08 09:45:00"
         ],
         "y": [
          1073,
          1073
         ]
        },
        {
         "mode": "markers+lines",
         "name": "A Theory o",
         "text": "A Theory o:5",
         "type": "scatter",
         "uid": "cc380a30-0f6e-4908-ac9e-109526c470a4",
         "x": [
          "2018-01-02 17:23:00",
          "2018-01-08 16:58:00"
         ],
         "y": [
          2817,
          2817
         ]
        },
        {
         "mode": "markers+lines",
         "name": "Hyperparam",
         "text": "Hyperparam:0",
         "type": "scatter",
         "uid": "c3a3552c-ab96-4183-a2e8-82b5a6358622",
         "x": [
          "2018-01-09 12:26:00",
          "2018-01-09 21:49:00"
         ],
         "y": [
          2456,
          2456
         ]
        },
        {
         "mode": "markers+lines",
         "name": "Time Serie",
         "text": "Time Serie:1",
         "type": "scatter",
         "uid": "1778dd51-1db9-4940-912e-a0c74b4f4d66",
         "x": [
          "2018-01-11 08:45:00",
          "2018-01-12 20:48:00"
         ],
         "y": [
          2974,
          2974
         ]
        },
        {
         "mode": "markers+lines",
         "name": "The Failur",
         "text": "The Failur:0",
         "type": "scatter",
         "uid": "9af2e9a7-d8ce-4df8-bb05-168d416c8aed",
         "x": [
          "2018-01-13 08:04:00",
          "2018-01-13 09:51:00"
         ],
         "y": [
          1314,
          1314
         ]
        },
        {
         "mode": "markers+lines",
         "name": "Stock Anal",
         "text": "Stock Anal:0",
         "type": "scatter",
         "uid": "71131972-3246-4c72-996f-53a69691bab4",
         "x": [
          "2018-01-17 10:42:00",
          "2018-01-17 15:24:00"
         ],
         "y": [
          2395,
          2395
         ]
        },
        {
         "mode": "markers+lines",
         "name": "A Review o",
         "text": "A Review o:0",
         "type": "scatter",
         "uid": "4b98a0c5-b67b-41c0-9359-cdb09b188ad6",
         "x": [
          "2018-01-17 18:16:00",
          "2018-01-17 19:42:00"
         ],
         "y": [
          1169,
          1169
         ]
        },
        {
         "mode": "markers+lines",
         "name": "The Perils",
         "text": "The Perils:0",
         "type": "scatter",
         "uid": "c7dd9ae1-e320-418e-b9cf-5d33c102ab62",
         "x": [
          "2018-01-18 07:16:00",
          "2018-01-18 08:55:00"
         ],
         "y": [
          1557,
          1557
         ]
        },
        {
         "mode": "markers+lines",
         "name": "Stock Pred",
         "text": "Stock Pred:5",
         "type": "scatter",
         "uid": "bfe21f1d-e781-4ff2-8889-fa01d5eccb5b",
         "x": [
          "2018-01-13 18:27:00",
          "2018-01-19 15:30:00"
         ],
         "y": [
          2528,
          2528
         ]
        },
        {
         "mode": "markers+lines",
         "name": "Correlatio",
         "text": "Correlatio:0",
         "type": "scatter",
         "uid": "9a1d69a8-8e43-482c-a2b3-72b0792bb6f9",
         "x": [
          "2018-01-19 15:47:00",
          "2018-01-19 20:16:00"
         ],
         "y": [
          1361,
          1361
         ]
        },
        {
         "mode": "markers+lines",
         "name": "Real Life ",
         "text": "Real Life :10",
         "type": "scatter",
         "uid": "d5bb1b4c-79be-4156-a457-f828584c86bb",
         "x": [
          "2018-01-11 21:05:00",
          "2018-01-22 14:22:00"
         ],
         "y": [
          1653,
          1653
         ]
        },
        {
         "mode": "markers+lines",
         "name": "Learn By S",
         "text": "Learn By S:0",
         "type": "scatter",
         "uid": "1146b31b-b582-4e3f-902a-b6478b39a3ce",
         "x": [
          "2018-01-23 19:48:00",
          "2018-01-24 18:27:00"
         ],
         "y": [
          1014,
          1014
         ]
        },
        {
         "mode": "markers+lines",
         "name": "Overfittin",
         "text": "Overfittin:1",
         "type": "scatter",
         "uid": "a1943840-948e-4031-b96e-2e6d9c571d68",
         "x": [
          "2018-01-26 18:22:00",
          "2018-01-27 20:17:00"
         ],
         "y": [
          1562,
          1562
         ]
        },
        {
         "mode": "markers+lines",
         "name": "Overfittin",
         "text": "Overfittin:1",
         "type": "scatter",
         "uid": "66190a29-b394-4e16-b473-b2ea7514f01c",
         "x": [
          "2018-01-26 20:32:00",
          "2018-01-28 08:40:00"
         ],
         "y": [
          2480,
          2480
         ]
        },
        {
         "mode": "markers+lines",
         "name": "How to Mas",
         "text": "How to Mas:0",
         "type": "scatter",
         "uid": "272d786a-6b56-4c68-ae3b-58afb8146f29",
         "x": [
          "2018-01-31 07:36:00",
          "2018-01-31 11:41:00"
         ],
         "y": [
          1281,
          1281
         ]
        },
        {
         "mode": "markers+lines",
         "name": "Statistica",
         "text": "Statistica:2",
         "type": "scatter",
         "uid": "7ad86ffd-57e6-4e97-bf62-579324acb113",
         "x": [
          "2018-01-30 20:38:00",
          "2018-02-02 09:26:00"
         ],
         "y": [
          2450,
          2450
         ]
        },
        {
         "mode": "markers+lines",
         "name": "Python is ",
         "text": "Python is :0",
         "type": "scatter",
         "uid": "12502f6b-887f-45a8-ab9b-ee95c0698185",
         "x": [
          "2018-02-04 07:49:00",
          "2018-02-04 09:12:00"
         ],
         "y": [
          721,
          721
         ]
        },
        {
         "mode": "markers+lines",
         "name": "The Mislea",
         "text": "The Mislea:7",
         "type": "scatter",
         "uid": "bcb5f5c2-eb5b-4ac3-8e47-f28a93a4bf72",
         "x": [
          "2018-01-30 20:38:00",
          "2018-02-07 09:09:00"
         ],
         "y": [
          1375,
          1375
         ]
        },
        {
         "mode": "markers+lines",
         "name": "Markov Cha",
         "text": "Markov Cha:0",
         "type": "scatter",
         "uid": "8cce707d-cada-4a62-ad50-ca9fbf6e65cd",
         "x": [
          "2018-02-09 07:18:00",
          "2018-02-09 22:29:00"
         ],
         "y": [
          2772,
          2772
         ]
        },
        {
         "mode": "markers+lines",
         "name": "Slow Tech:",
         "text": "Slow Tech::1",
         "type": "scatter",
         "uid": "5bb88fbe-9bb1-469b-baf9-8530bfd24717",
         "x": [
          "2018-02-10 08:15:00",
          "2018-02-11 18:57:00"
         ],
         "y": [
          634,
          634
         ]
        },
        {
         "mode": "markers+lines",
         "name": "Bayes’ Rul",
         "text": "Bayes’ Rul:0",
         "type": "scatter",
         "uid": "4aa6bb6b-002f-4f79-bf43-c54a744a14ec",
         "x": [
          "2018-02-13 19:06:00",
          "2018-02-14 11:27:00"
         ],
         "y": [
          1944,
          1944
         ]
        },
        {
         "mode": "markers+lines",
         "name": "Data Visua",
         "text": "Data Visua:1",
         "type": "scatter",
         "uid": "0c198415-85d6-4de4-b98e-7b56832d60c5",
         "x": [
          "2018-02-19 07:47:00",
          "2018-02-20 12:49:00"
         ],
         "y": [
          1827,
          1827
         ]
        },
        {
         "mode": "markers+lines",
         "name": "Unintended",
         "text": "Unintended:1",
         "type": "scatter",
         "uid": "897a3d8e-f0f2-4dd9-8cc9-59c8fa345b5d",
         "x": [
          "2018-02-22 20:38:00",
          "2018-02-24 09:33:00"
         ],
         "y": [
          933,
          933
         ]
        },
        {
         "mode": "markers+lines",
         "name": "Beyond Acc",
         "text": "Beyond Acc:3",
         "type": "scatter",
         "uid": "cb91daf2-d4df-474c-acde-ddd29ce2a1ee",
         "x": [
          "2018-02-27 14:32:00",
          "2018-03-03 11:10:00"
         ],
         "y": [
          2565,
          2565
         ]
        },
        {
         "mode": "markers+lines",
         "name": "Controllin",
         "text": "Controllin:0",
         "type": "scatter",
         "uid": "e418582c-694a-40fc-b327-a4daea4457e3",
         "x": [
          "2018-03-10 12:22:00",
          "2018-03-10 16:16:00"
         ],
         "y": [
          1906,
          1906
         ]
        },
        {
         "mode": "markers+lines",
         "name": "Data Visua",
         "text": "Data Visua:0",
         "type": "scatter",
         "uid": "1056da5d-ce4e-413b-b09b-c519cff90931",
         "x": [
          "2018-03-16 12:40:00",
          "2018-03-17 10:29:00"
         ],
         "y": [
          2394,
          2394
         ]
        },
        {
         "mode": "markers+lines",
         "name": "Data Visua",
         "text": "Data Visua:1",
         "type": "scatter",
         "uid": "d4815d33-0a7b-4afa-92bc-2a38b29c4951",
         "x": [
          "2018-03-18 12:22:00",
          "2018-03-20 09:47:00"
         ],
         "y": [
          2220,
          2220
         ]
        },
        {
         "mode": "markers+lines",
         "name": "Histograms",
         "text": "Histograms:0",
         "type": "scatter",
         "uid": "5c223142-3e29-426b-a3f1-96e62e80868e",
         "x": [
          "2018-03-22 21:21:00",
          "2018-03-23 12:44:00"
         ],
         "y": [
          2614,
          2614
         ]
        },
        {
         "mode": "markers+lines",
         "name": "Data Visua",
         "text": "Data Visua:0",
         "type": "scatter",
         "uid": "d293632a-58f1-4def-a0c2-8f2fda3477c2",
         "x": [
          "2018-03-30 09:33:00",
          "2018-03-31 08:36:00"
         ],
         "y": [
          2365,
          2365
         ]
        },
        {
         "mode": "markers+lines",
         "name": "Visualizin",
         "text": "Visualizin:2",
         "type": "scatter",
         "uid": "744dc76d-9110-4624-b906-bfced451fb4f",
         "x": [
          "2018-04-03 20:06:00",
          "2018-04-06 14:12:00"
         ],
         "y": [
          1577,
          1577
         ]
        },
        {
         "mode": "markers+lines",
         "name": "Introducti",
         "text": "Introducti:1",
         "type": "scatter",
         "uid": "689e2f99-4fcd-426e-894f-046cc3aca5bc",
         "x": [
          "2018-04-12 09:58:00",
          "2018-04-13 20:38:00"
         ],
         "y": [
          2394,
          2394
         ]
        },
        {
         "mode": "markers+lines",
         "name": "Bayesian L",
         "text": "Bayesian L:17",
         "type": "scatter",
         "uid": "1de6ad4b-e465-43e8-ac18-88d0c4eaeb36",
         "x": [
          "2018-04-02 19:57:00",
          "2018-04-20 13:31:00"
         ],
         "y": [
          2690,
          2690
         ]
        },
        {
         "mode": "markers+lines",
         "name": "Bayesian L",
         "text": "Bayesian L:9",
         "type": "scatter",
         "uid": "76582dc2-8ff9-4a93-9ebc-35ce02315bf8",
         "x": [
          "2018-04-11 11:02:00",
          "2018-04-20 13:34:00"
         ],
         "y": [
          2620,
          2620
         ]
        },
        {
         "mode": "markers+lines",
         "name": "Web Scrapi",
         "text": "Web Scrapi:0",
         "type": "scatter",
         "uid": "f239678d-8265-46e6-b9c9-e30964ba274f",
         "x": [
          "2018-04-28 13:02:00",
          "2018-04-28 15:27:00"
         ],
         "y": [
          1480,
          1480
         ]
        },
        {
         "mode": "markers+lines",
         "name": "If your fi",
         "text": "If your fi:0",
         "type": "scatter",
         "uid": "1483d97c-4eac-412a-a8c2-bb332ced4b03",
         "x": [
          "2018-04-29 19:27:00",
          "2018-04-30 11:04:00"
         ],
         "y": [
          765,
          765
         ]
        },
        {
         "mode": "markers+lines",
         "name": "A Complete",
         "text": "A Complete:8",
         "type": "scatter",
         "uid": "ec45aea9-0c9b-48e8-8abf-94da3fc46696",
         "x": [
          "2018-05-07 13:38:00",
          "2018-05-16 12:33:00"
         ],
         "y": [
          3553,
          3553
         ]
        },
        {
         "mode": "markers+lines",
         "name": "A Complete",
         "text": "A Complete:0",
         "type": "scatter",
         "uid": "688a734a-6978-4d49-809e-16f764f794a4",
         "x": [
          "2018-05-16 13:59:00",
          "2018-05-17 09:34:00"
         ],
         "y": [
          3106,
          3106
         ]
        },
        {
         "mode": "markers+lines",
         "name": "A Complete",
         "text": "A Complete:1",
         "type": "scatter",
         "uid": "6149684a-bba7-42ef-9f6e-50cc3b16f1a5",
         "x": [
          "2018-05-17 09:36:00",
          "2018-05-18 09:48:00"
         ],
         "y": [
          2622,
          2622
         ]
        },
        {
         "mode": "markers+lines",
         "name": "Automated ",
         "text": "Automated :3",
         "type": "scatter",
         "uid": "39472d46-6514-408d-860a-41675224c793",
         "x": [
          "2018-05-18 12:08:00",
          "2018-05-21 14:16:00"
         ],
         "y": [
          2338,
          2338
         ]
        },
        {
         "mode": "markers+lines",
         "name": "Machine Le",
         "text": "Machine Le:3",
         "type": "scatter",
         "uid": "6edb25fb-4ef9-44fd-bb32-7815dfda04f5",
         "x": [
          "2018-05-24 18:11:00",
          "2018-05-28 11:39:00"
         ],
         "y": [
          2975,
          2975
         ]
        },
        {
         "mode": "markers+lines",
         "name": "Automated ",
         "text": "Automated :1",
         "type": "scatter",
         "uid": "bbfbbe00-9e18-4646-b644-ddde15741746",
         "x": [
          "2018-06-01 06:51:00",
          "2018-06-02 10:01:00"
         ],
         "y": [
          2648,
          2648
         ]
        },
        {
         "mode": "markers+lines",
         "name": "Machine Le",
         "text": "Machine Le:26",
         "type": "scatter",
         "uid": "3570705a-2dea-487c-adb6-009f041883ab",
         "x": [
          "2018-05-24 18:12:00",
          "2018-06-19 20:35:00"
         ],
         "y": [
          5228,
          5228
         ]
        },
        {
         "mode": "markers+lines",
         "name": "A Feature ",
         "text": "A Feature :0",
         "type": "scatter",
         "uid": "11a4ce95-a3c8-4daa-838d-d66c3d24ae3f",
         "x": [
          "2018-06-21 16:17:00",
          "2018-06-22 10:12:00"
         ],
         "y": [
          1998,
          1998
         ]
        },
        {
         "mode": "markers+lines",
         "name": "A Conceptu",
         "text": "A Conceptu:0",
         "type": "scatter",
         "uid": "e77b9f2a-da93-4701-9288-baad5678ba82",
         "x": [
          "2018-06-23 10:55:00",
          "2018-06-24 08:26:00"
         ],
         "y": [
          3393,
          3393
         ]
        },
        {
         "mode": "markers+lines",
         "name": "An Introdu",
         "text": "An Introdu:0",
         "type": "scatter",
         "uid": "86443f7e-c395-42fd-a395-87a4395c1cf4",
         "x": [
          "2018-06-27 16:00:00",
          "2018-06-28 08:33:00"
         ],
         "y": [
          1957,
          1957
         ]
        },
        {
         "mode": "markers+lines",
         "name": "Automated ",
         "text": "Automated :10",
         "type": "scatter",
         "uid": "b58ce817-1516-49fd-944b-ea9837b3737a",
         "x": [
          "2018-06-22 19:07:00",
          "2018-07-03 11:04:00"
         ],
         "y": [
          4298,
          4298
         ]
        },
        {
         "mode": "markers+lines",
         "name": "Machine Le",
         "text": "Machine Le:9",
         "type": "scatter",
         "uid": "ec5f72d3-6374-479d-bcaa-766171f13ae4",
         "x": [
          "2018-07-10 19:56:00",
          "2018-07-20 08:57:00"
         ],
         "y": [
          3718,
          3718
         ]
        },
        {
         "mode": "markers+lines",
         "name": "How to get",
         "text": "How to get:0",
         "type": "scatter",
         "uid": "af625c05-621a-40a6-af0f-ed83ddefb884",
         "x": [
          "2018-07-26 07:02:00",
          "2018-07-26 09:35:00"
         ],
         "y": [
          1247,
          1247
         ]
        },
        {
         "mode": "markers+lines",
         "name": "Why Automa",
         "text": "Why Automa:12",
         "type": "scatter",
         "uid": "7b5554fe-a630-43ed-8504-1ad51c510122",
         "x": [
          "2018-07-27 11:11:00",
          "2018-08-09 09:04:00"
         ],
         "y": [
          2634,
          2634
         ]
        },
        {
         "mode": "markers+lines",
         "name": "The most i",
         "text": "The most i:11",
         "type": "scatter",
         "uid": "15d89a02-76d8-4722-80bc-ede9e5441aaa",
         "x": [
          "2018-07-30 20:28:00",
          "2018-08-11 05:53:00"
         ],
         "y": [
          2041,
          2041
         ]
        },
        {
         "mode": "markers+lines",
         "name": "Paralleliz",
         "text": "Paralleliz:9",
         "type": "scatter",
         "uid": "bcbc2e34-2b7c-47ae-812d-ab223010b067",
         "x": [
          "2018-08-06 15:18:00",
          "2018-08-16 14:43:00"
         ],
         "y": [
          2343,
          2343
         ]
        },
        {
         "mode": "markers+lines",
         "name": "How to Vis",
         "text": "How to Vis:0",
         "type": "scatter",
         "uid": "be6dc2e9-035e-4e3b-a33c-7668f61a6588",
         "x": [
          "2018-08-18 19:01:00",
          "2018-08-18 19:49:00"
         ],
         "y": [
          373,
          373
         ]
        },
        {
         "mode": "markers+lines",
         "name": "A “Data Sc",
         "text": "A “Data Sc:21",
         "type": "scatter",
         "uid": "86ef47ff-fd0d-41e9-bb2f-111eda32859e",
         "x": [
          "2018-07-29 12:01:00",
          "2018-08-20 09:48:00"
         ],
         "y": [
          3996,
          3996
         ]
        },
        {
         "mode": "markers+lines",
         "name": "A “Data Sc",
         "text": "A “Data Sc:0",
         "type": "scatter",
         "uid": "7df7df43-2bae-4ba2-9ebf-fba6828de137",
         "x": [
          "2018-08-20 09:13:00",
          "2018-08-20 09:51:00"
         ],
         "y": [
          3834,
          3834
         ]
        },
        {
         "mode": "markers+lines",
         "name": "How to Put",
         "text": "How to Put:0",
         "type": "scatter",
         "uid": "0b0dfc77-5bf7-4f8a-8b8e-ba24acadc0a2",
         "x": [
          "2018-08-29 08:40:00",
          "2018-08-29 19:08:00"
         ],
         "y": [
          163,
          163
         ]
        },
        {
         "mode": "markers+lines",
         "name": "An Impleme",
         "text": "An Impleme:0",
         "type": "scatter",
         "uid": "2dd3776e-3c59-4586-93ae-777e220497ed",
         "x": [
          "2018-08-29 20:01:00",
          "2018-08-30 12:44:00"
         ],
         "y": [
          4042,
          4042
         ]
        },
        {
         "mode": "markers+lines",
         "name": "Practical ",
         "text": "Practical :8",
         "type": "scatter",
         "uid": "d4f3150b-cde1-44ce-9aad-1c664a54f450",
         "x": [
          "2018-08-26 15:27:00",
          "2018-09-03 17:27:00"
         ],
         "y": [
          2658,
          2658
         ]
        },
        {
         "mode": "markers+lines",
         "name": "Another Ma",
         "text": "Another Ma:2",
         "type": "scatter",
         "uid": "80389389-a41a-4fed-ac46-8e90ecf58abf",
         "x": [
          "2018-09-07 14:54:00",
          "2018-09-10 09:26:00"
         ],
         "y": [
          3756,
          3756
         ]
        },
        {
         "mode": "markers+lines",
         "name": "Five Minut",
         "text": "Five Minut:1",
         "type": "scatter",
         "uid": "4f8e7147-6505-4a40-a249-6cb4308550b5",
         "x": [
          "2018-09-15 05:28:00",
          "2018-09-16 10:31:00"
         ],
         "y": [
          1172,
          1172
         ]
        },
        {
         "mode": "markers+lines",
         "name": "Converting",
         "text": "Converting:0",
         "type": "scatter",
         "uid": "03664e61-92fc-4513-bd4b-2c3bc321cbff",
         "x": [
          "2018-09-16 10:51:00",
          "2018-09-16 17:55:00"
         ],
         "y": [
          1580,
          1580
         ]
        },
        {
         "mode": "markers+lines",
         "name": "Wikipedia ",
         "text": "Wikipedia :2",
         "type": "scatter",
         "uid": "876d684b-0411-4826-bdb1-12b2a3927d3b",
         "x": [
          "2018-09-20 20:04:00",
          "2018-09-23 10:26:00"
         ],
         "y": [
          3756,
          3756
         ]
        },
        {
         "mode": "markers+lines",
         "name": "Featuretoo",
         "text": "Featuretoo:5",
         "type": "scatter",
         "uid": "ccbcaa26-22b2-4868-b53e-7a5777ffc4ba",
         "x": [
          "2018-09-20 14:21:00",
          "2018-09-26 13:41:00"
         ],
         "y": [
          2087,
          2087
         ]
        },
        {
         "mode": "markers+lines",
         "name": "Neural Net",
         "text": "Neural Net:1",
         "type": "scatter",
         "uid": "aabb8ef3-118b-403a-91d0-499372410f4b",
         "x": [
          "2018-09-30 19:52:00",
          "2018-10-01 21:04:00"
         ],
         "y": [
          1809,
          1809
         ]
        },
        {
         "mode": "markers+lines",
         "name": "Building a",
         "text": "Building a:5",
         "type": "scatter",
         "uid": "7f33db8c-a49a-403b-a280-57db09b2ff32",
         "x": [
          "2018-09-29 05:03:00",
          "2018-10-04 13:10:00"
         ],
         "y": [
          2999,
          2999
         ]
        },
        {
         "mode": "markers+lines",
         "name": "Simpson’s ",
         "text": "Simpson’s :1",
         "type": "scatter",
         "uid": "545db8db-b70b-49a2-b660-5d323513a2a9",
         "x": [
          "2018-10-10 16:21:00",
          "2018-10-12 12:31:00"
         ],
         "y": [
          2483,
          2483
         ]
        },
        {
         "mode": "markers+lines",
         "name": "The Power ",
         "text": "The Power :1",
         "type": "scatter",
         "uid": "742db05d-42de-45d6-a436-f82d1b04fcff",
         "x": [
          "2018-10-16 06:59:00",
          "2018-10-17 10:26:00"
         ],
         "y": [
          2172,
          2172
         ]
        },
        {
         "mode": "markers+lines",
         "name": "My Weaknes",
         "text": "My Weaknes:10",
         "type": "scatter",
         "uid": "b2c14a3c-1d15-401a-90b9-9ee1ea25a2be",
         "x": [
          "2018-10-15 20:13:00",
          "2018-10-26 15:32:00"
         ],
         "y": [
          2933,
          2933
         ]
        },
        {
         "mode": "markers+lines",
         "name": "Overcome Y",
         "text": "Overcome Y:0",
         "type": "scatter",
         "uid": "999addee-f4f9-4502-b0ab-1c0274ead937",
         "x": [
          "2018-10-31 21:09:00",
          "2018-11-01 20:44:00"
         ],
         "y": [
          1346,
          1346
         ]
        },
        {
         "mode": "markers+lines",
         "name": "Recurrent ",
         "text": "Recurrent :21",
         "type": "scatter",
         "uid": "06fdc4a5-b2c7-45c3-abe6-19d380fb4192",
         "x": [
          "2018-10-14 08:24:00",
          "2018-11-04 21:30:00"
         ],
         "y": [
          3797,
          3797
         ]
        },
        {
         "mode": "markers+lines",
         "name": "Prediction",
         "text": "Prediction:1",
         "type": "scatter",
         "uid": "493a0586-7c53-4206-92e7-b04a757beb3d",
         "x": [
          "2018-11-05 15:41:00",
          "2018-11-07 10:14:00"
         ],
         "y": [
          1979,
          1979
         ]
        },
        {
         "mode": "markers+lines",
         "name": "How to Cre",
         "text": "How to Cre:1",
         "type": "scatter",
         "uid": "a0b79cf7-2b19-4eaa-9e5f-7f22f2bca110",
         "x": [
          "2018-11-05 15:17:00",
          "2018-11-07 10:17:00"
         ],
         "y": [
          1286,
          1286
         ]
        },
        {
         "mode": "markers+lines",
         "name": "Feature En",
         "text": "Feature En:4",
         "type": "scatter",
         "uid": "6f83c09a-2534-473a-acf4-590e03bd9a5d",
         "x": [
          "2018-11-07 10:23:00",
          "2018-11-12 09:00:00"
         ],
         "y": [
          1741,
          1741
         ]
        },
        {
         "mode": "markers+lines",
         "name": "Modeling: ",
         "text": "Modeling: :7",
         "type": "scatter",
         "uid": "9725f961-4420-4c82-a88f-810ea4a5c253",
         "x": [
          "2018-11-07 11:18:00",
          "2018-11-15 08:35:00"
         ],
         "y": [
          2230,
          2230
         ]
        },
        {
         "mode": "markers+lines",
         "name": "Deploying ",
         "text": "Deploying :3",
         "type": "scatter",
         "uid": "33b0d6d1-b76a-4f0f-9cb3-6f60b1c7fccb",
         "x": [
          "2018-11-14 20:12:00",
          "2018-11-17 21:54:00"
         ],
         "y": [
          1561,
          1561
         ]
        },
        {
         "mode": "markers+lines",
         "name": "Deploying ",
         "text": "Deploying :0",
         "type": "scatter",
         "uid": "c8ed7093-d448-4656-afc4-6f113adcc44f",
         "x": [
          "2018-11-18 17:07:00",
          "2018-11-18 19:57:00"
         ],
         "y": [
          1355,
          1355
         ]
        },
        {
         "mode": "markers+lines",
         "name": "Transfer L",
         "text": "Transfer L:2",
         "type": "scatter",
         "uid": "4475a39f-7e82-4cd2-9390-b95736758ebd",
         "x": [
          "2018-11-23 17:47:00",
          "2018-11-26 13:25:00"
         ],
         "y": [
          3398,
          3398
         ]
        },
        {
         "mode": "markers+lines",
         "name": "Estimating",
         "text": "Estimating:1",
         "type": "scatter",
         "uid": "e13ea395-5c75-4965-923e-4a2e128bbc7a",
         "x": [
          "2018-11-26 15:43:00",
          "2018-11-28 10:23:00"
         ],
         "y": [
          2824,
          2824
         ]
        },
        {
         "mode": "markers+lines",
         "name": "Python and",
         "text": "Python and:0",
         "type": "scatter",
         "uid": "c44023f6-a564-4464-bc75-104d45dd9bac",
         "x": [
          "2018-11-30 21:17:00",
          "2018-12-01 11:50:00"
         ],
         "y": [
          1397,
          1397
         ]
        },
        {
         "mode": "markers+lines",
         "name": "Jupyter No",
         "text": "Jupyter No:14",
         "type": "scatter",
         "uid": "d20c33df-5d42-4da1-bc82-f7729ca9d08a",
         "x": [
          "2018-11-22 19:51:00",
          "2018-12-07 16:16:00"
         ],
         "y": [
          877,
          877
         ]
        },
        {
         "mode": "markers+lines",
         "name": "How to Wri",
         "text": "How to Wri:15",
         "type": "scatter",
         "uid": "57f9dcb2-cdd1-4d2a-a4e6-3175f2e57952",
         "x": [
          "2018-11-22 19:51:00",
          "2018-12-08 14:41:00"
         ],
         "y": [
          1310,
          1310
         ]
        },
        {
         "mode": "markers+lines",
         "name": "Please Ste",
         "text": "Please Ste:0",
         "type": "scatter",
         "uid": "0e1a8e85-0392-49d7-bb33-29b6cbc10306",
         "x": [
          "2018-12-09 19:10:00",
          "2018-12-09 21:16:00"
         ],
         "y": [
          1410,
          1410
         ]
        },
        {
         "mode": "markers+lines",
         "name": "Introducti",
         "text": "Introducti:0",
         "type": "scatter",
         "uid": "5edb397f-b916-44dc-b629-0b714e4c8f8c",
         "x": [
          "2018-12-15 07:52:00",
          "2018-12-15 12:39:00"
         ],
         "y": [
          1806,
          1806
         ]
        },
        {
         "mode": "markers+lines",
         "name": "Stop Regre",
         "text": "Stop Regre:0",
         "type": "scatter",
         "uid": "2ba1fc23-82f0-43df-8fa5-fa59945f1bbc",
         "x": [
          "2018-12-16 18:48:00",
          "2018-12-16 21:03:00"
         ],
         "y": [
          2128,
          2128
         ]
        },
        {
         "mode": "markers+lines",
         "name": "Docker for",
         "text": "Docker for:0",
         "type": "scatter",
         "uid": "d5c495e0-8c06-4f18-b626-c5d54bbd6796",
         "x": [
          "2018-12-17 08:43:00",
          "2018-12-17 20:04:00"
         ],
         "y": [
          1075,
          1075
         ]
        },
        {
         "mode": "markers+lines",
         "name": "On Blame",
         "text": "On Blame:0",
         "type": "scatter",
         "uid": "31b4a765-6db3-4458-bded-7d43b7627576",
         "x": [
          "2018-12-24 15:26:00",
          "2018-12-24 20:23:00"
         ],
         "y": [
          1918,
          1918
         ]
        },
        {
         "mode": "markers+lines",
         "name": "What I lea",
         "text": "What I lea:2",
         "type": "scatter",
         "uid": "d66b7e5e-c4d2-4052-afaf-7fbf88a5622f",
         "x": [
          "2018-12-23 14:45:00",
          "2018-12-25 15:28:00"
         ],
         "y": [
          2185,
          2185
         ]
        },
        {
         "mode": "markers+lines",
         "name": "Books of 2",
         "text": "Books of 2:1",
         "type": "scatter",
         "uid": "c179df80-de4d-4315-97c2-284c7905eae4",
         "x": [
          "2018-12-25 15:29:00",
          "2018-12-27 12:31:00"
         ],
         "y": [
          7125,
          7125
         ]
        },
        {
         "mode": "markers+lines",
         "name": "The Copern",
         "text": "The Copern:0",
         "type": "scatter",
         "uid": "60538278-9175-472e-80d0-74c0b72fb52f",
         "x": [
          "2018-12-28 11:41:00",
          "2018-12-29 11:36:00"
         ],
         "y": [
          1898,
          1898
         ]
        }
       ],
       "layout": {
        "title": {
         "text": "Started and Published Date with Word Count"
        },
        "xaxis": {
         "title": {
          "text": "Started and Published Date"
         }
        },
        "yaxis": {
         "title": {
          "text": "Word Count"
         }
        }
       }
      },
      "text/html": [
       "<div id=\"77a3fe57-b3a9-4380-a3b7-279e1a7d6513\" style=\"height: 525px; width: 100%;\" class=\"plotly-graph-div\"></div><script type=\"text/javascript\">require([\"plotly\"], function(Plotly) { window.PLOTLYENV=window.PLOTLYENV || {};window.PLOTLYENV.BASE_URL=\"https://plot.ly\";Plotly.newPlot(\"77a3fe57-b3a9-4380-a3b7-279e1a7d6513\", [{\"mode\": \"markers+lines\", \"name\": \"Top Books \", \"text\": \"Top Books :4\", \"x\": [\"2017-12-27 18:48:00\", \"2018-01-01 13:45:00\"], \"y\": [5160, 5160], \"type\": \"scatter\", \"uid\": \"158f9d93-a825-4bc2-a425-0739dfd1ac57\"}, {\"mode\": \"markers+lines\", \"name\": \"Improving \", \"text\": \"Improving :2\", \"x\": [\"2018-01-03 21:38:00\", \"2018-01-06 20:15:00\"], \"y\": [3504, 3504], \"type\": \"scatter\", \"uid\": \"0c755b18-191a-4ab1-9e7f-76b74384a307\"}, {\"mode\": \"markers+lines\", \"name\": \"Data Scien\", \"text\": \"Data Scien:0\", \"x\": [\"2018-01-07 13:18:00\", \"2018-01-07 20:37:00\"], \"y\": [3569, 3569], \"type\": \"scatter\", \"uid\": \"98e315dd-022c-436c-bbf2-794d71c94ebb\"}, {\"mode\": \"markers+lines\", \"name\": \"The Simple\", \"text\": \"The Simple:0\", \"x\": [\"2018-01-07 20:44:00\", \"2018-01-08 09:45:00\"], \"y\": [1073, 1073], \"type\": \"scatter\", \"uid\": \"b0b2a27b-6f3a-46ec-86ab-0a99c23fc6f9\"}, {\"mode\": \"markers+lines\", \"name\": \"A Theory o\", \"text\": \"A Theory o:5\", \"x\": [\"2018-01-02 17:23:00\", \"2018-01-08 16:58:00\"], \"y\": [2817, 2817], \"type\": \"scatter\", \"uid\": \"cc380a30-0f6e-4908-ac9e-109526c470a4\"}, {\"mode\": \"markers+lines\", \"name\": \"Hyperparam\", \"text\": \"Hyperparam:0\", \"x\": [\"2018-01-09 12:26:00\", \"2018-01-09 21:49:00\"], \"y\": [2456, 2456], \"type\": \"scatter\", \"uid\": \"c3a3552c-ab96-4183-a2e8-82b5a6358622\"}, {\"mode\": \"markers+lines\", \"name\": \"Time Serie\", \"text\": \"Time Serie:1\", \"x\": [\"2018-01-11 08:45:00\", \"2018-01-12 20:48:00\"], \"y\": [2974, 2974], \"type\": \"scatter\", \"uid\": \"1778dd51-1db9-4940-912e-a0c74b4f4d66\"}, {\"mode\": \"markers+lines\", \"name\": \"The Failur\", \"text\": \"The Failur:0\", \"x\": [\"2018-01-13 08:04:00\", \"2018-01-13 09:51:00\"], \"y\": [1314, 1314], \"type\": \"scatter\", \"uid\": \"9af2e9a7-d8ce-4df8-bb05-168d416c8aed\"}, {\"mode\": \"markers+lines\", \"name\": \"Stock Anal\", \"text\": \"Stock Anal:0\", \"x\": [\"2018-01-17 10:42:00\", \"2018-01-17 15:24:00\"], \"y\": [2395, 2395], \"type\": \"scatter\", \"uid\": \"71131972-3246-4c72-996f-53a69691bab4\"}, {\"mode\": \"markers+lines\", \"name\": \"A Review o\", \"text\": \"A Review o:0\", \"x\": [\"2018-01-17 18:16:00\", \"2018-01-17 19:42:00\"], \"y\": [1169, 1169], \"type\": \"scatter\", \"uid\": \"4b98a0c5-b67b-41c0-9359-cdb09b188ad6\"}, {\"mode\": \"markers+lines\", \"name\": \"The Perils\", \"text\": \"The Perils:0\", \"x\": [\"2018-01-18 07:16:00\", \"2018-01-18 08:55:00\"], \"y\": [1557, 1557], \"type\": \"scatter\", \"uid\": \"c7dd9ae1-e320-418e-b9cf-5d33c102ab62\"}, {\"mode\": \"markers+lines\", \"name\": \"Stock Pred\", \"text\": \"Stock Pred:5\", \"x\": [\"2018-01-13 18:27:00\", \"2018-01-19 15:30:00\"], \"y\": [2528, 2528], \"type\": \"scatter\", \"uid\": \"bfe21f1d-e781-4ff2-8889-fa01d5eccb5b\"}, {\"mode\": \"markers+lines\", \"name\": \"Correlatio\", \"text\": \"Correlatio:0\", \"x\": [\"2018-01-19 15:47:00\", \"2018-01-19 20:16:00\"], \"y\": [1361, 1361], \"type\": \"scatter\", \"uid\": \"9a1d69a8-8e43-482c-a2b3-72b0792bb6f9\"}, {\"mode\": \"markers+lines\", \"name\": \"Real Life \", \"text\": \"Real Life :10\", \"x\": [\"2018-01-11 21:05:00\", \"2018-01-22 14:22:00\"], \"y\": [1653, 1653], \"type\": \"scatter\", \"uid\": \"d5bb1b4c-79be-4156-a457-f828584c86bb\"}, {\"mode\": \"markers+lines\", \"name\": \"Learn By\\u00a0S\", \"text\": \"Learn By\\u00a0S:0\", \"x\": [\"2018-01-23 19:48:00\", \"2018-01-24 18:27:00\"], \"y\": [1014, 1014], \"type\": \"scatter\", \"uid\": \"1146b31b-b582-4e3f-902a-b6478b39a3ce\"}, {\"mode\": \"markers+lines\", \"name\": \"Overfittin\", \"text\": \"Overfittin:1\", \"x\": [\"2018-01-26 18:22:00\", \"2018-01-27 20:17:00\"], \"y\": [1562, 1562], \"type\": \"scatter\", \"uid\": \"a1943840-948e-4031-b96e-2e6d9c571d68\"}, {\"mode\": \"markers+lines\", \"name\": \"Overfittin\", \"text\": \"Overfittin:1\", \"x\": [\"2018-01-26 20:32:00\", \"2018-01-28 08:40:00\"], \"y\": [2480, 2480], \"type\": \"scatter\", \"uid\": \"66190a29-b394-4e16-b473-b2ea7514f01c\"}, {\"mode\": \"markers+lines\", \"name\": \"How to Mas\", \"text\": \"How to Mas:0\", \"x\": [\"2018-01-31 07:36:00\", \"2018-01-31 11:41:00\"], \"y\": [1281, 1281], \"type\": \"scatter\", \"uid\": \"272d786a-6b56-4c68-ae3b-58afb8146f29\"}, {\"mode\": \"markers+lines\", \"name\": \"Statistica\", \"text\": \"Statistica:2\", \"x\": [\"2018-01-30 20:38:00\", \"2018-02-02 09:26:00\"], \"y\": [2450, 2450], \"type\": \"scatter\", \"uid\": \"7ad86ffd-57e6-4e97-bf62-579324acb113\"}, {\"mode\": \"markers+lines\", \"name\": \"Python is \", \"text\": \"Python is :0\", \"x\": [\"2018-02-04 07:49:00\", \"2018-02-04 09:12:00\"], \"y\": [721, 721], \"type\": \"scatter\", \"uid\": \"12502f6b-887f-45a8-ab9b-ee95c0698185\"}, {\"mode\": \"markers+lines\", \"name\": \"The Mislea\", \"text\": \"The Mislea:7\", \"x\": [\"2018-01-30 20:38:00\", \"2018-02-07 09:09:00\"], \"y\": [1375, 1375], \"type\": \"scatter\", \"uid\": \"bcb5f5c2-eb5b-4ac3-8e47-f28a93a4bf72\"}, {\"mode\": \"markers+lines\", \"name\": \"Markov Cha\", \"text\": \"Markov Cha:0\", \"x\": [\"2018-02-09 07:18:00\", \"2018-02-09 22:29:00\"], \"y\": [2772, 2772], \"type\": \"scatter\", \"uid\": \"8cce707d-cada-4a62-ad50-ca9fbf6e65cd\"}, {\"mode\": \"markers+lines\", \"name\": \"Slow Tech:\", \"text\": \"Slow Tech::1\", \"x\": [\"2018-02-10 08:15:00\", \"2018-02-11 18:57:00\"], \"y\": [634, 634], \"type\": \"scatter\", \"uid\": \"5bb88fbe-9bb1-469b-baf9-8530bfd24717\"}, {\"mode\": \"markers+lines\", \"name\": \"Bayes\\u2019 Rul\", \"text\": \"Bayes\\u2019 Rul:0\", \"x\": [\"2018-02-13 19:06:00\", \"2018-02-14 11:27:00\"], \"y\": [1944, 1944], \"type\": \"scatter\", \"uid\": \"4aa6bb6b-002f-4f79-bf43-c54a744a14ec\"}, {\"mode\": \"markers+lines\", \"name\": \"Data Visua\", \"text\": \"Data Visua:1\", \"x\": [\"2018-02-19 07:47:00\", \"2018-02-20 12:49:00\"], \"y\": [1827, 1827], \"type\": \"scatter\", \"uid\": \"0c198415-85d6-4de4-b98e-7b56832d60c5\"}, {\"mode\": \"markers+lines\", \"name\": \"Unintended\", \"text\": \"Unintended:1\", \"x\": [\"2018-02-22 20:38:00\", \"2018-02-24 09:33:00\"], \"y\": [933, 933], \"type\": \"scatter\", \"uid\": \"897a3d8e-f0f2-4dd9-8cc9-59c8fa345b5d\"}, {\"mode\": \"markers+lines\", \"name\": \"Beyond Acc\", \"text\": \"Beyond Acc:3\", \"x\": [\"2018-02-27 14:32:00\", \"2018-03-03 11:10:00\"], \"y\": [2565, 2565], \"type\": \"scatter\", \"uid\": \"cb91daf2-d4df-474c-acde-ddd29ce2a1ee\"}, {\"mode\": \"markers+lines\", \"name\": \"Controllin\", \"text\": \"Controllin:0\", \"x\": [\"2018-03-10 12:22:00\", \"2018-03-10 16:16:00\"], \"y\": [1906, 1906], \"type\": \"scatter\", \"uid\": \"e418582c-694a-40fc-b327-a4daea4457e3\"}, {\"mode\": \"markers+lines\", \"name\": \"Data Visua\", \"text\": \"Data Visua:0\", \"x\": [\"2018-03-16 12:40:00\", \"2018-03-17 10:29:00\"], \"y\": [2394, 2394], \"type\": \"scatter\", \"uid\": \"1056da5d-ce4e-413b-b09b-c519cff90931\"}, {\"mode\": \"markers+lines\", \"name\": \"Data Visua\", \"text\": \"Data Visua:1\", \"x\": [\"2018-03-18 12:22:00\", \"2018-03-20 09:47:00\"], \"y\": [2220, 2220], \"type\": \"scatter\", \"uid\": \"d4815d33-0a7b-4afa-92bc-2a38b29c4951\"}, {\"mode\": \"markers+lines\", \"name\": \"Histograms\", \"text\": \"Histograms:0\", \"x\": [\"2018-03-22 21:21:00\", \"2018-03-23 12:44:00\"], \"y\": [2614, 2614], \"type\": \"scatter\", \"uid\": \"5c223142-3e29-426b-a3f1-96e62e80868e\"}, {\"mode\": \"markers+lines\", \"name\": \"Data Visua\", \"text\": \"Data Visua:0\", \"x\": [\"2018-03-30 09:33:00\", \"2018-03-31 08:36:00\"], \"y\": [2365, 2365], \"type\": \"scatter\", \"uid\": \"d293632a-58f1-4def-a0c2-8f2fda3477c2\"}, {\"mode\": \"markers+lines\", \"name\": \"Visualizin\", \"text\": \"Visualizin:2\", \"x\": [\"2018-04-03 20:06:00\", \"2018-04-06 14:12:00\"], \"y\": [1577, 1577], \"type\": \"scatter\", \"uid\": \"744dc76d-9110-4624-b906-bfced451fb4f\"}, {\"mode\": \"markers+lines\", \"name\": \"Introducti\", \"text\": \"Introducti:1\", \"x\": [\"2018-04-12 09:58:00\", \"2018-04-13 20:38:00\"], \"y\": [2394, 2394], \"type\": \"scatter\", \"uid\": \"689e2f99-4fcd-426e-894f-046cc3aca5bc\"}, {\"mode\": \"markers+lines\", \"name\": \"Bayesian L\", \"text\": \"Bayesian L:17\", \"x\": [\"2018-04-02 19:57:00\", \"2018-04-20 13:31:00\"], \"y\": [2690, 2690], \"type\": \"scatter\", \"uid\": \"1de6ad4b-e465-43e8-ac18-88d0c4eaeb36\"}, {\"mode\": \"markers+lines\", \"name\": \"Bayesian L\", \"text\": \"Bayesian L:9\", \"x\": [\"2018-04-11 11:02:00\", \"2018-04-20 13:34:00\"], \"y\": [2620, 2620], \"type\": \"scatter\", \"uid\": \"76582dc2-8ff9-4a93-9ebc-35ce02315bf8\"}, {\"mode\": \"markers+lines\", \"name\": \"Web Scrapi\", \"text\": \"Web Scrapi:0\", \"x\": [\"2018-04-28 13:02:00\", \"2018-04-28 15:27:00\"], \"y\": [1480, 1480], \"type\": \"scatter\", \"uid\": \"f239678d-8265-46e6-b9c9-e30964ba274f\"}, {\"mode\": \"markers+lines\", \"name\": \"If your fi\", \"text\": \"If your fi:0\", \"x\": [\"2018-04-29 19:27:00\", \"2018-04-30 11:04:00\"], \"y\": [765, 765], \"type\": \"scatter\", \"uid\": \"1483d97c-4eac-412a-a8c2-bb332ced4b03\"}, {\"mode\": \"markers+lines\", \"name\": \"A Complete\", \"text\": \"A Complete:8\", \"x\": [\"2018-05-07 13:38:00\", \"2018-05-16 12:33:00\"], \"y\": [3553, 3553], \"type\": \"scatter\", \"uid\": \"ec45aea9-0c9b-48e8-8abf-94da3fc46696\"}, {\"mode\": \"markers+lines\", \"name\": \"A Complete\", \"text\": \"A Complete:0\", \"x\": [\"2018-05-16 13:59:00\", \"2018-05-17 09:34:00\"], \"y\": [3106, 3106], \"type\": \"scatter\", \"uid\": \"688a734a-6978-4d49-809e-16f764f794a4\"}, {\"mode\": \"markers+lines\", \"name\": \"A Complete\", \"text\": \"A Complete:1\", \"x\": [\"2018-05-17 09:36:00\", \"2018-05-18 09:48:00\"], \"y\": [2622, 2622], \"type\": \"scatter\", \"uid\": \"6149684a-bba7-42ef-9f6e-50cc3b16f1a5\"}, {\"mode\": \"markers+lines\", \"name\": \"Automated \", \"text\": \"Automated :3\", \"x\": [\"2018-05-18 12:08:00\", \"2018-05-21 14:16:00\"], \"y\": [2338, 2338], \"type\": \"scatter\", \"uid\": \"39472d46-6514-408d-860a-41675224c793\"}, {\"mode\": \"markers+lines\", \"name\": \"Machine Le\", \"text\": \"Machine Le:3\", \"x\": [\"2018-05-24 18:11:00\", \"2018-05-28 11:39:00\"], \"y\": [2975, 2975], \"type\": \"scatter\", \"uid\": \"6edb25fb-4ef9-44fd-bb32-7815dfda04f5\"}, {\"mode\": \"markers+lines\", \"name\": \"Automated \", \"text\": \"Automated :1\", \"x\": [\"2018-06-01 06:51:00\", \"2018-06-02 10:01:00\"], \"y\": [2648, 2648], \"type\": \"scatter\", \"uid\": \"bbfbbe00-9e18-4646-b644-ddde15741746\"}, {\"mode\": \"markers+lines\", \"name\": \"Machine Le\", \"text\": \"Machine Le:26\", \"x\": [\"2018-05-24 18:12:00\", \"2018-06-19 20:35:00\"], \"y\": [5228, 5228], \"type\": \"scatter\", \"uid\": \"3570705a-2dea-487c-adb6-009f041883ab\"}, {\"mode\": \"markers+lines\", \"name\": \"A Feature \", \"text\": \"A Feature :0\", \"x\": [\"2018-06-21 16:17:00\", \"2018-06-22 10:12:00\"], \"y\": [1998, 1998], \"type\": \"scatter\", \"uid\": \"11a4ce95-a3c8-4daa-838d-d66c3d24ae3f\"}, {\"mode\": \"markers+lines\", \"name\": \"A Conceptu\", \"text\": \"A Conceptu:0\", \"x\": [\"2018-06-23 10:55:00\", \"2018-06-24 08:26:00\"], \"y\": [3393, 3393], \"type\": \"scatter\", \"uid\": \"e77b9f2a-da93-4701-9288-baad5678ba82\"}, {\"mode\": \"markers+lines\", \"name\": \"An Introdu\", \"text\": \"An Introdu:0\", \"x\": [\"2018-06-27 16:00:00\", \"2018-06-28 08:33:00\"], \"y\": [1957, 1957], \"type\": \"scatter\", \"uid\": \"86443f7e-c395-42fd-a395-87a4395c1cf4\"}, {\"mode\": \"markers+lines\", \"name\": \"Automated \", \"text\": \"Automated :10\", \"x\": [\"2018-06-22 19:07:00\", \"2018-07-03 11:04:00\"], \"y\": [4298, 4298], \"type\": \"scatter\", \"uid\": \"b58ce817-1516-49fd-944b-ea9837b3737a\"}, {\"mode\": \"markers+lines\", \"name\": \"Machine Le\", \"text\": \"Machine Le:9\", \"x\": [\"2018-07-10 19:56:00\", \"2018-07-20 08:57:00\"], \"y\": [3718, 3718], \"type\": \"scatter\", \"uid\": \"ec5f72d3-6374-479d-bcaa-766171f13ae4\"}, {\"mode\": \"markers+lines\", \"name\": \"How to get\", \"text\": \"How to get:0\", \"x\": [\"2018-07-26 07:02:00\", \"2018-07-26 09:35:00\"], \"y\": [1247, 1247], \"type\": \"scatter\", \"uid\": \"af625c05-621a-40a6-af0f-ed83ddefb884\"}, {\"mode\": \"markers+lines\", \"name\": \"Why Automa\", \"text\": \"Why Automa:12\", \"x\": [\"2018-07-27 11:11:00\", \"2018-08-09 09:04:00\"], \"y\": [2634, 2634], \"type\": \"scatter\", \"uid\": \"7b5554fe-a630-43ed-8504-1ad51c510122\"}, {\"mode\": \"markers+lines\", \"name\": \"The most i\", \"text\": \"The most i:11\", \"x\": [\"2018-07-30 20:28:00\", \"2018-08-11 05:53:00\"], \"y\": [2041, 2041], \"type\": \"scatter\", \"uid\": \"15d89a02-76d8-4722-80bc-ede9e5441aaa\"}, {\"mode\": \"markers+lines\", \"name\": \"Paralleliz\", \"text\": \"Paralleliz:9\", \"x\": [\"2018-08-06 15:18:00\", \"2018-08-16 14:43:00\"], \"y\": [2343, 2343], \"type\": \"scatter\", \"uid\": \"bcbc2e34-2b7c-47ae-812d-ab223010b067\"}, {\"mode\": \"markers+lines\", \"name\": \"How to Vis\", \"text\": \"How to Vis:0\", \"x\": [\"2018-08-18 19:01:00\", \"2018-08-18 19:49:00\"], \"y\": [373, 373], \"type\": \"scatter\", \"uid\": \"be6dc2e9-035e-4e3b-a33c-7668f61a6588\"}, {\"mode\": \"markers+lines\", \"name\": \"A \\u201cData Sc\", \"text\": \"A \\u201cData Sc:21\", \"x\": [\"2018-07-29 12:01:00\", \"2018-08-20 09:48:00\"], \"y\": [3996, 3996], \"type\": \"scatter\", \"uid\": \"86ef47ff-fd0d-41e9-bb2f-111eda32859e\"}, {\"mode\": \"markers+lines\", \"name\": \"A \\u201cData Sc\", \"text\": \"A \\u201cData Sc:0\", \"x\": [\"2018-08-20 09:13:00\", \"2018-08-20 09:51:00\"], \"y\": [3834, 3834], \"type\": \"scatter\", \"uid\": \"7df7df43-2bae-4ba2-9ebf-fba6828de137\"}, {\"mode\": \"markers+lines\", \"name\": \"How to Put\", \"text\": \"How to Put:0\", \"x\": [\"2018-08-29 08:40:00\", \"2018-08-29 19:08:00\"], \"y\": [163, 163], \"type\": \"scatter\", \"uid\": \"0b0dfc77-5bf7-4f8a-8b8e-ba24acadc0a2\"}, {\"mode\": \"markers+lines\", \"name\": \"An Impleme\", \"text\": \"An Impleme:0\", \"x\": [\"2018-08-29 20:01:00\", \"2018-08-30 12:44:00\"], \"y\": [4042, 4042], \"type\": \"scatter\", \"uid\": \"2dd3776e-3c59-4586-93ae-777e220497ed\"}, {\"mode\": \"markers+lines\", \"name\": \"Practical \", \"text\": \"Practical :8\", \"x\": [\"2018-08-26 15:27:00\", \"2018-09-03 17:27:00\"], \"y\": [2658, 2658], \"type\": \"scatter\", \"uid\": \"d4f3150b-cde1-44ce-9aad-1c664a54f450\"}, {\"mode\": \"markers+lines\", \"name\": \"Another Ma\", \"text\": \"Another Ma:2\", \"x\": [\"2018-09-07 14:54:00\", \"2018-09-10 09:26:00\"], \"y\": [3756, 3756], \"type\": \"scatter\", \"uid\": \"80389389-a41a-4fed-ac46-8e90ecf58abf\"}, {\"mode\": \"markers+lines\", \"name\": \"Five Minut\", \"text\": \"Five Minut:1\", \"x\": [\"2018-09-15 05:28:00\", \"2018-09-16 10:31:00\"], \"y\": [1172, 1172], \"type\": \"scatter\", \"uid\": \"4f8e7147-6505-4a40-a249-6cb4308550b5\"}, {\"mode\": \"markers+lines\", \"name\": \"Converting\", \"text\": \"Converting:0\", \"x\": [\"2018-09-16 10:51:00\", \"2018-09-16 17:55:00\"], \"y\": [1580, 1580], \"type\": \"scatter\", \"uid\": \"03664e61-92fc-4513-bd4b-2c3bc321cbff\"}, {\"mode\": \"markers+lines\", \"name\": \"Wikipedia \", \"text\": \"Wikipedia :2\", \"x\": [\"2018-09-20 20:04:00\", \"2018-09-23 10:26:00\"], \"y\": [3756, 3756], \"type\": \"scatter\", \"uid\": \"876d684b-0411-4826-bdb1-12b2a3927d3b\"}, {\"mode\": \"markers+lines\", \"name\": \"Featuretoo\", \"text\": \"Featuretoo:5\", \"x\": [\"2018-09-20 14:21:00\", \"2018-09-26 13:41:00\"], \"y\": [2087, 2087], \"type\": \"scatter\", \"uid\": \"ccbcaa26-22b2-4868-b53e-7a5777ffc4ba\"}, {\"mode\": \"markers+lines\", \"name\": \"Neural Net\", \"text\": \"Neural Net:1\", \"x\": [\"2018-09-30 19:52:00\", \"2018-10-01 21:04:00\"], \"y\": [1809, 1809], \"type\": \"scatter\", \"uid\": \"aabb8ef3-118b-403a-91d0-499372410f4b\"}, {\"mode\": \"markers+lines\", \"name\": \"Building a\", \"text\": \"Building a:5\", \"x\": [\"2018-09-29 05:03:00\", \"2018-10-04 13:10:00\"], \"y\": [2999, 2999], \"type\": \"scatter\", \"uid\": \"7f33db8c-a49a-403b-a280-57db09b2ff32\"}, {\"mode\": \"markers+lines\", \"name\": \"Simpson\\u2019s \", \"text\": \"Simpson\\u2019s :1\", \"x\": [\"2018-10-10 16:21:00\", \"2018-10-12 12:31:00\"], \"y\": [2483, 2483], \"type\": \"scatter\", \"uid\": \"545db8db-b70b-49a2-b660-5d323513a2a9\"}, {\"mode\": \"markers+lines\", \"name\": \"The Power \", \"text\": \"The Power :1\", \"x\": [\"2018-10-16 06:59:00\", \"2018-10-17 10:26:00\"], \"y\": [2172, 2172], \"type\": \"scatter\", \"uid\": \"742db05d-42de-45d6-a436-f82d1b04fcff\"}, {\"mode\": \"markers+lines\", \"name\": \"My Weaknes\", \"text\": \"My Weaknes:10\", \"x\": [\"2018-10-15 20:13:00\", \"2018-10-26 15:32:00\"], \"y\": [2933, 2933], \"type\": \"scatter\", \"uid\": \"b2c14a3c-1d15-401a-90b9-9ee1ea25a2be\"}, {\"mode\": \"markers+lines\", \"name\": \"Overcome Y\", \"text\": \"Overcome Y:0\", \"x\": [\"2018-10-31 21:09:00\", \"2018-11-01 20:44:00\"], \"y\": [1346, 1346], \"type\": \"scatter\", \"uid\": \"999addee-f4f9-4502-b0ab-1c0274ead937\"}, {\"mode\": \"markers+lines\", \"name\": \"Recurrent \", \"text\": \"Recurrent :21\", \"x\": [\"2018-10-14 08:24:00\", \"2018-11-04 21:30:00\"], \"y\": [3797, 3797], \"type\": \"scatter\", \"uid\": \"06fdc4a5-b2c7-45c3-abe6-19d380fb4192\"}, {\"mode\": \"markers+lines\", \"name\": \"Prediction\", \"text\": \"Prediction:1\", \"x\": [\"2018-11-05 15:41:00\", \"2018-11-07 10:14:00\"], \"y\": [1979, 1979], \"type\": \"scatter\", \"uid\": \"493a0586-7c53-4206-92e7-b04a757beb3d\"}, {\"mode\": \"markers+lines\", \"name\": \"How to Cre\", \"text\": \"How to Cre:1\", \"x\": [\"2018-11-05 15:17:00\", \"2018-11-07 10:17:00\"], \"y\": [1286, 1286], \"type\": \"scatter\", \"uid\": \"a0b79cf7-2b19-4eaa-9e5f-7f22f2bca110\"}, {\"mode\": \"markers+lines\", \"name\": \"Feature En\", \"text\": \"Feature En:4\", \"x\": [\"2018-11-07 10:23:00\", \"2018-11-12 09:00:00\"], \"y\": [1741, 1741], \"type\": \"scatter\", \"uid\": \"6f83c09a-2534-473a-acf4-590e03bd9a5d\"}, {\"mode\": \"markers+lines\", \"name\": \"Modeling: \", \"text\": \"Modeling: :7\", \"x\": [\"2018-11-07 11:18:00\", \"2018-11-15 08:35:00\"], \"y\": [2230, 2230], \"type\": \"scatter\", \"uid\": \"9725f961-4420-4c82-a88f-810ea4a5c253\"}, {\"mode\": \"markers+lines\", \"name\": \"Deploying \", \"text\": \"Deploying :3\", \"x\": [\"2018-11-14 20:12:00\", \"2018-11-17 21:54:00\"], \"y\": [1561, 1561], \"type\": \"scatter\", \"uid\": \"33b0d6d1-b76a-4f0f-9cb3-6f60b1c7fccb\"}, {\"mode\": \"markers+lines\", \"name\": \"Deploying \", \"text\": \"Deploying :0\", \"x\": [\"2018-11-18 17:07:00\", \"2018-11-18 19:57:00\"], \"y\": [1355, 1355], \"type\": \"scatter\", \"uid\": \"c8ed7093-d448-4656-afc4-6f113adcc44f\"}, {\"mode\": \"markers+lines\", \"name\": \"Transfer L\", \"text\": \"Transfer L:2\", \"x\": [\"2018-11-23 17:47:00\", \"2018-11-26 13:25:00\"], \"y\": [3398, 3398], \"type\": \"scatter\", \"uid\": \"4475a39f-7e82-4cd2-9390-b95736758ebd\"}, {\"mode\": \"markers+lines\", \"name\": \"Estimating\", \"text\": \"Estimating:1\", \"x\": [\"2018-11-26 15:43:00\", \"2018-11-28 10:23:00\"], \"y\": [2824, 2824], \"type\": \"scatter\", \"uid\": \"e13ea395-5c75-4965-923e-4a2e128bbc7a\"}, {\"mode\": \"markers+lines\", \"name\": \"Python and\", \"text\": \"Python and:0\", \"x\": [\"2018-11-30 21:17:00\", \"2018-12-01 11:50:00\"], \"y\": [1397, 1397], \"type\": \"scatter\", \"uid\": \"c44023f6-a564-4464-bc75-104d45dd9bac\"}, {\"mode\": \"markers+lines\", \"name\": \"Jupyter No\", \"text\": \"Jupyter No:14\", \"x\": [\"2018-11-22 19:51:00\", \"2018-12-07 16:16:00\"], \"y\": [877, 877], \"type\": \"scatter\", \"uid\": \"d20c33df-5d42-4da1-bc82-f7729ca9d08a\"}, {\"mode\": \"markers+lines\", \"name\": \"How to Wri\", \"text\": \"How to Wri:15\", \"x\": [\"2018-11-22 19:51:00\", \"2018-12-08 14:41:00\"], \"y\": [1310, 1310], \"type\": \"scatter\", \"uid\": \"57f9dcb2-cdd1-4d2a-a4e6-3175f2e57952\"}, {\"mode\": \"markers+lines\", \"name\": \"Please Ste\", \"text\": \"Please Ste:0\", \"x\": [\"2018-12-09 19:10:00\", \"2018-12-09 21:16:00\"], \"y\": [1410, 1410], \"type\": \"scatter\", \"uid\": \"0e1a8e85-0392-49d7-bb33-29b6cbc10306\"}, {\"mode\": \"markers+lines\", \"name\": \"Introducti\", \"text\": \"Introducti:0\", \"x\": [\"2018-12-15 07:52:00\", \"2018-12-15 12:39:00\"], \"y\": [1806, 1806], \"type\": \"scatter\", \"uid\": \"5edb397f-b916-44dc-b629-0b714e4c8f8c\"}, {\"mode\": \"markers+lines\", \"name\": \"Stop Regre\", \"text\": \"Stop Regre:0\", \"x\": [\"2018-12-16 18:48:00\", \"2018-12-16 21:03:00\"], \"y\": [2128, 2128], \"type\": \"scatter\", \"uid\": \"2ba1fc23-82f0-43df-8fa5-fa59945f1bbc\"}, {\"mode\": \"markers+lines\", \"name\": \"Docker for\", \"text\": \"Docker for:0\", \"x\": [\"2018-12-17 08:43:00\", \"2018-12-17 20:04:00\"], \"y\": [1075, 1075], \"type\": \"scatter\", \"uid\": \"d5c495e0-8c06-4f18-b626-c5d54bbd6796\"}, {\"mode\": \"markers+lines\", \"name\": \"On Blame\", \"text\": \"On Blame:0\", \"x\": [\"2018-12-24 15:26:00\", \"2018-12-24 20:23:00\"], \"y\": [1918, 1918], \"type\": \"scatter\", \"uid\": \"31b4a765-6db3-4458-bded-7d43b7627576\"}, {\"mode\": \"markers+lines\", \"name\": \"What I lea\", \"text\": \"What I lea:2\", \"x\": [\"2018-12-23 14:45:00\", \"2018-12-25 15:28:00\"], \"y\": [2185, 2185], \"type\": \"scatter\", \"uid\": \"d66b7e5e-c4d2-4052-afaf-7fbf88a5622f\"}, {\"mode\": \"markers+lines\", \"name\": \"Books of\\u00a02\", \"text\": \"Books of\\u00a02:1\", \"x\": [\"2018-12-25 15:29:00\", \"2018-12-27 12:31:00\"], \"y\": [7125, 7125], \"type\": \"scatter\", \"uid\": \"c179df80-de4d-4315-97c2-284c7905eae4\"}, {\"mode\": \"markers+lines\", \"name\": \"The Copern\", \"text\": \"The Copern:0\", \"x\": [\"2018-12-28 11:41:00\", \"2018-12-29 11:36:00\"], \"y\": [1898, 1898], \"type\": \"scatter\", \"uid\": \"60538278-9175-472e-80d0-74c0b72fb52f\"}], {\"title\": {\"text\": \"Started and Published Date with Word Count\"}, \"xaxis\": {\"title\": {\"text\": \"Started and Published Date\"}}, \"yaxis\": {\"title\": {\"text\": \"Word Count\"}}}, {\"showLink\": false, \"linkText\": \"Export to plot.ly\", \"plotlyServerURL\": \"https://plot.ly\"})});</script><script type=\"text/javascript\">window.addEventListener(\"resize\", function(){window._Plotly.Plots.resize(document.getElementById(\"77a3fe57-b3a9-4380-a3b7-279e1a7d6513\"));});</script>"
      ],
      "text/vnd.plotly.v1+html": [
       "<div id=\"77a3fe57-b3a9-4380-a3b7-279e1a7d6513\" style=\"height: 525px; width: 100%;\" class=\"plotly-graph-div\"></div><script type=\"text/javascript\">require([\"plotly\"], function(Plotly) { window.PLOTLYENV=window.PLOTLYENV || {};window.PLOTLYENV.BASE_URL=\"https://plot.ly\";Plotly.newPlot(\"77a3fe57-b3a9-4380-a3b7-279e1a7d6513\", [{\"mode\": \"markers+lines\", \"name\": \"Top Books \", \"text\": \"Top Books :4\", \"x\": [\"2017-12-27 18:48:00\", \"2018-01-01 13:45:00\"], \"y\": [5160, 5160], \"type\": \"scatter\", \"uid\": \"158f9d93-a825-4bc2-a425-0739dfd1ac57\"}, {\"mode\": \"markers+lines\", \"name\": \"Improving \", \"text\": \"Improving :2\", \"x\": [\"2018-01-03 21:38:00\", \"2018-01-06 20:15:00\"], \"y\": [3504, 3504], \"type\": \"scatter\", \"uid\": \"0c755b18-191a-4ab1-9e7f-76b74384a307\"}, {\"mode\": \"markers+lines\", \"name\": \"Data Scien\", \"text\": \"Data Scien:0\", \"x\": [\"2018-01-07 13:18:00\", \"2018-01-07 20:37:00\"], \"y\": [3569, 3569], \"type\": \"scatter\", \"uid\": \"98e315dd-022c-436c-bbf2-794d71c94ebb\"}, {\"mode\": \"markers+lines\", \"name\": \"The Simple\", \"text\": \"The Simple:0\", \"x\": [\"2018-01-07 20:44:00\", \"2018-01-08 09:45:00\"], \"y\": [1073, 1073], \"type\": \"scatter\", \"uid\": \"b0b2a27b-6f3a-46ec-86ab-0a99c23fc6f9\"}, {\"mode\": \"markers+lines\", \"name\": \"A Theory o\", \"text\": \"A Theory o:5\", \"x\": [\"2018-01-02 17:23:00\", \"2018-01-08 16:58:00\"], \"y\": [2817, 2817], \"type\": \"scatter\", \"uid\": \"cc380a30-0f6e-4908-ac9e-109526c470a4\"}, {\"mode\": \"markers+lines\", \"name\": \"Hyperparam\", \"text\": \"Hyperparam:0\", \"x\": [\"2018-01-09 12:26:00\", \"2018-01-09 21:49:00\"], \"y\": [2456, 2456], \"type\": \"scatter\", \"uid\": \"c3a3552c-ab96-4183-a2e8-82b5a6358622\"}, {\"mode\": \"markers+lines\", \"name\": \"Time Serie\", \"text\": \"Time Serie:1\", \"x\": [\"2018-01-11 08:45:00\", \"2018-01-12 20:48:00\"], \"y\": [2974, 2974], \"type\": \"scatter\", \"uid\": \"1778dd51-1db9-4940-912e-a0c74b4f4d66\"}, {\"mode\": \"markers+lines\", \"name\": \"The Failur\", \"text\": \"The Failur:0\", \"x\": [\"2018-01-13 08:04:00\", \"2018-01-13 09:51:00\"], \"y\": [1314, 1314], \"type\": \"scatter\", \"uid\": \"9af2e9a7-d8ce-4df8-bb05-168d416c8aed\"}, {\"mode\": \"markers+lines\", \"name\": \"Stock Anal\", \"text\": \"Stock Anal:0\", \"x\": [\"2018-01-17 10:42:00\", \"2018-01-17 15:24:00\"], \"y\": [2395, 2395], \"type\": \"scatter\", \"uid\": \"71131972-3246-4c72-996f-53a69691bab4\"}, {\"mode\": \"markers+lines\", \"name\": \"A Review o\", \"text\": \"A Review o:0\", \"x\": [\"2018-01-17 18:16:00\", \"2018-01-17 19:42:00\"], \"y\": [1169, 1169], \"type\": \"scatter\", \"uid\": \"4b98a0c5-b67b-41c0-9359-cdb09b188ad6\"}, {\"mode\": \"markers+lines\", \"name\": \"The Perils\", \"text\": \"The Perils:0\", \"x\": [\"2018-01-18 07:16:00\", \"2018-01-18 08:55:00\"], \"y\": [1557, 1557], \"type\": \"scatter\", \"uid\": \"c7dd9ae1-e320-418e-b9cf-5d33c102ab62\"}, {\"mode\": \"markers+lines\", \"name\": \"Stock Pred\", \"text\": \"Stock Pred:5\", \"x\": [\"2018-01-13 18:27:00\", \"2018-01-19 15:30:00\"], \"y\": [2528, 2528], \"type\": \"scatter\", \"uid\": \"bfe21f1d-e781-4ff2-8889-fa01d5eccb5b\"}, {\"mode\": \"markers+lines\", \"name\": \"Correlatio\", \"text\": \"Correlatio:0\", \"x\": [\"2018-01-19 15:47:00\", \"2018-01-19 20:16:00\"], \"y\": [1361, 1361], \"type\": \"scatter\", \"uid\": \"9a1d69a8-8e43-482c-a2b3-72b0792bb6f9\"}, {\"mode\": \"markers+lines\", \"name\": \"Real Life \", \"text\": \"Real Life :10\", \"x\": [\"2018-01-11 21:05:00\", \"2018-01-22 14:22:00\"], \"y\": [1653, 1653], \"type\": \"scatter\", \"uid\": \"d5bb1b4c-79be-4156-a457-f828584c86bb\"}, {\"mode\": \"markers+lines\", \"name\": \"Learn By\\u00a0S\", \"text\": \"Learn By\\u00a0S:0\", \"x\": [\"2018-01-23 19:48:00\", \"2018-01-24 18:27:00\"], \"y\": [1014, 1014], \"type\": \"scatter\", \"uid\": \"1146b31b-b582-4e3f-902a-b6478b39a3ce\"}, {\"mode\": \"markers+lines\", \"name\": \"Overfittin\", \"text\": \"Overfittin:1\", \"x\": [\"2018-01-26 18:22:00\", \"2018-01-27 20:17:00\"], \"y\": [1562, 1562], \"type\": \"scatter\", \"uid\": \"a1943840-948e-4031-b96e-2e6d9c571d68\"}, {\"mode\": \"markers+lines\", \"name\": \"Overfittin\", \"text\": \"Overfittin:1\", \"x\": [\"2018-01-26 20:32:00\", \"2018-01-28 08:40:00\"], \"y\": [2480, 2480], \"type\": \"scatter\", \"uid\": \"66190a29-b394-4e16-b473-b2ea7514f01c\"}, {\"mode\": \"markers+lines\", \"name\": \"How to Mas\", \"text\": \"How to Mas:0\", \"x\": [\"2018-01-31 07:36:00\", \"2018-01-31 11:41:00\"], \"y\": [1281, 1281], \"type\": \"scatter\", \"uid\": \"272d786a-6b56-4c68-ae3b-58afb8146f29\"}, {\"mode\": \"markers+lines\", \"name\": \"Statistica\", \"text\": \"Statistica:2\", \"x\": [\"2018-01-30 20:38:00\", \"2018-02-02 09:26:00\"], \"y\": [2450, 2450], \"type\": \"scatter\", \"uid\": \"7ad86ffd-57e6-4e97-bf62-579324acb113\"}, {\"mode\": \"markers+lines\", \"name\": \"Python is \", \"text\": \"Python is :0\", \"x\": [\"2018-02-04 07:49:00\", \"2018-02-04 09:12:00\"], \"y\": [721, 721], \"type\": \"scatter\", \"uid\": \"12502f6b-887f-45a8-ab9b-ee95c0698185\"}, {\"mode\": \"markers+lines\", \"name\": \"The Mislea\", \"text\": \"The Mislea:7\", \"x\": [\"2018-01-30 20:38:00\", \"2018-02-07 09:09:00\"], \"y\": [1375, 1375], \"type\": \"scatter\", \"uid\": \"bcb5f5c2-eb5b-4ac3-8e47-f28a93a4bf72\"}, {\"mode\": \"markers+lines\", \"name\": \"Markov Cha\", \"text\": \"Markov Cha:0\", \"x\": [\"2018-02-09 07:18:00\", \"2018-02-09 22:29:00\"], \"y\": [2772, 2772], \"type\": \"scatter\", \"uid\": \"8cce707d-cada-4a62-ad50-ca9fbf6e65cd\"}, {\"mode\": \"markers+lines\", \"name\": \"Slow Tech:\", \"text\": \"Slow Tech::1\", \"x\": [\"2018-02-10 08:15:00\", \"2018-02-11 18:57:00\"], \"y\": [634, 634], \"type\": \"scatter\", \"uid\": \"5bb88fbe-9bb1-469b-baf9-8530bfd24717\"}, {\"mode\": \"markers+lines\", \"name\": \"Bayes\\u2019 Rul\", \"text\": \"Bayes\\u2019 Rul:0\", \"x\": [\"2018-02-13 19:06:00\", \"2018-02-14 11:27:00\"], \"y\": [1944, 1944], \"type\": \"scatter\", \"uid\": \"4aa6bb6b-002f-4f79-bf43-c54a744a14ec\"}, {\"mode\": \"markers+lines\", \"name\": \"Data Visua\", \"text\": \"Data Visua:1\", \"x\": [\"2018-02-19 07:47:00\", \"2018-02-20 12:49:00\"], \"y\": [1827, 1827], \"type\": \"scatter\", \"uid\": \"0c198415-85d6-4de4-b98e-7b56832d60c5\"}, {\"mode\": \"markers+lines\", \"name\": \"Unintended\", \"text\": \"Unintended:1\", \"x\": [\"2018-02-22 20:38:00\", \"2018-02-24 09:33:00\"], \"y\": [933, 933], \"type\": \"scatter\", \"uid\": \"897a3d8e-f0f2-4dd9-8cc9-59c8fa345b5d\"}, {\"mode\": \"markers+lines\", \"name\": \"Beyond Acc\", \"text\": \"Beyond Acc:3\", \"x\": [\"2018-02-27 14:32:00\", \"2018-03-03 11:10:00\"], \"y\": [2565, 2565], \"type\": \"scatter\", \"uid\": \"cb91daf2-d4df-474c-acde-ddd29ce2a1ee\"}, {\"mode\": \"markers+lines\", \"name\": \"Controllin\", \"text\": \"Controllin:0\", \"x\": [\"2018-03-10 12:22:00\", \"2018-03-10 16:16:00\"], \"y\": [1906, 1906], \"type\": \"scatter\", \"uid\": \"e418582c-694a-40fc-b327-a4daea4457e3\"}, {\"mode\": \"markers+lines\", \"name\": \"Data Visua\", \"text\": \"Data Visua:0\", \"x\": [\"2018-03-16 12:40:00\", \"2018-03-17 10:29:00\"], \"y\": [2394, 2394], \"type\": \"scatter\", \"uid\": \"1056da5d-ce4e-413b-b09b-c519cff90931\"}, {\"mode\": \"markers+lines\", \"name\": \"Data Visua\", \"text\": \"Data Visua:1\", \"x\": [\"2018-03-18 12:22:00\", \"2018-03-20 09:47:00\"], \"y\": [2220, 2220], \"type\": \"scatter\", \"uid\": \"d4815d33-0a7b-4afa-92bc-2a38b29c4951\"}, {\"mode\": \"markers+lines\", \"name\": \"Histograms\", \"text\": \"Histograms:0\", \"x\": [\"2018-03-22 21:21:00\", \"2018-03-23 12:44:00\"], \"y\": [2614, 2614], \"type\": \"scatter\", \"uid\": \"5c223142-3e29-426b-a3f1-96e62e80868e\"}, {\"mode\": \"markers+lines\", \"name\": \"Data Visua\", \"text\": \"Data Visua:0\", \"x\": [\"2018-03-30 09:33:00\", \"2018-03-31 08:36:00\"], \"y\": [2365, 2365], \"type\": \"scatter\", \"uid\": \"d293632a-58f1-4def-a0c2-8f2fda3477c2\"}, {\"mode\": \"markers+lines\", \"name\": \"Visualizin\", \"text\": \"Visualizin:2\", \"x\": [\"2018-04-03 20:06:00\", \"2018-04-06 14:12:00\"], \"y\": [1577, 1577], \"type\": \"scatter\", \"uid\": \"744dc76d-9110-4624-b906-bfced451fb4f\"}, {\"mode\": \"markers+lines\", \"name\": \"Introducti\", \"text\": \"Introducti:1\", \"x\": [\"2018-04-12 09:58:00\", \"2018-04-13 20:38:00\"], \"y\": [2394, 2394], \"type\": \"scatter\", \"uid\": \"689e2f99-4fcd-426e-894f-046cc3aca5bc\"}, {\"mode\": \"markers+lines\", \"name\": \"Bayesian L\", \"text\": \"Bayesian L:17\", \"x\": [\"2018-04-02 19:57:00\", \"2018-04-20 13:31:00\"], \"y\": [2690, 2690], \"type\": \"scatter\", \"uid\": \"1de6ad4b-e465-43e8-ac18-88d0c4eaeb36\"}, {\"mode\": \"markers+lines\", \"name\": \"Bayesian L\", \"text\": \"Bayesian L:9\", \"x\": [\"2018-04-11 11:02:00\", \"2018-04-20 13:34:00\"], \"y\": [2620, 2620], \"type\": \"scatter\", \"uid\": \"76582dc2-8ff9-4a93-9ebc-35ce02315bf8\"}, {\"mode\": \"markers+lines\", \"name\": \"Web Scrapi\", \"text\": \"Web Scrapi:0\", \"x\": [\"2018-04-28 13:02:00\", \"2018-04-28 15:27:00\"], \"y\": [1480, 1480], \"type\": \"scatter\", \"uid\": \"f239678d-8265-46e6-b9c9-e30964ba274f\"}, {\"mode\": \"markers+lines\", \"name\": \"If your fi\", \"text\": \"If your fi:0\", \"x\": [\"2018-04-29 19:27:00\", \"2018-04-30 11:04:00\"], \"y\": [765, 765], \"type\": \"scatter\", \"uid\": \"1483d97c-4eac-412a-a8c2-bb332ced4b03\"}, {\"mode\": \"markers+lines\", \"name\": \"A Complete\", \"text\": \"A Complete:8\", \"x\": [\"2018-05-07 13:38:00\", \"2018-05-16 12:33:00\"], \"y\": [3553, 3553], \"type\": \"scatter\", \"uid\": \"ec45aea9-0c9b-48e8-8abf-94da3fc46696\"}, {\"mode\": \"markers+lines\", \"name\": \"A Complete\", \"text\": \"A Complete:0\", \"x\": [\"2018-05-16 13:59:00\", \"2018-05-17 09:34:00\"], \"y\": [3106, 3106], \"type\": \"scatter\", \"uid\": \"688a734a-6978-4d49-809e-16f764f794a4\"}, {\"mode\": \"markers+lines\", \"name\": \"A Complete\", \"text\": \"A Complete:1\", \"x\": [\"2018-05-17 09:36:00\", \"2018-05-18 09:48:00\"], \"y\": [2622, 2622], \"type\": \"scatter\", \"uid\": \"6149684a-bba7-42ef-9f6e-50cc3b16f1a5\"}, {\"mode\": \"markers+lines\", \"name\": \"Automated \", \"text\": \"Automated :3\", \"x\": [\"2018-05-18 12:08:00\", \"2018-05-21 14:16:00\"], \"y\": [2338, 2338], \"type\": \"scatter\", \"uid\": \"39472d46-6514-408d-860a-41675224c793\"}, {\"mode\": \"markers+lines\", \"name\": \"Machine Le\", \"text\": \"Machine Le:3\", \"x\": [\"2018-05-24 18:11:00\", \"2018-05-28 11:39:00\"], \"y\": [2975, 2975], \"type\": \"scatter\", \"uid\": \"6edb25fb-4ef9-44fd-bb32-7815dfda04f5\"}, {\"mode\": \"markers+lines\", \"name\": \"Automated \", \"text\": \"Automated :1\", \"x\": [\"2018-06-01 06:51:00\", \"2018-06-02 10:01:00\"], \"y\": [2648, 2648], \"type\": \"scatter\", \"uid\": \"bbfbbe00-9e18-4646-b644-ddde15741746\"}, {\"mode\": \"markers+lines\", \"name\": \"Machine Le\", \"text\": \"Machine Le:26\", \"x\": [\"2018-05-24 18:12:00\", \"2018-06-19 20:35:00\"], \"y\": [5228, 5228], \"type\": \"scatter\", \"uid\": \"3570705a-2dea-487c-adb6-009f041883ab\"}, {\"mode\": \"markers+lines\", \"name\": \"A Feature \", \"text\": \"A Feature :0\", \"x\": [\"2018-06-21 16:17:00\", \"2018-06-22 10:12:00\"], \"y\": [1998, 1998], \"type\": \"scatter\", \"uid\": \"11a4ce95-a3c8-4daa-838d-d66c3d24ae3f\"}, {\"mode\": \"markers+lines\", \"name\": \"A Conceptu\", \"text\": \"A Conceptu:0\", \"x\": [\"2018-06-23 10:55:00\", \"2018-06-24 08:26:00\"], \"y\": [3393, 3393], \"type\": \"scatter\", \"uid\": \"e77b9f2a-da93-4701-9288-baad5678ba82\"}, {\"mode\": \"markers+lines\", \"name\": \"An Introdu\", \"text\": \"An Introdu:0\", \"x\": [\"2018-06-27 16:00:00\", \"2018-06-28 08:33:00\"], \"y\": [1957, 1957], \"type\": \"scatter\", \"uid\": \"86443f7e-c395-42fd-a395-87a4395c1cf4\"}, {\"mode\": \"markers+lines\", \"name\": \"Automated \", \"text\": \"Automated :10\", \"x\": [\"2018-06-22 19:07:00\", \"2018-07-03 11:04:00\"], \"y\": [4298, 4298], \"type\": \"scatter\", \"uid\": \"b58ce817-1516-49fd-944b-ea9837b3737a\"}, {\"mode\": \"markers+lines\", \"name\": \"Machine Le\", \"text\": \"Machine Le:9\", \"x\": [\"2018-07-10 19:56:00\", \"2018-07-20 08:57:00\"], \"y\": [3718, 3718], \"type\": \"scatter\", \"uid\": \"ec5f72d3-6374-479d-bcaa-766171f13ae4\"}, {\"mode\": \"markers+lines\", \"name\": \"How to get\", \"text\": \"How to get:0\", \"x\": [\"2018-07-26 07:02:00\", \"2018-07-26 09:35:00\"], \"y\": [1247, 1247], \"type\": \"scatter\", \"uid\": \"af625c05-621a-40a6-af0f-ed83ddefb884\"}, {\"mode\": \"markers+lines\", \"name\": \"Why Automa\", \"text\": \"Why Automa:12\", \"x\": [\"2018-07-27 11:11:00\", \"2018-08-09 09:04:00\"], \"y\": [2634, 2634], \"type\": \"scatter\", \"uid\": \"7b5554fe-a630-43ed-8504-1ad51c510122\"}, {\"mode\": \"markers+lines\", \"name\": \"The most i\", \"text\": \"The most i:11\", \"x\": [\"2018-07-30 20:28:00\", \"2018-08-11 05:53:00\"], \"y\": [2041, 2041], \"type\": \"scatter\", \"uid\": \"15d89a02-76d8-4722-80bc-ede9e5441aaa\"}, {\"mode\": \"markers+lines\", \"name\": \"Paralleliz\", \"text\": \"Paralleliz:9\", \"x\": [\"2018-08-06 15:18:00\", \"2018-08-16 14:43:00\"], \"y\": [2343, 2343], \"type\": \"scatter\", \"uid\": \"bcbc2e34-2b7c-47ae-812d-ab223010b067\"}, {\"mode\": \"markers+lines\", \"name\": \"How to Vis\", \"text\": \"How to Vis:0\", \"x\": [\"2018-08-18 19:01:00\", \"2018-08-18 19:49:00\"], \"y\": [373, 373], \"type\": \"scatter\", \"uid\": \"be6dc2e9-035e-4e3b-a33c-7668f61a6588\"}, {\"mode\": \"markers+lines\", \"name\": \"A \\u201cData Sc\", \"text\": \"A \\u201cData Sc:21\", \"x\": [\"2018-07-29 12:01:00\", \"2018-08-20 09:48:00\"], \"y\": [3996, 3996], \"type\": \"scatter\", \"uid\": \"86ef47ff-fd0d-41e9-bb2f-111eda32859e\"}, {\"mode\": \"markers+lines\", \"name\": \"A \\u201cData Sc\", \"text\": \"A \\u201cData Sc:0\", \"x\": [\"2018-08-20 09:13:00\", \"2018-08-20 09:51:00\"], \"y\": [3834, 3834], \"type\": \"scatter\", \"uid\": \"7df7df43-2bae-4ba2-9ebf-fba6828de137\"}, {\"mode\": \"markers+lines\", \"name\": \"How to Put\", \"text\": \"How to Put:0\", \"x\": [\"2018-08-29 08:40:00\", \"2018-08-29 19:08:00\"], \"y\": [163, 163], \"type\": \"scatter\", \"uid\": \"0b0dfc77-5bf7-4f8a-8b8e-ba24acadc0a2\"}, {\"mode\": \"markers+lines\", \"name\": \"An Impleme\", \"text\": \"An Impleme:0\", \"x\": [\"2018-08-29 20:01:00\", \"2018-08-30 12:44:00\"], \"y\": [4042, 4042], \"type\": \"scatter\", \"uid\": \"2dd3776e-3c59-4586-93ae-777e220497ed\"}, {\"mode\": \"markers+lines\", \"name\": \"Practical \", \"text\": \"Practical :8\", \"x\": [\"2018-08-26 15:27:00\", \"2018-09-03 17:27:00\"], \"y\": [2658, 2658], \"type\": \"scatter\", \"uid\": \"d4f3150b-cde1-44ce-9aad-1c664a54f450\"}, {\"mode\": \"markers+lines\", \"name\": \"Another Ma\", \"text\": \"Another Ma:2\", \"x\": [\"2018-09-07 14:54:00\", \"2018-09-10 09:26:00\"], \"y\": [3756, 3756], \"type\": \"scatter\", \"uid\": \"80389389-a41a-4fed-ac46-8e90ecf58abf\"}, {\"mode\": \"markers+lines\", \"name\": \"Five Minut\", \"text\": \"Five Minut:1\", \"x\": [\"2018-09-15 05:28:00\", \"2018-09-16 10:31:00\"], \"y\": [1172, 1172], \"type\": \"scatter\", \"uid\": \"4f8e7147-6505-4a40-a249-6cb4308550b5\"}, {\"mode\": \"markers+lines\", \"name\": \"Converting\", \"text\": \"Converting:0\", \"x\": [\"2018-09-16 10:51:00\", \"2018-09-16 17:55:00\"], \"y\": [1580, 1580], \"type\": \"scatter\", \"uid\": \"03664e61-92fc-4513-bd4b-2c3bc321cbff\"}, {\"mode\": \"markers+lines\", \"name\": \"Wikipedia \", \"text\": \"Wikipedia :2\", \"x\": [\"2018-09-20 20:04:00\", \"2018-09-23 10:26:00\"], \"y\": [3756, 3756], \"type\": \"scatter\", \"uid\": \"876d684b-0411-4826-bdb1-12b2a3927d3b\"}, {\"mode\": \"markers+lines\", \"name\": \"Featuretoo\", \"text\": \"Featuretoo:5\", \"x\": [\"2018-09-20 14:21:00\", \"2018-09-26 13:41:00\"], \"y\": [2087, 2087], \"type\": \"scatter\", \"uid\": \"ccbcaa26-22b2-4868-b53e-7a5777ffc4ba\"}, {\"mode\": \"markers+lines\", \"name\": \"Neural Net\", \"text\": \"Neural Net:1\", \"x\": [\"2018-09-30 19:52:00\", \"2018-10-01 21:04:00\"], \"y\": [1809, 1809], \"type\": \"scatter\", \"uid\": \"aabb8ef3-118b-403a-91d0-499372410f4b\"}, {\"mode\": \"markers+lines\", \"name\": \"Building a\", \"text\": \"Building a:5\", \"x\": [\"2018-09-29 05:03:00\", \"2018-10-04 13:10:00\"], \"y\": [2999, 2999], \"type\": \"scatter\", \"uid\": \"7f33db8c-a49a-403b-a280-57db09b2ff32\"}, {\"mode\": \"markers+lines\", \"name\": \"Simpson\\u2019s \", \"text\": \"Simpson\\u2019s :1\", \"x\": [\"2018-10-10 16:21:00\", \"2018-10-12 12:31:00\"], \"y\": [2483, 2483], \"type\": \"scatter\", \"uid\": \"545db8db-b70b-49a2-b660-5d323513a2a9\"}, {\"mode\": \"markers+lines\", \"name\": \"The Power \", \"text\": \"The Power :1\", \"x\": [\"2018-10-16 06:59:00\", \"2018-10-17 10:26:00\"], \"y\": [2172, 2172], \"type\": \"scatter\", \"uid\": \"742db05d-42de-45d6-a436-f82d1b04fcff\"}, {\"mode\": \"markers+lines\", \"name\": \"My Weaknes\", \"text\": \"My Weaknes:10\", \"x\": [\"2018-10-15 20:13:00\", \"2018-10-26 15:32:00\"], \"y\": [2933, 2933], \"type\": \"scatter\", \"uid\": \"b2c14a3c-1d15-401a-90b9-9ee1ea25a2be\"}, {\"mode\": \"markers+lines\", \"name\": \"Overcome Y\", \"text\": \"Overcome Y:0\", \"x\": [\"2018-10-31 21:09:00\", \"2018-11-01 20:44:00\"], \"y\": [1346, 1346], \"type\": \"scatter\", \"uid\": \"999addee-f4f9-4502-b0ab-1c0274ead937\"}, {\"mode\": \"markers+lines\", \"name\": \"Recurrent \", \"text\": \"Recurrent :21\", \"x\": [\"2018-10-14 08:24:00\", \"2018-11-04 21:30:00\"], \"y\": [3797, 3797], \"type\": \"scatter\", \"uid\": \"06fdc4a5-b2c7-45c3-abe6-19d380fb4192\"}, {\"mode\": \"markers+lines\", \"name\": \"Prediction\", \"text\": \"Prediction:1\", \"x\": [\"2018-11-05 15:41:00\", \"2018-11-07 10:14:00\"], \"y\": [1979, 1979], \"type\": \"scatter\", \"uid\": \"493a0586-7c53-4206-92e7-b04a757beb3d\"}, {\"mode\": \"markers+lines\", \"name\": \"How to Cre\", \"text\": \"How to Cre:1\", \"x\": [\"2018-11-05 15:17:00\", \"2018-11-07 10:17:00\"], \"y\": [1286, 1286], \"type\": \"scatter\", \"uid\": \"a0b79cf7-2b19-4eaa-9e5f-7f22f2bca110\"}, {\"mode\": \"markers+lines\", \"name\": \"Feature En\", \"text\": \"Feature En:4\", \"x\": [\"2018-11-07 10:23:00\", \"2018-11-12 09:00:00\"], \"y\": [1741, 1741], \"type\": \"scatter\", \"uid\": \"6f83c09a-2534-473a-acf4-590e03bd9a5d\"}, {\"mode\": \"markers+lines\", \"name\": \"Modeling: \", \"text\": \"Modeling: :7\", \"x\": [\"2018-11-07 11:18:00\", \"2018-11-15 08:35:00\"], \"y\": [2230, 2230], \"type\": \"scatter\", \"uid\": \"9725f961-4420-4c82-a88f-810ea4a5c253\"}, {\"mode\": \"markers+lines\", \"name\": \"Deploying \", \"text\": \"Deploying :3\", \"x\": [\"2018-11-14 20:12:00\", \"2018-11-17 21:54:00\"], \"y\": [1561, 1561], \"type\": \"scatter\", \"uid\": \"33b0d6d1-b76a-4f0f-9cb3-6f60b1c7fccb\"}, {\"mode\": \"markers+lines\", \"name\": \"Deploying \", \"text\": \"Deploying :0\", \"x\": [\"2018-11-18 17:07:00\", \"2018-11-18 19:57:00\"], \"y\": [1355, 1355], \"type\": \"scatter\", \"uid\": \"c8ed7093-d448-4656-afc4-6f113adcc44f\"}, {\"mode\": \"markers+lines\", \"name\": \"Transfer L\", \"text\": \"Transfer L:2\", \"x\": [\"2018-11-23 17:47:00\", \"2018-11-26 13:25:00\"], \"y\": [3398, 3398], \"type\": \"scatter\", \"uid\": \"4475a39f-7e82-4cd2-9390-b95736758ebd\"}, {\"mode\": \"markers+lines\", \"name\": \"Estimating\", \"text\": \"Estimating:1\", \"x\": [\"2018-11-26 15:43:00\", \"2018-11-28 10:23:00\"], \"y\": [2824, 2824], \"type\": \"scatter\", \"uid\": \"e13ea395-5c75-4965-923e-4a2e128bbc7a\"}, {\"mode\": \"markers+lines\", \"name\": \"Python and\", \"text\": \"Python and:0\", \"x\": [\"2018-11-30 21:17:00\", \"2018-12-01 11:50:00\"], \"y\": [1397, 1397], \"type\": \"scatter\", \"uid\": \"c44023f6-a564-4464-bc75-104d45dd9bac\"}, {\"mode\": \"markers+lines\", \"name\": \"Jupyter No\", \"text\": \"Jupyter No:14\", \"x\": [\"2018-11-22 19:51:00\", \"2018-12-07 16:16:00\"], \"y\": [877, 877], \"type\": \"scatter\", \"uid\": \"d20c33df-5d42-4da1-bc82-f7729ca9d08a\"}, {\"mode\": \"markers+lines\", \"name\": \"How to Wri\", \"text\": \"How to Wri:15\", \"x\": [\"2018-11-22 19:51:00\", \"2018-12-08 14:41:00\"], \"y\": [1310, 1310], \"type\": \"scatter\", \"uid\": \"57f9dcb2-cdd1-4d2a-a4e6-3175f2e57952\"}, {\"mode\": \"markers+lines\", \"name\": \"Please Ste\", \"text\": \"Please Ste:0\", \"x\": [\"2018-12-09 19:10:00\", \"2018-12-09 21:16:00\"], \"y\": [1410, 1410], \"type\": \"scatter\", \"uid\": \"0e1a8e85-0392-49d7-bb33-29b6cbc10306\"}, {\"mode\": \"markers+lines\", \"name\": \"Introducti\", \"text\": \"Introducti:0\", \"x\": [\"2018-12-15 07:52:00\", \"2018-12-15 12:39:00\"], \"y\": [1806, 1806], \"type\": \"scatter\", \"uid\": \"5edb397f-b916-44dc-b629-0b714e4c8f8c\"}, {\"mode\": \"markers+lines\", \"name\": \"Stop Regre\", \"text\": \"Stop Regre:0\", \"x\": [\"2018-12-16 18:48:00\", \"2018-12-16 21:03:00\"], \"y\": [2128, 2128], \"type\": \"scatter\", \"uid\": \"2ba1fc23-82f0-43df-8fa5-fa59945f1bbc\"}, {\"mode\": \"markers+lines\", \"name\": \"Docker for\", \"text\": \"Docker for:0\", \"x\": [\"2018-12-17 08:43:00\", \"2018-12-17 20:04:00\"], \"y\": [1075, 1075], \"type\": \"scatter\", \"uid\": \"d5c495e0-8c06-4f18-b626-c5d54bbd6796\"}, {\"mode\": \"markers+lines\", \"name\": \"On Blame\", \"text\": \"On Blame:0\", \"x\": [\"2018-12-24 15:26:00\", \"2018-12-24 20:23:00\"], \"y\": [1918, 1918], \"type\": \"scatter\", \"uid\": \"31b4a765-6db3-4458-bded-7d43b7627576\"}, {\"mode\": \"markers+lines\", \"name\": \"What I lea\", \"text\": \"What I lea:2\", \"x\": [\"2018-12-23 14:45:00\", \"2018-12-25 15:28:00\"], \"y\": [2185, 2185], \"type\": \"scatter\", \"uid\": \"d66b7e5e-c4d2-4052-afaf-7fbf88a5622f\"}, {\"mode\": \"markers+lines\", \"name\": \"Books of\\u00a02\", \"text\": \"Books of\\u00a02:1\", \"x\": [\"2018-12-25 15:29:00\", \"2018-12-27 12:31:00\"], \"y\": [7125, 7125], \"type\": \"scatter\", \"uid\": \"c179df80-de4d-4315-97c2-284c7905eae4\"}, {\"mode\": \"markers+lines\", \"name\": \"The Copern\", \"text\": \"The Copern:0\", \"x\": [\"2018-12-28 11:41:00\", \"2018-12-29 11:36:00\"], \"y\": [1898, 1898], \"type\": \"scatter\", \"uid\": \"60538278-9175-472e-80d0-74c0b72fb52f\"}], {\"title\": {\"text\": \"Started and Published Date with Word Count\"}, \"xaxis\": {\"title\": {\"text\": \"Started and Published Date\"}}, \"yaxis\": {\"title\": {\"text\": \"Word Count\"}}}, {\"showLink\": false, \"linkText\": \"Export to plot.ly\", \"plotlyServerURL\": \"https://plot.ly\"})});</script><script type=\"text/javascript\">window.addEventListener(\"resize\", function(){window._Plotly.Plots.resize(document.getElementById(\"77a3fe57-b3a9-4380-a3b7-279e1a7d6513\"));});</script>"
      ]
     },
     "metadata": {},
     "output_type": "display_data"
    }
   ],
   "source": [
    "figure = go.Figure(data=data, layout=go.Layout(title='Started and Published Date with Word Count', \n",
    "                                               yaxis=dict(title='Word Count'),\n",
    "                                               xaxis=dict(title='Started and Published Date')))\n",
    "iplot(figure)"
   ]
  },
  {
   "cell_type": "markdown",
   "metadata": {},
   "source": [
    "# Cumulative Word Count\n",
    "\n",
    "This shows the total words I wrote over the year. We use a cumulative sum plotted against the published date."
   ]
  },
  {
   "cell_type": "code",
   "execution_count": 10,
   "metadata": {
    "ExecuteTime": {
     "end_time": "2019-01-31T15:14:50.318915Z",
     "start_time": "2019-01-31T15:14:50.162029Z"
    }
   },
   "outputs": [
    {
     "data": {
      "application/vnd.plotly.v1+json": {
       "config": {
        "linkText": "Export to plot.ly",
        "plotlyServerURL": "https://plot.ly",
        "showLink": true
       },
       "data": [
        {
         "line": {
          "color": "rgba(31, 119, 180, 1.0)",
          "dash": "solid",
          "shape": "linear",
          "width": 1.3
         },
         "marker": {
          "size": 6,
          "symbol": "circle"
         },
         "mode": "markers+lines",
         "name": "word_count",
         "text": "",
         "type": "scatter",
         "uid": "aaa165f2-dcac-4da3-aa5b-b8eebf54db54",
         "x": [
          "2018-01-01 13:45:00",
          "2018-01-06 20:15:00",
          "2018-01-07 20:37:00",
          "2018-01-08 09:45:00",
          "2018-01-08 16:58:00",
          "2018-01-09 21:49:00",
          "2018-01-12 20:48:00",
          "2018-01-13 09:51:00",
          "2018-01-17 15:24:00",
          "2018-01-17 19:42:00",
          "2018-01-18 08:55:00",
          "2018-01-19 15:30:00",
          "2018-01-19 20:16:00",
          "2018-01-22 14:22:00",
          "2018-01-24 18:27:00",
          "2018-01-27 20:17:00",
          "2018-01-28 08:40:00",
          "2018-01-31 11:41:00",
          "2018-02-02 09:26:00",
          "2018-02-04 09:12:00",
          "2018-02-07 09:09:00",
          "2018-02-09 22:29:00",
          "2018-02-11 18:57:00",
          "2018-02-14 11:27:00",
          "2018-02-20 12:49:00",
          "2018-02-24 09:33:00",
          "2018-03-03 11:10:00",
          "2018-03-10 16:16:00",
          "2018-03-17 10:29:00",
          "2018-03-20 09:47:00",
          "2018-03-23 12:44:00",
          "2018-03-31 08:36:00",
          "2018-04-06 14:12:00",
          "2018-04-13 20:38:00",
          "2018-04-20 13:31:00",
          "2018-04-20 13:34:00",
          "2018-04-28 15:27:00",
          "2018-04-30 11:04:00",
          "2018-05-16 12:33:00",
          "2018-05-17 09:34:00",
          "2018-05-18 09:48:00",
          "2018-05-21 14:16:00",
          "2018-05-28 11:39:00",
          "2018-06-02 10:01:00",
          "2018-06-19 20:35:00",
          "2018-06-22 10:12:00",
          "2018-06-24 08:26:00",
          "2018-06-28 08:33:00",
          "2018-07-03 11:04:00",
          "2018-07-20 08:57:00",
          "2018-07-26 09:35:00",
          "2018-08-09 09:04:00",
          "2018-08-11 05:53:00",
          "2018-08-16 14:43:00",
          "2018-08-18 19:49:00",
          "2018-08-20 09:48:00",
          "2018-08-20 09:51:00",
          "2018-08-29 19:08:00",
          "2018-08-30 12:44:00",
          "2018-09-03 17:27:00",
          "2018-09-10 09:26:00",
          "2018-09-16 10:31:00",
          "2018-09-16 17:55:00",
          "2018-09-23 10:26:00",
          "2018-09-26 13:41:00",
          "2018-10-01 21:04:00",
          "2018-10-04 13:10:00",
          "2018-10-12 12:31:00",
          "2018-10-17 10:26:00",
          "2018-10-26 15:32:00",
          "2018-11-01 20:44:00",
          "2018-11-04 21:30:00",
          "2018-11-07 10:14:00",
          "2018-11-07 10:17:00",
          "2018-11-12 09:00:00",
          "2018-11-15 08:35:00",
          "2018-11-17 21:54:00",
          "2018-11-18 19:57:00",
          "2018-11-26 13:25:00",
          "2018-11-28 10:23:00",
          "2018-12-01 11:50:00",
          "2018-12-07 16:16:00",
          "2018-12-08 14:41:00",
          "2018-12-09 21:16:00",
          "2018-12-15 12:39:00",
          "2018-12-16 21:03:00",
          "2018-12-17 20:04:00",
          "2018-12-24 20:23:00",
          "2018-12-25 15:28:00",
          "2018-12-25 21:22:00",
          "2018-12-25 21:24:00",
          "2018-12-25 21:25:00",
          "2018-12-25 21:26:00",
          "2018-12-25 21:26:00",
          "2018-12-25 21:27:00",
          "2018-12-27 08:00:00",
          "2018-12-27 12:31:00",
          "2018-12-29 11:36:00"
         ],
         "y": [
          5160,
          8664,
          12233,
          13306,
          16123,
          18579,
          21553,
          22867,
          25262,
          26431,
          27988,
          30516,
          31877,
          33530,
          34544,
          36106,
          38586,
          39867,
          42317,
          43038,
          44413,
          47185,
          47819,
          49763,
          51590,
          52523,
          55088,
          56994,
          59388,
          61608,
          64222,
          66587,
          68164,
          70558,
          73248,
          75868,
          77348,
          78113,
          81666,
          84772,
          87394,
          89732,
          92707,
          95355,
          100583,
          102581,
          105974,
          107931,
          112229,
          115947,
          117194,
          119828,
          121869,
          124212,
          124585,
          128581,
          132415,
          132578,
          136620,
          139278,
          143034,
          144206,
          145786,
          149542,
          151629,
          153438,
          156437,
          158920,
          161092,
          164025,
          165371,
          169168,
          171147,
          172433,
          174174,
          176404,
          177965,
          179320,
          182718,
          185542,
          186939,
          187816,
          189126,
          190536,
          192342,
          194470,
          195545,
          197463,
          199648,
          214711,
          218370,
          228068,
          232213,
          240720,
          243788,
          255871,
          262996,
          264894
         ]
        }
       ],
       "layout": {
        "legend": {
         "bgcolor": "#FFFFFF",
         "font": {
          "color": "#4D5663"
         }
        },
        "paper_bgcolor": "#FFFFFF",
        "plot_bgcolor": "#FFFFFF",
        "title": {
         "font": {
          "color": "#4D5663"
         },
         "text": "Total Words over 2018"
        },
        "xaxis": {
         "gridcolor": "#E1E5ED",
         "showgrid": true,
         "tickfont": {
          "color": "#4D5663"
         },
         "title": {
          "font": {
           "color": "#4D5663"
          },
          "text": "Published Date"
         },
         "zerolinecolor": "#E1E5ED"
        },
        "yaxis": {
         "gridcolor": "#E1E5ED",
         "showgrid": true,
         "tickfont": {
          "color": "#4D5663"
         },
         "title": {
          "font": {
           "color": "#4D5663"
          },
          "text": "Word Count"
         },
         "zerolinecolor": "#E1E5ED"
        }
       }
      },
      "text/html": [
       "<div id=\"203c90aa-a431-4739-8261-d89a529139b2\" style=\"height: 525px; width: 100%;\" class=\"plotly-graph-div\"></div><script type=\"text/javascript\">require([\"plotly\"], function(Plotly) { window.PLOTLYENV=window.PLOTLYENV || {};window.PLOTLYENV.BASE_URL=\"https://plot.ly\";Plotly.newPlot(\"203c90aa-a431-4739-8261-d89a529139b2\", [{\"line\": {\"color\": \"rgba(31, 119, 180, 1.0)\", \"dash\": \"solid\", \"shape\": \"linear\", \"width\": 1.3}, \"marker\": {\"size\": 6, \"symbol\": \"circle\"}, \"mode\": \"markers+lines\", \"name\": \"word_count\", \"text\": \"\", \"x\": [\"2018-01-01 13:45:00\", \"2018-01-06 20:15:00\", \"2018-01-07 20:37:00\", \"2018-01-08 09:45:00\", \"2018-01-08 16:58:00\", \"2018-01-09 21:49:00\", \"2018-01-12 20:48:00\", \"2018-01-13 09:51:00\", \"2018-01-17 15:24:00\", \"2018-01-17 19:42:00\", \"2018-01-18 08:55:00\", \"2018-01-19 15:30:00\", \"2018-01-19 20:16:00\", \"2018-01-22 14:22:00\", \"2018-01-24 18:27:00\", \"2018-01-27 20:17:00\", \"2018-01-28 08:40:00\", \"2018-01-31 11:41:00\", \"2018-02-02 09:26:00\", \"2018-02-04 09:12:00\", \"2018-02-07 09:09:00\", \"2018-02-09 22:29:00\", \"2018-02-11 18:57:00\", \"2018-02-14 11:27:00\", \"2018-02-20 12:49:00\", \"2018-02-24 09:33:00\", \"2018-03-03 11:10:00\", \"2018-03-10 16:16:00\", \"2018-03-17 10:29:00\", \"2018-03-20 09:47:00\", \"2018-03-23 12:44:00\", \"2018-03-31 08:36:00\", \"2018-04-06 14:12:00\", \"2018-04-13 20:38:00\", \"2018-04-20 13:31:00\", \"2018-04-20 13:34:00\", \"2018-04-28 15:27:00\", \"2018-04-30 11:04:00\", \"2018-05-16 12:33:00\", \"2018-05-17 09:34:00\", \"2018-05-18 09:48:00\", \"2018-05-21 14:16:00\", \"2018-05-28 11:39:00\", \"2018-06-02 10:01:00\", \"2018-06-19 20:35:00\", \"2018-06-22 10:12:00\", \"2018-06-24 08:26:00\", \"2018-06-28 08:33:00\", \"2018-07-03 11:04:00\", \"2018-07-20 08:57:00\", \"2018-07-26 09:35:00\", \"2018-08-09 09:04:00\", \"2018-08-11 05:53:00\", \"2018-08-16 14:43:00\", \"2018-08-18 19:49:00\", \"2018-08-20 09:48:00\", \"2018-08-20 09:51:00\", \"2018-08-29 19:08:00\", \"2018-08-30 12:44:00\", \"2018-09-03 17:27:00\", \"2018-09-10 09:26:00\", \"2018-09-16 10:31:00\", \"2018-09-16 17:55:00\", \"2018-09-23 10:26:00\", \"2018-09-26 13:41:00\", \"2018-10-01 21:04:00\", \"2018-10-04 13:10:00\", \"2018-10-12 12:31:00\", \"2018-10-17 10:26:00\", \"2018-10-26 15:32:00\", \"2018-11-01 20:44:00\", \"2018-11-04 21:30:00\", \"2018-11-07 10:14:00\", \"2018-11-07 10:17:00\", \"2018-11-12 09:00:00\", \"2018-11-15 08:35:00\", \"2018-11-17 21:54:00\", \"2018-11-18 19:57:00\", \"2018-11-26 13:25:00\", \"2018-11-28 10:23:00\", \"2018-12-01 11:50:00\", \"2018-12-07 16:16:00\", \"2018-12-08 14:41:00\", \"2018-12-09 21:16:00\", \"2018-12-15 12:39:00\", \"2018-12-16 21:03:00\", \"2018-12-17 20:04:00\", \"2018-12-24 20:23:00\", \"2018-12-25 15:28:00\", \"2018-12-25 21:22:00\", \"2018-12-25 21:24:00\", \"2018-12-25 21:25:00\", \"2018-12-25 21:26:00\", \"2018-12-25 21:26:00\", \"2018-12-25 21:27:00\", \"2018-12-27 08:00:00\", \"2018-12-27 12:31:00\", \"2018-12-29 11:36:00\"], \"y\": [5160, 8664, 12233, 13306, 16123, 18579, 21553, 22867, 25262, 26431, 27988, 30516, 31877, 33530, 34544, 36106, 38586, 39867, 42317, 43038, 44413, 47185, 47819, 49763, 51590, 52523, 55088, 56994, 59388, 61608, 64222, 66587, 68164, 70558, 73248, 75868, 77348, 78113, 81666, 84772, 87394, 89732, 92707, 95355, 100583, 102581, 105974, 107931, 112229, 115947, 117194, 119828, 121869, 124212, 124585, 128581, 132415, 132578, 136620, 139278, 143034, 144206, 145786, 149542, 151629, 153438, 156437, 158920, 161092, 164025, 165371, 169168, 171147, 172433, 174174, 176404, 177965, 179320, 182718, 185542, 186939, 187816, 189126, 190536, 192342, 194470, 195545, 197463, 199648, 214711, 218370, 228068, 232213, 240720, 243788, 255871, 262996, 264894], \"type\": \"scatter\", \"uid\": \"9dc92c6d-5c15-4461-8291-f59e2749013d\"}], {\"legend\": {\"bgcolor\": \"#FFFFFF\", \"font\": {\"color\": \"#4D5663\"}}, \"paper_bgcolor\": \"#FFFFFF\", \"plot_bgcolor\": \"#FFFFFF\", \"title\": {\"text\": \"Total Words over 2018\", \"font\": {\"color\": \"#4D5663\"}}, \"xaxis\": {\"gridcolor\": \"#E1E5ED\", \"showgrid\": true, \"tickfont\": {\"color\": \"#4D5663\"}, \"title\": {\"text\": \"Published Date\", \"font\": {\"color\": \"#4D5663\"}}, \"zerolinecolor\": \"#E1E5ED\"}, \"yaxis\": {\"gridcolor\": \"#E1E5ED\", \"showgrid\": true, \"tickfont\": {\"color\": \"#4D5663\"}, \"title\": {\"text\": \"Word Count\", \"font\": {\"color\": \"#4D5663\"}}, \"zerolinecolor\": \"#E1E5ED\"}}, {\"showLink\": true, \"linkText\": \"Export to plot.ly\", \"plotlyServerURL\": \"https://plot.ly\"})});</script><script type=\"text/javascript\">window.addEventListener(\"resize\", function(){window._Plotly.Plots.resize(document.getElementById(\"203c90aa-a431-4739-8261-d89a529139b2\"));});</script>"
      ],
      "text/vnd.plotly.v1+html": [
       "<div id=\"203c90aa-a431-4739-8261-d89a529139b2\" style=\"height: 525px; width: 100%;\" class=\"plotly-graph-div\"></div><script type=\"text/javascript\">require([\"plotly\"], function(Plotly) { window.PLOTLYENV=window.PLOTLYENV || {};window.PLOTLYENV.BASE_URL=\"https://plot.ly\";Plotly.newPlot(\"203c90aa-a431-4739-8261-d89a529139b2\", [{\"line\": {\"color\": \"rgba(31, 119, 180, 1.0)\", \"dash\": \"solid\", \"shape\": \"linear\", \"width\": 1.3}, \"marker\": {\"size\": 6, \"symbol\": \"circle\"}, \"mode\": \"markers+lines\", \"name\": \"word_count\", \"text\": \"\", \"x\": [\"2018-01-01 13:45:00\", \"2018-01-06 20:15:00\", \"2018-01-07 20:37:00\", \"2018-01-08 09:45:00\", \"2018-01-08 16:58:00\", \"2018-01-09 21:49:00\", \"2018-01-12 20:48:00\", \"2018-01-13 09:51:00\", \"2018-01-17 15:24:00\", \"2018-01-17 19:42:00\", \"2018-01-18 08:55:00\", \"2018-01-19 15:30:00\", \"2018-01-19 20:16:00\", \"2018-01-22 14:22:00\", \"2018-01-24 18:27:00\", \"2018-01-27 20:17:00\", \"2018-01-28 08:40:00\", \"2018-01-31 11:41:00\", \"2018-02-02 09:26:00\", \"2018-02-04 09:12:00\", \"2018-02-07 09:09:00\", \"2018-02-09 22:29:00\", \"2018-02-11 18:57:00\", \"2018-02-14 11:27:00\", \"2018-02-20 12:49:00\", \"2018-02-24 09:33:00\", \"2018-03-03 11:10:00\", \"2018-03-10 16:16:00\", \"2018-03-17 10:29:00\", \"2018-03-20 09:47:00\", \"2018-03-23 12:44:00\", \"2018-03-31 08:36:00\", \"2018-04-06 14:12:00\", \"2018-04-13 20:38:00\", \"2018-04-20 13:31:00\", \"2018-04-20 13:34:00\", \"2018-04-28 15:27:00\", \"2018-04-30 11:04:00\", \"2018-05-16 12:33:00\", \"2018-05-17 09:34:00\", \"2018-05-18 09:48:00\", \"2018-05-21 14:16:00\", \"2018-05-28 11:39:00\", \"2018-06-02 10:01:00\", \"2018-06-19 20:35:00\", \"2018-06-22 10:12:00\", \"2018-06-24 08:26:00\", \"2018-06-28 08:33:00\", \"2018-07-03 11:04:00\", \"2018-07-20 08:57:00\", \"2018-07-26 09:35:00\", \"2018-08-09 09:04:00\", \"2018-08-11 05:53:00\", \"2018-08-16 14:43:00\", \"2018-08-18 19:49:00\", \"2018-08-20 09:48:00\", \"2018-08-20 09:51:00\", \"2018-08-29 19:08:00\", \"2018-08-30 12:44:00\", \"2018-09-03 17:27:00\", \"2018-09-10 09:26:00\", \"2018-09-16 10:31:00\", \"2018-09-16 17:55:00\", \"2018-09-23 10:26:00\", \"2018-09-26 13:41:00\", \"2018-10-01 21:04:00\", \"2018-10-04 13:10:00\", \"2018-10-12 12:31:00\", \"2018-10-17 10:26:00\", \"2018-10-26 15:32:00\", \"2018-11-01 20:44:00\", \"2018-11-04 21:30:00\", \"2018-11-07 10:14:00\", \"2018-11-07 10:17:00\", \"2018-11-12 09:00:00\", \"2018-11-15 08:35:00\", \"2018-11-17 21:54:00\", \"2018-11-18 19:57:00\", \"2018-11-26 13:25:00\", \"2018-11-28 10:23:00\", \"2018-12-01 11:50:00\", \"2018-12-07 16:16:00\", \"2018-12-08 14:41:00\", \"2018-12-09 21:16:00\", \"2018-12-15 12:39:00\", \"2018-12-16 21:03:00\", \"2018-12-17 20:04:00\", \"2018-12-24 20:23:00\", \"2018-12-25 15:28:00\", \"2018-12-25 21:22:00\", \"2018-12-25 21:24:00\", \"2018-12-25 21:25:00\", \"2018-12-25 21:26:00\", \"2018-12-25 21:26:00\", \"2018-12-25 21:27:00\", \"2018-12-27 08:00:00\", \"2018-12-27 12:31:00\", \"2018-12-29 11:36:00\"], \"y\": [5160, 8664, 12233, 13306, 16123, 18579, 21553, 22867, 25262, 26431, 27988, 30516, 31877, 33530, 34544, 36106, 38586, 39867, 42317, 43038, 44413, 47185, 47819, 49763, 51590, 52523, 55088, 56994, 59388, 61608, 64222, 66587, 68164, 70558, 73248, 75868, 77348, 78113, 81666, 84772, 87394, 89732, 92707, 95355, 100583, 102581, 105974, 107931, 112229, 115947, 117194, 119828, 121869, 124212, 124585, 128581, 132415, 132578, 136620, 139278, 143034, 144206, 145786, 149542, 151629, 153438, 156437, 158920, 161092, 164025, 165371, 169168, 171147, 172433, 174174, 176404, 177965, 179320, 182718, 185542, 186939, 187816, 189126, 190536, 192342, 194470, 195545, 197463, 199648, 214711, 218370, 228068, 232213, 240720, 243788, 255871, 262996, 264894], \"type\": \"scatter\", \"uid\": \"9dc92c6d-5c15-4461-8291-f59e2749013d\"}], {\"legend\": {\"bgcolor\": \"#FFFFFF\", \"font\": {\"color\": \"#4D5663\"}}, \"paper_bgcolor\": \"#FFFFFF\", \"plot_bgcolor\": \"#FFFFFF\", \"title\": {\"text\": \"Total Words over 2018\", \"font\": {\"color\": \"#4D5663\"}}, \"xaxis\": {\"gridcolor\": \"#E1E5ED\", \"showgrid\": true, \"tickfont\": {\"color\": \"#4D5663\"}, \"title\": {\"text\": \"Published Date\", \"font\": {\"color\": \"#4D5663\"}}, \"zerolinecolor\": \"#E1E5ED\"}, \"yaxis\": {\"gridcolor\": \"#E1E5ED\", \"showgrid\": true, \"tickfont\": {\"color\": \"#4D5663\"}, \"title\": {\"text\": \"Word Count\", \"font\": {\"color\": \"#4D5663\"}}, \"zerolinecolor\": \"#E1E5ED\"}}, {\"showLink\": true, \"linkText\": \"Export to plot.ly\", \"plotlyServerURL\": \"https://plot.ly\"})});</script><script type=\"text/javascript\">window.addEventListener(\"resize\", function(){window._Plotly.Plots.resize(document.getElementById(\"203c90aa-a431-4739-8261-d89a529139b2\"));});</script>"
      ]
     },
     "metadata": {},
     "output_type": "display_data"
    }
   ],
   "source": [
    "stat_df.set_index('published_date', inplace=True)\n",
    "stat_df['word_count'].cumsum().iplot(kind='scatter', mode='markers+lines', size=6, xTitle='Published Date', yTitle='Word Count',\n",
    "                                colorscale='plotly', theme='white', title='Total Words over 2018')"
   ]
  },
  {
   "cell_type": "code",
   "execution_count": 11,
   "metadata": {
    "ExecuteTime": {
     "end_time": "2019-01-31T15:14:50.372360Z",
     "start_time": "2019-01-31T15:14:50.320445Z"
    }
   },
   "outputs": [],
   "source": [
    "stat_df = stat_df.query(\"days_to_publish < 100\")\n",
    "\n",
    "dr = pd.date_range('2018-01-01', '2018-12-31', freq='7 D')\n",
    "words = []\n",
    "for i in range(len(dr)-1):\n",
    "    subset = stat_df[(stat_df.index.date >= dr[i].date()) & (stat_df.index.date < dr[i+1].date())]\n",
    "    words.append(subset['word_count'].sum())\n",
    "    \n",
    "weekly_df = pd.DataFrame({'word_count': words}, index=dr[:-1])"
   ]
  },
  {
   "cell_type": "code",
   "execution_count": 12,
   "metadata": {
    "ExecuteTime": {
     "end_time": "2019-01-31T15:14:50.483776Z",
     "start_time": "2019-01-31T15:14:50.373847Z"
    }
   },
   "outputs": [
    {
     "data": {
      "application/vnd.plotly.v1+json": {
       "config": {
        "linkText": "Export to plot.ly",
        "plotlyServerURL": "https://plot.ly",
        "showLink": true
       },
       "data": [
        {
         "line": {
          "color": "rgba(255, 153, 51, 1.0)",
          "dash": "solid",
          "shape": "linear",
          "width": 1.3
         },
         "marker": {
          "size": 8,
          "symbol": "circle"
         },
         "mode": "markers+lines",
         "name": "word_count",
         "text": "",
         "type": "scatter",
         "uid": "af2cdf5b-d1e2-4b9d-a8cc-23a789715571",
         "x": [
          "2018-01-01",
          "2018-01-08",
          "2018-01-15",
          "2018-01-22",
          "2018-01-29",
          "2018-02-05",
          "2018-02-12",
          "2018-02-19",
          "2018-02-26",
          "2018-03-05",
          "2018-03-12",
          "2018-03-19",
          "2018-03-26",
          "2018-04-02",
          "2018-04-09",
          "2018-04-16",
          "2018-04-23",
          "2018-04-30",
          "2018-05-07",
          "2018-05-14",
          "2018-05-21",
          "2018-05-28",
          "2018-06-04",
          "2018-06-11",
          "2018-06-18",
          "2018-06-25",
          "2018-07-02",
          "2018-07-09",
          "2018-07-16",
          "2018-07-23",
          "2018-07-30",
          "2018-08-06",
          "2018-08-13",
          "2018-08-20",
          "2018-08-27",
          "2018-09-03",
          "2018-09-10",
          "2018-09-17",
          "2018-09-24",
          "2018-10-01",
          "2018-10-08",
          "2018-10-15",
          "2018-10-22",
          "2018-10-29",
          "2018-11-05",
          "2018-11-12",
          "2018-11-19",
          "2018-11-26",
          "2018-12-03",
          "2018-12-10",
          "2018-12-17",
          "2018-12-24"
         ],
         "y": [
          11433.5,
          11433.5,
          9822,
          7859.5,
          5580.5,
          4616.5,
          3362.5,
          2352,
          2662.5,
          2235.5,
          2150,
          3614,
          3599.5,
          1971,
          1985.5,
          3852,
          3395,
          1122.5,
          382.5,
          4640.5,
          5809.5,
          3980.5,
          2811.5,
          0,
          5309.5,
          6288,
          3127.5,
          2149,
          1859,
          2482.5,
          623.5,
          2337.5,
          3695.5,
          5273,
          6017.5,
          3431.5,
          4583,
          5132,
          2921.5,
          3447.5,
          3645.5,
          2327.5,
          2552.5,
          4038,
          4204,
          5076,
          3443.5,
          3809.5,
          5608,
          3765.5,
          2504.5,
          7100.5
         ]
        }
       ],
       "layout": {
        "legend": {
         "bgcolor": "#FFFFFF",
         "font": {
          "color": "#4D5663"
         }
        },
        "paper_bgcolor": "#FFFFFF",
        "plot_bgcolor": "#FFFFFF",
        "title": {
         "font": {
          "color": "#4D5663"
         },
         "text": "Rolling Average of Words per Week Published"
        },
        "xaxis": {
         "gridcolor": "#E1E5ED",
         "showgrid": true,
         "tickfont": {
          "color": "#4D5663"
         },
         "title": {
          "font": {
           "color": "#4D5663"
          },
          "text": "Date"
         },
         "zerolinecolor": "#E1E5ED"
        },
        "yaxis": {
         "gridcolor": "#E1E5ED",
         "showgrid": true,
         "tickfont": {
          "color": "#4D5663"
         },
         "title": {
          "font": {
           "color": "#4D5663"
          },
          "text": "Word Count"
         },
         "zerolinecolor": "#E1E5ED"
        }
       }
      },
      "text/html": [
       "<div id=\"930b71c8-dcdf-4d3b-89f1-2eaee167873c\" style=\"height: 525px; width: 100%;\" class=\"plotly-graph-div\"></div><script type=\"text/javascript\">require([\"plotly\"], function(Plotly) { window.PLOTLYENV=window.PLOTLYENV || {};window.PLOTLYENV.BASE_URL=\"https://plot.ly\";Plotly.newPlot(\"930b71c8-dcdf-4d3b-89f1-2eaee167873c\", [{\"line\": {\"color\": \"rgba(255, 153, 51, 1.0)\", \"dash\": \"solid\", \"shape\": \"linear\", \"width\": 1.3}, \"marker\": {\"size\": 8, \"symbol\": \"circle\"}, \"mode\": \"markers+lines\", \"name\": \"word_count\", \"text\": \"\", \"x\": [\"2018-01-01\", \"2018-01-08\", \"2018-01-15\", \"2018-01-22\", \"2018-01-29\", \"2018-02-05\", \"2018-02-12\", \"2018-02-19\", \"2018-02-26\", \"2018-03-05\", \"2018-03-12\", \"2018-03-19\", \"2018-03-26\", \"2018-04-02\", \"2018-04-09\", \"2018-04-16\", \"2018-04-23\", \"2018-04-30\", \"2018-05-07\", \"2018-05-14\", \"2018-05-21\", \"2018-05-28\", \"2018-06-04\", \"2018-06-11\", \"2018-06-18\", \"2018-06-25\", \"2018-07-02\", \"2018-07-09\", \"2018-07-16\", \"2018-07-23\", \"2018-07-30\", \"2018-08-06\", \"2018-08-13\", \"2018-08-20\", \"2018-08-27\", \"2018-09-03\", \"2018-09-10\", \"2018-09-17\", \"2018-09-24\", \"2018-10-01\", \"2018-10-08\", \"2018-10-15\", \"2018-10-22\", \"2018-10-29\", \"2018-11-05\", \"2018-11-12\", \"2018-11-19\", \"2018-11-26\", \"2018-12-03\", \"2018-12-10\", \"2018-12-17\", \"2018-12-24\"], \"y\": [11433.5, 11433.5, 9822.0, 7859.5, 5580.5, 4616.5, 3362.5, 2352.0, 2662.5, 2235.5, 2150.0, 3614.0, 3599.5, 1971.0, 1985.5, 3852.0, 3395.0, 1122.5, 382.5, 4640.5, 5809.5, 3980.5, 2811.5, 0.0, 5309.5, 6288.0, 3127.5, 2149.0, 1859.0, 2482.5, 623.5, 2337.5, 3695.5, 5273.0, 6017.5, 3431.5, 4583.0, 5132.0, 2921.5, 3447.5, 3645.5, 2327.5, 2552.5, 4038.0, 4204.0, 5076.0, 3443.5, 3809.5, 5608.0, 3765.5, 2504.5, 7100.5], \"type\": \"scatter\", \"uid\": \"db1704dd-408f-43ce-a7ee-e91015c29a5d\"}], {\"legend\": {\"bgcolor\": \"#FFFFFF\", \"font\": {\"color\": \"#4D5663\"}}, \"paper_bgcolor\": \"#FFFFFF\", \"plot_bgcolor\": \"#FFFFFF\", \"title\": {\"text\": \"Rolling Average of Words per Week Published\", \"font\": {\"color\": \"#4D5663\"}}, \"xaxis\": {\"gridcolor\": \"#E1E5ED\", \"showgrid\": true, \"tickfont\": {\"color\": \"#4D5663\"}, \"title\": {\"text\": \"Date\", \"font\": {\"color\": \"#4D5663\"}}, \"zerolinecolor\": \"#E1E5ED\"}, \"yaxis\": {\"gridcolor\": \"#E1E5ED\", \"showgrid\": true, \"tickfont\": {\"color\": \"#4D5663\"}, \"title\": {\"text\": \"Word Count\", \"font\": {\"color\": \"#4D5663\"}}, \"zerolinecolor\": \"#E1E5ED\"}}, {\"showLink\": true, \"linkText\": \"Export to plot.ly\", \"plotlyServerURL\": \"https://plot.ly\"})});</script><script type=\"text/javascript\">window.addEventListener(\"resize\", function(){window._Plotly.Plots.resize(document.getElementById(\"930b71c8-dcdf-4d3b-89f1-2eaee167873c\"));});</script>"
      ],
      "text/vnd.plotly.v1+html": [
       "<div id=\"930b71c8-dcdf-4d3b-89f1-2eaee167873c\" style=\"height: 525px; width: 100%;\" class=\"plotly-graph-div\"></div><script type=\"text/javascript\">require([\"plotly\"], function(Plotly) { window.PLOTLYENV=window.PLOTLYENV || {};window.PLOTLYENV.BASE_URL=\"https://plot.ly\";Plotly.newPlot(\"930b71c8-dcdf-4d3b-89f1-2eaee167873c\", [{\"line\": {\"color\": \"rgba(255, 153, 51, 1.0)\", \"dash\": \"solid\", \"shape\": \"linear\", \"width\": 1.3}, \"marker\": {\"size\": 8, \"symbol\": \"circle\"}, \"mode\": \"markers+lines\", \"name\": \"word_count\", \"text\": \"\", \"x\": [\"2018-01-01\", \"2018-01-08\", \"2018-01-15\", \"2018-01-22\", \"2018-01-29\", \"2018-02-05\", \"2018-02-12\", \"2018-02-19\", \"2018-02-26\", \"2018-03-05\", \"2018-03-12\", \"2018-03-19\", \"2018-03-26\", \"2018-04-02\", \"2018-04-09\", \"2018-04-16\", \"2018-04-23\", \"2018-04-30\", \"2018-05-07\", \"2018-05-14\", \"2018-05-21\", \"2018-05-28\", \"2018-06-04\", \"2018-06-11\", \"2018-06-18\", \"2018-06-25\", \"2018-07-02\", \"2018-07-09\", \"2018-07-16\", \"2018-07-23\", \"2018-07-30\", \"2018-08-06\", \"2018-08-13\", \"2018-08-20\", \"2018-08-27\", \"2018-09-03\", \"2018-09-10\", \"2018-09-17\", \"2018-09-24\", \"2018-10-01\", \"2018-10-08\", \"2018-10-15\", \"2018-10-22\", \"2018-10-29\", \"2018-11-05\", \"2018-11-12\", \"2018-11-19\", \"2018-11-26\", \"2018-12-03\", \"2018-12-10\", \"2018-12-17\", \"2018-12-24\"], \"y\": [11433.5, 11433.5, 9822.0, 7859.5, 5580.5, 4616.5, 3362.5, 2352.0, 2662.5, 2235.5, 2150.0, 3614.0, 3599.5, 1971.0, 1985.5, 3852.0, 3395.0, 1122.5, 382.5, 4640.5, 5809.5, 3980.5, 2811.5, 0.0, 5309.5, 6288.0, 3127.5, 2149.0, 1859.0, 2482.5, 623.5, 2337.5, 3695.5, 5273.0, 6017.5, 3431.5, 4583.0, 5132.0, 2921.5, 3447.5, 3645.5, 2327.5, 2552.5, 4038.0, 4204.0, 5076.0, 3443.5, 3809.5, 5608.0, 3765.5, 2504.5, 7100.5], \"type\": \"scatter\", \"uid\": \"db1704dd-408f-43ce-a7ee-e91015c29a5d\"}], {\"legend\": {\"bgcolor\": \"#FFFFFF\", \"font\": {\"color\": \"#4D5663\"}}, \"paper_bgcolor\": \"#FFFFFF\", \"plot_bgcolor\": \"#FFFFFF\", \"title\": {\"text\": \"Rolling Average of Words per Week Published\", \"font\": {\"color\": \"#4D5663\"}}, \"xaxis\": {\"gridcolor\": \"#E1E5ED\", \"showgrid\": true, \"tickfont\": {\"color\": \"#4D5663\"}, \"title\": {\"text\": \"Date\", \"font\": {\"color\": \"#4D5663\"}}, \"zerolinecolor\": \"#E1E5ED\"}, \"yaxis\": {\"gridcolor\": \"#E1E5ED\", \"showgrid\": true, \"tickfont\": {\"color\": \"#4D5663\"}, \"title\": {\"text\": \"Word Count\", \"font\": {\"color\": \"#4D5663\"}}, \"zerolinecolor\": \"#E1E5ED\"}}, {\"showLink\": true, \"linkText\": \"Export to plot.ly\", \"plotlyServerURL\": \"https://plot.ly\"})});</script><script type=\"text/javascript\">window.addEventListener(\"resize\", function(){window._Plotly.Plots.resize(document.getElementById(\"930b71c8-dcdf-4d3b-89f1-2eaee167873c\"));});</script>"
      ]
     },
     "metadata": {},
     "output_type": "display_data"
    }
   ],
   "source": [
    "weekly_df['word_count'].rolling(2, center=True).mean().fillna(method='bfill').iplot(xTitle='Date', yTitle='Word Count',\n",
    "                                                                                    mode='markers+lines', theme='white', size = 8,\n",
    "                                                                                    title=\"Rolling Average of Words per Week Published\")"
   ]
  },
  {
   "cell_type": "markdown",
   "metadata": {},
   "source": [
    "# Cumulative Fans"
   ]
  },
  {
   "cell_type": "code",
   "execution_count": 13,
   "metadata": {
    "ExecuteTime": {
     "end_time": "2019-01-31T15:14:50.590955Z",
     "start_time": "2019-01-31T15:14:50.485250Z"
    }
   },
   "outputs": [
    {
     "data": {
      "application/vnd.plotly.v1+json": {
       "config": {
        "linkText": "Export to plot.ly",
        "plotlyServerURL": "https://plot.ly",
        "showLink": true
       },
       "data": [
        {
         "line": {
          "color": "rgba(31, 119, 180, 1.0)",
          "dash": "solid",
          "shape": "linear",
          "width": 1.3
         },
         "marker": {
          "size": 6,
          "symbol": "circle"
         },
         "mode": "markers+lines",
         "name": "fans",
         "text": "",
         "type": "scatter",
         "uid": "c22c2fb5-1c3e-49d5-901c-2b10d379f890",
         "x": [
          "2018-01-01 13:45:00",
          "2018-01-06 20:15:00",
          "2018-01-07 20:37:00",
          "2018-01-08 09:45:00",
          "2018-01-08 16:58:00",
          "2018-01-09 21:49:00",
          "2018-01-12 20:48:00",
          "2018-01-13 09:51:00",
          "2018-01-17 15:24:00",
          "2018-01-17 19:42:00",
          "2018-01-18 08:55:00",
          "2018-01-19 15:30:00",
          "2018-01-19 20:16:00",
          "2018-01-22 14:22:00",
          "2018-01-24 18:27:00",
          "2018-01-27 20:17:00",
          "2018-01-28 08:40:00",
          "2018-01-31 11:41:00",
          "2018-02-02 09:26:00",
          "2018-02-04 09:12:00",
          "2018-02-07 09:09:00",
          "2018-02-09 22:29:00",
          "2018-02-11 18:57:00",
          "2018-02-14 11:27:00",
          "2018-02-20 12:49:00",
          "2018-02-24 09:33:00",
          "2018-03-03 11:10:00",
          "2018-03-10 16:16:00",
          "2018-03-17 10:29:00",
          "2018-03-20 09:47:00",
          "2018-03-23 12:44:00",
          "2018-03-31 08:36:00",
          "2018-04-06 14:12:00",
          "2018-04-13 20:38:00",
          "2018-04-20 13:31:00",
          "2018-04-20 13:34:00",
          "2018-04-28 15:27:00",
          "2018-04-30 11:04:00",
          "2018-05-16 12:33:00",
          "2018-05-17 09:34:00",
          "2018-05-18 09:48:00",
          "2018-05-21 14:16:00",
          "2018-05-28 11:39:00",
          "2018-06-02 10:01:00",
          "2018-06-19 20:35:00",
          "2018-06-22 10:12:00",
          "2018-06-24 08:26:00",
          "2018-06-28 08:33:00",
          "2018-07-03 11:04:00",
          "2018-07-20 08:57:00",
          "2018-07-26 09:35:00",
          "2018-08-09 09:04:00",
          "2018-08-11 05:53:00",
          "2018-08-16 14:43:00",
          "2018-08-18 19:49:00",
          "2018-08-20 09:48:00",
          "2018-08-20 09:51:00",
          "2018-08-29 19:08:00",
          "2018-08-30 12:44:00",
          "2018-09-03 17:27:00",
          "2018-09-10 09:26:00",
          "2018-09-16 10:31:00",
          "2018-09-16 17:55:00",
          "2018-09-23 10:26:00",
          "2018-09-26 13:41:00",
          "2018-10-01 21:04:00",
          "2018-10-04 13:10:00",
          "2018-10-12 12:31:00",
          "2018-10-17 10:26:00",
          "2018-10-26 15:32:00",
          "2018-11-01 20:44:00",
          "2018-11-04 21:30:00",
          "2018-11-07 10:14:00",
          "2018-11-07 10:17:00",
          "2018-11-12 09:00:00",
          "2018-11-15 08:35:00",
          "2018-11-17 21:54:00",
          "2018-11-18 19:57:00",
          "2018-11-26 13:25:00",
          "2018-11-28 10:23:00",
          "2018-12-01 11:50:00",
          "2018-12-07 16:16:00",
          "2018-12-08 14:41:00",
          "2018-12-09 21:16:00",
          "2018-12-15 12:39:00",
          "2018-12-16 21:03:00",
          "2018-12-17 20:04:00",
          "2018-12-24 20:23:00",
          "2018-12-25 15:28:00",
          "2018-12-27 12:31:00",
          "2018-12-29 11:36:00"
         ],
         "y": [
          11,
          132,
          177,
          180,
          224,
          641,
          1561,
          1565,
          2126,
          2147,
          2154,
          3727,
          3937,
          3986,
          4280,
          4612,
          4798,
          5546,
          6463,
          8698,
          8773,
          9773,
          9796,
          10892,
          11032,
          11227,
          12577,
          13815,
          14345,
          14551,
          15126,
          15690,
          16318,
          17301,
          17569,
          17796,
          19451,
          19515,
          22115,
          22963,
          23453,
          24315,
          25532,
          27406,
          27666,
          28871,
          29276,
          29758,
          30225,
          30341,
          30479,
          31017,
          31750,
          31857,
          32129,
          32928,
          33062,
          33179,
          33394,
          33928,
          34522,
          34647,
          34683,
          35349,
          35404,
          35972,
          36122,
          36487,
          36623,
          37282,
          37407,
          38019,
          38135,
          38250,
          38353,
          38537,
          39154,
          39481,
          39674,
          40205,
          40612,
          41472,
          41609,
          41711,
          41993,
          42027,
          42215,
          42227,
          42281,
          42364,
          42523
         ]
        }
       ],
       "layout": {
        "legend": {
         "bgcolor": "#FFFFFF",
         "font": {
          "color": "#4D5663"
         }
        },
        "paper_bgcolor": "#FFFFFF",
        "plot_bgcolor": "#FFFFFF",
        "title": {
         "font": {
          "color": "#4D5663"
         },
         "text": "Total Fans over 2018"
        },
        "xaxis": {
         "gridcolor": "#E1E5ED",
         "showgrid": true,
         "tickfont": {
          "color": "#4D5663"
         },
         "title": {
          "font": {
           "color": "#4D5663"
          },
          "text": "Published Date"
         },
         "zerolinecolor": "#E1E5ED"
        },
        "yaxis": {
         "gridcolor": "#E1E5ED",
         "showgrid": true,
         "tickfont": {
          "color": "#4D5663"
         },
         "title": {
          "font": {
           "color": "#4D5663"
          },
          "text": "Fans"
         },
         "zerolinecolor": "#E1E5ED"
        }
       }
      },
      "text/html": [
       "<div id=\"c2afac08-b2fc-4038-93ec-dbd5de4bbf3d\" style=\"height: 525px; width: 100%;\" class=\"plotly-graph-div\"></div><script type=\"text/javascript\">require([\"plotly\"], function(Plotly) { window.PLOTLYENV=window.PLOTLYENV || {};window.PLOTLYENV.BASE_URL=\"https://plot.ly\";Plotly.newPlot(\"c2afac08-b2fc-4038-93ec-dbd5de4bbf3d\", [{\"line\": {\"color\": \"rgba(31, 119, 180, 1.0)\", \"dash\": \"solid\", \"shape\": \"linear\", \"width\": 1.3}, \"marker\": {\"size\": 6, \"symbol\": \"circle\"}, \"mode\": \"markers+lines\", \"name\": \"fans\", \"text\": \"\", \"x\": [\"2018-01-01 13:45:00\", \"2018-01-06 20:15:00\", \"2018-01-07 20:37:00\", \"2018-01-08 09:45:00\", \"2018-01-08 16:58:00\", \"2018-01-09 21:49:00\", \"2018-01-12 20:48:00\", \"2018-01-13 09:51:00\", \"2018-01-17 15:24:00\", \"2018-01-17 19:42:00\", \"2018-01-18 08:55:00\", \"2018-01-19 15:30:00\", \"2018-01-19 20:16:00\", \"2018-01-22 14:22:00\", \"2018-01-24 18:27:00\", \"2018-01-27 20:17:00\", \"2018-01-28 08:40:00\", \"2018-01-31 11:41:00\", \"2018-02-02 09:26:00\", \"2018-02-04 09:12:00\", \"2018-02-07 09:09:00\", \"2018-02-09 22:29:00\", \"2018-02-11 18:57:00\", \"2018-02-14 11:27:00\", \"2018-02-20 12:49:00\", \"2018-02-24 09:33:00\", \"2018-03-03 11:10:00\", \"2018-03-10 16:16:00\", \"2018-03-17 10:29:00\", \"2018-03-20 09:47:00\", \"2018-03-23 12:44:00\", \"2018-03-31 08:36:00\", \"2018-04-06 14:12:00\", \"2018-04-13 20:38:00\", \"2018-04-20 13:31:00\", \"2018-04-20 13:34:00\", \"2018-04-28 15:27:00\", \"2018-04-30 11:04:00\", \"2018-05-16 12:33:00\", \"2018-05-17 09:34:00\", \"2018-05-18 09:48:00\", \"2018-05-21 14:16:00\", \"2018-05-28 11:39:00\", \"2018-06-02 10:01:00\", \"2018-06-19 20:35:00\", \"2018-06-22 10:12:00\", \"2018-06-24 08:26:00\", \"2018-06-28 08:33:00\", \"2018-07-03 11:04:00\", \"2018-07-20 08:57:00\", \"2018-07-26 09:35:00\", \"2018-08-09 09:04:00\", \"2018-08-11 05:53:00\", \"2018-08-16 14:43:00\", \"2018-08-18 19:49:00\", \"2018-08-20 09:48:00\", \"2018-08-20 09:51:00\", \"2018-08-29 19:08:00\", \"2018-08-30 12:44:00\", \"2018-09-03 17:27:00\", \"2018-09-10 09:26:00\", \"2018-09-16 10:31:00\", \"2018-09-16 17:55:00\", \"2018-09-23 10:26:00\", \"2018-09-26 13:41:00\", \"2018-10-01 21:04:00\", \"2018-10-04 13:10:00\", \"2018-10-12 12:31:00\", \"2018-10-17 10:26:00\", \"2018-10-26 15:32:00\", \"2018-11-01 20:44:00\", \"2018-11-04 21:30:00\", \"2018-11-07 10:14:00\", \"2018-11-07 10:17:00\", \"2018-11-12 09:00:00\", \"2018-11-15 08:35:00\", \"2018-11-17 21:54:00\", \"2018-11-18 19:57:00\", \"2018-11-26 13:25:00\", \"2018-11-28 10:23:00\", \"2018-12-01 11:50:00\", \"2018-12-07 16:16:00\", \"2018-12-08 14:41:00\", \"2018-12-09 21:16:00\", \"2018-12-15 12:39:00\", \"2018-12-16 21:03:00\", \"2018-12-17 20:04:00\", \"2018-12-24 20:23:00\", \"2018-12-25 15:28:00\", \"2018-12-27 12:31:00\", \"2018-12-29 11:36:00\"], \"y\": [11, 132, 177, 180, 224, 641, 1561, 1565, 2126, 2147, 2154, 3727, 3937, 3986, 4280, 4612, 4798, 5546, 6463, 8698, 8773, 9773, 9796, 10892, 11032, 11227, 12577, 13815, 14345, 14551, 15126, 15690, 16318, 17301, 17569, 17796, 19451, 19515, 22115, 22963, 23453, 24315, 25532, 27406, 27666, 28871, 29276, 29758, 30225, 30341, 30479, 31017, 31750, 31857, 32129, 32928, 33062, 33179, 33394, 33928, 34522, 34647, 34683, 35349, 35404, 35972, 36122, 36487, 36623, 37282, 37407, 38019, 38135, 38250, 38353, 38537, 39154, 39481, 39674, 40205, 40612, 41472, 41609, 41711, 41993, 42027, 42215, 42227, 42281, 42364, 42523], \"type\": \"scatter\", \"uid\": \"512bd4e4-ccb0-49ec-a94f-8184aed69056\"}], {\"legend\": {\"bgcolor\": \"#FFFFFF\", \"font\": {\"color\": \"#4D5663\"}}, \"paper_bgcolor\": \"#FFFFFF\", \"plot_bgcolor\": \"#FFFFFF\", \"title\": {\"text\": \"Total Fans over 2018\", \"font\": {\"color\": \"#4D5663\"}}, \"xaxis\": {\"gridcolor\": \"#E1E5ED\", \"showgrid\": true, \"tickfont\": {\"color\": \"#4D5663\"}, \"title\": {\"text\": \"Published Date\", \"font\": {\"color\": \"#4D5663\"}}, \"zerolinecolor\": \"#E1E5ED\"}, \"yaxis\": {\"gridcolor\": \"#E1E5ED\", \"showgrid\": true, \"tickfont\": {\"color\": \"#4D5663\"}, \"title\": {\"text\": \"Fans\", \"font\": {\"color\": \"#4D5663\"}}, \"zerolinecolor\": \"#E1E5ED\"}}, {\"showLink\": true, \"linkText\": \"Export to plot.ly\", \"plotlyServerURL\": \"https://plot.ly\"})});</script><script type=\"text/javascript\">window.addEventListener(\"resize\", function(){window._Plotly.Plots.resize(document.getElementById(\"c2afac08-b2fc-4038-93ec-dbd5de4bbf3d\"));});</script>"
      ],
      "text/vnd.plotly.v1+html": [
       "<div id=\"c2afac08-b2fc-4038-93ec-dbd5de4bbf3d\" style=\"height: 525px; width: 100%;\" class=\"plotly-graph-div\"></div><script type=\"text/javascript\">require([\"plotly\"], function(Plotly) { window.PLOTLYENV=window.PLOTLYENV || {};window.PLOTLYENV.BASE_URL=\"https://plot.ly\";Plotly.newPlot(\"c2afac08-b2fc-4038-93ec-dbd5de4bbf3d\", [{\"line\": {\"color\": \"rgba(31, 119, 180, 1.0)\", \"dash\": \"solid\", \"shape\": \"linear\", \"width\": 1.3}, \"marker\": {\"size\": 6, \"symbol\": \"circle\"}, \"mode\": \"markers+lines\", \"name\": \"fans\", \"text\": \"\", \"x\": [\"2018-01-01 13:45:00\", \"2018-01-06 20:15:00\", \"2018-01-07 20:37:00\", \"2018-01-08 09:45:00\", \"2018-01-08 16:58:00\", \"2018-01-09 21:49:00\", \"2018-01-12 20:48:00\", \"2018-01-13 09:51:00\", \"2018-01-17 15:24:00\", \"2018-01-17 19:42:00\", \"2018-01-18 08:55:00\", \"2018-01-19 15:30:00\", \"2018-01-19 20:16:00\", \"2018-01-22 14:22:00\", \"2018-01-24 18:27:00\", \"2018-01-27 20:17:00\", \"2018-01-28 08:40:00\", \"2018-01-31 11:41:00\", \"2018-02-02 09:26:00\", \"2018-02-04 09:12:00\", \"2018-02-07 09:09:00\", \"2018-02-09 22:29:00\", \"2018-02-11 18:57:00\", \"2018-02-14 11:27:00\", \"2018-02-20 12:49:00\", \"2018-02-24 09:33:00\", \"2018-03-03 11:10:00\", \"2018-03-10 16:16:00\", \"2018-03-17 10:29:00\", \"2018-03-20 09:47:00\", \"2018-03-23 12:44:00\", \"2018-03-31 08:36:00\", \"2018-04-06 14:12:00\", \"2018-04-13 20:38:00\", \"2018-04-20 13:31:00\", \"2018-04-20 13:34:00\", \"2018-04-28 15:27:00\", \"2018-04-30 11:04:00\", \"2018-05-16 12:33:00\", \"2018-05-17 09:34:00\", \"2018-05-18 09:48:00\", \"2018-05-21 14:16:00\", \"2018-05-28 11:39:00\", \"2018-06-02 10:01:00\", \"2018-06-19 20:35:00\", \"2018-06-22 10:12:00\", \"2018-06-24 08:26:00\", \"2018-06-28 08:33:00\", \"2018-07-03 11:04:00\", \"2018-07-20 08:57:00\", \"2018-07-26 09:35:00\", \"2018-08-09 09:04:00\", \"2018-08-11 05:53:00\", \"2018-08-16 14:43:00\", \"2018-08-18 19:49:00\", \"2018-08-20 09:48:00\", \"2018-08-20 09:51:00\", \"2018-08-29 19:08:00\", \"2018-08-30 12:44:00\", \"2018-09-03 17:27:00\", \"2018-09-10 09:26:00\", \"2018-09-16 10:31:00\", \"2018-09-16 17:55:00\", \"2018-09-23 10:26:00\", \"2018-09-26 13:41:00\", \"2018-10-01 21:04:00\", \"2018-10-04 13:10:00\", \"2018-10-12 12:31:00\", \"2018-10-17 10:26:00\", \"2018-10-26 15:32:00\", \"2018-11-01 20:44:00\", \"2018-11-04 21:30:00\", \"2018-11-07 10:14:00\", \"2018-11-07 10:17:00\", \"2018-11-12 09:00:00\", \"2018-11-15 08:35:00\", \"2018-11-17 21:54:00\", \"2018-11-18 19:57:00\", \"2018-11-26 13:25:00\", \"2018-11-28 10:23:00\", \"2018-12-01 11:50:00\", \"2018-12-07 16:16:00\", \"2018-12-08 14:41:00\", \"2018-12-09 21:16:00\", \"2018-12-15 12:39:00\", \"2018-12-16 21:03:00\", \"2018-12-17 20:04:00\", \"2018-12-24 20:23:00\", \"2018-12-25 15:28:00\", \"2018-12-27 12:31:00\", \"2018-12-29 11:36:00\"], \"y\": [11, 132, 177, 180, 224, 641, 1561, 1565, 2126, 2147, 2154, 3727, 3937, 3986, 4280, 4612, 4798, 5546, 6463, 8698, 8773, 9773, 9796, 10892, 11032, 11227, 12577, 13815, 14345, 14551, 15126, 15690, 16318, 17301, 17569, 17796, 19451, 19515, 22115, 22963, 23453, 24315, 25532, 27406, 27666, 28871, 29276, 29758, 30225, 30341, 30479, 31017, 31750, 31857, 32129, 32928, 33062, 33179, 33394, 33928, 34522, 34647, 34683, 35349, 35404, 35972, 36122, 36487, 36623, 37282, 37407, 38019, 38135, 38250, 38353, 38537, 39154, 39481, 39674, 40205, 40612, 41472, 41609, 41711, 41993, 42027, 42215, 42227, 42281, 42364, 42523], \"type\": \"scatter\", \"uid\": \"512bd4e4-ccb0-49ec-a94f-8184aed69056\"}], {\"legend\": {\"bgcolor\": \"#FFFFFF\", \"font\": {\"color\": \"#4D5663\"}}, \"paper_bgcolor\": \"#FFFFFF\", \"plot_bgcolor\": \"#FFFFFF\", \"title\": {\"text\": \"Total Fans over 2018\", \"font\": {\"color\": \"#4D5663\"}}, \"xaxis\": {\"gridcolor\": \"#E1E5ED\", \"showgrid\": true, \"tickfont\": {\"color\": \"#4D5663\"}, \"title\": {\"text\": \"Published Date\", \"font\": {\"color\": \"#4D5663\"}}, \"zerolinecolor\": \"#E1E5ED\"}, \"yaxis\": {\"gridcolor\": \"#E1E5ED\", \"showgrid\": true, \"tickfont\": {\"color\": \"#4D5663\"}, \"title\": {\"text\": \"Fans\", \"font\": {\"color\": \"#4D5663\"}}, \"zerolinecolor\": \"#E1E5ED\"}}, {\"showLink\": true, \"linkText\": \"Export to plot.ly\", \"plotlyServerURL\": \"https://plot.ly\"})});</script><script type=\"text/javascript\">window.addEventListener(\"resize\", function(){window._Plotly.Plots.resize(document.getElementById(\"c2afac08-b2fc-4038-93ec-dbd5de4bbf3d\"));});</script>"
      ]
     },
     "metadata": {},
     "output_type": "display_data"
    }
   ],
   "source": [
    "stat_df['fans'].cumsum().iplot(kind='scatter', mode='markers+lines', size=6, xTitle='Published Date', yTitle='Fans',\n",
    "                                colorscale='plotly', theme='white', title='Total Fans over 2018')"
   ]
  },
  {
   "cell_type": "markdown",
   "metadata": {},
   "source": [
    "# Spread Plot of Views and Reads"
   ]
  },
  {
   "cell_type": "code",
   "execution_count": 14,
   "metadata": {
    "ExecuteTime": {
     "end_time": "2019-01-31T15:14:50.594639Z",
     "start_time": "2019-01-31T15:14:50.592489Z"
    }
   },
   "outputs": [],
   "source": [
    "import cufflinks as cf"
   ]
  },
  {
   "cell_type": "code",
   "execution_count": 15,
   "metadata": {
    "ExecuteTime": {
     "end_time": "2019-01-31T15:14:50.766645Z",
     "start_time": "2019-01-31T15:14:50.596137Z"
    }
   },
   "outputs": [
    {
     "data": {
      "application/vnd.jupyter.widget-view+json": {
       "model_id": "d9c36c423e1b4d37abdc74e28e7f1c65",
       "version_major": 2,
       "version_minor": 0
      },
      "text/plain": [
       "interactive(children=(Dropdown(description='theme', options=('ggplot', 'pearl', 'solar', 'space', 'white', 'po…"
      ]
     },
     "metadata": {},
     "output_type": "display_data"
    }
   ],
   "source": [
    "@interact\n",
    "def plot_views_reads(theme=list(cf.themes.THEMES.keys()),\n",
    "                     colorscale=list(cf.colors._scales_names.keys())):\n",
    "    stat_df[['views', 'reads']].cumsum().iplot(kind='spread', mode='markers+lines', theme=theme, \n",
    "                                           size=6, xTitle='Published Date', \n",
    "                                colorscale=colorscale, title='Total Views and Reads over 2018')"
   ]
  },
  {
   "cell_type": "markdown",
   "metadata": {},
   "source": [
    "# Average Reading Percent by Month"
   ]
  },
  {
   "cell_type": "code",
   "execution_count": 16,
   "metadata": {
    "ExecuteTime": {
     "end_time": "2019-01-31T15:14:51.031068Z",
     "start_time": "2019-01-31T15:14:50.767819Z"
    }
   },
   "outputs": [
    {
     "data": {
      "application/vnd.plotly.v1+json": {
       "config": {
        "linkText": "Export to plot.ly",
        "plotlyServerURL": "https://plot.ly",
        "showLink": true
       },
       "data": [
        {
         "marker": {
          "color": "rgba(255, 153, 51, 0.6)",
          "line": {
           "color": "rgba(255, 153, 51, 1.0)",
           "width": 1
          }
         },
         "name": "read_ratio",
         "orientation": "v",
         "text": "",
         "type": "bar",
         "uid": "c436e31e-7ba1-49ed-9eac-a24340d1c1ef",
         "x": [
          "2018-01-31",
          "2018-02-28",
          "2018-03-31",
          "2018-04-30",
          "2018-05-31",
          "2018-06-30",
          "2018-07-31",
          "2018-08-31",
          "2018-09-30",
          "2018-10-31",
          "2018-11-30",
          "2018-12-31"
         ],
         "y": [
          36.78722222222222,
          42.6125,
          29.51,
          36.336666666666666,
          22.485999999999997,
          22.774,
          24.916666666666668,
          31.992499999999996,
          25.27,
          25.090000000000003,
          26.768999999999995,
          31.088181818181816
         ]
        }
       ],
       "layout": {
        "legend": {
         "bgcolor": "#F5F6F9",
         "font": {
          "color": "#4D5663"
         }
        },
        "paper_bgcolor": "#F5F6F9",
        "plot_bgcolor": "#F5F6F9",
        "title": {
         "font": {
          "color": "#4D5663"
         },
         "text": "Reading Percent by Month"
        },
        "xaxis": {
         "gridcolor": "#E1E5ED",
         "showgrid": true,
         "tickfont": {
          "color": "#4D5663"
         },
         "title": {
          "font": {
           "color": "#4D5663"
          },
          "text": ""
         },
         "zerolinecolor": "#E1E5ED"
        },
        "yaxis": {
         "gridcolor": "#E1E5ED",
         "showgrid": true,
         "tickfont": {
          "color": "#4D5663"
         },
         "title": {
          "font": {
           "color": "#4D5663"
          },
          "text": ""
         },
         "zerolinecolor": "#E1E5ED"
        }
       }
      },
      "text/html": [
       "<div id=\"ac476cca-0397-4914-a7c3-c9772ffeb102\" style=\"height: 525px; width: 100%;\" class=\"plotly-graph-div\"></div><script type=\"text/javascript\">require([\"plotly\"], function(Plotly) { window.PLOTLYENV=window.PLOTLYENV || {};window.PLOTLYENV.BASE_URL=\"https://plot.ly\";Plotly.newPlot(\"ac476cca-0397-4914-a7c3-c9772ffeb102\", [{\"marker\": {\"color\": \"rgba(255, 153, 51, 0.6)\", \"line\": {\"color\": \"rgba(255, 153, 51, 1.0)\", \"width\": 1}}, \"name\": \"read_ratio\", \"orientation\": \"v\", \"text\": \"\", \"x\": [\"2018-01-31\", \"2018-02-28\", \"2018-03-31\", \"2018-04-30\", \"2018-05-31\", \"2018-06-30\", \"2018-07-31\", \"2018-08-31\", \"2018-09-30\", \"2018-10-31\", \"2018-11-30\", \"2018-12-31\"], \"y\": [36.78722222222222, 42.6125, 29.51, 36.336666666666666, 22.485999999999997, 22.774, 24.916666666666668, 31.992499999999996, 25.27, 25.090000000000003, 26.768999999999995, 31.088181818181816], \"type\": \"bar\", \"uid\": \"f4c20b23-681e-4c14-a703-1a3ba715af6b\"}], {\"legend\": {\"bgcolor\": \"#F5F6F9\", \"font\": {\"color\": \"#4D5663\"}}, \"paper_bgcolor\": \"#F5F6F9\", \"plot_bgcolor\": \"#F5F6F9\", \"title\": {\"text\": \"Reading Percent by Month\", \"font\": {\"color\": \"#4D5663\"}}, \"xaxis\": {\"gridcolor\": \"#E1E5ED\", \"showgrid\": true, \"tickfont\": {\"color\": \"#4D5663\"}, \"title\": {\"text\": \"\", \"font\": {\"color\": \"#4D5663\"}}, \"zerolinecolor\": \"#E1E5ED\"}, \"yaxis\": {\"gridcolor\": \"#E1E5ED\", \"showgrid\": true, \"tickfont\": {\"color\": \"#4D5663\"}, \"title\": {\"text\": \"\", \"font\": {\"color\": \"#4D5663\"}}, \"zerolinecolor\": \"#E1E5ED\"}}, {\"showLink\": true, \"linkText\": \"Export to plot.ly\", \"plotlyServerURL\": \"https://plot.ly\"})});</script><script type=\"text/javascript\">window.addEventListener(\"resize\", function(){window._Plotly.Plots.resize(document.getElementById(\"ac476cca-0397-4914-a7c3-c9772ffeb102\"));});</script>"
      ],
      "text/vnd.plotly.v1+html": [
       "<div id=\"ac476cca-0397-4914-a7c3-c9772ffeb102\" style=\"height: 525px; width: 100%;\" class=\"plotly-graph-div\"></div><script type=\"text/javascript\">require([\"plotly\"], function(Plotly) { window.PLOTLYENV=window.PLOTLYENV || {};window.PLOTLYENV.BASE_URL=\"https://plot.ly\";Plotly.newPlot(\"ac476cca-0397-4914-a7c3-c9772ffeb102\", [{\"marker\": {\"color\": \"rgba(255, 153, 51, 0.6)\", \"line\": {\"color\": \"rgba(255, 153, 51, 1.0)\", \"width\": 1}}, \"name\": \"read_ratio\", \"orientation\": \"v\", \"text\": \"\", \"x\": [\"2018-01-31\", \"2018-02-28\", \"2018-03-31\", \"2018-04-30\", \"2018-05-31\", \"2018-06-30\", \"2018-07-31\", \"2018-08-31\", \"2018-09-30\", \"2018-10-31\", \"2018-11-30\", \"2018-12-31\"], \"y\": [36.78722222222222, 42.6125, 29.51, 36.336666666666666, 22.485999999999997, 22.774, 24.916666666666668, 31.992499999999996, 25.27, 25.090000000000003, 26.768999999999995, 31.088181818181816], \"type\": \"bar\", \"uid\": \"f4c20b23-681e-4c14-a703-1a3ba715af6b\"}], {\"legend\": {\"bgcolor\": \"#F5F6F9\", \"font\": {\"color\": \"#4D5663\"}}, \"paper_bgcolor\": \"#F5F6F9\", \"plot_bgcolor\": \"#F5F6F9\", \"title\": {\"text\": \"Reading Percent by Month\", \"font\": {\"color\": \"#4D5663\"}}, \"xaxis\": {\"gridcolor\": \"#E1E5ED\", \"showgrid\": true, \"tickfont\": {\"color\": \"#4D5663\"}, \"title\": {\"text\": \"\", \"font\": {\"color\": \"#4D5663\"}}, \"zerolinecolor\": \"#E1E5ED\"}, \"yaxis\": {\"gridcolor\": \"#E1E5ED\", \"showgrid\": true, \"tickfont\": {\"color\": \"#4D5663\"}, \"title\": {\"text\": \"\", \"font\": {\"color\": \"#4D5663\"}}, \"zerolinecolor\": \"#E1E5ED\"}}, {\"showLink\": true, \"linkText\": \"Export to plot.ly\", \"plotlyServerURL\": \"https://plot.ly\"})});</script><script type=\"text/javascript\">window.addEventListener(\"resize\", function(){window._Plotly.Plots.resize(document.getElementById(\"ac476cca-0397-4914-a7c3-c9772ffeb102\"));});</script>"
      ]
     },
     "metadata": {},
     "output_type": "display_data"
    }
   ],
   "source": [
    "stat_df.resample('1 M').mean()['read_ratio'].iplot(kind='bar', title='Reading Percent by Month')"
   ]
  },
  {
   "cell_type": "markdown",
   "metadata": {},
   "source": [
    "# Average Reading Percent by Reading Time"
   ]
  },
  {
   "cell_type": "code",
   "execution_count": 17,
   "metadata": {
    "ExecuteTime": {
     "end_time": "2019-01-31T15:14:51.137516Z",
     "start_time": "2019-01-31T15:14:51.033037Z"
    }
   },
   "outputs": [
    {
     "data": {
      "application/vnd.plotly.v1+json": {
       "config": {
        "linkText": "Export to plot.ly",
        "plotlyServerURL": "https://plot.ly",
        "showLink": true
       },
       "data": [
        {
         "marker": {
          "color": "rgba(255, 153, 51, 0.6)",
          "line": {
           "color": "rgba(255, 153, 51, 1.0)",
           "width": 1
          }
         },
         "name": "read_ratio",
         "orientation": "v",
         "text": "",
         "type": "bar",
         "uid": "dc3c287e-cf87-4cd8-b9e9-4dcece78b07d",
         "x": [
          "(0, 5]",
          "(05, 10]",
          "(10, 15]",
          "(15, 20]",
          "(25, 30]"
         ],
         "y": [
          51.16,
          31.93279069767443,
          24.487142857142853,
          21.427142857142858,
          19.21
         ]
        }
       ],
       "layout": {
        "legend": {
         "bgcolor": "#F5F6F9",
         "font": {
          "color": "#4D5663"
         }
        },
        "paper_bgcolor": "#F5F6F9",
        "plot_bgcolor": "#F5F6F9",
        "title": {
         "font": {
          "color": "#4D5663"
         },
         "text": "Reading Percent vs Reading Time"
        },
        "xaxis": {
         "gridcolor": "#E1E5ED",
         "showgrid": true,
         "tickfont": {
          "color": "#4D5663"
         },
         "title": {
          "font": {
           "color": "#4D5663"
          },
          "text": "Reading Time (mins)"
         },
         "zerolinecolor": "#E1E5ED"
        },
        "yaxis": {
         "gridcolor": "#E1E5ED",
         "showgrid": true,
         "tickfont": {
          "color": "#4D5663"
         },
         "title": {
          "font": {
           "color": "#4D5663"
          },
          "text": "Reading Percent"
         },
         "zerolinecolor": "#E1E5ED"
        }
       }
      },
      "text/html": [
       "<div id=\"f410e382-c431-41ef-96e8-1f9a82aaa218\" style=\"height: 525px; width: 100%;\" class=\"plotly-graph-div\"></div><script type=\"text/javascript\">require([\"plotly\"], function(Plotly) { window.PLOTLYENV=window.PLOTLYENV || {};window.PLOTLYENV.BASE_URL=\"https://plot.ly\";Plotly.newPlot(\"f410e382-c431-41ef-96e8-1f9a82aaa218\", [{\"marker\": {\"color\": \"rgba(255, 153, 51, 0.6)\", \"line\": {\"color\": \"rgba(255, 153, 51, 1.0)\", \"width\": 1}}, \"name\": \"read_ratio\", \"orientation\": \"v\", \"text\": \"\", \"x\": [\"(0, 5]\", \"(05, 10]\", \"(10, 15]\", \"(15, 20]\", \"(25, 30]\"], \"y\": [51.16, 31.93279069767443, 24.487142857142853, 21.427142857142858, 19.21], \"type\": \"bar\", \"uid\": \"7ebee05e-d14e-477c-b8ec-94f7e890f2de\"}], {\"legend\": {\"bgcolor\": \"#F5F6F9\", \"font\": {\"color\": \"#4D5663\"}}, \"paper_bgcolor\": \"#F5F6F9\", \"plot_bgcolor\": \"#F5F6F9\", \"title\": {\"text\": \"Reading Percent vs Reading Time\", \"font\": {\"color\": \"#4D5663\"}}, \"xaxis\": {\"gridcolor\": \"#E1E5ED\", \"showgrid\": true, \"tickfont\": {\"color\": \"#4D5663\"}, \"title\": {\"text\": \"Reading Time (mins)\", \"font\": {\"color\": \"#4D5663\"}}, \"zerolinecolor\": \"#E1E5ED\"}, \"yaxis\": {\"gridcolor\": \"#E1E5ED\", \"showgrid\": true, \"tickfont\": {\"color\": \"#4D5663\"}, \"title\": {\"text\": \"Reading Percent\", \"font\": {\"color\": \"#4D5663\"}}, \"zerolinecolor\": \"#E1E5ED\"}}, {\"showLink\": true, \"linkText\": \"Export to plot.ly\", \"plotlyServerURL\": \"https://plot.ly\"})});</script><script type=\"text/javascript\">window.addEventListener(\"resize\", function(){window._Plotly.Plots.resize(document.getElementById(\"f410e382-c431-41ef-96e8-1f9a82aaa218\"));});</script>"
      ],
      "text/vnd.plotly.v1+html": [
       "<div id=\"f410e382-c431-41ef-96e8-1f9a82aaa218\" style=\"height: 525px; width: 100%;\" class=\"plotly-graph-div\"></div><script type=\"text/javascript\">require([\"plotly\"], function(Plotly) { window.PLOTLYENV=window.PLOTLYENV || {};window.PLOTLYENV.BASE_URL=\"https://plot.ly\";Plotly.newPlot(\"f410e382-c431-41ef-96e8-1f9a82aaa218\", [{\"marker\": {\"color\": \"rgba(255, 153, 51, 0.6)\", \"line\": {\"color\": \"rgba(255, 153, 51, 1.0)\", \"width\": 1}}, \"name\": \"read_ratio\", \"orientation\": \"v\", \"text\": \"\", \"x\": [\"(0, 5]\", \"(05, 10]\", \"(10, 15]\", \"(15, 20]\", \"(25, 30]\"], \"y\": [51.16, 31.93279069767443, 24.487142857142853, 21.427142857142858, 19.21], \"type\": \"bar\", \"uid\": \"7ebee05e-d14e-477c-b8ec-94f7e890f2de\"}], {\"legend\": {\"bgcolor\": \"#F5F6F9\", \"font\": {\"color\": \"#4D5663\"}}, \"paper_bgcolor\": \"#F5F6F9\", \"plot_bgcolor\": \"#F5F6F9\", \"title\": {\"text\": \"Reading Percent vs Reading Time\", \"font\": {\"color\": \"#4D5663\"}}, \"xaxis\": {\"gridcolor\": \"#E1E5ED\", \"showgrid\": true, \"tickfont\": {\"color\": \"#4D5663\"}, \"title\": {\"text\": \"Reading Time (mins)\", \"font\": {\"color\": \"#4D5663\"}}, \"zerolinecolor\": \"#E1E5ED\"}, \"yaxis\": {\"gridcolor\": \"#E1E5ED\", \"showgrid\": true, \"tickfont\": {\"color\": \"#4D5663\"}, \"title\": {\"text\": \"Reading Percent\", \"font\": {\"color\": \"#4D5663\"}}, \"zerolinecolor\": \"#E1E5ED\"}}, {\"showLink\": true, \"linkText\": \"Export to plot.ly\", \"plotlyServerURL\": \"https://plot.ly\"})});</script><script type=\"text/javascript\">window.addEventListener(\"resize\", function(){window._Plotly.Plots.resize(document.getElementById(\"f410e382-c431-41ef-96e8-1f9a82aaa218\"));});</script>"
      ]
     },
     "metadata": {},
     "output_type": "display_data"
    }
   ],
   "source": [
    "stat_df['binned_readtime'] = pd.cut(stat_df['read_time'], bins=range(0, 101, 5))\n",
    "\n",
    "stat_df['binned_readtime'] = stat_df['binned_readtime'].astype(str)\n",
    "stat_df['binned_readtime'] = stat_df['binned_readtime'].replace({'(5, 10]': '(05, 10]'})\n",
    "\n",
    "averages = stat_df.groupby('binned_readtime')['read_ratio'].mean()\n",
    "\n",
    "\n",
    "averages.sort_index(inplace=True)\n",
    "averages.iplot(kind='bar', xTitle='Reading Time (mins)',  \n",
    "                                                              yTitle='Reading Percent',\n",
    "                                                              title='Reading Percent vs Reading Time')"
   ]
  },
  {
   "cell_type": "markdown",
   "metadata": {},
   "source": [
    "# Correlation Heatmap"
   ]
  },
  {
   "cell_type": "code",
   "execution_count": 18,
   "metadata": {
    "ExecuteTime": {
     "end_time": "2019-01-31T15:14:51.437748Z",
     "start_time": "2019-01-31T15:14:51.138807Z"
    }
   },
   "outputs": [
    {
     "data": {
      "application/vnd.plotly.v1+json": {
       "config": {
        "linkText": "Export to plot.ly",
        "plotlyServerURL": "https://plot.ly",
        "showLink": false
       },
       "data": [
        {
         "colorscale": "Viridis",
         "reversescale": false,
         "showscale": false,
         "type": "heatmap",
         "uid": "7fba695b-9353-4bfd-ad73-a5e1bc125e81",
         "x": [
          "claps",
          "days_since_publication",
          "fans",
          "num_responses",
          "read_ratio",
          "read_time",
          "reads",
          "title_word_count",
          "views",
          "word_count",
          "claps_per_word",
          "editing_days",
          "days_to_publish"
         ],
         "y": [
          "claps",
          "days_since_publication",
          "fans",
          "num_responses",
          "read_ratio",
          "read_time",
          "reads",
          "title_word_count",
          "views",
          "word_count",
          "claps_per_word",
          "editing_days",
          "days_to_publish"
         ],
         "z": [
          [
           1,
           0.22,
           0.99,
           0.88,
           -0.13,
           0.1,
           0.74,
           0.04,
           0.72,
           0.07,
           0.75,
           0.02,
           0.02
          ],
          [
           0.22,
           1,
           0.21,
           0.25,
           0.29,
           -0.04,
           0.41,
           -0.14,
           0.36,
           -0.05,
           0.17,
           -0.15,
           -0.15
          ],
          [
           0.99,
           0.21,
           1,
           0.85,
           -0.15,
           0.1,
           0.76,
           0.05,
           0.76,
           0.07,
           0.71,
           0.04,
           0.04
          ],
          [
           0.88,
           0.25,
           0.85,
           1,
           0,
           0.01,
           0.7,
           0,
           0.63,
           -0.01,
           0.8,
           -0.04,
           -0.04
          ],
          [
           -0.13,
           0.29,
           -0.15,
           0,
           1,
           -0.7,
           -0.09,
           -0.02,
           -0.27,
           -0.65,
           0.28,
           -0.3,
           -0.3
          ],
          [
           0.1,
           -0.04,
           0.1,
           0.01,
           -0.7,
           1,
           0.08,
           0,
           0.23,
           0.98,
           -0.23,
           0.33,
           0.33
          ],
          [
           0.74,
           0.41,
           0.76,
           0.7,
           -0.09,
           0.08,
           1,
           0,
           0.94,
           0.02,
           0.53,
           -0.1,
           -0.1
          ],
          [
           0.04,
           -0.14,
           0.05,
           0,
           -0.02,
           0,
           0,
           1,
           0,
           -0.03,
           0.04,
           0.1,
           0.1
          ],
          [
           0.72,
           0.36,
           0.76,
           0.63,
           -0.27,
           0.23,
           0.94,
           0,
           1,
           0.16,
           0.35,
           -0.03,
           -0.03
          ],
          [
           0.07,
           -0.05,
           0.07,
           -0.01,
           -0.65,
           0.98,
           0.02,
           -0.03,
           0.16,
           1,
           -0.24,
           0.34,
           0.34
          ],
          [
           0.75,
           0.17,
           0.71,
           0.8,
           0.28,
           -0.23,
           0.53,
           0.04,
           0.35,
           -0.24,
           1,
           -0.08,
           -0.08
          ],
          [
           0.02,
           -0.15,
           0.04,
           -0.04,
           -0.3,
           0.33,
           -0.1,
           0.1,
           -0.03,
           0.34,
           -0.08,
           1,
           1
          ],
          [
           0.02,
           -0.15,
           0.04,
           -0.04,
           -0.3,
           0.33,
           -0.1,
           0.1,
           -0.03,
           0.34,
           -0.08,
           1,
           1
          ]
         ]
        }
       ],
       "layout": {
        "annotations": [
         {
          "font": {
           "color": "#000000"
          },
          "showarrow": false,
          "text": "1.0",
          "x": "claps",
          "xref": "x",
          "y": "claps",
          "yref": "y"
         },
         {
          "font": {
           "color": "#000000"
          },
          "showarrow": false,
          "text": "0.22",
          "x": "days_since_publication",
          "xref": "x",
          "y": "claps",
          "yref": "y"
         },
         {
          "font": {
           "color": "#000000"
          },
          "showarrow": false,
          "text": "0.99",
          "x": "fans",
          "xref": "x",
          "y": "claps",
          "yref": "y"
         },
         {
          "font": {
           "color": "#000000"
          },
          "showarrow": false,
          "text": "0.88",
          "x": "num_responses",
          "xref": "x",
          "y": "claps",
          "yref": "y"
         },
         {
          "font": {
           "color": "#FFFFFF"
          },
          "showarrow": false,
          "text": "-0.13",
          "x": "read_ratio",
          "xref": "x",
          "y": "claps",
          "yref": "y"
         },
         {
          "font": {
           "color": "#FFFFFF"
          },
          "showarrow": false,
          "text": "0.1",
          "x": "read_time",
          "xref": "x",
          "y": "claps",
          "yref": "y"
         },
         {
          "font": {
           "color": "#000000"
          },
          "showarrow": false,
          "text": "0.74",
          "x": "reads",
          "xref": "x",
          "y": "claps",
          "yref": "y"
         },
         {
          "font": {
           "color": "#FFFFFF"
          },
          "showarrow": false,
          "text": "0.04",
          "x": "title_word_count",
          "xref": "x",
          "y": "claps",
          "yref": "y"
         },
         {
          "font": {
           "color": "#000000"
          },
          "showarrow": false,
          "text": "0.72",
          "x": "views",
          "xref": "x",
          "y": "claps",
          "yref": "y"
         },
         {
          "font": {
           "color": "#FFFFFF"
          },
          "showarrow": false,
          "text": "0.07",
          "x": "word_count",
          "xref": "x",
          "y": "claps",
          "yref": "y"
         },
         {
          "font": {
           "color": "#000000"
          },
          "showarrow": false,
          "text": "0.75",
          "x": "claps_per_word",
          "xref": "x",
          "y": "claps",
          "yref": "y"
         },
         {
          "font": {
           "color": "#FFFFFF"
          },
          "showarrow": false,
          "text": "0.02",
          "x": "editing_days",
          "xref": "x",
          "y": "claps",
          "yref": "y"
         },
         {
          "font": {
           "color": "#FFFFFF"
          },
          "showarrow": false,
          "text": "0.02",
          "x": "days_to_publish",
          "xref": "x",
          "y": "claps",
          "yref": "y"
         },
         {
          "font": {
           "color": "#000000"
          },
          "showarrow": false,
          "text": "0.22",
          "x": "claps",
          "xref": "x",
          "y": "days_since_publication",
          "yref": "y"
         },
         {
          "font": {
           "color": "#000000"
          },
          "showarrow": false,
          "text": "1.0",
          "x": "days_since_publication",
          "xref": "x",
          "y": "days_since_publication",
          "yref": "y"
         },
         {
          "font": {
           "color": "#000000"
          },
          "showarrow": false,
          "text": "0.21",
          "x": "fans",
          "xref": "x",
          "y": "days_since_publication",
          "yref": "y"
         },
         {
          "font": {
           "color": "#000000"
          },
          "showarrow": false,
          "text": "0.25",
          "x": "num_responses",
          "xref": "x",
          "y": "days_since_publication",
          "yref": "y"
         },
         {
          "font": {
           "color": "#000000"
          },
          "showarrow": false,
          "text": "0.29",
          "x": "read_ratio",
          "xref": "x",
          "y": "days_since_publication",
          "yref": "y"
         },
         {
          "font": {
           "color": "#FFFFFF"
          },
          "showarrow": false,
          "text": "-0.04",
          "x": "read_time",
          "xref": "x",
          "y": "days_since_publication",
          "yref": "y"
         },
         {
          "font": {
           "color": "#000000"
          },
          "showarrow": false,
          "text": "0.41",
          "x": "reads",
          "xref": "x",
          "y": "days_since_publication",
          "yref": "y"
         },
         {
          "font": {
           "color": "#FFFFFF"
          },
          "showarrow": false,
          "text": "-0.14",
          "x": "title_word_count",
          "xref": "x",
          "y": "days_since_publication",
          "yref": "y"
         },
         {
          "font": {
           "color": "#000000"
          },
          "showarrow": false,
          "text": "0.36",
          "x": "views",
          "xref": "x",
          "y": "days_since_publication",
          "yref": "y"
         },
         {
          "font": {
           "color": "#FFFFFF"
          },
          "showarrow": false,
          "text": "-0.05",
          "x": "word_count",
          "xref": "x",
          "y": "days_since_publication",
          "yref": "y"
         },
         {
          "font": {
           "color": "#000000"
          },
          "showarrow": false,
          "text": "0.17",
          "x": "claps_per_word",
          "xref": "x",
          "y": "days_since_publication",
          "yref": "y"
         },
         {
          "font": {
           "color": "#FFFFFF"
          },
          "showarrow": false,
          "text": "-0.15",
          "x": "editing_days",
          "xref": "x",
          "y": "days_since_publication",
          "yref": "y"
         },
         {
          "font": {
           "color": "#FFFFFF"
          },
          "showarrow": false,
          "text": "-0.15",
          "x": "days_to_publish",
          "xref": "x",
          "y": "days_since_publication",
          "yref": "y"
         },
         {
          "font": {
           "color": "#000000"
          },
          "showarrow": false,
          "text": "0.99",
          "x": "claps",
          "xref": "x",
          "y": "fans",
          "yref": "y"
         },
         {
          "font": {
           "color": "#000000"
          },
          "showarrow": false,
          "text": "0.21",
          "x": "days_since_publication",
          "xref": "x",
          "y": "fans",
          "yref": "y"
         },
         {
          "font": {
           "color": "#000000"
          },
          "showarrow": false,
          "text": "1.0",
          "x": "fans",
          "xref": "x",
          "y": "fans",
          "yref": "y"
         },
         {
          "font": {
           "color": "#000000"
          },
          "showarrow": false,
          "text": "0.85",
          "x": "num_responses",
          "xref": "x",
          "y": "fans",
          "yref": "y"
         },
         {
          "font": {
           "color": "#FFFFFF"
          },
          "showarrow": false,
          "text": "-0.15",
          "x": "read_ratio",
          "xref": "x",
          "y": "fans",
          "yref": "y"
         },
         {
          "font": {
           "color": "#FFFFFF"
          },
          "showarrow": false,
          "text": "0.1",
          "x": "read_time",
          "xref": "x",
          "y": "fans",
          "yref": "y"
         },
         {
          "font": {
           "color": "#000000"
          },
          "showarrow": false,
          "text": "0.76",
          "x": "reads",
          "xref": "x",
          "y": "fans",
          "yref": "y"
         },
         {
          "font": {
           "color": "#FFFFFF"
          },
          "showarrow": false,
          "text": "0.05",
          "x": "title_word_count",
          "xref": "x",
          "y": "fans",
          "yref": "y"
         },
         {
          "font": {
           "color": "#000000"
          },
          "showarrow": false,
          "text": "0.76",
          "x": "views",
          "xref": "x",
          "y": "fans",
          "yref": "y"
         },
         {
          "font": {
           "color": "#FFFFFF"
          },
          "showarrow": false,
          "text": "0.07",
          "x": "word_count",
          "xref": "x",
          "y": "fans",
          "yref": "y"
         },
         {
          "font": {
           "color": "#000000"
          },
          "showarrow": false,
          "text": "0.71",
          "x": "claps_per_word",
          "xref": "x",
          "y": "fans",
          "yref": "y"
         },
         {
          "font": {
           "color": "#FFFFFF"
          },
          "showarrow": false,
          "text": "0.04",
          "x": "editing_days",
          "xref": "x",
          "y": "fans",
          "yref": "y"
         },
         {
          "font": {
           "color": "#FFFFFF"
          },
          "showarrow": false,
          "text": "0.04",
          "x": "days_to_publish",
          "xref": "x",
          "y": "fans",
          "yref": "y"
         },
         {
          "font": {
           "color": "#000000"
          },
          "showarrow": false,
          "text": "0.88",
          "x": "claps",
          "xref": "x",
          "y": "num_responses",
          "yref": "y"
         },
         {
          "font": {
           "color": "#000000"
          },
          "showarrow": false,
          "text": "0.25",
          "x": "days_since_publication",
          "xref": "x",
          "y": "num_responses",
          "yref": "y"
         },
         {
          "font": {
           "color": "#000000"
          },
          "showarrow": false,
          "text": "0.85",
          "x": "fans",
          "xref": "x",
          "y": "num_responses",
          "yref": "y"
         },
         {
          "font": {
           "color": "#000000"
          },
          "showarrow": false,
          "text": "1.0",
          "x": "num_responses",
          "xref": "x",
          "y": "num_responses",
          "yref": "y"
         },
         {
          "font": {
           "color": "#FFFFFF"
          },
          "showarrow": false,
          "text": "0.0",
          "x": "read_ratio",
          "xref": "x",
          "y": "num_responses",
          "yref": "y"
         },
         {
          "font": {
           "color": "#FFFFFF"
          },
          "showarrow": false,
          "text": "0.01",
          "x": "read_time",
          "xref": "x",
          "y": "num_responses",
          "yref": "y"
         },
         {
          "font": {
           "color": "#000000"
          },
          "showarrow": false,
          "text": "0.7",
          "x": "reads",
          "xref": "x",
          "y": "num_responses",
          "yref": "y"
         },
         {
          "font": {
           "color": "#FFFFFF"
          },
          "showarrow": false,
          "text": "0.0",
          "x": "title_word_count",
          "xref": "x",
          "y": "num_responses",
          "yref": "y"
         },
         {
          "font": {
           "color": "#000000"
          },
          "showarrow": false,
          "text": "0.63",
          "x": "views",
          "xref": "x",
          "y": "num_responses",
          "yref": "y"
         },
         {
          "font": {
           "color": "#FFFFFF"
          },
          "showarrow": false,
          "text": "-0.01",
          "x": "word_count",
          "xref": "x",
          "y": "num_responses",
          "yref": "y"
         },
         {
          "font": {
           "color": "#000000"
          },
          "showarrow": false,
          "text": "0.8",
          "x": "claps_per_word",
          "xref": "x",
          "y": "num_responses",
          "yref": "y"
         },
         {
          "font": {
           "color": "#FFFFFF"
          },
          "showarrow": false,
          "text": "-0.04",
          "x": "editing_days",
          "xref": "x",
          "y": "num_responses",
          "yref": "y"
         },
         {
          "font": {
           "color": "#FFFFFF"
          },
          "showarrow": false,
          "text": "-0.04",
          "x": "days_to_publish",
          "xref": "x",
          "y": "num_responses",
          "yref": "y"
         },
         {
          "font": {
           "color": "#FFFFFF"
          },
          "showarrow": false,
          "text": "-0.13",
          "x": "claps",
          "xref": "x",
          "y": "read_ratio",
          "yref": "y"
         },
         {
          "font": {
           "color": "#000000"
          },
          "showarrow": false,
          "text": "0.29",
          "x": "days_since_publication",
          "xref": "x",
          "y": "read_ratio",
          "yref": "y"
         },
         {
          "font": {
           "color": "#FFFFFF"
          },
          "showarrow": false,
          "text": "-0.15",
          "x": "fans",
          "xref": "x",
          "y": "read_ratio",
          "yref": "y"
         },
         {
          "font": {
           "color": "#FFFFFF"
          },
          "showarrow": false,
          "text": "0.0",
          "x": "num_responses",
          "xref": "x",
          "y": "read_ratio",
          "yref": "y"
         },
         {
          "font": {
           "color": "#000000"
          },
          "showarrow": false,
          "text": "1.0",
          "x": "read_ratio",
          "xref": "x",
          "y": "read_ratio",
          "yref": "y"
         },
         {
          "font": {
           "color": "#FFFFFF"
          },
          "showarrow": false,
          "text": "-0.7",
          "x": "read_time",
          "xref": "x",
          "y": "read_ratio",
          "yref": "y"
         },
         {
          "font": {
           "color": "#FFFFFF"
          },
          "showarrow": false,
          "text": "-0.09",
          "x": "reads",
          "xref": "x",
          "y": "read_ratio",
          "yref": "y"
         },
         {
          "font": {
           "color": "#FFFFFF"
          },
          "showarrow": false,
          "text": "-0.02",
          "x": "title_word_count",
          "xref": "x",
          "y": "read_ratio",
          "yref": "y"
         },
         {
          "font": {
           "color": "#FFFFFF"
          },
          "showarrow": false,
          "text": "-0.27",
          "x": "views",
          "xref": "x",
          "y": "read_ratio",
          "yref": "y"
         },
         {
          "font": {
           "color": "#FFFFFF"
          },
          "showarrow": false,
          "text": "-0.65",
          "x": "word_count",
          "xref": "x",
          "y": "read_ratio",
          "yref": "y"
         },
         {
          "font": {
           "color": "#000000"
          },
          "showarrow": false,
          "text": "0.28",
          "x": "claps_per_word",
          "xref": "x",
          "y": "read_ratio",
          "yref": "y"
         },
         {
          "font": {
           "color": "#FFFFFF"
          },
          "showarrow": false,
          "text": "-0.3",
          "x": "editing_days",
          "xref": "x",
          "y": "read_ratio",
          "yref": "y"
         },
         {
          "font": {
           "color": "#FFFFFF"
          },
          "showarrow": false,
          "text": "-0.3",
          "x": "days_to_publish",
          "xref": "x",
          "y": "read_ratio",
          "yref": "y"
         },
         {
          "font": {
           "color": "#FFFFFF"
          },
          "showarrow": false,
          "text": "0.1",
          "x": "claps",
          "xref": "x",
          "y": "read_time",
          "yref": "y"
         },
         {
          "font": {
           "color": "#FFFFFF"
          },
          "showarrow": false,
          "text": "-0.04",
          "x": "days_since_publication",
          "xref": "x",
          "y": "read_time",
          "yref": "y"
         },
         {
          "font": {
           "color": "#FFFFFF"
          },
          "showarrow": false,
          "text": "0.1",
          "x": "fans",
          "xref": "x",
          "y": "read_time",
          "yref": "y"
         },
         {
          "font": {
           "color": "#FFFFFF"
          },
          "showarrow": false,
          "text": "0.01",
          "x": "num_responses",
          "xref": "x",
          "y": "read_time",
          "yref": "y"
         },
         {
          "font": {
           "color": "#FFFFFF"
          },
          "showarrow": false,
          "text": "-0.7",
          "x": "read_ratio",
          "xref": "x",
          "y": "read_time",
          "yref": "y"
         },
         {
          "font": {
           "color": "#000000"
          },
          "showarrow": false,
          "text": "1.0",
          "x": "read_time",
          "xref": "x",
          "y": "read_time",
          "yref": "y"
         },
         {
          "font": {
           "color": "#FFFFFF"
          },
          "showarrow": false,
          "text": "0.08",
          "x": "reads",
          "xref": "x",
          "y": "read_time",
          "yref": "y"
         },
         {
          "font": {
           "color": "#FFFFFF"
          },
          "showarrow": false,
          "text": "-0.0",
          "x": "title_word_count",
          "xref": "x",
          "y": "read_time",
          "yref": "y"
         },
         {
          "font": {
           "color": "#000000"
          },
          "showarrow": false,
          "text": "0.23",
          "x": "views",
          "xref": "x",
          "y": "read_time",
          "yref": "y"
         },
         {
          "font": {
           "color": "#000000"
          },
          "showarrow": false,
          "text": "0.98",
          "x": "word_count",
          "xref": "x",
          "y": "read_time",
          "yref": "y"
         },
         {
          "font": {
           "color": "#FFFFFF"
          },
          "showarrow": false,
          "text": "-0.23",
          "x": "claps_per_word",
          "xref": "x",
          "y": "read_time",
          "yref": "y"
         },
         {
          "font": {
           "color": "#000000"
          },
          "showarrow": false,
          "text": "0.33",
          "x": "editing_days",
          "xref": "x",
          "y": "read_time",
          "yref": "y"
         },
         {
          "font": {
           "color": "#000000"
          },
          "showarrow": false,
          "text": "0.33",
          "x": "days_to_publish",
          "xref": "x",
          "y": "read_time",
          "yref": "y"
         },
         {
          "font": {
           "color": "#000000"
          },
          "showarrow": false,
          "text": "0.74",
          "x": "claps",
          "xref": "x",
          "y": "reads",
          "yref": "y"
         },
         {
          "font": {
           "color": "#000000"
          },
          "showarrow": false,
          "text": "0.41",
          "x": "days_since_publication",
          "xref": "x",
          "y": "reads",
          "yref": "y"
         },
         {
          "font": {
           "color": "#000000"
          },
          "showarrow": false,
          "text": "0.76",
          "x": "fans",
          "xref": "x",
          "y": "reads",
          "yref": "y"
         },
         {
          "font": {
           "color": "#000000"
          },
          "showarrow": false,
          "text": "0.7",
          "x": "num_responses",
          "xref": "x",
          "y": "reads",
          "yref": "y"
         },
         {
          "font": {
           "color": "#FFFFFF"
          },
          "showarrow": false,
          "text": "-0.09",
          "x": "read_ratio",
          "xref": "x",
          "y": "reads",
          "yref": "y"
         },
         {
          "font": {
           "color": "#FFFFFF"
          },
          "showarrow": false,
          "text": "0.08",
          "x": "read_time",
          "xref": "x",
          "y": "reads",
          "yref": "y"
         },
         {
          "font": {
           "color": "#000000"
          },
          "showarrow": false,
          "text": "1.0",
          "x": "reads",
          "xref": "x",
          "y": "reads",
          "yref": "y"
         },
         {
          "font": {
           "color": "#FFFFFF"
          },
          "showarrow": false,
          "text": "0.0",
          "x": "title_word_count",
          "xref": "x",
          "y": "reads",
          "yref": "y"
         },
         {
          "font": {
           "color": "#000000"
          },
          "showarrow": false,
          "text": "0.94",
          "x": "views",
          "xref": "x",
          "y": "reads",
          "yref": "y"
         },
         {
          "font": {
           "color": "#FFFFFF"
          },
          "showarrow": false,
          "text": "0.02",
          "x": "word_count",
          "xref": "x",
          "y": "reads",
          "yref": "y"
         },
         {
          "font": {
           "color": "#000000"
          },
          "showarrow": false,
          "text": "0.53",
          "x": "claps_per_word",
          "xref": "x",
          "y": "reads",
          "yref": "y"
         },
         {
          "font": {
           "color": "#FFFFFF"
          },
          "showarrow": false,
          "text": "-0.1",
          "x": "editing_days",
          "xref": "x",
          "y": "reads",
          "yref": "y"
         },
         {
          "font": {
           "color": "#FFFFFF"
          },
          "showarrow": false,
          "text": "-0.1",
          "x": "days_to_publish",
          "xref": "x",
          "y": "reads",
          "yref": "y"
         },
         {
          "font": {
           "color": "#FFFFFF"
          },
          "showarrow": false,
          "text": "0.04",
          "x": "claps",
          "xref": "x",
          "y": "title_word_count",
          "yref": "y"
         },
         {
          "font": {
           "color": "#FFFFFF"
          },
          "showarrow": false,
          "text": "-0.14",
          "x": "days_since_publication",
          "xref": "x",
          "y": "title_word_count",
          "yref": "y"
         },
         {
          "font": {
           "color": "#FFFFFF"
          },
          "showarrow": false,
          "text": "0.05",
          "x": "fans",
          "xref": "x",
          "y": "title_word_count",
          "yref": "y"
         },
         {
          "font": {
           "color": "#FFFFFF"
          },
          "showarrow": false,
          "text": "0.0",
          "x": "num_responses",
          "xref": "x",
          "y": "title_word_count",
          "yref": "y"
         },
         {
          "font": {
           "color": "#FFFFFF"
          },
          "showarrow": false,
          "text": "-0.02",
          "x": "read_ratio",
          "xref": "x",
          "y": "title_word_count",
          "yref": "y"
         },
         {
          "font": {
           "color": "#FFFFFF"
          },
          "showarrow": false,
          "text": "-0.0",
          "x": "read_time",
          "xref": "x",
          "y": "title_word_count",
          "yref": "y"
         },
         {
          "font": {
           "color": "#FFFFFF"
          },
          "showarrow": false,
          "text": "0.0",
          "x": "reads",
          "xref": "x",
          "y": "title_word_count",
          "yref": "y"
         },
         {
          "font": {
           "color": "#000000"
          },
          "showarrow": false,
          "text": "1.0",
          "x": "title_word_count",
          "xref": "x",
          "y": "title_word_count",
          "yref": "y"
         },
         {
          "font": {
           "color": "#FFFFFF"
          },
          "showarrow": false,
          "text": "0.0",
          "x": "views",
          "xref": "x",
          "y": "title_word_count",
          "yref": "y"
         },
         {
          "font": {
           "color": "#FFFFFF"
          },
          "showarrow": false,
          "text": "-0.03",
          "x": "word_count",
          "xref": "x",
          "y": "title_word_count",
          "yref": "y"
         },
         {
          "font": {
           "color": "#FFFFFF"
          },
          "showarrow": false,
          "text": "0.04",
          "x": "claps_per_word",
          "xref": "x",
          "y": "title_word_count",
          "yref": "y"
         },
         {
          "font": {
           "color": "#FFFFFF"
          },
          "showarrow": false,
          "text": "0.1",
          "x": "editing_days",
          "xref": "x",
          "y": "title_word_count",
          "yref": "y"
         },
         {
          "font": {
           "color": "#FFFFFF"
          },
          "showarrow": false,
          "text": "0.1",
          "x": "days_to_publish",
          "xref": "x",
          "y": "title_word_count",
          "yref": "y"
         },
         {
          "font": {
           "color": "#000000"
          },
          "showarrow": false,
          "text": "0.72",
          "x": "claps",
          "xref": "x",
          "y": "views",
          "yref": "y"
         },
         {
          "font": {
           "color": "#000000"
          },
          "showarrow": false,
          "text": "0.36",
          "x": "days_since_publication",
          "xref": "x",
          "y": "views",
          "yref": "y"
         },
         {
          "font": {
           "color": "#000000"
          },
          "showarrow": false,
          "text": "0.76",
          "x": "fans",
          "xref": "x",
          "y": "views",
          "yref": "y"
         },
         {
          "font": {
           "color": "#000000"
          },
          "showarrow": false,
          "text": "0.63",
          "x": "num_responses",
          "xref": "x",
          "y": "views",
          "yref": "y"
         },
         {
          "font": {
           "color": "#FFFFFF"
          },
          "showarrow": false,
          "text": "-0.27",
          "x": "read_ratio",
          "xref": "x",
          "y": "views",
          "yref": "y"
         },
         {
          "font": {
           "color": "#000000"
          },
          "showarrow": false,
          "text": "0.23",
          "x": "read_time",
          "xref": "x",
          "y": "views",
          "yref": "y"
         },
         {
          "font": {
           "color": "#000000"
          },
          "showarrow": false,
          "text": "0.94",
          "x": "reads",
          "xref": "x",
          "y": "views",
          "yref": "y"
         },
         {
          "font": {
           "color": "#FFFFFF"
          },
          "showarrow": false,
          "text": "0.0",
          "x": "title_word_count",
          "xref": "x",
          "y": "views",
          "yref": "y"
         },
         {
          "font": {
           "color": "#000000"
          },
          "showarrow": false,
          "text": "1.0",
          "x": "views",
          "xref": "x",
          "y": "views",
          "yref": "y"
         },
         {
          "font": {
           "color": "#000000"
          },
          "showarrow": false,
          "text": "0.16",
          "x": "word_count",
          "xref": "x",
          "y": "views",
          "yref": "y"
         },
         {
          "font": {
           "color": "#000000"
          },
          "showarrow": false,
          "text": "0.35",
          "x": "claps_per_word",
          "xref": "x",
          "y": "views",
          "yref": "y"
         },
         {
          "font": {
           "color": "#FFFFFF"
          },
          "showarrow": false,
          "text": "-0.03",
          "x": "editing_days",
          "xref": "x",
          "y": "views",
          "yref": "y"
         },
         {
          "font": {
           "color": "#FFFFFF"
          },
          "showarrow": false,
          "text": "-0.03",
          "x": "days_to_publish",
          "xref": "x",
          "y": "views",
          "yref": "y"
         },
         {
          "font": {
           "color": "#FFFFFF"
          },
          "showarrow": false,
          "text": "0.07",
          "x": "claps",
          "xref": "x",
          "y": "word_count",
          "yref": "y"
         },
         {
          "font": {
           "color": "#FFFFFF"
          },
          "showarrow": false,
          "text": "-0.05",
          "x": "days_since_publication",
          "xref": "x",
          "y": "word_count",
          "yref": "y"
         },
         {
          "font": {
           "color": "#FFFFFF"
          },
          "showarrow": false,
          "text": "0.07",
          "x": "fans",
          "xref": "x",
          "y": "word_count",
          "yref": "y"
         },
         {
          "font": {
           "color": "#FFFFFF"
          },
          "showarrow": false,
          "text": "-0.01",
          "x": "num_responses",
          "xref": "x",
          "y": "word_count",
          "yref": "y"
         },
         {
          "font": {
           "color": "#FFFFFF"
          },
          "showarrow": false,
          "text": "-0.65",
          "x": "read_ratio",
          "xref": "x",
          "y": "word_count",
          "yref": "y"
         },
         {
          "font": {
           "color": "#000000"
          },
          "showarrow": false,
          "text": "0.98",
          "x": "read_time",
          "xref": "x",
          "y": "word_count",
          "yref": "y"
         },
         {
          "font": {
           "color": "#FFFFFF"
          },
          "showarrow": false,
          "text": "0.02",
          "x": "reads",
          "xref": "x",
          "y": "word_count",
          "yref": "y"
         },
         {
          "font": {
           "color": "#FFFFFF"
          },
          "showarrow": false,
          "text": "-0.03",
          "x": "title_word_count",
          "xref": "x",
          "y": "word_count",
          "yref": "y"
         },
         {
          "font": {
           "color": "#000000"
          },
          "showarrow": false,
          "text": "0.16",
          "x": "views",
          "xref": "x",
          "y": "word_count",
          "yref": "y"
         },
         {
          "font": {
           "color": "#000000"
          },
          "showarrow": false,
          "text": "1.0",
          "x": "word_count",
          "xref": "x",
          "y": "word_count",
          "yref": "y"
         },
         {
          "font": {
           "color": "#FFFFFF"
          },
          "showarrow": false,
          "text": "-0.24",
          "x": "claps_per_word",
          "xref": "x",
          "y": "word_count",
          "yref": "y"
         },
         {
          "font": {
           "color": "#000000"
          },
          "showarrow": false,
          "text": "0.34",
          "x": "editing_days",
          "xref": "x",
          "y": "word_count",
          "yref": "y"
         },
         {
          "font": {
           "color": "#000000"
          },
          "showarrow": false,
          "text": "0.34",
          "x": "days_to_publish",
          "xref": "x",
          "y": "word_count",
          "yref": "y"
         },
         {
          "font": {
           "color": "#000000"
          },
          "showarrow": false,
          "text": "0.75",
          "x": "claps",
          "xref": "x",
          "y": "claps_per_word",
          "yref": "y"
         },
         {
          "font": {
           "color": "#000000"
          },
          "showarrow": false,
          "text": "0.17",
          "x": "days_since_publication",
          "xref": "x",
          "y": "claps_per_word",
          "yref": "y"
         },
         {
          "font": {
           "color": "#000000"
          },
          "showarrow": false,
          "text": "0.71",
          "x": "fans",
          "xref": "x",
          "y": "claps_per_word",
          "yref": "y"
         },
         {
          "font": {
           "color": "#000000"
          },
          "showarrow": false,
          "text": "0.8",
          "x": "num_responses",
          "xref": "x",
          "y": "claps_per_word",
          "yref": "y"
         },
         {
          "font": {
           "color": "#000000"
          },
          "showarrow": false,
          "text": "0.28",
          "x": "read_ratio",
          "xref": "x",
          "y": "claps_per_word",
          "yref": "y"
         },
         {
          "font": {
           "color": "#FFFFFF"
          },
          "showarrow": false,
          "text": "-0.23",
          "x": "read_time",
          "xref": "x",
          "y": "claps_per_word",
          "yref": "y"
         },
         {
          "font": {
           "color": "#000000"
          },
          "showarrow": false,
          "text": "0.53",
          "x": "reads",
          "xref": "x",
          "y": "claps_per_word",
          "yref": "y"
         },
         {
          "font": {
           "color": "#FFFFFF"
          },
          "showarrow": false,
          "text": "0.04",
          "x": "title_word_count",
          "xref": "x",
          "y": "claps_per_word",
          "yref": "y"
         },
         {
          "font": {
           "color": "#000000"
          },
          "showarrow": false,
          "text": "0.35",
          "x": "views",
          "xref": "x",
          "y": "claps_per_word",
          "yref": "y"
         },
         {
          "font": {
           "color": "#FFFFFF"
          },
          "showarrow": false,
          "text": "-0.24",
          "x": "word_count",
          "xref": "x",
          "y": "claps_per_word",
          "yref": "y"
         },
         {
          "font": {
           "color": "#000000"
          },
          "showarrow": false,
          "text": "1.0",
          "x": "claps_per_word",
          "xref": "x",
          "y": "claps_per_word",
          "yref": "y"
         },
         {
          "font": {
           "color": "#FFFFFF"
          },
          "showarrow": false,
          "text": "-0.08",
          "x": "editing_days",
          "xref": "x",
          "y": "claps_per_word",
          "yref": "y"
         },
         {
          "font": {
           "color": "#FFFFFF"
          },
          "showarrow": false,
          "text": "-0.08",
          "x": "days_to_publish",
          "xref": "x",
          "y": "claps_per_word",
          "yref": "y"
         },
         {
          "font": {
           "color": "#FFFFFF"
          },
          "showarrow": false,
          "text": "0.02",
          "x": "claps",
          "xref": "x",
          "y": "editing_days",
          "yref": "y"
         },
         {
          "font": {
           "color": "#FFFFFF"
          },
          "showarrow": false,
          "text": "-0.15",
          "x": "days_since_publication",
          "xref": "x",
          "y": "editing_days",
          "yref": "y"
         },
         {
          "font": {
           "color": "#FFFFFF"
          },
          "showarrow": false,
          "text": "0.04",
          "x": "fans",
          "xref": "x",
          "y": "editing_days",
          "yref": "y"
         },
         {
          "font": {
           "color": "#FFFFFF"
          },
          "showarrow": false,
          "text": "-0.04",
          "x": "num_responses",
          "xref": "x",
          "y": "editing_days",
          "yref": "y"
         },
         {
          "font": {
           "color": "#FFFFFF"
          },
          "showarrow": false,
          "text": "-0.3",
          "x": "read_ratio",
          "xref": "x",
          "y": "editing_days",
          "yref": "y"
         },
         {
          "font": {
           "color": "#000000"
          },
          "showarrow": false,
          "text": "0.33",
          "x": "read_time",
          "xref": "x",
          "y": "editing_days",
          "yref": "y"
         },
         {
          "font": {
           "color": "#FFFFFF"
          },
          "showarrow": false,
          "text": "-0.1",
          "x": "reads",
          "xref": "x",
          "y": "editing_days",
          "yref": "y"
         },
         {
          "font": {
           "color": "#FFFFFF"
          },
          "showarrow": false,
          "text": "0.1",
          "x": "title_word_count",
          "xref": "x",
          "y": "editing_days",
          "yref": "y"
         },
         {
          "font": {
           "color": "#FFFFFF"
          },
          "showarrow": false,
          "text": "-0.03",
          "x": "views",
          "xref": "x",
          "y": "editing_days",
          "yref": "y"
         },
         {
          "font": {
           "color": "#000000"
          },
          "showarrow": false,
          "text": "0.34",
          "x": "word_count",
          "xref": "x",
          "y": "editing_days",
          "yref": "y"
         },
         {
          "font": {
           "color": "#FFFFFF"
          },
          "showarrow": false,
          "text": "-0.08",
          "x": "claps_per_word",
          "xref": "x",
          "y": "editing_days",
          "yref": "y"
         },
         {
          "font": {
           "color": "#000000"
          },
          "showarrow": false,
          "text": "1.0",
          "x": "editing_days",
          "xref": "x",
          "y": "editing_days",
          "yref": "y"
         },
         {
          "font": {
           "color": "#000000"
          },
          "showarrow": false,
          "text": "1.0",
          "x": "days_to_publish",
          "xref": "x",
          "y": "editing_days",
          "yref": "y"
         },
         {
          "font": {
           "color": "#FFFFFF"
          },
          "showarrow": false,
          "text": "0.02",
          "x": "claps",
          "xref": "x",
          "y": "days_to_publish",
          "yref": "y"
         },
         {
          "font": {
           "color": "#FFFFFF"
          },
          "showarrow": false,
          "text": "-0.15",
          "x": "days_since_publication",
          "xref": "x",
          "y": "days_to_publish",
          "yref": "y"
         },
         {
          "font": {
           "color": "#FFFFFF"
          },
          "showarrow": false,
          "text": "0.04",
          "x": "fans",
          "xref": "x",
          "y": "days_to_publish",
          "yref": "y"
         },
         {
          "font": {
           "color": "#FFFFFF"
          },
          "showarrow": false,
          "text": "-0.04",
          "x": "num_responses",
          "xref": "x",
          "y": "days_to_publish",
          "yref": "y"
         },
         {
          "font": {
           "color": "#FFFFFF"
          },
          "showarrow": false,
          "text": "-0.3",
          "x": "read_ratio",
          "xref": "x",
          "y": "days_to_publish",
          "yref": "y"
         },
         {
          "font": {
           "color": "#000000"
          },
          "showarrow": false,
          "text": "0.33",
          "x": "read_time",
          "xref": "x",
          "y": "days_to_publish",
          "yref": "y"
         },
         {
          "font": {
           "color": "#FFFFFF"
          },
          "showarrow": false,
          "text": "-0.1",
          "x": "reads",
          "xref": "x",
          "y": "days_to_publish",
          "yref": "y"
         },
         {
          "font": {
           "color": "#FFFFFF"
          },
          "showarrow": false,
          "text": "0.1",
          "x": "title_word_count",
          "xref": "x",
          "y": "days_to_publish",
          "yref": "y"
         },
         {
          "font": {
           "color": "#FFFFFF"
          },
          "showarrow": false,
          "text": "-0.03",
          "x": "views",
          "xref": "x",
          "y": "days_to_publish",
          "yref": "y"
         },
         {
          "font": {
           "color": "#000000"
          },
          "showarrow": false,
          "text": "0.34",
          "x": "word_count",
          "xref": "x",
          "y": "days_to_publish",
          "yref": "y"
         },
         {
          "font": {
           "color": "#FFFFFF"
          },
          "showarrow": false,
          "text": "-0.08",
          "x": "claps_per_word",
          "xref": "x",
          "y": "days_to_publish",
          "yref": "y"
         },
         {
          "font": {
           "color": "#000000"
          },
          "showarrow": false,
          "text": "1.0",
          "x": "editing_days",
          "xref": "x",
          "y": "days_to_publish",
          "yref": "y"
         },
         {
          "font": {
           "color": "#000000"
          },
          "showarrow": false,
          "text": "1.0",
          "x": "days_to_publish",
          "xref": "x",
          "y": "days_to_publish",
          "yref": "y"
         }
        ],
        "xaxis": {
         "dtick": 1,
         "gridcolor": "rgb(0, 0, 0)",
         "side": "top",
         "ticks": ""
        },
        "yaxis": {
         "dtick": 1,
         "ticks": "",
         "ticksuffix": "  "
        }
       }
      },
      "text/html": [
       "<div id=\"1a2049b0-7c85-42c4-b6a7-d2086a458400\" style=\"height: 525px; width: 100%;\" class=\"plotly-graph-div\"></div><script type=\"text/javascript\">require([\"plotly\"], function(Plotly) { window.PLOTLYENV=window.PLOTLYENV || {};window.PLOTLYENV.BASE_URL=\"https://plot.ly\";Plotly.newPlot(\"1a2049b0-7c85-42c4-b6a7-d2086a458400\", [{\"colorscale\": \"Viridis\", \"reversescale\": false, \"showscale\": false, \"x\": [\"claps\", \"days_since_publication\", \"fans\", \"num_responses\", \"read_ratio\", \"read_time\", \"reads\", \"title_word_count\", \"views\", \"word_count\", \"claps_per_word\", \"editing_days\", \"days_to_publish\"], \"y\": [\"claps\", \"days_since_publication\", \"fans\", \"num_responses\", \"read_ratio\", \"read_time\", \"reads\", \"title_word_count\", \"views\", \"word_count\", \"claps_per_word\", \"editing_days\", \"days_to_publish\"], \"z\": [[1.0, 0.22, 0.99, 0.88, -0.13, 0.1, 0.74, 0.04, 0.72, 0.07, 0.75, 0.02, 0.02], [0.22, 1.0, 0.21, 0.25, 0.29, -0.04, 0.41, -0.14, 0.36, -0.05, 0.17, -0.15, -0.15], [0.99, 0.21, 1.0, 0.85, -0.15, 0.1, 0.76, 0.05, 0.76, 0.07, 0.71, 0.04, 0.04], [0.88, 0.25, 0.85, 1.0, 0.0, 0.01, 0.7, 0.0, 0.63, -0.01, 0.8, -0.04, -0.04], [-0.13, 0.29, -0.15, 0.0, 1.0, -0.7, -0.09, -0.02, -0.27, -0.65, 0.28, -0.3, -0.3], [0.1, -0.04, 0.1, 0.01, -0.7, 1.0, 0.08, -0.0, 0.23, 0.98, -0.23, 0.33, 0.33], [0.74, 0.41, 0.76, 0.7, -0.09, 0.08, 1.0, 0.0, 0.94, 0.02, 0.53, -0.1, -0.1], [0.04, -0.14, 0.05, 0.0, -0.02, -0.0, 0.0, 1.0, 0.0, -0.03, 0.04, 0.1, 0.1], [0.72, 0.36, 0.76, 0.63, -0.27, 0.23, 0.94, 0.0, 1.0, 0.16, 0.35, -0.03, -0.03], [0.07, -0.05, 0.07, -0.01, -0.65, 0.98, 0.02, -0.03, 0.16, 1.0, -0.24, 0.34, 0.34], [0.75, 0.17, 0.71, 0.8, 0.28, -0.23, 0.53, 0.04, 0.35, -0.24, 1.0, -0.08, -0.08], [0.02, -0.15, 0.04, -0.04, -0.3, 0.33, -0.1, 0.1, -0.03, 0.34, -0.08, 1.0, 1.0], [0.02, -0.15, 0.04, -0.04, -0.3, 0.33, -0.1, 0.1, -0.03, 0.34, -0.08, 1.0, 1.0]], \"type\": \"heatmap\", \"uid\": \"7fba695b-9353-4bfd-ad73-a5e1bc125e81\"}], {\"annotations\": [{\"font\": {\"color\": \"#000000\"}, \"showarrow\": false, \"text\": \"1.0\", \"x\": \"claps\", \"xref\": \"x\", \"y\": \"claps\", \"yref\": \"y\"}, {\"font\": {\"color\": \"#000000\"}, \"showarrow\": false, \"text\": \"0.22\", \"x\": \"days_since_publication\", \"xref\": \"x\", \"y\": \"claps\", \"yref\": \"y\"}, {\"font\": {\"color\": \"#000000\"}, \"showarrow\": false, \"text\": \"0.99\", \"x\": \"fans\", \"xref\": \"x\", \"y\": \"claps\", \"yref\": \"y\"}, {\"font\": {\"color\": \"#000000\"}, \"showarrow\": false, \"text\": \"0.88\", \"x\": \"num_responses\", \"xref\": \"x\", \"y\": \"claps\", \"yref\": \"y\"}, {\"font\": {\"color\": \"#FFFFFF\"}, \"showarrow\": false, \"text\": \"-0.13\", \"x\": \"read_ratio\", \"xref\": \"x\", \"y\": \"claps\", \"yref\": \"y\"}, {\"font\": {\"color\": \"#FFFFFF\"}, \"showarrow\": false, \"text\": \"0.1\", \"x\": \"read_time\", \"xref\": \"x\", \"y\": \"claps\", \"yref\": \"y\"}, {\"font\": {\"color\": \"#000000\"}, \"showarrow\": false, \"text\": \"0.74\", \"x\": \"reads\", \"xref\": \"x\", \"y\": \"claps\", \"yref\": \"y\"}, {\"font\": {\"color\": \"#FFFFFF\"}, \"showarrow\": false, \"text\": \"0.04\", \"x\": \"title_word_count\", \"xref\": \"x\", \"y\": \"claps\", \"yref\": \"y\"}, {\"font\": {\"color\": \"#000000\"}, \"showarrow\": false, \"text\": \"0.72\", \"x\": \"views\", \"xref\": \"x\", \"y\": \"claps\", \"yref\": \"y\"}, {\"font\": {\"color\": \"#FFFFFF\"}, \"showarrow\": false, \"text\": \"0.07\", \"x\": \"word_count\", \"xref\": \"x\", \"y\": \"claps\", \"yref\": \"y\"}, {\"font\": {\"color\": \"#000000\"}, \"showarrow\": false, \"text\": \"0.75\", \"x\": \"claps_per_word\", \"xref\": \"x\", \"y\": \"claps\", \"yref\": \"y\"}, {\"font\": {\"color\": \"#FFFFFF\"}, \"showarrow\": false, \"text\": \"0.02\", \"x\": \"editing_days\", \"xref\": \"x\", \"y\": \"claps\", \"yref\": \"y\"}, {\"font\": {\"color\": \"#FFFFFF\"}, \"showarrow\": false, \"text\": \"0.02\", \"x\": \"days_to_publish\", \"xref\": \"x\", \"y\": \"claps\", \"yref\": \"y\"}, {\"font\": {\"color\": \"#000000\"}, \"showarrow\": false, \"text\": \"0.22\", \"x\": \"claps\", \"xref\": \"x\", \"y\": \"days_since_publication\", \"yref\": \"y\"}, {\"font\": {\"color\": \"#000000\"}, \"showarrow\": false, \"text\": \"1.0\", \"x\": \"days_since_publication\", \"xref\": \"x\", \"y\": \"days_since_publication\", \"yref\": \"y\"}, {\"font\": {\"color\": \"#000000\"}, \"showarrow\": false, \"text\": \"0.21\", \"x\": \"fans\", \"xref\": \"x\", \"y\": \"days_since_publication\", \"yref\": \"y\"}, {\"font\": {\"color\": \"#000000\"}, \"showarrow\": false, \"text\": \"0.25\", \"x\": \"num_responses\", \"xref\": \"x\", \"y\": \"days_since_publication\", \"yref\": \"y\"}, {\"font\": {\"color\": \"#000000\"}, \"showarrow\": false, \"text\": \"0.29\", \"x\": \"read_ratio\", \"xref\": \"x\", \"y\": \"days_since_publication\", \"yref\": \"y\"}, {\"font\": {\"color\": \"#FFFFFF\"}, \"showarrow\": false, \"text\": \"-0.04\", \"x\": \"read_time\", \"xref\": \"x\", \"y\": \"days_since_publication\", \"yref\": \"y\"}, {\"font\": {\"color\": \"#000000\"}, \"showarrow\": false, \"text\": \"0.41\", \"x\": \"reads\", \"xref\": \"x\", \"y\": \"days_since_publication\", \"yref\": \"y\"}, {\"font\": {\"color\": \"#FFFFFF\"}, \"showarrow\": false, \"text\": \"-0.14\", \"x\": \"title_word_count\", \"xref\": \"x\", \"y\": \"days_since_publication\", \"yref\": \"y\"}, {\"font\": {\"color\": \"#000000\"}, \"showarrow\": false, \"text\": \"0.36\", \"x\": \"views\", \"xref\": \"x\", \"y\": \"days_since_publication\", \"yref\": \"y\"}, {\"font\": {\"color\": \"#FFFFFF\"}, \"showarrow\": false, \"text\": \"-0.05\", \"x\": \"word_count\", \"xref\": \"x\", \"y\": \"days_since_publication\", \"yref\": \"y\"}, {\"font\": {\"color\": \"#000000\"}, \"showarrow\": false, \"text\": \"0.17\", \"x\": \"claps_per_word\", \"xref\": \"x\", \"y\": \"days_since_publication\", \"yref\": \"y\"}, {\"font\": {\"color\": \"#FFFFFF\"}, \"showarrow\": false, \"text\": \"-0.15\", \"x\": \"editing_days\", \"xref\": \"x\", \"y\": \"days_since_publication\", \"yref\": \"y\"}, {\"font\": {\"color\": \"#FFFFFF\"}, \"showarrow\": false, \"text\": \"-0.15\", \"x\": \"days_to_publish\", \"xref\": \"x\", \"y\": \"days_since_publication\", \"yref\": \"y\"}, {\"font\": {\"color\": \"#000000\"}, \"showarrow\": false, \"text\": \"0.99\", \"x\": \"claps\", \"xref\": \"x\", \"y\": \"fans\", \"yref\": \"y\"}, {\"font\": {\"color\": \"#000000\"}, \"showarrow\": false, \"text\": \"0.21\", \"x\": \"days_since_publication\", \"xref\": \"x\", \"y\": \"fans\", \"yref\": \"y\"}, {\"font\": {\"color\": \"#000000\"}, \"showarrow\": false, \"text\": \"1.0\", \"x\": \"fans\", \"xref\": \"x\", \"y\": \"fans\", \"yref\": \"y\"}, {\"font\": {\"color\": \"#000000\"}, \"showarrow\": false, \"text\": \"0.85\", \"x\": \"num_responses\", \"xref\": \"x\", \"y\": \"fans\", \"yref\": \"y\"}, {\"font\": {\"color\": \"#FFFFFF\"}, \"showarrow\": false, \"text\": \"-0.15\", \"x\": \"read_ratio\", \"xref\": \"x\", \"y\": \"fans\", \"yref\": \"y\"}, {\"font\": {\"color\": \"#FFFFFF\"}, \"showarrow\": false, \"text\": \"0.1\", \"x\": \"read_time\", \"xref\": \"x\", \"y\": \"fans\", \"yref\": \"y\"}, {\"font\": {\"color\": \"#000000\"}, \"showarrow\": false, \"text\": \"0.76\", \"x\": \"reads\", \"xref\": \"x\", \"y\": \"fans\", \"yref\": \"y\"}, {\"font\": {\"color\": \"#FFFFFF\"}, \"showarrow\": false, \"text\": \"0.05\", \"x\": \"title_word_count\", \"xref\": \"x\", \"y\": \"fans\", \"yref\": \"y\"}, {\"font\": {\"color\": \"#000000\"}, \"showarrow\": false, \"text\": \"0.76\", \"x\": \"views\", \"xref\": \"x\", \"y\": \"fans\", \"yref\": \"y\"}, {\"font\": {\"color\": \"#FFFFFF\"}, \"showarrow\": false, \"text\": \"0.07\", \"x\": \"word_count\", \"xref\": \"x\", \"y\": \"fans\", \"yref\": \"y\"}, {\"font\": {\"color\": \"#000000\"}, \"showarrow\": false, \"text\": \"0.71\", \"x\": \"claps_per_word\", \"xref\": \"x\", \"y\": \"fans\", \"yref\": \"y\"}, {\"font\": {\"color\": \"#FFFFFF\"}, \"showarrow\": false, \"text\": \"0.04\", \"x\": \"editing_days\", \"xref\": \"x\", \"y\": \"fans\", \"yref\": \"y\"}, {\"font\": {\"color\": \"#FFFFFF\"}, \"showarrow\": false, \"text\": \"0.04\", \"x\": \"days_to_publish\", \"xref\": \"x\", \"y\": \"fans\", \"yref\": \"y\"}, {\"font\": {\"color\": \"#000000\"}, \"showarrow\": false, \"text\": \"0.88\", \"x\": \"claps\", \"xref\": \"x\", \"y\": \"num_responses\", \"yref\": \"y\"}, {\"font\": {\"color\": \"#000000\"}, \"showarrow\": false, \"text\": \"0.25\", \"x\": \"days_since_publication\", \"xref\": \"x\", \"y\": \"num_responses\", \"yref\": \"y\"}, {\"font\": {\"color\": \"#000000\"}, \"showarrow\": false, \"text\": \"0.85\", \"x\": \"fans\", \"xref\": \"x\", \"y\": \"num_responses\", \"yref\": \"y\"}, {\"font\": {\"color\": \"#000000\"}, \"showarrow\": false, \"text\": \"1.0\", \"x\": \"num_responses\", \"xref\": \"x\", \"y\": \"num_responses\", \"yref\": \"y\"}, {\"font\": {\"color\": \"#FFFFFF\"}, \"showarrow\": false, \"text\": \"0.0\", \"x\": \"read_ratio\", \"xref\": \"x\", \"y\": \"num_responses\", \"yref\": \"y\"}, {\"font\": {\"color\": \"#FFFFFF\"}, \"showarrow\": false, \"text\": \"0.01\", \"x\": \"read_time\", \"xref\": \"x\", \"y\": \"num_responses\", \"yref\": \"y\"}, {\"font\": {\"color\": \"#000000\"}, \"showarrow\": false, \"text\": \"0.7\", \"x\": \"reads\", \"xref\": \"x\", \"y\": \"num_responses\", \"yref\": \"y\"}, {\"font\": {\"color\": \"#FFFFFF\"}, \"showarrow\": false, \"text\": \"0.0\", \"x\": \"title_word_count\", \"xref\": \"x\", \"y\": \"num_responses\", \"yref\": \"y\"}, {\"font\": {\"color\": \"#000000\"}, \"showarrow\": false, \"text\": \"0.63\", \"x\": \"views\", \"xref\": \"x\", \"y\": \"num_responses\", \"yref\": \"y\"}, {\"font\": {\"color\": \"#FFFFFF\"}, \"showarrow\": false, \"text\": \"-0.01\", \"x\": \"word_count\", \"xref\": \"x\", \"y\": \"num_responses\", \"yref\": \"y\"}, {\"font\": {\"color\": \"#000000\"}, \"showarrow\": false, \"text\": \"0.8\", \"x\": \"claps_per_word\", \"xref\": \"x\", \"y\": \"num_responses\", \"yref\": \"y\"}, {\"font\": {\"color\": \"#FFFFFF\"}, \"showarrow\": false, \"text\": \"-0.04\", \"x\": \"editing_days\", \"xref\": \"x\", \"y\": \"num_responses\", \"yref\": \"y\"}, {\"font\": {\"color\": \"#FFFFFF\"}, \"showarrow\": false, \"text\": \"-0.04\", \"x\": \"days_to_publish\", \"xref\": \"x\", \"y\": \"num_responses\", \"yref\": \"y\"}, {\"font\": {\"color\": \"#FFFFFF\"}, \"showarrow\": false, \"text\": \"-0.13\", \"x\": \"claps\", \"xref\": \"x\", \"y\": \"read_ratio\", \"yref\": \"y\"}, {\"font\": {\"color\": \"#000000\"}, \"showarrow\": false, \"text\": \"0.29\", \"x\": \"days_since_publication\", \"xref\": \"x\", \"y\": \"read_ratio\", \"yref\": \"y\"}, {\"font\": {\"color\": \"#FFFFFF\"}, \"showarrow\": false, \"text\": \"-0.15\", \"x\": \"fans\", \"xref\": \"x\", \"y\": \"read_ratio\", \"yref\": \"y\"}, {\"font\": {\"color\": \"#FFFFFF\"}, \"showarrow\": false, \"text\": \"0.0\", \"x\": \"num_responses\", \"xref\": \"x\", \"y\": \"read_ratio\", \"yref\": \"y\"}, {\"font\": {\"color\": \"#000000\"}, \"showarrow\": false, \"text\": \"1.0\", \"x\": \"read_ratio\", \"xref\": \"x\", \"y\": \"read_ratio\", \"yref\": \"y\"}, {\"font\": {\"color\": \"#FFFFFF\"}, \"showarrow\": false, \"text\": \"-0.7\", \"x\": \"read_time\", \"xref\": \"x\", \"y\": \"read_ratio\", \"yref\": \"y\"}, {\"font\": {\"color\": \"#FFFFFF\"}, \"showarrow\": false, \"text\": \"-0.09\", \"x\": \"reads\", \"xref\": \"x\", \"y\": \"read_ratio\", \"yref\": \"y\"}, {\"font\": {\"color\": \"#FFFFFF\"}, \"showarrow\": false, \"text\": \"-0.02\", \"x\": \"title_word_count\", \"xref\": \"x\", \"y\": \"read_ratio\", \"yref\": \"y\"}, {\"font\": {\"color\": \"#FFFFFF\"}, \"showarrow\": false, \"text\": \"-0.27\", \"x\": \"views\", \"xref\": \"x\", \"y\": \"read_ratio\", \"yref\": \"y\"}, {\"font\": {\"color\": \"#FFFFFF\"}, \"showarrow\": false, \"text\": \"-0.65\", \"x\": \"word_count\", \"xref\": \"x\", \"y\": \"read_ratio\", \"yref\": \"y\"}, {\"font\": {\"color\": \"#000000\"}, \"showarrow\": false, \"text\": \"0.28\", \"x\": \"claps_per_word\", \"xref\": \"x\", \"y\": \"read_ratio\", \"yref\": \"y\"}, {\"font\": {\"color\": \"#FFFFFF\"}, \"showarrow\": false, \"text\": \"-0.3\", \"x\": \"editing_days\", \"xref\": \"x\", \"y\": \"read_ratio\", \"yref\": \"y\"}, {\"font\": {\"color\": \"#FFFFFF\"}, \"showarrow\": false, \"text\": \"-0.3\", \"x\": \"days_to_publish\", \"xref\": \"x\", \"y\": \"read_ratio\", \"yref\": \"y\"}, {\"font\": {\"color\": \"#FFFFFF\"}, \"showarrow\": false, \"text\": \"0.1\", \"x\": \"claps\", \"xref\": \"x\", \"y\": \"read_time\", \"yref\": \"y\"}, {\"font\": {\"color\": \"#FFFFFF\"}, \"showarrow\": false, \"text\": \"-0.04\", \"x\": \"days_since_publication\", \"xref\": \"x\", \"y\": \"read_time\", \"yref\": \"y\"}, {\"font\": {\"color\": \"#FFFFFF\"}, \"showarrow\": false, \"text\": \"0.1\", \"x\": \"fans\", \"xref\": \"x\", \"y\": \"read_time\", \"yref\": \"y\"}, {\"font\": {\"color\": \"#FFFFFF\"}, \"showarrow\": false, \"text\": \"0.01\", \"x\": \"num_responses\", \"xref\": \"x\", \"y\": \"read_time\", \"yref\": \"y\"}, {\"font\": {\"color\": \"#FFFFFF\"}, \"showarrow\": false, \"text\": \"-0.7\", \"x\": \"read_ratio\", \"xref\": \"x\", \"y\": \"read_time\", \"yref\": \"y\"}, {\"font\": {\"color\": \"#000000\"}, \"showarrow\": false, \"text\": \"1.0\", \"x\": \"read_time\", \"xref\": \"x\", \"y\": \"read_time\", \"yref\": \"y\"}, {\"font\": {\"color\": \"#FFFFFF\"}, \"showarrow\": false, \"text\": \"0.08\", \"x\": \"reads\", \"xref\": \"x\", \"y\": \"read_time\", \"yref\": \"y\"}, {\"font\": {\"color\": \"#FFFFFF\"}, \"showarrow\": false, \"text\": \"-0.0\", \"x\": \"title_word_count\", \"xref\": \"x\", \"y\": \"read_time\", \"yref\": \"y\"}, {\"font\": {\"color\": \"#000000\"}, \"showarrow\": false, \"text\": \"0.23\", \"x\": \"views\", \"xref\": \"x\", \"y\": \"read_time\", \"yref\": \"y\"}, {\"font\": {\"color\": \"#000000\"}, \"showarrow\": false, \"text\": \"0.98\", \"x\": \"word_count\", \"xref\": \"x\", \"y\": \"read_time\", \"yref\": \"y\"}, {\"font\": {\"color\": \"#FFFFFF\"}, \"showarrow\": false, \"text\": \"-0.23\", \"x\": \"claps_per_word\", \"xref\": \"x\", \"y\": \"read_time\", \"yref\": \"y\"}, {\"font\": {\"color\": \"#000000\"}, \"showarrow\": false, \"text\": \"0.33\", \"x\": \"editing_days\", \"xref\": \"x\", \"y\": \"read_time\", \"yref\": \"y\"}, {\"font\": {\"color\": \"#000000\"}, \"showarrow\": false, \"text\": \"0.33\", \"x\": \"days_to_publish\", \"xref\": \"x\", \"y\": \"read_time\", \"yref\": \"y\"}, {\"font\": {\"color\": \"#000000\"}, \"showarrow\": false, \"text\": \"0.74\", \"x\": \"claps\", \"xref\": \"x\", \"y\": \"reads\", \"yref\": \"y\"}, {\"font\": {\"color\": \"#000000\"}, \"showarrow\": false, \"text\": \"0.41\", \"x\": \"days_since_publication\", \"xref\": \"x\", \"y\": \"reads\", \"yref\": \"y\"}, {\"font\": {\"color\": \"#000000\"}, \"showarrow\": false, \"text\": \"0.76\", \"x\": \"fans\", \"xref\": \"x\", \"y\": \"reads\", \"yref\": \"y\"}, {\"font\": {\"color\": \"#000000\"}, \"showarrow\": false, \"text\": \"0.7\", \"x\": \"num_responses\", \"xref\": \"x\", \"y\": \"reads\", \"yref\": \"y\"}, {\"font\": {\"color\": \"#FFFFFF\"}, \"showarrow\": false, \"text\": \"-0.09\", \"x\": \"read_ratio\", \"xref\": \"x\", \"y\": \"reads\", \"yref\": \"y\"}, {\"font\": {\"color\": \"#FFFFFF\"}, \"showarrow\": false, \"text\": \"0.08\", \"x\": \"read_time\", \"xref\": \"x\", \"y\": \"reads\", \"yref\": \"y\"}, {\"font\": {\"color\": \"#000000\"}, \"showarrow\": false, \"text\": \"1.0\", \"x\": \"reads\", \"xref\": \"x\", \"y\": \"reads\", \"yref\": \"y\"}, {\"font\": {\"color\": \"#FFFFFF\"}, \"showarrow\": false, \"text\": \"0.0\", \"x\": \"title_word_count\", \"xref\": \"x\", \"y\": \"reads\", \"yref\": \"y\"}, {\"font\": {\"color\": \"#000000\"}, \"showarrow\": false, \"text\": \"0.94\", \"x\": \"views\", \"xref\": \"x\", \"y\": \"reads\", \"yref\": \"y\"}, {\"font\": {\"color\": \"#FFFFFF\"}, \"showarrow\": false, \"text\": \"0.02\", \"x\": \"word_count\", \"xref\": \"x\", \"y\": \"reads\", \"yref\": \"y\"}, {\"font\": {\"color\": \"#000000\"}, \"showarrow\": false, \"text\": \"0.53\", \"x\": \"claps_per_word\", \"xref\": \"x\", \"y\": \"reads\", \"yref\": \"y\"}, {\"font\": {\"color\": \"#FFFFFF\"}, \"showarrow\": false, \"text\": \"-0.1\", \"x\": \"editing_days\", \"xref\": \"x\", \"y\": \"reads\", \"yref\": \"y\"}, {\"font\": {\"color\": \"#FFFFFF\"}, \"showarrow\": false, \"text\": \"-0.1\", \"x\": \"days_to_publish\", \"xref\": \"x\", \"y\": \"reads\", \"yref\": \"y\"}, {\"font\": {\"color\": \"#FFFFFF\"}, \"showarrow\": false, \"text\": \"0.04\", \"x\": \"claps\", \"xref\": \"x\", \"y\": \"title_word_count\", \"yref\": \"y\"}, {\"font\": {\"color\": \"#FFFFFF\"}, \"showarrow\": false, \"text\": \"-0.14\", \"x\": \"days_since_publication\", \"xref\": \"x\", \"y\": \"title_word_count\", \"yref\": \"y\"}, {\"font\": {\"color\": \"#FFFFFF\"}, \"showarrow\": false, \"text\": \"0.05\", \"x\": \"fans\", \"xref\": \"x\", \"y\": \"title_word_count\", \"yref\": \"y\"}, {\"font\": {\"color\": \"#FFFFFF\"}, \"showarrow\": false, \"text\": \"0.0\", \"x\": \"num_responses\", \"xref\": \"x\", \"y\": \"title_word_count\", \"yref\": \"y\"}, {\"font\": {\"color\": \"#FFFFFF\"}, \"showarrow\": false, \"text\": \"-0.02\", \"x\": \"read_ratio\", \"xref\": \"x\", \"y\": \"title_word_count\", \"yref\": \"y\"}, {\"font\": {\"color\": \"#FFFFFF\"}, \"showarrow\": false, \"text\": \"-0.0\", \"x\": \"read_time\", \"xref\": \"x\", \"y\": \"title_word_count\", \"yref\": \"y\"}, {\"font\": {\"color\": \"#FFFFFF\"}, \"showarrow\": false, \"text\": \"0.0\", \"x\": \"reads\", \"xref\": \"x\", \"y\": \"title_word_count\", \"yref\": \"y\"}, {\"font\": {\"color\": \"#000000\"}, \"showarrow\": false, \"text\": \"1.0\", \"x\": \"title_word_count\", \"xref\": \"x\", \"y\": \"title_word_count\", \"yref\": \"y\"}, {\"font\": {\"color\": \"#FFFFFF\"}, \"showarrow\": false, \"text\": \"0.0\", \"x\": \"views\", \"xref\": \"x\", \"y\": \"title_word_count\", \"yref\": \"y\"}, {\"font\": {\"color\": \"#FFFFFF\"}, \"showarrow\": false, \"text\": \"-0.03\", \"x\": \"word_count\", \"xref\": \"x\", \"y\": \"title_word_count\", \"yref\": \"y\"}, {\"font\": {\"color\": \"#FFFFFF\"}, \"showarrow\": false, \"text\": \"0.04\", \"x\": \"claps_per_word\", \"xref\": \"x\", \"y\": \"title_word_count\", \"yref\": \"y\"}, {\"font\": {\"color\": \"#FFFFFF\"}, \"showarrow\": false, \"text\": \"0.1\", \"x\": \"editing_days\", \"xref\": \"x\", \"y\": \"title_word_count\", \"yref\": \"y\"}, {\"font\": {\"color\": \"#FFFFFF\"}, \"showarrow\": false, \"text\": \"0.1\", \"x\": \"days_to_publish\", \"xref\": \"x\", \"y\": \"title_word_count\", \"yref\": \"y\"}, {\"font\": {\"color\": \"#000000\"}, \"showarrow\": false, \"text\": \"0.72\", \"x\": \"claps\", \"xref\": \"x\", \"y\": \"views\", \"yref\": \"y\"}, {\"font\": {\"color\": \"#000000\"}, \"showarrow\": false, \"text\": \"0.36\", \"x\": \"days_since_publication\", \"xref\": \"x\", \"y\": \"views\", \"yref\": \"y\"}, {\"font\": {\"color\": \"#000000\"}, \"showarrow\": false, \"text\": \"0.76\", \"x\": \"fans\", \"xref\": \"x\", \"y\": \"views\", \"yref\": \"y\"}, {\"font\": {\"color\": \"#000000\"}, \"showarrow\": false, \"text\": \"0.63\", \"x\": \"num_responses\", \"xref\": \"x\", \"y\": \"views\", \"yref\": \"y\"}, {\"font\": {\"color\": \"#FFFFFF\"}, \"showarrow\": false, \"text\": \"-0.27\", \"x\": \"read_ratio\", \"xref\": \"x\", \"y\": \"views\", \"yref\": \"y\"}, {\"font\": {\"color\": \"#000000\"}, \"showarrow\": false, \"text\": \"0.23\", \"x\": \"read_time\", \"xref\": \"x\", \"y\": \"views\", \"yref\": \"y\"}, {\"font\": {\"color\": \"#000000\"}, \"showarrow\": false, \"text\": \"0.94\", \"x\": \"reads\", \"xref\": \"x\", \"y\": \"views\", \"yref\": \"y\"}, {\"font\": {\"color\": \"#FFFFFF\"}, \"showarrow\": false, \"text\": \"0.0\", \"x\": \"title_word_count\", \"xref\": \"x\", \"y\": \"views\", \"yref\": \"y\"}, {\"font\": {\"color\": \"#000000\"}, \"showarrow\": false, \"text\": \"1.0\", \"x\": \"views\", \"xref\": \"x\", \"y\": \"views\", \"yref\": \"y\"}, {\"font\": {\"color\": \"#000000\"}, \"showarrow\": false, \"text\": \"0.16\", \"x\": \"word_count\", \"xref\": \"x\", \"y\": \"views\", \"yref\": \"y\"}, {\"font\": {\"color\": \"#000000\"}, \"showarrow\": false, \"text\": \"0.35\", \"x\": \"claps_per_word\", \"xref\": \"x\", \"y\": \"views\", \"yref\": \"y\"}, {\"font\": {\"color\": \"#FFFFFF\"}, \"showarrow\": false, \"text\": \"-0.03\", \"x\": \"editing_days\", \"xref\": \"x\", \"y\": \"views\", \"yref\": \"y\"}, {\"font\": {\"color\": \"#FFFFFF\"}, \"showarrow\": false, \"text\": \"-0.03\", \"x\": \"days_to_publish\", \"xref\": \"x\", \"y\": \"views\", \"yref\": \"y\"}, {\"font\": {\"color\": \"#FFFFFF\"}, \"showarrow\": false, \"text\": \"0.07\", \"x\": \"claps\", \"xref\": \"x\", \"y\": \"word_count\", \"yref\": \"y\"}, {\"font\": {\"color\": \"#FFFFFF\"}, \"showarrow\": false, \"text\": \"-0.05\", \"x\": \"days_since_publication\", \"xref\": \"x\", \"y\": \"word_count\", \"yref\": \"y\"}, {\"font\": {\"color\": \"#FFFFFF\"}, \"showarrow\": false, \"text\": \"0.07\", \"x\": \"fans\", \"xref\": \"x\", \"y\": \"word_count\", \"yref\": \"y\"}, {\"font\": {\"color\": \"#FFFFFF\"}, \"showarrow\": false, \"text\": \"-0.01\", \"x\": \"num_responses\", \"xref\": \"x\", \"y\": \"word_count\", \"yref\": \"y\"}, {\"font\": {\"color\": \"#FFFFFF\"}, \"showarrow\": false, \"text\": \"-0.65\", \"x\": \"read_ratio\", \"xref\": \"x\", \"y\": \"word_count\", \"yref\": \"y\"}, {\"font\": {\"color\": \"#000000\"}, \"showarrow\": false, \"text\": \"0.98\", \"x\": \"read_time\", \"xref\": \"x\", \"y\": \"word_count\", \"yref\": \"y\"}, {\"font\": {\"color\": \"#FFFFFF\"}, \"showarrow\": false, \"text\": \"0.02\", \"x\": \"reads\", \"xref\": \"x\", \"y\": \"word_count\", \"yref\": \"y\"}, {\"font\": {\"color\": \"#FFFFFF\"}, \"showarrow\": false, \"text\": \"-0.03\", \"x\": \"title_word_count\", \"xref\": \"x\", \"y\": \"word_count\", \"yref\": \"y\"}, {\"font\": {\"color\": \"#000000\"}, \"showarrow\": false, \"text\": \"0.16\", \"x\": \"views\", \"xref\": \"x\", \"y\": \"word_count\", \"yref\": \"y\"}, {\"font\": {\"color\": \"#000000\"}, \"showarrow\": false, \"text\": \"1.0\", \"x\": \"word_count\", \"xref\": \"x\", \"y\": \"word_count\", \"yref\": \"y\"}, {\"font\": {\"color\": \"#FFFFFF\"}, \"showarrow\": false, \"text\": \"-0.24\", \"x\": \"claps_per_word\", \"xref\": \"x\", \"y\": \"word_count\", \"yref\": \"y\"}, {\"font\": {\"color\": \"#000000\"}, \"showarrow\": false, \"text\": \"0.34\", \"x\": \"editing_days\", \"xref\": \"x\", \"y\": \"word_count\", \"yref\": \"y\"}, {\"font\": {\"color\": \"#000000\"}, \"showarrow\": false, \"text\": \"0.34\", \"x\": \"days_to_publish\", \"xref\": \"x\", \"y\": \"word_count\", \"yref\": \"y\"}, {\"font\": {\"color\": \"#000000\"}, \"showarrow\": false, \"text\": \"0.75\", \"x\": \"claps\", \"xref\": \"x\", \"y\": \"claps_per_word\", \"yref\": \"y\"}, {\"font\": {\"color\": \"#000000\"}, \"showarrow\": false, \"text\": \"0.17\", \"x\": \"days_since_publication\", \"xref\": \"x\", \"y\": \"claps_per_word\", \"yref\": \"y\"}, {\"font\": {\"color\": \"#000000\"}, \"showarrow\": false, \"text\": \"0.71\", \"x\": \"fans\", \"xref\": \"x\", \"y\": \"claps_per_word\", \"yref\": \"y\"}, {\"font\": {\"color\": \"#000000\"}, \"showarrow\": false, \"text\": \"0.8\", \"x\": \"num_responses\", \"xref\": \"x\", \"y\": \"claps_per_word\", \"yref\": \"y\"}, {\"font\": {\"color\": \"#000000\"}, \"showarrow\": false, \"text\": \"0.28\", \"x\": \"read_ratio\", \"xref\": \"x\", \"y\": \"claps_per_word\", \"yref\": \"y\"}, {\"font\": {\"color\": \"#FFFFFF\"}, \"showarrow\": false, \"text\": \"-0.23\", \"x\": \"read_time\", \"xref\": \"x\", \"y\": \"claps_per_word\", \"yref\": \"y\"}, {\"font\": {\"color\": \"#000000\"}, \"showarrow\": false, \"text\": \"0.53\", \"x\": \"reads\", \"xref\": \"x\", \"y\": \"claps_per_word\", \"yref\": \"y\"}, {\"font\": {\"color\": \"#FFFFFF\"}, \"showarrow\": false, \"text\": \"0.04\", \"x\": \"title_word_count\", \"xref\": \"x\", \"y\": \"claps_per_word\", \"yref\": \"y\"}, {\"font\": {\"color\": \"#000000\"}, \"showarrow\": false, \"text\": \"0.35\", \"x\": \"views\", \"xref\": \"x\", \"y\": \"claps_per_word\", \"yref\": \"y\"}, {\"font\": {\"color\": \"#FFFFFF\"}, \"showarrow\": false, \"text\": \"-0.24\", \"x\": \"word_count\", \"xref\": \"x\", \"y\": \"claps_per_word\", \"yref\": \"y\"}, {\"font\": {\"color\": \"#000000\"}, \"showarrow\": false, \"text\": \"1.0\", \"x\": \"claps_per_word\", \"xref\": \"x\", \"y\": \"claps_per_word\", \"yref\": \"y\"}, {\"font\": {\"color\": \"#FFFFFF\"}, \"showarrow\": false, \"text\": \"-0.08\", \"x\": \"editing_days\", \"xref\": \"x\", \"y\": \"claps_per_word\", \"yref\": \"y\"}, {\"font\": {\"color\": \"#FFFFFF\"}, \"showarrow\": false, \"text\": \"-0.08\", \"x\": \"days_to_publish\", \"xref\": \"x\", \"y\": \"claps_per_word\", \"yref\": \"y\"}, {\"font\": {\"color\": \"#FFFFFF\"}, \"showarrow\": false, \"text\": \"0.02\", \"x\": \"claps\", \"xref\": \"x\", \"y\": \"editing_days\", \"yref\": \"y\"}, {\"font\": {\"color\": \"#FFFFFF\"}, \"showarrow\": false, \"text\": \"-0.15\", \"x\": \"days_since_publication\", \"xref\": \"x\", \"y\": \"editing_days\", \"yref\": \"y\"}, {\"font\": {\"color\": \"#FFFFFF\"}, \"showarrow\": false, \"text\": \"0.04\", \"x\": \"fans\", \"xref\": \"x\", \"y\": \"editing_days\", \"yref\": \"y\"}, {\"font\": {\"color\": \"#FFFFFF\"}, \"showarrow\": false, \"text\": \"-0.04\", \"x\": \"num_responses\", \"xref\": \"x\", \"y\": \"editing_days\", \"yref\": \"y\"}, {\"font\": {\"color\": \"#FFFFFF\"}, \"showarrow\": false, \"text\": \"-0.3\", \"x\": \"read_ratio\", \"xref\": \"x\", \"y\": \"editing_days\", \"yref\": \"y\"}, {\"font\": {\"color\": \"#000000\"}, \"showarrow\": false, \"text\": \"0.33\", \"x\": \"read_time\", \"xref\": \"x\", \"y\": \"editing_days\", \"yref\": \"y\"}, {\"font\": {\"color\": \"#FFFFFF\"}, \"showarrow\": false, \"text\": \"-0.1\", \"x\": \"reads\", \"xref\": \"x\", \"y\": \"editing_days\", \"yref\": \"y\"}, {\"font\": {\"color\": \"#FFFFFF\"}, \"showarrow\": false, \"text\": \"0.1\", \"x\": \"title_word_count\", \"xref\": \"x\", \"y\": \"editing_days\", \"yref\": \"y\"}, {\"font\": {\"color\": \"#FFFFFF\"}, \"showarrow\": false, \"text\": \"-0.03\", \"x\": \"views\", \"xref\": \"x\", \"y\": \"editing_days\", \"yref\": \"y\"}, {\"font\": {\"color\": \"#000000\"}, \"showarrow\": false, \"text\": \"0.34\", \"x\": \"word_count\", \"xref\": \"x\", \"y\": \"editing_days\", \"yref\": \"y\"}, {\"font\": {\"color\": \"#FFFFFF\"}, \"showarrow\": false, \"text\": \"-0.08\", \"x\": \"claps_per_word\", \"xref\": \"x\", \"y\": \"editing_days\", \"yref\": \"y\"}, {\"font\": {\"color\": \"#000000\"}, \"showarrow\": false, \"text\": \"1.0\", \"x\": \"editing_days\", \"xref\": \"x\", \"y\": \"editing_days\", \"yref\": \"y\"}, {\"font\": {\"color\": \"#000000\"}, \"showarrow\": false, \"text\": \"1.0\", \"x\": \"days_to_publish\", \"xref\": \"x\", \"y\": \"editing_days\", \"yref\": \"y\"}, {\"font\": {\"color\": \"#FFFFFF\"}, \"showarrow\": false, \"text\": \"0.02\", \"x\": \"claps\", \"xref\": \"x\", \"y\": \"days_to_publish\", \"yref\": \"y\"}, {\"font\": {\"color\": \"#FFFFFF\"}, \"showarrow\": false, \"text\": \"-0.15\", \"x\": \"days_since_publication\", \"xref\": \"x\", \"y\": \"days_to_publish\", \"yref\": \"y\"}, {\"font\": {\"color\": \"#FFFFFF\"}, \"showarrow\": false, \"text\": \"0.04\", \"x\": \"fans\", \"xref\": \"x\", \"y\": \"days_to_publish\", \"yref\": \"y\"}, {\"font\": {\"color\": \"#FFFFFF\"}, \"showarrow\": false, \"text\": \"-0.04\", \"x\": \"num_responses\", \"xref\": \"x\", \"y\": \"days_to_publish\", \"yref\": \"y\"}, {\"font\": {\"color\": \"#FFFFFF\"}, \"showarrow\": false, \"text\": \"-0.3\", \"x\": \"read_ratio\", \"xref\": \"x\", \"y\": \"days_to_publish\", \"yref\": \"y\"}, {\"font\": {\"color\": \"#000000\"}, \"showarrow\": false, \"text\": \"0.33\", \"x\": \"read_time\", \"xref\": \"x\", \"y\": \"days_to_publish\", \"yref\": \"y\"}, {\"font\": {\"color\": \"#FFFFFF\"}, \"showarrow\": false, \"text\": \"-0.1\", \"x\": \"reads\", \"xref\": \"x\", \"y\": \"days_to_publish\", \"yref\": \"y\"}, {\"font\": {\"color\": \"#FFFFFF\"}, \"showarrow\": false, \"text\": \"0.1\", \"x\": \"title_word_count\", \"xref\": \"x\", \"y\": \"days_to_publish\", \"yref\": \"y\"}, {\"font\": {\"color\": \"#FFFFFF\"}, \"showarrow\": false, \"text\": \"-0.03\", \"x\": \"views\", \"xref\": \"x\", \"y\": \"days_to_publish\", \"yref\": \"y\"}, {\"font\": {\"color\": \"#000000\"}, \"showarrow\": false, \"text\": \"0.34\", \"x\": \"word_count\", \"xref\": \"x\", \"y\": \"days_to_publish\", \"yref\": \"y\"}, {\"font\": {\"color\": \"#FFFFFF\"}, \"showarrow\": false, \"text\": \"-0.08\", \"x\": \"claps_per_word\", \"xref\": \"x\", \"y\": \"days_to_publish\", \"yref\": \"y\"}, {\"font\": {\"color\": \"#000000\"}, \"showarrow\": false, \"text\": \"1.0\", \"x\": \"editing_days\", \"xref\": \"x\", \"y\": \"days_to_publish\", \"yref\": \"y\"}, {\"font\": {\"color\": \"#000000\"}, \"showarrow\": false, \"text\": \"1.0\", \"x\": \"days_to_publish\", \"xref\": \"x\", \"y\": \"days_to_publish\", \"yref\": \"y\"}], \"xaxis\": {\"dtick\": 1, \"gridcolor\": \"rgb(0, 0, 0)\", \"side\": \"top\", \"ticks\": \"\"}, \"yaxis\": {\"dtick\": 1, \"ticks\": \"\", \"ticksuffix\": \"  \"}}, {\"showLink\": false, \"linkText\": \"Export to plot.ly\", \"plotlyServerURL\": \"https://plot.ly\"})});</script><script type=\"text/javascript\">window.addEventListener(\"resize\", function(){window._Plotly.Plots.resize(document.getElementById(\"1a2049b0-7c85-42c4-b6a7-d2086a458400\"));});</script>"
      ],
      "text/vnd.plotly.v1+html": [
       "<div id=\"1a2049b0-7c85-42c4-b6a7-d2086a458400\" style=\"height: 525px; width: 100%;\" class=\"plotly-graph-div\"></div><script type=\"text/javascript\">require([\"plotly\"], function(Plotly) { window.PLOTLYENV=window.PLOTLYENV || {};window.PLOTLYENV.BASE_URL=\"https://plot.ly\";Plotly.newPlot(\"1a2049b0-7c85-42c4-b6a7-d2086a458400\", [{\"colorscale\": \"Viridis\", \"reversescale\": false, \"showscale\": false, \"x\": [\"claps\", \"days_since_publication\", \"fans\", \"num_responses\", \"read_ratio\", \"read_time\", \"reads\", \"title_word_count\", \"views\", \"word_count\", \"claps_per_word\", \"editing_days\", \"days_to_publish\"], \"y\": [\"claps\", \"days_since_publication\", \"fans\", \"num_responses\", \"read_ratio\", \"read_time\", \"reads\", \"title_word_count\", \"views\", \"word_count\", \"claps_per_word\", \"editing_days\", \"days_to_publish\"], \"z\": [[1.0, 0.22, 0.99, 0.88, -0.13, 0.1, 0.74, 0.04, 0.72, 0.07, 0.75, 0.02, 0.02], [0.22, 1.0, 0.21, 0.25, 0.29, -0.04, 0.41, -0.14, 0.36, -0.05, 0.17, -0.15, -0.15], [0.99, 0.21, 1.0, 0.85, -0.15, 0.1, 0.76, 0.05, 0.76, 0.07, 0.71, 0.04, 0.04], [0.88, 0.25, 0.85, 1.0, 0.0, 0.01, 0.7, 0.0, 0.63, -0.01, 0.8, -0.04, -0.04], [-0.13, 0.29, -0.15, 0.0, 1.0, -0.7, -0.09, -0.02, -0.27, -0.65, 0.28, -0.3, -0.3], [0.1, -0.04, 0.1, 0.01, -0.7, 1.0, 0.08, -0.0, 0.23, 0.98, -0.23, 0.33, 0.33], [0.74, 0.41, 0.76, 0.7, -0.09, 0.08, 1.0, 0.0, 0.94, 0.02, 0.53, -0.1, -0.1], [0.04, -0.14, 0.05, 0.0, -0.02, -0.0, 0.0, 1.0, 0.0, -0.03, 0.04, 0.1, 0.1], [0.72, 0.36, 0.76, 0.63, -0.27, 0.23, 0.94, 0.0, 1.0, 0.16, 0.35, -0.03, -0.03], [0.07, -0.05, 0.07, -0.01, -0.65, 0.98, 0.02, -0.03, 0.16, 1.0, -0.24, 0.34, 0.34], [0.75, 0.17, 0.71, 0.8, 0.28, -0.23, 0.53, 0.04, 0.35, -0.24, 1.0, -0.08, -0.08], [0.02, -0.15, 0.04, -0.04, -0.3, 0.33, -0.1, 0.1, -0.03, 0.34, -0.08, 1.0, 1.0], [0.02, -0.15, 0.04, -0.04, -0.3, 0.33, -0.1, 0.1, -0.03, 0.34, -0.08, 1.0, 1.0]], \"type\": \"heatmap\", \"uid\": \"7fba695b-9353-4bfd-ad73-a5e1bc125e81\"}], {\"annotations\": [{\"font\": {\"color\": \"#000000\"}, \"showarrow\": false, \"text\": \"1.0\", \"x\": \"claps\", \"xref\": \"x\", \"y\": \"claps\", \"yref\": \"y\"}, {\"font\": {\"color\": \"#000000\"}, \"showarrow\": false, \"text\": \"0.22\", \"x\": \"days_since_publication\", \"xref\": \"x\", \"y\": \"claps\", \"yref\": \"y\"}, {\"font\": {\"color\": \"#000000\"}, \"showarrow\": false, \"text\": \"0.99\", \"x\": \"fans\", \"xref\": \"x\", \"y\": \"claps\", \"yref\": \"y\"}, {\"font\": {\"color\": \"#000000\"}, \"showarrow\": false, \"text\": \"0.88\", \"x\": \"num_responses\", \"xref\": \"x\", \"y\": \"claps\", \"yref\": \"y\"}, {\"font\": {\"color\": \"#FFFFFF\"}, \"showarrow\": false, \"text\": \"-0.13\", \"x\": \"read_ratio\", \"xref\": \"x\", \"y\": \"claps\", \"yref\": \"y\"}, {\"font\": {\"color\": \"#FFFFFF\"}, \"showarrow\": false, \"text\": \"0.1\", \"x\": \"read_time\", \"xref\": \"x\", \"y\": \"claps\", \"yref\": \"y\"}, {\"font\": {\"color\": \"#000000\"}, \"showarrow\": false, \"text\": \"0.74\", \"x\": \"reads\", \"xref\": \"x\", \"y\": \"claps\", \"yref\": \"y\"}, {\"font\": {\"color\": \"#FFFFFF\"}, \"showarrow\": false, \"text\": \"0.04\", \"x\": \"title_word_count\", \"xref\": \"x\", \"y\": \"claps\", \"yref\": \"y\"}, {\"font\": {\"color\": \"#000000\"}, \"showarrow\": false, \"text\": \"0.72\", \"x\": \"views\", \"xref\": \"x\", \"y\": \"claps\", \"yref\": \"y\"}, {\"font\": {\"color\": \"#FFFFFF\"}, \"showarrow\": false, \"text\": \"0.07\", \"x\": \"word_count\", \"xref\": \"x\", \"y\": \"claps\", \"yref\": \"y\"}, {\"font\": {\"color\": \"#000000\"}, \"showarrow\": false, \"text\": \"0.75\", \"x\": \"claps_per_word\", \"xref\": \"x\", \"y\": \"claps\", \"yref\": \"y\"}, {\"font\": {\"color\": \"#FFFFFF\"}, \"showarrow\": false, \"text\": \"0.02\", \"x\": \"editing_days\", \"xref\": \"x\", \"y\": \"claps\", \"yref\": \"y\"}, {\"font\": {\"color\": \"#FFFFFF\"}, \"showarrow\": false, \"text\": \"0.02\", \"x\": \"days_to_publish\", \"xref\": \"x\", \"y\": \"claps\", \"yref\": \"y\"}, {\"font\": {\"color\": \"#000000\"}, \"showarrow\": false, \"text\": \"0.22\", \"x\": \"claps\", \"xref\": \"x\", \"y\": \"days_since_publication\", \"yref\": \"y\"}, {\"font\": {\"color\": \"#000000\"}, \"showarrow\": false, \"text\": \"1.0\", \"x\": \"days_since_publication\", \"xref\": \"x\", \"y\": \"days_since_publication\", \"yref\": \"y\"}, {\"font\": {\"color\": \"#000000\"}, \"showarrow\": false, \"text\": \"0.21\", \"x\": \"fans\", \"xref\": \"x\", \"y\": \"days_since_publication\", \"yref\": \"y\"}, {\"font\": {\"color\": \"#000000\"}, \"showarrow\": false, \"text\": \"0.25\", \"x\": \"num_responses\", \"xref\": \"x\", \"y\": \"days_since_publication\", \"yref\": \"y\"}, {\"font\": {\"color\": \"#000000\"}, \"showarrow\": false, \"text\": \"0.29\", \"x\": \"read_ratio\", \"xref\": \"x\", \"y\": \"days_since_publication\", \"yref\": \"y\"}, {\"font\": {\"color\": \"#FFFFFF\"}, \"showarrow\": false, \"text\": \"-0.04\", \"x\": \"read_time\", \"xref\": \"x\", \"y\": \"days_since_publication\", \"yref\": \"y\"}, {\"font\": {\"color\": \"#000000\"}, \"showarrow\": false, \"text\": \"0.41\", \"x\": \"reads\", \"xref\": \"x\", \"y\": \"days_since_publication\", \"yref\": \"y\"}, {\"font\": {\"color\": \"#FFFFFF\"}, \"showarrow\": false, \"text\": \"-0.14\", \"x\": \"title_word_count\", \"xref\": \"x\", \"y\": \"days_since_publication\", \"yref\": \"y\"}, {\"font\": {\"color\": \"#000000\"}, \"showarrow\": false, \"text\": \"0.36\", \"x\": \"views\", \"xref\": \"x\", \"y\": \"days_since_publication\", \"yref\": \"y\"}, {\"font\": {\"color\": \"#FFFFFF\"}, \"showarrow\": false, \"text\": \"-0.05\", \"x\": \"word_count\", \"xref\": \"x\", \"y\": \"days_since_publication\", \"yref\": \"y\"}, {\"font\": {\"color\": \"#000000\"}, \"showarrow\": false, \"text\": \"0.17\", \"x\": \"claps_per_word\", \"xref\": \"x\", \"y\": \"days_since_publication\", \"yref\": \"y\"}, {\"font\": {\"color\": \"#FFFFFF\"}, \"showarrow\": false, \"text\": \"-0.15\", \"x\": \"editing_days\", \"xref\": \"x\", \"y\": \"days_since_publication\", \"yref\": \"y\"}, {\"font\": {\"color\": \"#FFFFFF\"}, \"showarrow\": false, \"text\": \"-0.15\", \"x\": \"days_to_publish\", \"xref\": \"x\", \"y\": \"days_since_publication\", \"yref\": \"y\"}, {\"font\": {\"color\": \"#000000\"}, \"showarrow\": false, \"text\": \"0.99\", \"x\": \"claps\", \"xref\": \"x\", \"y\": \"fans\", \"yref\": \"y\"}, {\"font\": {\"color\": \"#000000\"}, \"showarrow\": false, \"text\": \"0.21\", \"x\": \"days_since_publication\", \"xref\": \"x\", \"y\": \"fans\", \"yref\": \"y\"}, {\"font\": {\"color\": \"#000000\"}, \"showarrow\": false, \"text\": \"1.0\", \"x\": \"fans\", \"xref\": \"x\", \"y\": \"fans\", \"yref\": \"y\"}, {\"font\": {\"color\": \"#000000\"}, \"showarrow\": false, \"text\": \"0.85\", \"x\": \"num_responses\", \"xref\": \"x\", \"y\": \"fans\", \"yref\": \"y\"}, {\"font\": {\"color\": \"#FFFFFF\"}, \"showarrow\": false, \"text\": \"-0.15\", \"x\": \"read_ratio\", \"xref\": \"x\", \"y\": \"fans\", \"yref\": \"y\"}, {\"font\": {\"color\": \"#FFFFFF\"}, \"showarrow\": false, \"text\": \"0.1\", \"x\": \"read_time\", \"xref\": \"x\", \"y\": \"fans\", \"yref\": \"y\"}, {\"font\": {\"color\": \"#000000\"}, \"showarrow\": false, \"text\": \"0.76\", \"x\": \"reads\", \"xref\": \"x\", \"y\": \"fans\", \"yref\": \"y\"}, {\"font\": {\"color\": \"#FFFFFF\"}, \"showarrow\": false, \"text\": \"0.05\", \"x\": \"title_word_count\", \"xref\": \"x\", \"y\": \"fans\", \"yref\": \"y\"}, {\"font\": {\"color\": \"#000000\"}, \"showarrow\": false, \"text\": \"0.76\", \"x\": \"views\", \"xref\": \"x\", \"y\": \"fans\", \"yref\": \"y\"}, {\"font\": {\"color\": \"#FFFFFF\"}, \"showarrow\": false, \"text\": \"0.07\", \"x\": \"word_count\", \"xref\": \"x\", \"y\": \"fans\", \"yref\": \"y\"}, {\"font\": {\"color\": \"#000000\"}, \"showarrow\": false, \"text\": \"0.71\", \"x\": \"claps_per_word\", \"xref\": \"x\", \"y\": \"fans\", \"yref\": \"y\"}, {\"font\": {\"color\": \"#FFFFFF\"}, \"showarrow\": false, \"text\": \"0.04\", \"x\": \"editing_days\", \"xref\": \"x\", \"y\": \"fans\", \"yref\": \"y\"}, {\"font\": {\"color\": \"#FFFFFF\"}, \"showarrow\": false, \"text\": \"0.04\", \"x\": \"days_to_publish\", \"xref\": \"x\", \"y\": \"fans\", \"yref\": \"y\"}, {\"font\": {\"color\": \"#000000\"}, \"showarrow\": false, \"text\": \"0.88\", \"x\": \"claps\", \"xref\": \"x\", \"y\": \"num_responses\", \"yref\": \"y\"}, {\"font\": {\"color\": \"#000000\"}, \"showarrow\": false, \"text\": \"0.25\", \"x\": \"days_since_publication\", \"xref\": \"x\", \"y\": \"num_responses\", \"yref\": \"y\"}, {\"font\": {\"color\": \"#000000\"}, \"showarrow\": false, \"text\": \"0.85\", \"x\": \"fans\", \"xref\": \"x\", \"y\": \"num_responses\", \"yref\": \"y\"}, {\"font\": {\"color\": \"#000000\"}, \"showarrow\": false, \"text\": \"1.0\", \"x\": \"num_responses\", \"xref\": \"x\", \"y\": \"num_responses\", \"yref\": \"y\"}, {\"font\": {\"color\": \"#FFFFFF\"}, \"showarrow\": false, \"text\": \"0.0\", \"x\": \"read_ratio\", \"xref\": \"x\", \"y\": \"num_responses\", \"yref\": \"y\"}, {\"font\": {\"color\": \"#FFFFFF\"}, \"showarrow\": false, \"text\": \"0.01\", \"x\": \"read_time\", \"xref\": \"x\", \"y\": \"num_responses\", \"yref\": \"y\"}, {\"font\": {\"color\": \"#000000\"}, \"showarrow\": false, \"text\": \"0.7\", \"x\": \"reads\", \"xref\": \"x\", \"y\": \"num_responses\", \"yref\": \"y\"}, {\"font\": {\"color\": \"#FFFFFF\"}, \"showarrow\": false, \"text\": \"0.0\", \"x\": \"title_word_count\", \"xref\": \"x\", \"y\": \"num_responses\", \"yref\": \"y\"}, {\"font\": {\"color\": \"#000000\"}, \"showarrow\": false, \"text\": \"0.63\", \"x\": \"views\", \"xref\": \"x\", \"y\": \"num_responses\", \"yref\": \"y\"}, {\"font\": {\"color\": \"#FFFFFF\"}, \"showarrow\": false, \"text\": \"-0.01\", \"x\": \"word_count\", \"xref\": \"x\", \"y\": \"num_responses\", \"yref\": \"y\"}, {\"font\": {\"color\": \"#000000\"}, \"showarrow\": false, \"text\": \"0.8\", \"x\": \"claps_per_word\", \"xref\": \"x\", \"y\": \"num_responses\", \"yref\": \"y\"}, {\"font\": {\"color\": \"#FFFFFF\"}, \"showarrow\": false, \"text\": \"-0.04\", \"x\": \"editing_days\", \"xref\": \"x\", \"y\": \"num_responses\", \"yref\": \"y\"}, {\"font\": {\"color\": \"#FFFFFF\"}, \"showarrow\": false, \"text\": \"-0.04\", \"x\": \"days_to_publish\", \"xref\": \"x\", \"y\": \"num_responses\", \"yref\": \"y\"}, {\"font\": {\"color\": \"#FFFFFF\"}, \"showarrow\": false, \"text\": \"-0.13\", \"x\": \"claps\", \"xref\": \"x\", \"y\": \"read_ratio\", \"yref\": \"y\"}, {\"font\": {\"color\": \"#000000\"}, \"showarrow\": false, \"text\": \"0.29\", \"x\": \"days_since_publication\", \"xref\": \"x\", \"y\": \"read_ratio\", \"yref\": \"y\"}, {\"font\": {\"color\": \"#FFFFFF\"}, \"showarrow\": false, \"text\": \"-0.15\", \"x\": \"fans\", \"xref\": \"x\", \"y\": \"read_ratio\", \"yref\": \"y\"}, {\"font\": {\"color\": \"#FFFFFF\"}, \"showarrow\": false, \"text\": \"0.0\", \"x\": \"num_responses\", \"xref\": \"x\", \"y\": \"read_ratio\", \"yref\": \"y\"}, {\"font\": {\"color\": \"#000000\"}, \"showarrow\": false, \"text\": \"1.0\", \"x\": \"read_ratio\", \"xref\": \"x\", \"y\": \"read_ratio\", \"yref\": \"y\"}, {\"font\": {\"color\": \"#FFFFFF\"}, \"showarrow\": false, \"text\": \"-0.7\", \"x\": \"read_time\", \"xref\": \"x\", \"y\": \"read_ratio\", \"yref\": \"y\"}, {\"font\": {\"color\": \"#FFFFFF\"}, \"showarrow\": false, \"text\": \"-0.09\", \"x\": \"reads\", \"xref\": \"x\", \"y\": \"read_ratio\", \"yref\": \"y\"}, {\"font\": {\"color\": \"#FFFFFF\"}, \"showarrow\": false, \"text\": \"-0.02\", \"x\": \"title_word_count\", \"xref\": \"x\", \"y\": \"read_ratio\", \"yref\": \"y\"}, {\"font\": {\"color\": \"#FFFFFF\"}, \"showarrow\": false, \"text\": \"-0.27\", \"x\": \"views\", \"xref\": \"x\", \"y\": \"read_ratio\", \"yref\": \"y\"}, {\"font\": {\"color\": \"#FFFFFF\"}, \"showarrow\": false, \"text\": \"-0.65\", \"x\": \"word_count\", \"xref\": \"x\", \"y\": \"read_ratio\", \"yref\": \"y\"}, {\"font\": {\"color\": \"#000000\"}, \"showarrow\": false, \"text\": \"0.28\", \"x\": \"claps_per_word\", \"xref\": \"x\", \"y\": \"read_ratio\", \"yref\": \"y\"}, {\"font\": {\"color\": \"#FFFFFF\"}, \"showarrow\": false, \"text\": \"-0.3\", \"x\": \"editing_days\", \"xref\": \"x\", \"y\": \"read_ratio\", \"yref\": \"y\"}, {\"font\": {\"color\": \"#FFFFFF\"}, \"showarrow\": false, \"text\": \"-0.3\", \"x\": \"days_to_publish\", \"xref\": \"x\", \"y\": \"read_ratio\", \"yref\": \"y\"}, {\"font\": {\"color\": \"#FFFFFF\"}, \"showarrow\": false, \"text\": \"0.1\", \"x\": \"claps\", \"xref\": \"x\", \"y\": \"read_time\", \"yref\": \"y\"}, {\"font\": {\"color\": \"#FFFFFF\"}, \"showarrow\": false, \"text\": \"-0.04\", \"x\": \"days_since_publication\", \"xref\": \"x\", \"y\": \"read_time\", \"yref\": \"y\"}, {\"font\": {\"color\": \"#FFFFFF\"}, \"showarrow\": false, \"text\": \"0.1\", \"x\": \"fans\", \"xref\": \"x\", \"y\": \"read_time\", \"yref\": \"y\"}, {\"font\": {\"color\": \"#FFFFFF\"}, \"showarrow\": false, \"text\": \"0.01\", \"x\": \"num_responses\", \"xref\": \"x\", \"y\": \"read_time\", \"yref\": \"y\"}, {\"font\": {\"color\": \"#FFFFFF\"}, \"showarrow\": false, \"text\": \"-0.7\", \"x\": \"read_ratio\", \"xref\": \"x\", \"y\": \"read_time\", \"yref\": \"y\"}, {\"font\": {\"color\": \"#000000\"}, \"showarrow\": false, \"text\": \"1.0\", \"x\": \"read_time\", \"xref\": \"x\", \"y\": \"read_time\", \"yref\": \"y\"}, {\"font\": {\"color\": \"#FFFFFF\"}, \"showarrow\": false, \"text\": \"0.08\", \"x\": \"reads\", \"xref\": \"x\", \"y\": \"read_time\", \"yref\": \"y\"}, {\"font\": {\"color\": \"#FFFFFF\"}, \"showarrow\": false, \"text\": \"-0.0\", \"x\": \"title_word_count\", \"xref\": \"x\", \"y\": \"read_time\", \"yref\": \"y\"}, {\"font\": {\"color\": \"#000000\"}, \"showarrow\": false, \"text\": \"0.23\", \"x\": \"views\", \"xref\": \"x\", \"y\": \"read_time\", \"yref\": \"y\"}, {\"font\": {\"color\": \"#000000\"}, \"showarrow\": false, \"text\": \"0.98\", \"x\": \"word_count\", \"xref\": \"x\", \"y\": \"read_time\", \"yref\": \"y\"}, {\"font\": {\"color\": \"#FFFFFF\"}, \"showarrow\": false, \"text\": \"-0.23\", \"x\": \"claps_per_word\", \"xref\": \"x\", \"y\": \"read_time\", \"yref\": \"y\"}, {\"font\": {\"color\": \"#000000\"}, \"showarrow\": false, \"text\": \"0.33\", \"x\": \"editing_days\", \"xref\": \"x\", \"y\": \"read_time\", \"yref\": \"y\"}, {\"font\": {\"color\": \"#000000\"}, \"showarrow\": false, \"text\": \"0.33\", \"x\": \"days_to_publish\", \"xref\": \"x\", \"y\": \"read_time\", \"yref\": \"y\"}, {\"font\": {\"color\": \"#000000\"}, \"showarrow\": false, \"text\": \"0.74\", \"x\": \"claps\", \"xref\": \"x\", \"y\": \"reads\", \"yref\": \"y\"}, {\"font\": {\"color\": \"#000000\"}, \"showarrow\": false, \"text\": \"0.41\", \"x\": \"days_since_publication\", \"xref\": \"x\", \"y\": \"reads\", \"yref\": \"y\"}, {\"font\": {\"color\": \"#000000\"}, \"showarrow\": false, \"text\": \"0.76\", \"x\": \"fans\", \"xref\": \"x\", \"y\": \"reads\", \"yref\": \"y\"}, {\"font\": {\"color\": \"#000000\"}, \"showarrow\": false, \"text\": \"0.7\", \"x\": \"num_responses\", \"xref\": \"x\", \"y\": \"reads\", \"yref\": \"y\"}, {\"font\": {\"color\": \"#FFFFFF\"}, \"showarrow\": false, \"text\": \"-0.09\", \"x\": \"read_ratio\", \"xref\": \"x\", \"y\": \"reads\", \"yref\": \"y\"}, {\"font\": {\"color\": \"#FFFFFF\"}, \"showarrow\": false, \"text\": \"0.08\", \"x\": \"read_time\", \"xref\": \"x\", \"y\": \"reads\", \"yref\": \"y\"}, {\"font\": {\"color\": \"#000000\"}, \"showarrow\": false, \"text\": \"1.0\", \"x\": \"reads\", \"xref\": \"x\", \"y\": \"reads\", \"yref\": \"y\"}, {\"font\": {\"color\": \"#FFFFFF\"}, \"showarrow\": false, \"text\": \"0.0\", \"x\": \"title_word_count\", \"xref\": \"x\", \"y\": \"reads\", \"yref\": \"y\"}, {\"font\": {\"color\": \"#000000\"}, \"showarrow\": false, \"text\": \"0.94\", \"x\": \"views\", \"xref\": \"x\", \"y\": \"reads\", \"yref\": \"y\"}, {\"font\": {\"color\": \"#FFFFFF\"}, \"showarrow\": false, \"text\": \"0.02\", \"x\": \"word_count\", \"xref\": \"x\", \"y\": \"reads\", \"yref\": \"y\"}, {\"font\": {\"color\": \"#000000\"}, \"showarrow\": false, \"text\": \"0.53\", \"x\": \"claps_per_word\", \"xref\": \"x\", \"y\": \"reads\", \"yref\": \"y\"}, {\"font\": {\"color\": \"#FFFFFF\"}, \"showarrow\": false, \"text\": \"-0.1\", \"x\": \"editing_days\", \"xref\": \"x\", \"y\": \"reads\", \"yref\": \"y\"}, {\"font\": {\"color\": \"#FFFFFF\"}, \"showarrow\": false, \"text\": \"-0.1\", \"x\": \"days_to_publish\", \"xref\": \"x\", \"y\": \"reads\", \"yref\": \"y\"}, {\"font\": {\"color\": \"#FFFFFF\"}, \"showarrow\": false, \"text\": \"0.04\", \"x\": \"claps\", \"xref\": \"x\", \"y\": \"title_word_count\", \"yref\": \"y\"}, {\"font\": {\"color\": \"#FFFFFF\"}, \"showarrow\": false, \"text\": \"-0.14\", \"x\": \"days_since_publication\", \"xref\": \"x\", \"y\": \"title_word_count\", \"yref\": \"y\"}, {\"font\": {\"color\": \"#FFFFFF\"}, \"showarrow\": false, \"text\": \"0.05\", \"x\": \"fans\", \"xref\": \"x\", \"y\": \"title_word_count\", \"yref\": \"y\"}, {\"font\": {\"color\": \"#FFFFFF\"}, \"showarrow\": false, \"text\": \"0.0\", \"x\": \"num_responses\", \"xref\": \"x\", \"y\": \"title_word_count\", \"yref\": \"y\"}, {\"font\": {\"color\": \"#FFFFFF\"}, \"showarrow\": false, \"text\": \"-0.02\", \"x\": \"read_ratio\", \"xref\": \"x\", \"y\": \"title_word_count\", \"yref\": \"y\"}, {\"font\": {\"color\": \"#FFFFFF\"}, \"showarrow\": false, \"text\": \"-0.0\", \"x\": \"read_time\", \"xref\": \"x\", \"y\": \"title_word_count\", \"yref\": \"y\"}, {\"font\": {\"color\": \"#FFFFFF\"}, \"showarrow\": false, \"text\": \"0.0\", \"x\": \"reads\", \"xref\": \"x\", \"y\": \"title_word_count\", \"yref\": \"y\"}, {\"font\": {\"color\": \"#000000\"}, \"showarrow\": false, \"text\": \"1.0\", \"x\": \"title_word_count\", \"xref\": \"x\", \"y\": \"title_word_count\", \"yref\": \"y\"}, {\"font\": {\"color\": \"#FFFFFF\"}, \"showarrow\": false, \"text\": \"0.0\", \"x\": \"views\", \"xref\": \"x\", \"y\": \"title_word_count\", \"yref\": \"y\"}, {\"font\": {\"color\": \"#FFFFFF\"}, \"showarrow\": false, \"text\": \"-0.03\", \"x\": \"word_count\", \"xref\": \"x\", \"y\": \"title_word_count\", \"yref\": \"y\"}, {\"font\": {\"color\": \"#FFFFFF\"}, \"showarrow\": false, \"text\": \"0.04\", \"x\": \"claps_per_word\", \"xref\": \"x\", \"y\": \"title_word_count\", \"yref\": \"y\"}, {\"font\": {\"color\": \"#FFFFFF\"}, \"showarrow\": false, \"text\": \"0.1\", \"x\": \"editing_days\", \"xref\": \"x\", \"y\": \"title_word_count\", \"yref\": \"y\"}, {\"font\": {\"color\": \"#FFFFFF\"}, \"showarrow\": false, \"text\": \"0.1\", \"x\": \"days_to_publish\", \"xref\": \"x\", \"y\": \"title_word_count\", \"yref\": \"y\"}, {\"font\": {\"color\": \"#000000\"}, \"showarrow\": false, \"text\": \"0.72\", \"x\": \"claps\", \"xref\": \"x\", \"y\": \"views\", \"yref\": \"y\"}, {\"font\": {\"color\": \"#000000\"}, \"showarrow\": false, \"text\": \"0.36\", \"x\": \"days_since_publication\", \"xref\": \"x\", \"y\": \"views\", \"yref\": \"y\"}, {\"font\": {\"color\": \"#000000\"}, \"showarrow\": false, \"text\": \"0.76\", \"x\": \"fans\", \"xref\": \"x\", \"y\": \"views\", \"yref\": \"y\"}, {\"font\": {\"color\": \"#000000\"}, \"showarrow\": false, \"text\": \"0.63\", \"x\": \"num_responses\", \"xref\": \"x\", \"y\": \"views\", \"yref\": \"y\"}, {\"font\": {\"color\": \"#FFFFFF\"}, \"showarrow\": false, \"text\": \"-0.27\", \"x\": \"read_ratio\", \"xref\": \"x\", \"y\": \"views\", \"yref\": \"y\"}, {\"font\": {\"color\": \"#000000\"}, \"showarrow\": false, \"text\": \"0.23\", \"x\": \"read_time\", \"xref\": \"x\", \"y\": \"views\", \"yref\": \"y\"}, {\"font\": {\"color\": \"#000000\"}, \"showarrow\": false, \"text\": \"0.94\", \"x\": \"reads\", \"xref\": \"x\", \"y\": \"views\", \"yref\": \"y\"}, {\"font\": {\"color\": \"#FFFFFF\"}, \"showarrow\": false, \"text\": \"0.0\", \"x\": \"title_word_count\", \"xref\": \"x\", \"y\": \"views\", \"yref\": \"y\"}, {\"font\": {\"color\": \"#000000\"}, \"showarrow\": false, \"text\": \"1.0\", \"x\": \"views\", \"xref\": \"x\", \"y\": \"views\", \"yref\": \"y\"}, {\"font\": {\"color\": \"#000000\"}, \"showarrow\": false, \"text\": \"0.16\", \"x\": \"word_count\", \"xref\": \"x\", \"y\": \"views\", \"yref\": \"y\"}, {\"font\": {\"color\": \"#000000\"}, \"showarrow\": false, \"text\": \"0.35\", \"x\": \"claps_per_word\", \"xref\": \"x\", \"y\": \"views\", \"yref\": \"y\"}, {\"font\": {\"color\": \"#FFFFFF\"}, \"showarrow\": false, \"text\": \"-0.03\", \"x\": \"editing_days\", \"xref\": \"x\", \"y\": \"views\", \"yref\": \"y\"}, {\"font\": {\"color\": \"#FFFFFF\"}, \"showarrow\": false, \"text\": \"-0.03\", \"x\": \"days_to_publish\", \"xref\": \"x\", \"y\": \"views\", \"yref\": \"y\"}, {\"font\": {\"color\": \"#FFFFFF\"}, \"showarrow\": false, \"text\": \"0.07\", \"x\": \"claps\", \"xref\": \"x\", \"y\": \"word_count\", \"yref\": \"y\"}, {\"font\": {\"color\": \"#FFFFFF\"}, \"showarrow\": false, \"text\": \"-0.05\", \"x\": \"days_since_publication\", \"xref\": \"x\", \"y\": \"word_count\", \"yref\": \"y\"}, {\"font\": {\"color\": \"#FFFFFF\"}, \"showarrow\": false, \"text\": \"0.07\", \"x\": \"fans\", \"xref\": \"x\", \"y\": \"word_count\", \"yref\": \"y\"}, {\"font\": {\"color\": \"#FFFFFF\"}, \"showarrow\": false, \"text\": \"-0.01\", \"x\": \"num_responses\", \"xref\": \"x\", \"y\": \"word_count\", \"yref\": \"y\"}, {\"font\": {\"color\": \"#FFFFFF\"}, \"showarrow\": false, \"text\": \"-0.65\", \"x\": \"read_ratio\", \"xref\": \"x\", \"y\": \"word_count\", \"yref\": \"y\"}, {\"font\": {\"color\": \"#000000\"}, \"showarrow\": false, \"text\": \"0.98\", \"x\": \"read_time\", \"xref\": \"x\", \"y\": \"word_count\", \"yref\": \"y\"}, {\"font\": {\"color\": \"#FFFFFF\"}, \"showarrow\": false, \"text\": \"0.02\", \"x\": \"reads\", \"xref\": \"x\", \"y\": \"word_count\", \"yref\": \"y\"}, {\"font\": {\"color\": \"#FFFFFF\"}, \"showarrow\": false, \"text\": \"-0.03\", \"x\": \"title_word_count\", \"xref\": \"x\", \"y\": \"word_count\", \"yref\": \"y\"}, {\"font\": {\"color\": \"#000000\"}, \"showarrow\": false, \"text\": \"0.16\", \"x\": \"views\", \"xref\": \"x\", \"y\": \"word_count\", \"yref\": \"y\"}, {\"font\": {\"color\": \"#000000\"}, \"showarrow\": false, \"text\": \"1.0\", \"x\": \"word_count\", \"xref\": \"x\", \"y\": \"word_count\", \"yref\": \"y\"}, {\"font\": {\"color\": \"#FFFFFF\"}, \"showarrow\": false, \"text\": \"-0.24\", \"x\": \"claps_per_word\", \"xref\": \"x\", \"y\": \"word_count\", \"yref\": \"y\"}, {\"font\": {\"color\": \"#000000\"}, \"showarrow\": false, \"text\": \"0.34\", \"x\": \"editing_days\", \"xref\": \"x\", \"y\": \"word_count\", \"yref\": \"y\"}, {\"font\": {\"color\": \"#000000\"}, \"showarrow\": false, \"text\": \"0.34\", \"x\": \"days_to_publish\", \"xref\": \"x\", \"y\": \"word_count\", \"yref\": \"y\"}, {\"font\": {\"color\": \"#000000\"}, \"showarrow\": false, \"text\": \"0.75\", \"x\": \"claps\", \"xref\": \"x\", \"y\": \"claps_per_word\", \"yref\": \"y\"}, {\"font\": {\"color\": \"#000000\"}, \"showarrow\": false, \"text\": \"0.17\", \"x\": \"days_since_publication\", \"xref\": \"x\", \"y\": \"claps_per_word\", \"yref\": \"y\"}, {\"font\": {\"color\": \"#000000\"}, \"showarrow\": false, \"text\": \"0.71\", \"x\": \"fans\", \"xref\": \"x\", \"y\": \"claps_per_word\", \"yref\": \"y\"}, {\"font\": {\"color\": \"#000000\"}, \"showarrow\": false, \"text\": \"0.8\", \"x\": \"num_responses\", \"xref\": \"x\", \"y\": \"claps_per_word\", \"yref\": \"y\"}, {\"font\": {\"color\": \"#000000\"}, \"showarrow\": false, \"text\": \"0.28\", \"x\": \"read_ratio\", \"xref\": \"x\", \"y\": \"claps_per_word\", \"yref\": \"y\"}, {\"font\": {\"color\": \"#FFFFFF\"}, \"showarrow\": false, \"text\": \"-0.23\", \"x\": \"read_time\", \"xref\": \"x\", \"y\": \"claps_per_word\", \"yref\": \"y\"}, {\"font\": {\"color\": \"#000000\"}, \"showarrow\": false, \"text\": \"0.53\", \"x\": \"reads\", \"xref\": \"x\", \"y\": \"claps_per_word\", \"yref\": \"y\"}, {\"font\": {\"color\": \"#FFFFFF\"}, \"showarrow\": false, \"text\": \"0.04\", \"x\": \"title_word_count\", \"xref\": \"x\", \"y\": \"claps_per_word\", \"yref\": \"y\"}, {\"font\": {\"color\": \"#000000\"}, \"showarrow\": false, \"text\": \"0.35\", \"x\": \"views\", \"xref\": \"x\", \"y\": \"claps_per_word\", \"yref\": \"y\"}, {\"font\": {\"color\": \"#FFFFFF\"}, \"showarrow\": false, \"text\": \"-0.24\", \"x\": \"word_count\", \"xref\": \"x\", \"y\": \"claps_per_word\", \"yref\": \"y\"}, {\"font\": {\"color\": \"#000000\"}, \"showarrow\": false, \"text\": \"1.0\", \"x\": \"claps_per_word\", \"xref\": \"x\", \"y\": \"claps_per_word\", \"yref\": \"y\"}, {\"font\": {\"color\": \"#FFFFFF\"}, \"showarrow\": false, \"text\": \"-0.08\", \"x\": \"editing_days\", \"xref\": \"x\", \"y\": \"claps_per_word\", \"yref\": \"y\"}, {\"font\": {\"color\": \"#FFFFFF\"}, \"showarrow\": false, \"text\": \"-0.08\", \"x\": \"days_to_publish\", \"xref\": \"x\", \"y\": \"claps_per_word\", \"yref\": \"y\"}, {\"font\": {\"color\": \"#FFFFFF\"}, \"showarrow\": false, \"text\": \"0.02\", \"x\": \"claps\", \"xref\": \"x\", \"y\": \"editing_days\", \"yref\": \"y\"}, {\"font\": {\"color\": \"#FFFFFF\"}, \"showarrow\": false, \"text\": \"-0.15\", \"x\": \"days_since_publication\", \"xref\": \"x\", \"y\": \"editing_days\", \"yref\": \"y\"}, {\"font\": {\"color\": \"#FFFFFF\"}, \"showarrow\": false, \"text\": \"0.04\", \"x\": \"fans\", \"xref\": \"x\", \"y\": \"editing_days\", \"yref\": \"y\"}, {\"font\": {\"color\": \"#FFFFFF\"}, \"showarrow\": false, \"text\": \"-0.04\", \"x\": \"num_responses\", \"xref\": \"x\", \"y\": \"editing_days\", \"yref\": \"y\"}, {\"font\": {\"color\": \"#FFFFFF\"}, \"showarrow\": false, \"text\": \"-0.3\", \"x\": \"read_ratio\", \"xref\": \"x\", \"y\": \"editing_days\", \"yref\": \"y\"}, {\"font\": {\"color\": \"#000000\"}, \"showarrow\": false, \"text\": \"0.33\", \"x\": \"read_time\", \"xref\": \"x\", \"y\": \"editing_days\", \"yref\": \"y\"}, {\"font\": {\"color\": \"#FFFFFF\"}, \"showarrow\": false, \"text\": \"-0.1\", \"x\": \"reads\", \"xref\": \"x\", \"y\": \"editing_days\", \"yref\": \"y\"}, {\"font\": {\"color\": \"#FFFFFF\"}, \"showarrow\": false, \"text\": \"0.1\", \"x\": \"title_word_count\", \"xref\": \"x\", \"y\": \"editing_days\", \"yref\": \"y\"}, {\"font\": {\"color\": \"#FFFFFF\"}, \"showarrow\": false, \"text\": \"-0.03\", \"x\": \"views\", \"xref\": \"x\", \"y\": \"editing_days\", \"yref\": \"y\"}, {\"font\": {\"color\": \"#000000\"}, \"showarrow\": false, \"text\": \"0.34\", \"x\": \"word_count\", \"xref\": \"x\", \"y\": \"editing_days\", \"yref\": \"y\"}, {\"font\": {\"color\": \"#FFFFFF\"}, \"showarrow\": false, \"text\": \"-0.08\", \"x\": \"claps_per_word\", \"xref\": \"x\", \"y\": \"editing_days\", \"yref\": \"y\"}, {\"font\": {\"color\": \"#000000\"}, \"showarrow\": false, \"text\": \"1.0\", \"x\": \"editing_days\", \"xref\": \"x\", \"y\": \"editing_days\", \"yref\": \"y\"}, {\"font\": {\"color\": \"#000000\"}, \"showarrow\": false, \"text\": \"1.0\", \"x\": \"days_to_publish\", \"xref\": \"x\", \"y\": \"editing_days\", \"yref\": \"y\"}, {\"font\": {\"color\": \"#FFFFFF\"}, \"showarrow\": false, \"text\": \"0.02\", \"x\": \"claps\", \"xref\": \"x\", \"y\": \"days_to_publish\", \"yref\": \"y\"}, {\"font\": {\"color\": \"#FFFFFF\"}, \"showarrow\": false, \"text\": \"-0.15\", \"x\": \"days_since_publication\", \"xref\": \"x\", \"y\": \"days_to_publish\", \"yref\": \"y\"}, {\"font\": {\"color\": \"#FFFFFF\"}, \"showarrow\": false, \"text\": \"0.04\", \"x\": \"fans\", \"xref\": \"x\", \"y\": \"days_to_publish\", \"yref\": \"y\"}, {\"font\": {\"color\": \"#FFFFFF\"}, \"showarrow\": false, \"text\": \"-0.04\", \"x\": \"num_responses\", \"xref\": \"x\", \"y\": \"days_to_publish\", \"yref\": \"y\"}, {\"font\": {\"color\": \"#FFFFFF\"}, \"showarrow\": false, \"text\": \"-0.3\", \"x\": \"read_ratio\", \"xref\": \"x\", \"y\": \"days_to_publish\", \"yref\": \"y\"}, {\"font\": {\"color\": \"#000000\"}, \"showarrow\": false, \"text\": \"0.33\", \"x\": \"read_time\", \"xref\": \"x\", \"y\": \"days_to_publish\", \"yref\": \"y\"}, {\"font\": {\"color\": \"#FFFFFF\"}, \"showarrow\": false, \"text\": \"-0.1\", \"x\": \"reads\", \"xref\": \"x\", \"y\": \"days_to_publish\", \"yref\": \"y\"}, {\"font\": {\"color\": \"#FFFFFF\"}, \"showarrow\": false, \"text\": \"0.1\", \"x\": \"title_word_count\", \"xref\": \"x\", \"y\": \"days_to_publish\", \"yref\": \"y\"}, {\"font\": {\"color\": \"#FFFFFF\"}, \"showarrow\": false, \"text\": \"-0.03\", \"x\": \"views\", \"xref\": \"x\", \"y\": \"days_to_publish\", \"yref\": \"y\"}, {\"font\": {\"color\": \"#000000\"}, \"showarrow\": false, \"text\": \"0.34\", \"x\": \"word_count\", \"xref\": \"x\", \"y\": \"days_to_publish\", \"yref\": \"y\"}, {\"font\": {\"color\": \"#FFFFFF\"}, \"showarrow\": false, \"text\": \"-0.08\", \"x\": \"claps_per_word\", \"xref\": \"x\", \"y\": \"days_to_publish\", \"yref\": \"y\"}, {\"font\": {\"color\": \"#000000\"}, \"showarrow\": false, \"text\": \"1.0\", \"x\": \"editing_days\", \"xref\": \"x\", \"y\": \"days_to_publish\", \"yref\": \"y\"}, {\"font\": {\"color\": \"#000000\"}, \"showarrow\": false, \"text\": \"1.0\", \"x\": \"days_to_publish\", \"xref\": \"x\", \"y\": \"days_to_publish\", \"yref\": \"y\"}], \"xaxis\": {\"dtick\": 1, \"gridcolor\": \"rgb(0, 0, 0)\", \"side\": \"top\", \"ticks\": \"\"}, \"yaxis\": {\"dtick\": 1, \"ticks\": \"\", \"ticksuffix\": \"  \"}}, {\"showLink\": false, \"linkText\": \"Export to plot.ly\", \"plotlyServerURL\": \"https://plot.ly\"})});</script><script type=\"text/javascript\">window.addEventListener(\"resize\", function(){window._Plotly.Plots.resize(document.getElementById(\"1a2049b0-7c85-42c4-b6a7-d2086a458400\"));});</script>"
      ]
     },
     "metadata": {},
     "output_type": "display_data"
    }
   ],
   "source": [
    "import plotly.figure_factory as ff\n",
    "\n",
    "corrs = stat_df[[c for c in stat_df if '<tag>' not in c]].corr()\n",
    "\n",
    "figure = ff.create_annotated_heatmap(z = corrs.round(2).values, \n",
    "                                     x =list(corrs.columns), \n",
    "                                     y=list(corrs.index), \n",
    "                                     colorscale='Viridis',\n",
    "                                     annotation_text=corrs.round(2).values)\n",
    "iplot(figure)"
   ]
  },
  {
   "cell_type": "code",
   "execution_count": 19,
   "metadata": {
    "ExecuteTime": {
     "end_time": "2019-01-31T15:14:51.493495Z",
     "start_time": "2019-01-31T15:14:51.439168Z"
    }
   },
   "outputs": [
    {
     "data": {
      "text/html": [
       "<div>\n",
       "<style scoped>\n",
       "    .dataframe tbody tr th:only-of-type {\n",
       "        vertical-align: middle;\n",
       "    }\n",
       "\n",
       "    .dataframe tbody tr th {\n",
       "        vertical-align: top;\n",
       "    }\n",
       "\n",
       "    .dataframe thead th {\n",
       "        text-align: right;\n",
       "    }\n",
       "</style>\n",
       "<table border=\"1\" class=\"dataframe\">\n",
       "  <thead>\n",
       "    <tr style=\"text-align: right;\">\n",
       "      <th></th>\n",
       "      <th>claps</th>\n",
       "      <th>days_since_publication</th>\n",
       "      <th>fans</th>\n",
       "      <th>num_responses</th>\n",
       "      <th>read_ratio</th>\n",
       "      <th>read_time</th>\n",
       "      <th>reads</th>\n",
       "      <th>title_word_count</th>\n",
       "      <th>views</th>\n",
       "      <th>word_count</th>\n",
       "      <th>claps_per_word</th>\n",
       "      <th>editing_days</th>\n",
       "      <th>&lt;tag&gt;Education</th>\n",
       "      <th>&lt;tag&gt;Data Science</th>\n",
       "      <th>&lt;tag&gt;Towards Data Science</th>\n",
       "      <th>&lt;tag&gt;Machine Learning</th>\n",
       "      <th>&lt;tag&gt;Python</th>\n",
       "      <th>days_to_publish</th>\n",
       "    </tr>\n",
       "  </thead>\n",
       "  <tbody>\n",
       "    <tr>\n",
       "      <th>count</th>\n",
       "      <td>91.000000</td>\n",
       "      <td>91.000000</td>\n",
       "      <td>91.000000</td>\n",
       "      <td>91.000000</td>\n",
       "      <td>91.000000</td>\n",
       "      <td>91.000000</td>\n",
       "      <td>91.000000</td>\n",
       "      <td>91.000000</td>\n",
       "      <td>91.000000</td>\n",
       "      <td>91.000000</td>\n",
       "      <td>91.000000</td>\n",
       "      <td>91.000000</td>\n",
       "      <td>91.000000</td>\n",
       "      <td>91.000000</td>\n",
       "      <td>91.000000</td>\n",
       "      <td>91.000000</td>\n",
       "      <td>91.000000</td>\n",
       "      <td>91.000000</td>\n",
       "    </tr>\n",
       "    <tr>\n",
       "      <th>mean</th>\n",
       "      <td>2386.208791</td>\n",
       "      <td>222.158956</td>\n",
       "      <td>467.285714</td>\n",
       "      <td>9.087912</td>\n",
       "      <td>31.229341</td>\n",
       "      <td>9.813187</td>\n",
       "      <td>8042.703297</td>\n",
       "      <td>7.659341</td>\n",
       "      <td>29299.747253</td>\n",
       "      <td>2293.087912</td>\n",
       "      <td>1.284121</td>\n",
       "      <td>3.252747</td>\n",
       "      <td>0.857143</td>\n",
       "      <td>0.725275</td>\n",
       "      <td>0.582418</td>\n",
       "      <td>0.417582</td>\n",
       "      <td>0.351648</td>\n",
       "      <td>3.252747</td>\n",
       "    </tr>\n",
       "    <tr>\n",
       "      <th>std</th>\n",
       "      <td>2608.248448</td>\n",
       "      <td>123.034773</td>\n",
       "      <td>506.486334</td>\n",
       "      <td>9.462967</td>\n",
       "      <td>11.998429</td>\n",
       "      <td>4.366316</td>\n",
       "      <td>9097.987866</td>\n",
       "      <td>3.406594</td>\n",
       "      <td>34282.994752</td>\n",
       "      <td>1131.733092</td>\n",
       "      <td>2.085958</td>\n",
       "      <td>5.326232</td>\n",
       "      <td>0.351866</td>\n",
       "      <td>0.448849</td>\n",
       "      <td>0.495893</td>\n",
       "      <td>0.495893</td>\n",
       "      <td>0.480130</td>\n",
       "      <td>5.326232</td>\n",
       "    </tr>\n",
       "    <tr>\n",
       "      <th>min</th>\n",
       "      <td>11.000000</td>\n",
       "      <td>32.168843</td>\n",
       "      <td>3.000000</td>\n",
       "      <td>0.000000</td>\n",
       "      <td>14.420000</td>\n",
       "      <td>1.000000</td>\n",
       "      <td>58.000000</td>\n",
       "      <td>2.000000</td>\n",
       "      <td>109.000000</td>\n",
       "      <td>163.000000</td>\n",
       "      <td>0.010252</td>\n",
       "      <td>0.000000</td>\n",
       "      <td>0.000000</td>\n",
       "      <td>0.000000</td>\n",
       "      <td>0.000000</td>\n",
       "      <td>0.000000</td>\n",
       "      <td>0.000000</td>\n",
       "      <td>0.000000</td>\n",
       "    </tr>\n",
       "    <tr>\n",
       "      <th>25%</th>\n",
       "      <td>712.500000</td>\n",
       "      <td>107.674535</td>\n",
       "      <td>116.500000</td>\n",
       "      <td>3.000000</td>\n",
       "      <td>22.260000</td>\n",
       "      <td>6.500000</td>\n",
       "      <td>1332.500000</td>\n",
       "      <td>5.000000</td>\n",
       "      <td>4561.500000</td>\n",
       "      <td>1445.000000</td>\n",
       "      <td>0.339899</td>\n",
       "      <td>0.000000</td>\n",
       "      <td>1.000000</td>\n",
       "      <td>0.000000</td>\n",
       "      <td>0.000000</td>\n",
       "      <td>0.000000</td>\n",
       "      <td>0.000000</td>\n",
       "      <td>0.000000</td>\n",
       "    </tr>\n",
       "    <tr>\n",
       "      <th>50%</th>\n",
       "      <td>1300.000000</td>\n",
       "      <td>222.227241</td>\n",
       "      <td>272.000000</td>\n",
       "      <td>6.000000</td>\n",
       "      <td>28.350000</td>\n",
       "      <td>9.000000</td>\n",
       "      <td>5188.000000</td>\n",
       "      <td>7.000000</td>\n",
       "      <td>17223.000000</td>\n",
       "      <td>2185.000000</td>\n",
       "      <td>0.707339</td>\n",
       "      <td>1.000000</td>\n",
       "      <td>1.000000</td>\n",
       "      <td>1.000000</td>\n",
       "      <td>1.000000</td>\n",
       "      <td>0.000000</td>\n",
       "      <td>0.000000</td>\n",
       "      <td>1.000000</td>\n",
       "    </tr>\n",
       "    <tr>\n",
       "      <th>75%</th>\n",
       "      <td>3200.000000</td>\n",
       "      <td>351.519130</td>\n",
       "      <td>622.500000</td>\n",
       "      <td>13.000000</td>\n",
       "      <td>36.860000</td>\n",
       "      <td>12.000000</td>\n",
       "      <td>10837.500000</td>\n",
       "      <td>10.000000</td>\n",
       "      <td>36336.500000</td>\n",
       "      <td>2794.500000</td>\n",
       "      <td>1.470240</td>\n",
       "      <td>4.000000</td>\n",
       "      <td>1.000000</td>\n",
       "      <td>1.000000</td>\n",
       "      <td>1.000000</td>\n",
       "      <td>1.000000</td>\n",
       "      <td>1.000000</td>\n",
       "      <td>4.000000</td>\n",
       "    </tr>\n",
       "    <tr>\n",
       "      <th>max</th>\n",
       "      <td>13600.000000</td>\n",
       "      <td>394.079582</td>\n",
       "      <td>2600.000000</td>\n",
       "      <td>59.000000</td>\n",
       "      <td>74.240000</td>\n",
       "      <td>27.000000</td>\n",
       "      <td>42301.000000</td>\n",
       "      <td>16.000000</td>\n",
       "      <td>135743.000000</td>\n",
       "      <td>7125.000000</td>\n",
       "      <td>17.891817</td>\n",
       "      <td>26.000000</td>\n",
       "      <td>1.000000</td>\n",
       "      <td>1.000000</td>\n",
       "      <td>1.000000</td>\n",
       "      <td>1.000000</td>\n",
       "      <td>1.000000</td>\n",
       "      <td>26.000000</td>\n",
       "    </tr>\n",
       "  </tbody>\n",
       "</table>\n",
       "</div>"
      ],
      "text/plain": [
       "              claps  days_since_publication         fans  num_responses  \\\n",
       "count     91.000000               91.000000    91.000000      91.000000   \n",
       "mean    2386.208791              222.158956   467.285714       9.087912   \n",
       "std     2608.248448              123.034773   506.486334       9.462967   \n",
       "min       11.000000               32.168843     3.000000       0.000000   \n",
       "25%      712.500000              107.674535   116.500000       3.000000   \n",
       "50%     1300.000000              222.227241   272.000000       6.000000   \n",
       "75%     3200.000000              351.519130   622.500000      13.000000   \n",
       "max    13600.000000              394.079582  2600.000000      59.000000   \n",
       "\n",
       "       read_ratio  read_time         reads  title_word_count          views  \\\n",
       "count   91.000000  91.000000     91.000000         91.000000      91.000000   \n",
       "mean    31.229341   9.813187   8042.703297          7.659341   29299.747253   \n",
       "std     11.998429   4.366316   9097.987866          3.406594   34282.994752   \n",
       "min     14.420000   1.000000     58.000000          2.000000     109.000000   \n",
       "25%     22.260000   6.500000   1332.500000          5.000000    4561.500000   \n",
       "50%     28.350000   9.000000   5188.000000          7.000000   17223.000000   \n",
       "75%     36.860000  12.000000  10837.500000         10.000000   36336.500000   \n",
       "max     74.240000  27.000000  42301.000000         16.000000  135743.000000   \n",
       "\n",
       "        word_count  claps_per_word  editing_days  <tag>Education  \\\n",
       "count    91.000000       91.000000     91.000000       91.000000   \n",
       "mean   2293.087912        1.284121      3.252747        0.857143   \n",
       "std    1131.733092        2.085958      5.326232        0.351866   \n",
       "min     163.000000        0.010252      0.000000        0.000000   \n",
       "25%    1445.000000        0.339899      0.000000        1.000000   \n",
       "50%    2185.000000        0.707339      1.000000        1.000000   \n",
       "75%    2794.500000        1.470240      4.000000        1.000000   \n",
       "max    7125.000000       17.891817     26.000000        1.000000   \n",
       "\n",
       "       <tag>Data Science  <tag>Towards Data Science  <tag>Machine Learning  \\\n",
       "count          91.000000                  91.000000              91.000000   \n",
       "mean            0.725275                   0.582418               0.417582   \n",
       "std             0.448849                   0.495893               0.495893   \n",
       "min             0.000000                   0.000000               0.000000   \n",
       "25%             0.000000                   0.000000               0.000000   \n",
       "50%             1.000000                   1.000000               0.000000   \n",
       "75%             1.000000                   1.000000               1.000000   \n",
       "max             1.000000                   1.000000               1.000000   \n",
       "\n",
       "       <tag>Python  days_to_publish  \n",
       "count    91.000000        91.000000  \n",
       "mean      0.351648         3.252747  \n",
       "std       0.480130         5.326232  \n",
       "min       0.000000         0.000000  \n",
       "25%       0.000000         0.000000  \n",
       "50%       0.000000         1.000000  \n",
       "75%       1.000000         4.000000  \n",
       "max       1.000000        26.000000  "
      ]
     },
     "execution_count": 19,
     "metadata": {},
     "output_type": "execute_result"
    }
   ],
   "source": [
    "stat_df.describe()"
   ]
  },
  {
   "cell_type": "markdown",
   "metadata": {},
   "source": [
    "# Scatterplot Matrix"
   ]
  },
  {
   "cell_type": "code",
   "execution_count": 20,
   "metadata": {
    "ExecuteTime": {
     "end_time": "2019-01-31T15:14:52.012724Z",
     "start_time": "2019-01-31T15:14:51.494763Z"
    }
   },
   "outputs": [
    {
     "data": {
      "application/vnd.plotly.v1+json": {
       "config": {
        "linkText": "Export to plot.ly",
        "plotlyServerURL": "https://plot.ly",
        "showLink": false
       },
       "data": [
        {
         "marker": {
          "color": "rgb(0, 32, 76)"
         },
         "showlegend": false,
         "type": "histogram",
         "uid": "93907914-7ad3-4e0d-bfbb-c000f2a33001",
         "x": [
          19,
          17,
          15,
          5,
          11,
          12,
          14,
          6,
          11,
          5,
          6,
          12,
          6,
          7,
          4,
          6,
          11,
          6,
          10,
          3,
          6,
          12,
          3,
          9,
          8,
          4,
          11,
          9,
          11,
          10,
          11,
          10,
          8,
          10,
          12,
          12,
          7,
          3,
          15,
          13,
          11,
          9,
          12,
          11,
          20,
          10,
          14,
          9,
          18,
          15,
          6,
          11,
          8,
          10,
          3,
          17,
          15,
          1,
          16,
          10,
          15,
          5,
          8,
          17,
          9,
          8,
          13,
          10,
          9,
          11,
          6,
          15,
          9,
          6,
          8,
          9,
          7,
          6,
          15,
          12,
          8,
          5,
          7,
          6,
          9,
          5,
          8,
          27,
          8
         ],
         "xaxis": "x",
         "yaxis": "y"
        },
        {
         "marker": {
          "color": "rgb(255, 233, 69)"
         },
         "showlegend": false,
         "type": "histogram",
         "uid": "5e378629-2a94-4e0d-8158-9b2b0fb245c5",
         "x": [
          8,
          8
         ],
         "xaxis": "x",
         "yaxis": "y"
        },
        {
         "marker": {
          "color": "rgb(0, 32, 76)",
          "size": 6
         },
         "mode": "markers",
         "name": "published",
         "showlegend": true,
         "type": "scatter",
         "uid": "72f4b78f-303b-4af1-83e1-32d1cdea27fc",
         "x": [
          141,
          7916,
          797,
          1258,
          773,
          27835,
          32966,
          66,
          21761,
          3239,
          58,
          42301,
          7438,
          481,
          2290,
          7194,
          11218,
          7297,
          15284,
          30140,
          1366,
          16917,
          135,
          11571,
          2141,
          5923,
          26703,
          14756,
          20727,
          11418,
          32661,
          18986,
          15987,
          19994,
          6874,
          6783,
          21705,
          1508,
          23740,
          9695,
          6555,
          8494,
          10457,
          25366,
          1908,
          20779,
          5990,
          9053,
          7115,
          1016,
          2027,
          7230,
          5982,
          1173,
          13755,
          7471,
          1260,
          1265,
          2598,
          4043,
          4734,
          1556,
          356,
          4486,
          880,
          8183,
          1609,
          3203,
          559,
          9611,
          1336,
          6148,
          1324,
          2562,
          1267,
          1831,
          8692,
          5709,
          1849,
          5188,
          4678,
          12175,
          1329,
          430,
          3959,
          2170,
          380,
          267,
          1626
         ],
         "xaxis": "x2",
         "y": [
          19,
          17,
          15,
          5,
          11,
          12,
          14,
          6,
          11,
          5,
          6,
          12,
          6,
          7,
          4,
          6,
          11,
          6,
          10,
          3,
          6,
          12,
          3,
          9,
          8,
          4,
          11,
          9,
          11,
          10,
          11,
          10,
          8,
          10,
          12,
          12,
          7,
          3,
          15,
          13,
          11,
          9,
          12,
          11,
          20,
          10,
          14,
          9,
          18,
          15,
          6,
          11,
          8,
          10,
          3,
          17,
          15,
          1,
          16,
          10,
          15,
          5,
          8,
          17,
          9,
          8,
          13,
          10,
          9,
          11,
          6,
          15,
          9,
          6,
          8,
          9,
          7,
          6,
          15,
          12,
          8,
          5,
          7,
          6,
          9,
          5,
          8,
          27,
          8
         ],
         "yaxis": "y2"
        },
        {
         "marker": {
          "color": "rgb(255, 233, 69)",
          "size": 6
         },
         "mode": "markers",
         "name": "unlisted",
         "showlegend": true,
         "type": "scatter",
         "uid": "78a93c5c-b874-4698-ba91-d5b72c877bd1",
         "x": [
          147,
          62
         ],
         "xaxis": "x2",
         "y": [
          8,
          8
         ],
         "yaxis": "y2"
        },
        {
         "marker": {
          "color": "rgb(0, 32, 76)",
          "size": 6
         },
         "mode": "markers",
         "name": "published",
         "showlegend": false,
         "type": "scatter",
         "uid": "ebd42c55-18f9-4f82-8303-4d45d56598a6",
         "x": [
          43.52,
          22.78,
          28.18,
          34.52,
          31.01,
          23.98,
          25.11,
          41.77,
          26.5,
          62.04,
          53.21,
          31.16,
          35.83,
          27.87,
          54.63,
          41.77,
          30.9,
          47.39,
          29.79,
          62.51,
          43.12,
          29,
          57.94,
          32.4,
          42.86,
          43.28,
          20.45,
          22.44,
          36.75,
          36.97,
          27.09,
          33.36,
          31.39,
          33.88,
          31.15,
          26.69,
          31.63,
          63.28,
          18.9,
          20.86,
          23.74,
          25.07,
          23.86,
          21.94,
          16.85,
          25.54,
          22.08,
          27.46,
          14.42,
          18.18,
          42.15,
          24.17,
          32.46,
          27.19,
          44.04,
          16.73,
          19.63,
          74.24,
          17.48,
          26.9,
          18.89,
          40.99,
          18.17,
          18.21,
          28.46,
          27.09,
          20.58,
          23.6,
          25.83,
          28.35,
          39.7,
          16.9,
          24.35,
          38.71,
          21.76,
          21.67,
          30.09,
          34.92,
          17.94,
          21.65,
          19.6,
          44.82,
          22,
          47.94,
          29.2,
          31.63,
          37.92,
          19.21,
          30.01
         ],
         "xaxis": "x3",
         "y": [
          19,
          17,
          15,
          5,
          11,
          12,
          14,
          6,
          11,
          5,
          6,
          12,
          6,
          7,
          4,
          6,
          11,
          6,
          10,
          3,
          6,
          12,
          3,
          9,
          8,
          4,
          11,
          9,
          11,
          10,
          11,
          10,
          8,
          10,
          12,
          12,
          7,
          3,
          15,
          13,
          11,
          9,
          12,
          11,
          20,
          10,
          14,
          9,
          18,
          15,
          6,
          11,
          8,
          10,
          3,
          17,
          15,
          1,
          16,
          10,
          15,
          5,
          8,
          17,
          9,
          8,
          13,
          10,
          9,
          11,
          6,
          15,
          9,
          6,
          8,
          9,
          7,
          6,
          15,
          12,
          8,
          5,
          7,
          6,
          9,
          5,
          8,
          27,
          8
         ],
         "yaxis": "y3"
        },
        {
         "marker": {
          "color": "rgb(255, 233, 69)",
          "size": 6
         },
         "mode": "markers",
         "name": "unlisted",
         "showlegend": false,
         "type": "scatter",
         "uid": "7d912370-ae87-4559-890c-283b0af172b4",
         "x": [
          35.42,
          24.22
         ],
         "xaxis": "x3",
         "y": [
          8,
          8
         ],
         "yaxis": "y3"
        },
        {
         "marker": {
          "color": "rgb(0, 32, 76)",
          "size": 6
         },
         "mode": "markers",
         "name": "published",
         "showlegend": false,
         "type": "scatter",
         "uid": "c0184594-254c-477c-8a79-ad1708d71d8d",
         "x": [
          123,
          868,
          186,
          11,
          120,
          2100,
          4100,
          59,
          2800,
          82,
          21,
          7300,
          1200,
          285,
          1600,
          1600,
          1100,
          4300,
          4970,
          12900,
          225,
          5100,
          101,
          6000,
          648,
          977,
          7000,
          7000,
          2800,
          1100,
          3000,
          2600,
          2900,
          5500,
          1300,
          1000,
          8000,
          363,
          13600,
          4100,
          2200,
          3900,
          6400,
          8500,
          1300,
          5500,
          2400,
          2800,
          2400,
          715,
          717,
          3300,
          4400,
          844,
          914,
          3800,
          662,
          658,
          1100,
          2900,
          3100,
          797,
          246,
          3400,
          347,
          2600,
          1000,
          2100,
          966,
          3300,
          710,
          2500,
          815,
          755,
          603,
          941,
          2400,
          1400,
          787,
          2800,
          2100,
          3800,
          568,
          867,
          1000,
          730,
          430,
          560,
          748
         ],
         "xaxis": "x4",
         "y": [
          19,
          17,
          15,
          5,
          11,
          12,
          14,
          6,
          11,
          5,
          6,
          12,
          6,
          7,
          4,
          6,
          11,
          6,
          10,
          3,
          6,
          12,
          3,
          9,
          8,
          4,
          11,
          9,
          11,
          10,
          11,
          10,
          8,
          10,
          12,
          12,
          7,
          3,
          15,
          13,
          11,
          9,
          12,
          11,
          20,
          10,
          14,
          9,
          18,
          15,
          6,
          11,
          8,
          10,
          3,
          17,
          15,
          1,
          16,
          10,
          15,
          5,
          8,
          17,
          9,
          8,
          13,
          10,
          9,
          11,
          6,
          15,
          9,
          6,
          8,
          9,
          7,
          6,
          15,
          12,
          8,
          5,
          7,
          6,
          9,
          5,
          8,
          27,
          8
         ],
         "yaxis": "y4"
        },
        {
         "marker": {
          "color": "rgb(255, 233, 69)",
          "size": 6
         },
         "mode": "markers",
         "name": "unlisted",
         "showlegend": false,
         "type": "scatter",
         "uid": "4c1a3464-0c49-4cff-91a6-2df3d19b8ef3",
         "x": [
          205,
          121
         ],
         "xaxis": "x4",
         "y": [
          8,
          8
         ],
         "yaxis": "y4"
        },
        {
         "marker": {
          "color": "rgb(0, 32, 76)",
          "size": 6
         },
         "mode": "markers",
         "name": "published",
         "showlegend": false,
         "type": "scatter",
         "uid": "9749ffd4-d398-48cf-9f82-be52f129eaf0",
         "x": [
          19,
          17,
          15,
          5,
          11,
          12,
          14,
          6,
          11,
          5,
          6,
          12,
          6,
          7,
          4,
          6,
          11,
          6,
          10,
          3,
          6,
          12,
          3,
          9,
          8,
          4,
          11,
          9,
          11,
          10,
          11,
          10,
          8,
          10,
          12,
          12,
          7,
          3,
          15,
          13,
          11,
          9,
          12,
          11,
          20,
          10,
          14,
          9,
          18,
          15,
          6,
          11,
          8,
          10,
          3,
          17,
          15,
          1,
          16,
          10,
          15,
          5,
          8,
          17,
          9,
          8,
          13,
          10,
          9,
          11,
          6,
          15,
          9,
          6,
          8,
          9,
          7,
          6,
          15,
          12,
          8,
          5,
          7,
          6,
          9,
          5,
          8,
          27,
          8
         ],
         "xaxis": "x5",
         "y": [
          141,
          7916,
          797,
          1258,
          773,
          27835,
          32966,
          66,
          21761,
          3239,
          58,
          42301,
          7438,
          481,
          2290,
          7194,
          11218,
          7297,
          15284,
          30140,
          1366,
          16917,
          135,
          11571,
          2141,
          5923,
          26703,
          14756,
          20727,
          11418,
          32661,
          18986,
          15987,
          19994,
          6874,
          6783,
          21705,
          1508,
          23740,
          9695,
          6555,
          8494,
          10457,
          25366,
          1908,
          20779,
          5990,
          9053,
          7115,
          1016,
          2027,
          7230,
          5982,
          1173,
          13755,
          7471,
          1260,
          1265,
          2598,
          4043,
          4734,
          1556,
          356,
          4486,
          880,
          8183,
          1609,
          3203,
          559,
          9611,
          1336,
          6148,
          1324,
          2562,
          1267,
          1831,
          8692,
          5709,
          1849,
          5188,
          4678,
          12175,
          1329,
          430,
          3959,
          2170,
          380,
          267,
          1626
         ],
         "yaxis": "y5"
        },
        {
         "marker": {
          "color": "rgb(255, 233, 69)",
          "size": 6
         },
         "mode": "markers",
         "name": "unlisted",
         "showlegend": false,
         "type": "scatter",
         "uid": "6836c98b-4fac-457a-a5dd-63b3a119bc1a",
         "x": [
          8,
          8
         ],
         "xaxis": "x5",
         "y": [
          147,
          62
         ],
         "yaxis": "y5"
        },
        {
         "marker": {
          "color": "rgb(0, 32, 76)"
         },
         "showlegend": false,
         "type": "histogram",
         "uid": "f03628ec-9d21-4fd0-9800-22ab7392b441",
         "x": [
          141,
          7916,
          797,
          1258,
          773,
          27835,
          32966,
          66,
          21761,
          3239,
          58,
          42301,
          7438,
          481,
          2290,
          7194,
          11218,
          7297,
          15284,
          30140,
          1366,
          16917,
          135,
          11571,
          2141,
          5923,
          26703,
          14756,
          20727,
          11418,
          32661,
          18986,
          15987,
          19994,
          6874,
          6783,
          21705,
          1508,
          23740,
          9695,
          6555,
          8494,
          10457,
          25366,
          1908,
          20779,
          5990,
          9053,
          7115,
          1016,
          2027,
          7230,
          5982,
          1173,
          13755,
          7471,
          1260,
          1265,
          2598,
          4043,
          4734,
          1556,
          356,
          4486,
          880,
          8183,
          1609,
          3203,
          559,
          9611,
          1336,
          6148,
          1324,
          2562,
          1267,
          1831,
          8692,
          5709,
          1849,
          5188,
          4678,
          12175,
          1329,
          430,
          3959,
          2170,
          380,
          267,
          1626
         ],
         "xaxis": "x6",
         "yaxis": "y6"
        },
        {
         "marker": {
          "color": "rgb(255, 233, 69)"
         },
         "showlegend": false,
         "type": "histogram",
         "uid": "8508c03a-a17d-4ac6-b790-aa1e64bc5349",
         "x": [
          147,
          62
         ],
         "xaxis": "x6",
         "yaxis": "y6"
        },
        {
         "marker": {
          "color": "rgb(0, 32, 76)",
          "size": 6
         },
         "mode": "markers",
         "name": "published",
         "showlegend": false,
         "type": "scatter",
         "uid": "c97a07ac-e7ea-48bb-a409-8fe3aebb6e2b",
         "x": [
          43.52,
          22.78,
          28.18,
          34.52,
          31.01,
          23.98,
          25.11,
          41.77,
          26.5,
          62.04,
          53.21,
          31.16,
          35.83,
          27.87,
          54.63,
          41.77,
          30.9,
          47.39,
          29.79,
          62.51,
          43.12,
          29,
          57.94,
          32.4,
          42.86,
          43.28,
          20.45,
          22.44,
          36.75,
          36.97,
          27.09,
          33.36,
          31.39,
          33.88,
          31.15,
          26.69,
          31.63,
          63.28,
          18.9,
          20.86,
          23.74,
          25.07,
          23.86,
          21.94,
          16.85,
          25.54,
          22.08,
          27.46,
          14.42,
          18.18,
          42.15,
          24.17,
          32.46,
          27.19,
          44.04,
          16.73,
          19.63,
          74.24,
          17.48,
          26.9,
          18.89,
          40.99,
          18.17,
          18.21,
          28.46,
          27.09,
          20.58,
          23.6,
          25.83,
          28.35,
          39.7,
          16.9,
          24.35,
          38.71,
          21.76,
          21.67,
          30.09,
          34.92,
          17.94,
          21.65,
          19.6,
          44.82,
          22,
          47.94,
          29.2,
          31.63,
          37.92,
          19.21,
          30.01
         ],
         "xaxis": "x7",
         "y": [
          141,
          7916,
          797,
          1258,
          773,
          27835,
          32966,
          66,
          21761,
          3239,
          58,
          42301,
          7438,
          481,
          2290,
          7194,
          11218,
          7297,
          15284,
          30140,
          1366,
          16917,
          135,
          11571,
          2141,
          5923,
          26703,
          14756,
          20727,
          11418,
          32661,
          18986,
          15987,
          19994,
          6874,
          6783,
          21705,
          1508,
          23740,
          9695,
          6555,
          8494,
          10457,
          25366,
          1908,
          20779,
          5990,
          9053,
          7115,
          1016,
          2027,
          7230,
          5982,
          1173,
          13755,
          7471,
          1260,
          1265,
          2598,
          4043,
          4734,
          1556,
          356,
          4486,
          880,
          8183,
          1609,
          3203,
          559,
          9611,
          1336,
          6148,
          1324,
          2562,
          1267,
          1831,
          8692,
          5709,
          1849,
          5188,
          4678,
          12175,
          1329,
          430,
          3959,
          2170,
          380,
          267,
          1626
         ],
         "yaxis": "y7"
        },
        {
         "marker": {
          "color": "rgb(255, 233, 69)",
          "size": 6
         },
         "mode": "markers",
         "name": "unlisted",
         "showlegend": false,
         "type": "scatter",
         "uid": "669ed69c-a209-4192-9b82-6ad3c9b4de51",
         "x": [
          35.42,
          24.22
         ],
         "xaxis": "x7",
         "y": [
          147,
          62
         ],
         "yaxis": "y7"
        },
        {
         "marker": {
          "color": "rgb(0, 32, 76)",
          "size": 6
         },
         "mode": "markers",
         "name": "published",
         "showlegend": false,
         "type": "scatter",
         "uid": "86879ea8-2b4d-48d4-8002-82cdf68e78de",
         "x": [
          123,
          868,
          186,
          11,
          120,
          2100,
          4100,
          59,
          2800,
          82,
          21,
          7300,
          1200,
          285,
          1600,
          1600,
          1100,
          4300,
          4970,
          12900,
          225,
          5100,
          101,
          6000,
          648,
          977,
          7000,
          7000,
          2800,
          1100,
          3000,
          2600,
          2900,
          5500,
          1300,
          1000,
          8000,
          363,
          13600,
          4100,
          2200,
          3900,
          6400,
          8500,
          1300,
          5500,
          2400,
          2800,
          2400,
          715,
          717,
          3300,
          4400,
          844,
          914,
          3800,
          662,
          658,
          1100,
          2900,
          3100,
          797,
          246,
          3400,
          347,
          2600,
          1000,
          2100,
          966,
          3300,
          710,
          2500,
          815,
          755,
          603,
          941,
          2400,
          1400,
          787,
          2800,
          2100,
          3800,
          568,
          867,
          1000,
          730,
          430,
          560,
          748
         ],
         "xaxis": "x8",
         "y": [
          141,
          7916,
          797,
          1258,
          773,
          27835,
          32966,
          66,
          21761,
          3239,
          58,
          42301,
          7438,
          481,
          2290,
          7194,
          11218,
          7297,
          15284,
          30140,
          1366,
          16917,
          135,
          11571,
          2141,
          5923,
          26703,
          14756,
          20727,
          11418,
          32661,
          18986,
          15987,
          19994,
          6874,
          6783,
          21705,
          1508,
          23740,
          9695,
          6555,
          8494,
          10457,
          25366,
          1908,
          20779,
          5990,
          9053,
          7115,
          1016,
          2027,
          7230,
          5982,
          1173,
          13755,
          7471,
          1260,
          1265,
          2598,
          4043,
          4734,
          1556,
          356,
          4486,
          880,
          8183,
          1609,
          3203,
          559,
          9611,
          1336,
          6148,
          1324,
          2562,
          1267,
          1831,
          8692,
          5709,
          1849,
          5188,
          4678,
          12175,
          1329,
          430,
          3959,
          2170,
          380,
          267,
          1626
         ],
         "yaxis": "y8"
        },
        {
         "marker": {
          "color": "rgb(255, 233, 69)",
          "size": 6
         },
         "mode": "markers",
         "name": "unlisted",
         "showlegend": false,
         "type": "scatter",
         "uid": "71ce2d18-6c9d-4076-91ab-c266572e2f09",
         "x": [
          205,
          121
         ],
         "xaxis": "x8",
         "y": [
          147,
          62
         ],
         "yaxis": "y8"
        },
        {
         "marker": {
          "color": "rgb(0, 32, 76)",
          "size": 6
         },
         "mode": "markers",
         "name": "published",
         "showlegend": false,
         "type": "scatter",
         "uid": "5678aec3-7bc5-4579-852b-c5691b043a7d",
         "x": [
          19,
          17,
          15,
          5,
          11,
          12,
          14,
          6,
          11,
          5,
          6,
          12,
          6,
          7,
          4,
          6,
          11,
          6,
          10,
          3,
          6,
          12,
          3,
          9,
          8,
          4,
          11,
          9,
          11,
          10,
          11,
          10,
          8,
          10,
          12,
          12,
          7,
          3,
          15,
          13,
          11,
          9,
          12,
          11,
          20,
          10,
          14,
          9,
          18,
          15,
          6,
          11,
          8,
          10,
          3,
          17,
          15,
          1,
          16,
          10,
          15,
          5,
          8,
          17,
          9,
          8,
          13,
          10,
          9,
          11,
          6,
          15,
          9,
          6,
          8,
          9,
          7,
          6,
          15,
          12,
          8,
          5,
          7,
          6,
          9,
          5,
          8,
          27,
          8
         ],
         "xaxis": "x9",
         "y": [
          43.52,
          22.78,
          28.18,
          34.52,
          31.01,
          23.98,
          25.11,
          41.77,
          26.5,
          62.04,
          53.21,
          31.16,
          35.83,
          27.87,
          54.63,
          41.77,
          30.9,
          47.39,
          29.79,
          62.51,
          43.12,
          29,
          57.94,
          32.4,
          42.86,
          43.28,
          20.45,
          22.44,
          36.75,
          36.97,
          27.09,
          33.36,
          31.39,
          33.88,
          31.15,
          26.69,
          31.63,
          63.28,
          18.9,
          20.86,
          23.74,
          25.07,
          23.86,
          21.94,
          16.85,
          25.54,
          22.08,
          27.46,
          14.42,
          18.18,
          42.15,
          24.17,
          32.46,
          27.19,
          44.04,
          16.73,
          19.63,
          74.24,
          17.48,
          26.9,
          18.89,
          40.99,
          18.17,
          18.21,
          28.46,
          27.09,
          20.58,
          23.6,
          25.83,
          28.35,
          39.7,
          16.9,
          24.35,
          38.71,
          21.76,
          21.67,
          30.09,
          34.92,
          17.94,
          21.65,
          19.6,
          44.82,
          22,
          47.94,
          29.2,
          31.63,
          37.92,
          19.21,
          30.01
         ],
         "yaxis": "y9"
        },
        {
         "marker": {
          "color": "rgb(255, 233, 69)",
          "size": 6
         },
         "mode": "markers",
         "name": "unlisted",
         "showlegend": false,
         "type": "scatter",
         "uid": "4640d05d-98ce-43a1-aa4e-b3c696a6c982",
         "x": [
          8,
          8
         ],
         "xaxis": "x9",
         "y": [
          35.42,
          24.22
         ],
         "yaxis": "y9"
        },
        {
         "marker": {
          "color": "rgb(0, 32, 76)",
          "size": 6
         },
         "mode": "markers",
         "name": "published",
         "showlegend": false,
         "type": "scatter",
         "uid": "3cbd02da-9dd5-437a-84ff-ddca92307e2e",
         "x": [
          141,
          7916,
          797,
          1258,
          773,
          27835,
          32966,
          66,
          21761,
          3239,
          58,
          42301,
          7438,
          481,
          2290,
          7194,
          11218,
          7297,
          15284,
          30140,
          1366,
          16917,
          135,
          11571,
          2141,
          5923,
          26703,
          14756,
          20727,
          11418,
          32661,
          18986,
          15987,
          19994,
          6874,
          6783,
          21705,
          1508,
          23740,
          9695,
          6555,
          8494,
          10457,
          25366,
          1908,
          20779,
          5990,
          9053,
          7115,
          1016,
          2027,
          7230,
          5982,
          1173,
          13755,
          7471,
          1260,
          1265,
          2598,
          4043,
          4734,
          1556,
          356,
          4486,
          880,
          8183,
          1609,
          3203,
          559,
          9611,
          1336,
          6148,
          1324,
          2562,
          1267,
          1831,
          8692,
          5709,
          1849,
          5188,
          4678,
          12175,
          1329,
          430,
          3959,
          2170,
          380,
          267,
          1626
         ],
         "xaxis": "x10",
         "y": [
          43.52,
          22.78,
          28.18,
          34.52,
          31.01,
          23.98,
          25.11,
          41.77,
          26.5,
          62.04,
          53.21,
          31.16,
          35.83,
          27.87,
          54.63,
          41.77,
          30.9,
          47.39,
          29.79,
          62.51,
          43.12,
          29,
          57.94,
          32.4,
          42.86,
          43.28,
          20.45,
          22.44,
          36.75,
          36.97,
          27.09,
          33.36,
          31.39,
          33.88,
          31.15,
          26.69,
          31.63,
          63.28,
          18.9,
          20.86,
          23.74,
          25.07,
          23.86,
          21.94,
          16.85,
          25.54,
          22.08,
          27.46,
          14.42,
          18.18,
          42.15,
          24.17,
          32.46,
          27.19,
          44.04,
          16.73,
          19.63,
          74.24,
          17.48,
          26.9,
          18.89,
          40.99,
          18.17,
          18.21,
          28.46,
          27.09,
          20.58,
          23.6,
          25.83,
          28.35,
          39.7,
          16.9,
          24.35,
          38.71,
          21.76,
          21.67,
          30.09,
          34.92,
          17.94,
          21.65,
          19.6,
          44.82,
          22,
          47.94,
          29.2,
          31.63,
          37.92,
          19.21,
          30.01
         ],
         "yaxis": "y10"
        },
        {
         "marker": {
          "color": "rgb(255, 233, 69)",
          "size": 6
         },
         "mode": "markers",
         "name": "unlisted",
         "showlegend": false,
         "type": "scatter",
         "uid": "d62d8ca5-817b-48a1-8dd2-fa64b2795f97",
         "x": [
          147,
          62
         ],
         "xaxis": "x10",
         "y": [
          35.42,
          24.22
         ],
         "yaxis": "y10"
        },
        {
         "marker": {
          "color": "rgb(0, 32, 76)"
         },
         "showlegend": false,
         "type": "histogram",
         "uid": "5e835ffe-1c38-4ab9-9dfe-76b0d3cc95ca",
         "x": [
          43.52,
          22.78,
          28.18,
          34.52,
          31.01,
          23.98,
          25.11,
          41.77,
          26.5,
          62.04,
          53.21,
          31.16,
          35.83,
          27.87,
          54.63,
          41.77,
          30.9,
          47.39,
          29.79,
          62.51,
          43.12,
          29,
          57.94,
          32.4,
          42.86,
          43.28,
          20.45,
          22.44,
          36.75,
          36.97,
          27.09,
          33.36,
          31.39,
          33.88,
          31.15,
          26.69,
          31.63,
          63.28,
          18.9,
          20.86,
          23.74,
          25.07,
          23.86,
          21.94,
          16.85,
          25.54,
          22.08,
          27.46,
          14.42,
          18.18,
          42.15,
          24.17,
          32.46,
          27.19,
          44.04,
          16.73,
          19.63,
          74.24,
          17.48,
          26.9,
          18.89,
          40.99,
          18.17,
          18.21,
          28.46,
          27.09,
          20.58,
          23.6,
          25.83,
          28.35,
          39.7,
          16.9,
          24.35,
          38.71,
          21.76,
          21.67,
          30.09,
          34.92,
          17.94,
          21.65,
          19.6,
          44.82,
          22,
          47.94,
          29.2,
          31.63,
          37.92,
          19.21,
          30.01
         ],
         "xaxis": "x11",
         "yaxis": "y11"
        },
        {
         "marker": {
          "color": "rgb(255, 233, 69)"
         },
         "showlegend": false,
         "type": "histogram",
         "uid": "a85a333d-6486-4d21-b48e-2cdf168eac37",
         "x": [
          35.42,
          24.22
         ],
         "xaxis": "x11",
         "yaxis": "y11"
        },
        {
         "marker": {
          "color": "rgb(0, 32, 76)",
          "size": 6
         },
         "mode": "markers",
         "name": "published",
         "showlegend": false,
         "type": "scatter",
         "uid": "2d726363-971d-45ff-bae3-d6d73b6d8eec",
         "x": [
          123,
          868,
          186,
          11,
          120,
          2100,
          4100,
          59,
          2800,
          82,
          21,
          7300,
          1200,
          285,
          1600,
          1600,
          1100,
          4300,
          4970,
          12900,
          225,
          5100,
          101,
          6000,
          648,
          977,
          7000,
          7000,
          2800,
          1100,
          3000,
          2600,
          2900,
          5500,
          1300,
          1000,
          8000,
          363,
          13600,
          4100,
          2200,
          3900,
          6400,
          8500,
          1300,
          5500,
          2400,
          2800,
          2400,
          715,
          717,
          3300,
          4400,
          844,
          914,
          3800,
          662,
          658,
          1100,
          2900,
          3100,
          797,
          246,
          3400,
          347,
          2600,
          1000,
          2100,
          966,
          3300,
          710,
          2500,
          815,
          755,
          603,
          941,
          2400,
          1400,
          787,
          2800,
          2100,
          3800,
          568,
          867,
          1000,
          730,
          430,
          560,
          748
         ],
         "xaxis": "x12",
         "y": [
          43.52,
          22.78,
          28.18,
          34.52,
          31.01,
          23.98,
          25.11,
          41.77,
          26.5,
          62.04,
          53.21,
          31.16,
          35.83,
          27.87,
          54.63,
          41.77,
          30.9,
          47.39,
          29.79,
          62.51,
          43.12,
          29,
          57.94,
          32.4,
          42.86,
          43.28,
          20.45,
          22.44,
          36.75,
          36.97,
          27.09,
          33.36,
          31.39,
          33.88,
          31.15,
          26.69,
          31.63,
          63.28,
          18.9,
          20.86,
          23.74,
          25.07,
          23.86,
          21.94,
          16.85,
          25.54,
          22.08,
          27.46,
          14.42,
          18.18,
          42.15,
          24.17,
          32.46,
          27.19,
          44.04,
          16.73,
          19.63,
          74.24,
          17.48,
          26.9,
          18.89,
          40.99,
          18.17,
          18.21,
          28.46,
          27.09,
          20.58,
          23.6,
          25.83,
          28.35,
          39.7,
          16.9,
          24.35,
          38.71,
          21.76,
          21.67,
          30.09,
          34.92,
          17.94,
          21.65,
          19.6,
          44.82,
          22,
          47.94,
          29.2,
          31.63,
          37.92,
          19.21,
          30.01
         ],
         "yaxis": "y12"
        },
        {
         "marker": {
          "color": "rgb(255, 233, 69)",
          "size": 6
         },
         "mode": "markers",
         "name": "unlisted",
         "showlegend": false,
         "type": "scatter",
         "uid": "8fe89e40-9c8d-4441-82c7-4c385626a3ab",
         "x": [
          205,
          121
         ],
         "xaxis": "x12",
         "y": [
          35.42,
          24.22
         ],
         "yaxis": "y12"
        },
        {
         "marker": {
          "color": "rgb(0, 32, 76)",
          "size": 6
         },
         "mode": "markers",
         "name": "published",
         "showlegend": false,
         "type": "scatter",
         "uid": "7af7836a-1db3-454e-9d76-e4fbce7f8f4f",
         "x": [
          19,
          17,
          15,
          5,
          11,
          12,
          14,
          6,
          11,
          5,
          6,
          12,
          6,
          7,
          4,
          6,
          11,
          6,
          10,
          3,
          6,
          12,
          3,
          9,
          8,
          4,
          11,
          9,
          11,
          10,
          11,
          10,
          8,
          10,
          12,
          12,
          7,
          3,
          15,
          13,
          11,
          9,
          12,
          11,
          20,
          10,
          14,
          9,
          18,
          15,
          6,
          11,
          8,
          10,
          3,
          17,
          15,
          1,
          16,
          10,
          15,
          5,
          8,
          17,
          9,
          8,
          13,
          10,
          9,
          11,
          6,
          15,
          9,
          6,
          8,
          9,
          7,
          6,
          15,
          12,
          8,
          5,
          7,
          6,
          9,
          5,
          8,
          27,
          8
         ],
         "xaxis": "x13",
         "y": [
          123,
          868,
          186,
          11,
          120,
          2100,
          4100,
          59,
          2800,
          82,
          21,
          7300,
          1200,
          285,
          1600,
          1600,
          1100,
          4300,
          4970,
          12900,
          225,
          5100,
          101,
          6000,
          648,
          977,
          7000,
          7000,
          2800,
          1100,
          3000,
          2600,
          2900,
          5500,
          1300,
          1000,
          8000,
          363,
          13600,
          4100,
          2200,
          3900,
          6400,
          8500,
          1300,
          5500,
          2400,
          2800,
          2400,
          715,
          717,
          3300,
          4400,
          844,
          914,
          3800,
          662,
          658,
          1100,
          2900,
          3100,
          797,
          246,
          3400,
          347,
          2600,
          1000,
          2100,
          966,
          3300,
          710,
          2500,
          815,
          755,
          603,
          941,
          2400,
          1400,
          787,
          2800,
          2100,
          3800,
          568,
          867,
          1000,
          730,
          430,
          560,
          748
         ],
         "yaxis": "y13"
        },
        {
         "marker": {
          "color": "rgb(255, 233, 69)",
          "size": 6
         },
         "mode": "markers",
         "name": "unlisted",
         "showlegend": false,
         "type": "scatter",
         "uid": "466763f9-591f-41ec-af09-6fcb84c6a0f1",
         "x": [
          8,
          8
         ],
         "xaxis": "x13",
         "y": [
          205,
          121
         ],
         "yaxis": "y13"
        },
        {
         "marker": {
          "color": "rgb(0, 32, 76)",
          "size": 6
         },
         "mode": "markers",
         "name": "published",
         "showlegend": false,
         "type": "scatter",
         "uid": "b0bffa2e-7809-4187-83ee-9e817dbfc5f0",
         "x": [
          141,
          7916,
          797,
          1258,
          773,
          27835,
          32966,
          66,
          21761,
          3239,
          58,
          42301,
          7438,
          481,
          2290,
          7194,
          11218,
          7297,
          15284,
          30140,
          1366,
          16917,
          135,
          11571,
          2141,
          5923,
          26703,
          14756,
          20727,
          11418,
          32661,
          18986,
          15987,
          19994,
          6874,
          6783,
          21705,
          1508,
          23740,
          9695,
          6555,
          8494,
          10457,
          25366,
          1908,
          20779,
          5990,
          9053,
          7115,
          1016,
          2027,
          7230,
          5982,
          1173,
          13755,
          7471,
          1260,
          1265,
          2598,
          4043,
          4734,
          1556,
          356,
          4486,
          880,
          8183,
          1609,
          3203,
          559,
          9611,
          1336,
          6148,
          1324,
          2562,
          1267,
          1831,
          8692,
          5709,
          1849,
          5188,
          4678,
          12175,
          1329,
          430,
          3959,
          2170,
          380,
          267,
          1626
         ],
         "xaxis": "x14",
         "y": [
          123,
          868,
          186,
          11,
          120,
          2100,
          4100,
          59,
          2800,
          82,
          21,
          7300,
          1200,
          285,
          1600,
          1600,
          1100,
          4300,
          4970,
          12900,
          225,
          5100,
          101,
          6000,
          648,
          977,
          7000,
          7000,
          2800,
          1100,
          3000,
          2600,
          2900,
          5500,
          1300,
          1000,
          8000,
          363,
          13600,
          4100,
          2200,
          3900,
          6400,
          8500,
          1300,
          5500,
          2400,
          2800,
          2400,
          715,
          717,
          3300,
          4400,
          844,
          914,
          3800,
          662,
          658,
          1100,
          2900,
          3100,
          797,
          246,
          3400,
          347,
          2600,
          1000,
          2100,
          966,
          3300,
          710,
          2500,
          815,
          755,
          603,
          941,
          2400,
          1400,
          787,
          2800,
          2100,
          3800,
          568,
          867,
          1000,
          730,
          430,
          560,
          748
         ],
         "yaxis": "y14"
        },
        {
         "marker": {
          "color": "rgb(255, 233, 69)",
          "size": 6
         },
         "mode": "markers",
         "name": "unlisted",
         "showlegend": false,
         "type": "scatter",
         "uid": "6dece7fb-254e-4a5d-8b5e-eb1f63bbbc6d",
         "x": [
          147,
          62
         ],
         "xaxis": "x14",
         "y": [
          205,
          121
         ],
         "yaxis": "y14"
        },
        {
         "marker": {
          "color": "rgb(0, 32, 76)",
          "size": 6
         },
         "mode": "markers",
         "name": "published",
         "showlegend": false,
         "type": "scatter",
         "uid": "f6fdeb70-43d8-4e18-b7ce-193a2778ad83",
         "x": [
          43.52,
          22.78,
          28.18,
          34.52,
          31.01,
          23.98,
          25.11,
          41.77,
          26.5,
          62.04,
          53.21,
          31.16,
          35.83,
          27.87,
          54.63,
          41.77,
          30.9,
          47.39,
          29.79,
          62.51,
          43.12,
          29,
          57.94,
          32.4,
          42.86,
          43.28,
          20.45,
          22.44,
          36.75,
          36.97,
          27.09,
          33.36,
          31.39,
          33.88,
          31.15,
          26.69,
          31.63,
          63.28,
          18.9,
          20.86,
          23.74,
          25.07,
          23.86,
          21.94,
          16.85,
          25.54,
          22.08,
          27.46,
          14.42,
          18.18,
          42.15,
          24.17,
          32.46,
          27.19,
          44.04,
          16.73,
          19.63,
          74.24,
          17.48,
          26.9,
          18.89,
          40.99,
          18.17,
          18.21,
          28.46,
          27.09,
          20.58,
          23.6,
          25.83,
          28.35,
          39.7,
          16.9,
          24.35,
          38.71,
          21.76,
          21.67,
          30.09,
          34.92,
          17.94,
          21.65,
          19.6,
          44.82,
          22,
          47.94,
          29.2,
          31.63,
          37.92,
          19.21,
          30.01
         ],
         "xaxis": "x15",
         "y": [
          123,
          868,
          186,
          11,
          120,
          2100,
          4100,
          59,
          2800,
          82,
          21,
          7300,
          1200,
          285,
          1600,
          1600,
          1100,
          4300,
          4970,
          12900,
          225,
          5100,
          101,
          6000,
          648,
          977,
          7000,
          7000,
          2800,
          1100,
          3000,
          2600,
          2900,
          5500,
          1300,
          1000,
          8000,
          363,
          13600,
          4100,
          2200,
          3900,
          6400,
          8500,
          1300,
          5500,
          2400,
          2800,
          2400,
          715,
          717,
          3300,
          4400,
          844,
          914,
          3800,
          662,
          658,
          1100,
          2900,
          3100,
          797,
          246,
          3400,
          347,
          2600,
          1000,
          2100,
          966,
          3300,
          710,
          2500,
          815,
          755,
          603,
          941,
          2400,
          1400,
          787,
          2800,
          2100,
          3800,
          568,
          867,
          1000,
          730,
          430,
          560,
          748
         ],
         "yaxis": "y15"
        },
        {
         "marker": {
          "color": "rgb(255, 233, 69)",
          "size": 6
         },
         "mode": "markers",
         "name": "unlisted",
         "showlegend": false,
         "type": "scatter",
         "uid": "c078810d-b613-48da-b00c-52e0e31793b5",
         "x": [
          35.42,
          24.22
         ],
         "xaxis": "x15",
         "y": [
          205,
          121
         ],
         "yaxis": "y15"
        },
        {
         "marker": {
          "color": "rgb(0, 32, 76)"
         },
         "showlegend": false,
         "type": "histogram",
         "uid": "fd37e604-66d2-4d7f-b2fb-84ff8f13d496",
         "x": [
          123,
          868,
          186,
          11,
          120,
          2100,
          4100,
          59,
          2800,
          82,
          21,
          7300,
          1200,
          285,
          1600,
          1600,
          1100,
          4300,
          4970,
          12900,
          225,
          5100,
          101,
          6000,
          648,
          977,
          7000,
          7000,
          2800,
          1100,
          3000,
          2600,
          2900,
          5500,
          1300,
          1000,
          8000,
          363,
          13600,
          4100,
          2200,
          3900,
          6400,
          8500,
          1300,
          5500,
          2400,
          2800,
          2400,
          715,
          717,
          3300,
          4400,
          844,
          914,
          3800,
          662,
          658,
          1100,
          2900,
          3100,
          797,
          246,
          3400,
          347,
          2600,
          1000,
          2100,
          966,
          3300,
          710,
          2500,
          815,
          755,
          603,
          941,
          2400,
          1400,
          787,
          2800,
          2100,
          3800,
          568,
          867,
          1000,
          730,
          430,
          560,
          748
         ],
         "xaxis": "x16",
         "yaxis": "y16"
        },
        {
         "marker": {
          "color": "rgb(255, 233, 69)"
         },
         "showlegend": false,
         "type": "histogram",
         "uid": "f35488bc-959c-4a27-8b8c-11077e1d606d",
         "x": [
          205,
          121
         ],
         "xaxis": "x16",
         "yaxis": "y16"
        }
       ],
       "layout": {
        "barmode": "stack",
        "height": 800,
        "showlegend": true,
        "title": {
         "text": "Scatterplot Matrix"
        },
        "width": 800,
        "xaxis": {
         "anchor": "y",
         "domain": [
          0,
          0.2125
         ]
        },
        "xaxis10": {
         "anchor": "y10",
         "domain": [
          0.2625,
          0.475
         ]
        },
        "xaxis11": {
         "anchor": "y11",
         "domain": [
          0.525,
          0.7375
         ]
        },
        "xaxis12": {
         "anchor": "y12",
         "domain": [
          0.7875,
          1
         ]
        },
        "xaxis13": {
         "anchor": "y13",
         "domain": [
          0,
          0.2125
         ],
         "title": {
          "text": "read_time"
         }
        },
        "xaxis14": {
         "anchor": "y14",
         "domain": [
          0.2625,
          0.475
         ],
         "title": {
          "text": "reads"
         }
        },
        "xaxis15": {
         "anchor": "y15",
         "domain": [
          0.525,
          0.7375
         ],
         "title": {
          "text": "read_ratio"
         }
        },
        "xaxis16": {
         "anchor": "y16",
         "domain": [
          0.7875,
          1
         ],
         "title": {
          "text": "claps"
         }
        },
        "xaxis2": {
         "anchor": "y2",
         "domain": [
          0.2625,
          0.475
         ]
        },
        "xaxis3": {
         "anchor": "y3",
         "domain": [
          0.525,
          0.7375
         ]
        },
        "xaxis4": {
         "anchor": "y4",
         "domain": [
          0.7875,
          1
         ]
        },
        "xaxis5": {
         "anchor": "y5",
         "domain": [
          0,
          0.2125
         ]
        },
        "xaxis6": {
         "anchor": "y6",
         "domain": [
          0.2625,
          0.475
         ]
        },
        "xaxis7": {
         "anchor": "y7",
         "domain": [
          0.525,
          0.7375
         ]
        },
        "xaxis8": {
         "anchor": "y8",
         "domain": [
          0.7875,
          1
         ]
        },
        "xaxis9": {
         "anchor": "y9",
         "domain": [
          0,
          0.2125
         ]
        },
        "yaxis": {
         "anchor": "x",
         "domain": [
          0.80625,
          1
         ],
         "title": {
          "text": "read_time"
         }
        },
        "yaxis10": {
         "anchor": "x10",
         "domain": [
          0.26875,
          0.4625
         ]
        },
        "yaxis11": {
         "anchor": "x11",
         "domain": [
          0.26875,
          0.4625
         ]
        },
        "yaxis12": {
         "anchor": "x12",
         "domain": [
          0.26875,
          0.4625
         ]
        },
        "yaxis13": {
         "anchor": "x13",
         "domain": [
          0,
          0.19375
         ],
         "title": {
          "text": "claps"
         }
        },
        "yaxis14": {
         "anchor": "x14",
         "domain": [
          0,
          0.19375
         ]
        },
        "yaxis15": {
         "anchor": "x15",
         "domain": [
          0,
          0.19375
         ]
        },
        "yaxis16": {
         "anchor": "x16",
         "domain": [
          0,
          0.19375
         ]
        },
        "yaxis2": {
         "anchor": "x2",
         "domain": [
          0.80625,
          1
         ]
        },
        "yaxis3": {
         "anchor": "x3",
         "domain": [
          0.80625,
          1
         ]
        },
        "yaxis4": {
         "anchor": "x4",
         "domain": [
          0.80625,
          1
         ]
        },
        "yaxis5": {
         "anchor": "x5",
         "domain": [
          0.5375,
          0.73125
         ],
         "title": {
          "text": "reads"
         }
        },
        "yaxis6": {
         "anchor": "x6",
         "domain": [
          0.5375,
          0.73125
         ]
        },
        "yaxis7": {
         "anchor": "x7",
         "domain": [
          0.5375,
          0.73125
         ]
        },
        "yaxis8": {
         "anchor": "x8",
         "domain": [
          0.5375,
          0.73125
         ]
        },
        "yaxis9": {
         "anchor": "x9",
         "domain": [
          0.26875,
          0.4625
         ],
         "title": {
          "text": "read_ratio"
         }
        }
       }
      },
      "text/html": [
       "<div id=\"e59935a9-f665-4db1-a8b5-5c3b01562456\" style=\"height: 800px; width: 800px;\" class=\"plotly-graph-div\"></div><script type=\"text/javascript\">require([\"plotly\"], function(Plotly) { window.PLOTLYENV=window.PLOTLYENV || {};window.PLOTLYENV.BASE_URL=\"https://plot.ly\";Plotly.newPlot(\"e59935a9-f665-4db1-a8b5-5c3b01562456\", [{\"marker\": {\"color\": \"rgb(0, 32, 76)\"}, \"showlegend\": false, \"x\": [19, 17, 15, 5, 11, 12, 14, 6, 11, 5, 6, 12, 6, 7, 4, 6, 11, 6, 10, 3, 6, 12, 3, 9, 8, 4, 11, 9, 11, 10, 11, 10, 8, 10, 12, 12, 7, 3, 15, 13, 11, 9, 12, 11, 20, 10, 14, 9, 18, 15, 6, 11, 8, 10, 3, 17, 15, 1, 16, 10, 15, 5, 8, 17, 9, 8, 13, 10, 9, 11, 6, 15, 9, 6, 8, 9, 7, 6, 15, 12, 8, 5, 7, 6, 9, 5, 8, 27, 8], \"type\": \"histogram\", \"uid\": \"93907914-7ad3-4e0d-bfbb-c000f2a33001\", \"xaxis\": \"x\", \"yaxis\": \"y\"}, {\"marker\": {\"color\": \"rgb(255, 233, 69)\"}, \"showlegend\": false, \"x\": [8, 8], \"type\": \"histogram\", \"uid\": \"5e378629-2a94-4e0d-8158-9b2b0fb245c5\", \"xaxis\": \"x\", \"yaxis\": \"y\"}, {\"marker\": {\"color\": \"rgb(0, 32, 76)\", \"size\": 6}, \"mode\": \"markers\", \"name\": \"published\", \"showlegend\": true, \"x\": [141, 7916, 797, 1258, 773, 27835, 32966, 66, 21761, 3239, 58, 42301, 7438, 481, 2290, 7194, 11218, 7297, 15284, 30140, 1366, 16917, 135, 11571, 2141, 5923, 26703, 14756, 20727, 11418, 32661, 18986, 15987, 19994, 6874, 6783, 21705, 1508, 23740, 9695, 6555, 8494, 10457, 25366, 1908, 20779, 5990, 9053, 7115, 1016, 2027, 7230, 5982, 1173, 13755, 7471, 1260, 1265, 2598, 4043, 4734, 1556, 356, 4486, 880, 8183, 1609, 3203, 559, 9611, 1336, 6148, 1324, 2562, 1267, 1831, 8692, 5709, 1849, 5188, 4678, 12175, 1329, 430, 3959, 2170, 380, 267, 1626], \"y\": [19, 17, 15, 5, 11, 12, 14, 6, 11, 5, 6, 12, 6, 7, 4, 6, 11, 6, 10, 3, 6, 12, 3, 9, 8, 4, 11, 9, 11, 10, 11, 10, 8, 10, 12, 12, 7, 3, 15, 13, 11, 9, 12, 11, 20, 10, 14, 9, 18, 15, 6, 11, 8, 10, 3, 17, 15, 1, 16, 10, 15, 5, 8, 17, 9, 8, 13, 10, 9, 11, 6, 15, 9, 6, 8, 9, 7, 6, 15, 12, 8, 5, 7, 6, 9, 5, 8, 27, 8], \"type\": \"scatter\", \"uid\": \"72f4b78f-303b-4af1-83e1-32d1cdea27fc\", \"xaxis\": \"x2\", \"yaxis\": \"y2\"}, {\"marker\": {\"color\": \"rgb(255, 233, 69)\", \"size\": 6}, \"mode\": \"markers\", \"name\": \"unlisted\", \"showlegend\": true, \"x\": [147, 62], \"y\": [8, 8], \"type\": \"scatter\", \"uid\": \"78a93c5c-b874-4698-ba91-d5b72c877bd1\", \"xaxis\": \"x2\", \"yaxis\": \"y2\"}, {\"marker\": {\"color\": \"rgb(0, 32, 76)\", \"size\": 6}, \"mode\": \"markers\", \"name\": \"published\", \"showlegend\": false, \"x\": [43.52, 22.78, 28.18, 34.52, 31.01, 23.98, 25.11, 41.77, 26.5, 62.04, 53.21, 31.16, 35.83, 27.87, 54.63, 41.77, 30.9, 47.39, 29.79, 62.51, 43.12, 29.0, 57.94, 32.4, 42.86, 43.28, 20.45, 22.44, 36.75, 36.97, 27.09, 33.36, 31.39, 33.88, 31.15, 26.69, 31.63, 63.28, 18.9, 20.86, 23.74, 25.07, 23.86, 21.94, 16.85, 25.54, 22.08, 27.46, 14.42, 18.18, 42.15, 24.17, 32.46, 27.19, 44.04, 16.73, 19.63, 74.24, 17.48, 26.9, 18.89, 40.99, 18.17, 18.21, 28.46, 27.09, 20.58, 23.6, 25.83, 28.35, 39.7, 16.9, 24.35, 38.71, 21.76, 21.67, 30.09, 34.92, 17.94, 21.65, 19.6, 44.82, 22.0, 47.94, 29.2, 31.63, 37.92, 19.21, 30.01], \"y\": [19, 17, 15, 5, 11, 12, 14, 6, 11, 5, 6, 12, 6, 7, 4, 6, 11, 6, 10, 3, 6, 12, 3, 9, 8, 4, 11, 9, 11, 10, 11, 10, 8, 10, 12, 12, 7, 3, 15, 13, 11, 9, 12, 11, 20, 10, 14, 9, 18, 15, 6, 11, 8, 10, 3, 17, 15, 1, 16, 10, 15, 5, 8, 17, 9, 8, 13, 10, 9, 11, 6, 15, 9, 6, 8, 9, 7, 6, 15, 12, 8, 5, 7, 6, 9, 5, 8, 27, 8], \"type\": \"scatter\", \"uid\": \"ebd42c55-18f9-4f82-8303-4d45d56598a6\", \"xaxis\": \"x3\", \"yaxis\": \"y3\"}, {\"marker\": {\"color\": \"rgb(255, 233, 69)\", \"size\": 6}, \"mode\": \"markers\", \"name\": \"unlisted\", \"showlegend\": false, \"x\": [35.42, 24.22], \"y\": [8, 8], \"type\": \"scatter\", \"uid\": \"7d912370-ae87-4559-890c-283b0af172b4\", \"xaxis\": \"x3\", \"yaxis\": \"y3\"}, {\"marker\": {\"color\": \"rgb(0, 32, 76)\", \"size\": 6}, \"mode\": \"markers\", \"name\": \"published\", \"showlegend\": false, \"x\": [123, 868, 186, 11, 120, 2100, 4100, 59, 2800, 82, 21, 7300, 1200, 285, 1600, 1600, 1100, 4300, 4970, 12900, 225, 5100, 101, 6000, 648, 977, 7000, 7000, 2800, 1100, 3000, 2600, 2900, 5500, 1300, 1000, 8000, 363, 13600, 4100, 2200, 3900, 6400, 8500, 1300, 5500, 2400, 2800, 2400, 715, 717, 3300, 4400, 844, 914, 3800, 662, 658, 1100, 2900, 3100, 797, 246, 3400, 347, 2600, 1000, 2100, 966, 3300, 710, 2500, 815, 755, 603, 941, 2400, 1400, 787, 2800, 2100, 3800, 568, 867, 1000, 730, 430, 560, 748], \"y\": [19, 17, 15, 5, 11, 12, 14, 6, 11, 5, 6, 12, 6, 7, 4, 6, 11, 6, 10, 3, 6, 12, 3, 9, 8, 4, 11, 9, 11, 10, 11, 10, 8, 10, 12, 12, 7, 3, 15, 13, 11, 9, 12, 11, 20, 10, 14, 9, 18, 15, 6, 11, 8, 10, 3, 17, 15, 1, 16, 10, 15, 5, 8, 17, 9, 8, 13, 10, 9, 11, 6, 15, 9, 6, 8, 9, 7, 6, 15, 12, 8, 5, 7, 6, 9, 5, 8, 27, 8], \"type\": \"scatter\", \"uid\": \"c0184594-254c-477c-8a79-ad1708d71d8d\", \"xaxis\": \"x4\", \"yaxis\": \"y4\"}, {\"marker\": {\"color\": \"rgb(255, 233, 69)\", \"size\": 6}, \"mode\": \"markers\", \"name\": \"unlisted\", \"showlegend\": false, \"x\": [205, 121], \"y\": [8, 8], \"type\": \"scatter\", \"uid\": \"4c1a3464-0c49-4cff-91a6-2df3d19b8ef3\", \"xaxis\": \"x4\", \"yaxis\": \"y4\"}, {\"marker\": {\"color\": \"rgb(0, 32, 76)\", \"size\": 6}, \"mode\": \"markers\", \"name\": \"published\", \"showlegend\": false, \"x\": [19, 17, 15, 5, 11, 12, 14, 6, 11, 5, 6, 12, 6, 7, 4, 6, 11, 6, 10, 3, 6, 12, 3, 9, 8, 4, 11, 9, 11, 10, 11, 10, 8, 10, 12, 12, 7, 3, 15, 13, 11, 9, 12, 11, 20, 10, 14, 9, 18, 15, 6, 11, 8, 10, 3, 17, 15, 1, 16, 10, 15, 5, 8, 17, 9, 8, 13, 10, 9, 11, 6, 15, 9, 6, 8, 9, 7, 6, 15, 12, 8, 5, 7, 6, 9, 5, 8, 27, 8], \"y\": [141, 7916, 797, 1258, 773, 27835, 32966, 66, 21761, 3239, 58, 42301, 7438, 481, 2290, 7194, 11218, 7297, 15284, 30140, 1366, 16917, 135, 11571, 2141, 5923, 26703, 14756, 20727, 11418, 32661, 18986, 15987, 19994, 6874, 6783, 21705, 1508, 23740, 9695, 6555, 8494, 10457, 25366, 1908, 20779, 5990, 9053, 7115, 1016, 2027, 7230, 5982, 1173, 13755, 7471, 1260, 1265, 2598, 4043, 4734, 1556, 356, 4486, 880, 8183, 1609, 3203, 559, 9611, 1336, 6148, 1324, 2562, 1267, 1831, 8692, 5709, 1849, 5188, 4678, 12175, 1329, 430, 3959, 2170, 380, 267, 1626], \"type\": \"scatter\", \"uid\": \"9749ffd4-d398-48cf-9f82-be52f129eaf0\", \"xaxis\": \"x5\", \"yaxis\": \"y5\"}, {\"marker\": {\"color\": \"rgb(255, 233, 69)\", \"size\": 6}, \"mode\": \"markers\", \"name\": \"unlisted\", \"showlegend\": false, \"x\": [8, 8], \"y\": [147, 62], \"type\": \"scatter\", \"uid\": \"6836c98b-4fac-457a-a5dd-63b3a119bc1a\", \"xaxis\": \"x5\", \"yaxis\": \"y5\"}, {\"marker\": {\"color\": \"rgb(0, 32, 76)\"}, \"showlegend\": false, \"x\": [141, 7916, 797, 1258, 773, 27835, 32966, 66, 21761, 3239, 58, 42301, 7438, 481, 2290, 7194, 11218, 7297, 15284, 30140, 1366, 16917, 135, 11571, 2141, 5923, 26703, 14756, 20727, 11418, 32661, 18986, 15987, 19994, 6874, 6783, 21705, 1508, 23740, 9695, 6555, 8494, 10457, 25366, 1908, 20779, 5990, 9053, 7115, 1016, 2027, 7230, 5982, 1173, 13755, 7471, 1260, 1265, 2598, 4043, 4734, 1556, 356, 4486, 880, 8183, 1609, 3203, 559, 9611, 1336, 6148, 1324, 2562, 1267, 1831, 8692, 5709, 1849, 5188, 4678, 12175, 1329, 430, 3959, 2170, 380, 267, 1626], \"type\": \"histogram\", \"uid\": \"f03628ec-9d21-4fd0-9800-22ab7392b441\", \"xaxis\": \"x6\", \"yaxis\": \"y6\"}, {\"marker\": {\"color\": \"rgb(255, 233, 69)\"}, \"showlegend\": false, \"x\": [147, 62], \"type\": \"histogram\", \"uid\": \"8508c03a-a17d-4ac6-b790-aa1e64bc5349\", \"xaxis\": \"x6\", \"yaxis\": \"y6\"}, {\"marker\": {\"color\": \"rgb(0, 32, 76)\", \"size\": 6}, \"mode\": \"markers\", \"name\": \"published\", \"showlegend\": false, \"x\": [43.52, 22.78, 28.18, 34.52, 31.01, 23.98, 25.11, 41.77, 26.5, 62.04, 53.21, 31.16, 35.83, 27.87, 54.63, 41.77, 30.9, 47.39, 29.79, 62.51, 43.12, 29.0, 57.94, 32.4, 42.86, 43.28, 20.45, 22.44, 36.75, 36.97, 27.09, 33.36, 31.39, 33.88, 31.15, 26.69, 31.63, 63.28, 18.9, 20.86, 23.74, 25.07, 23.86, 21.94, 16.85, 25.54, 22.08, 27.46, 14.42, 18.18, 42.15, 24.17, 32.46, 27.19, 44.04, 16.73, 19.63, 74.24, 17.48, 26.9, 18.89, 40.99, 18.17, 18.21, 28.46, 27.09, 20.58, 23.6, 25.83, 28.35, 39.7, 16.9, 24.35, 38.71, 21.76, 21.67, 30.09, 34.92, 17.94, 21.65, 19.6, 44.82, 22.0, 47.94, 29.2, 31.63, 37.92, 19.21, 30.01], \"y\": [141, 7916, 797, 1258, 773, 27835, 32966, 66, 21761, 3239, 58, 42301, 7438, 481, 2290, 7194, 11218, 7297, 15284, 30140, 1366, 16917, 135, 11571, 2141, 5923, 26703, 14756, 20727, 11418, 32661, 18986, 15987, 19994, 6874, 6783, 21705, 1508, 23740, 9695, 6555, 8494, 10457, 25366, 1908, 20779, 5990, 9053, 7115, 1016, 2027, 7230, 5982, 1173, 13755, 7471, 1260, 1265, 2598, 4043, 4734, 1556, 356, 4486, 880, 8183, 1609, 3203, 559, 9611, 1336, 6148, 1324, 2562, 1267, 1831, 8692, 5709, 1849, 5188, 4678, 12175, 1329, 430, 3959, 2170, 380, 267, 1626], \"type\": \"scatter\", \"uid\": \"c97a07ac-e7ea-48bb-a409-8fe3aebb6e2b\", \"xaxis\": \"x7\", \"yaxis\": \"y7\"}, {\"marker\": {\"color\": \"rgb(255, 233, 69)\", \"size\": 6}, \"mode\": \"markers\", \"name\": \"unlisted\", \"showlegend\": false, \"x\": [35.42, 24.22], \"y\": [147, 62], \"type\": \"scatter\", \"uid\": \"669ed69c-a209-4192-9b82-6ad3c9b4de51\", \"xaxis\": \"x7\", \"yaxis\": \"y7\"}, {\"marker\": {\"color\": \"rgb(0, 32, 76)\", \"size\": 6}, \"mode\": \"markers\", \"name\": \"published\", \"showlegend\": false, \"x\": [123, 868, 186, 11, 120, 2100, 4100, 59, 2800, 82, 21, 7300, 1200, 285, 1600, 1600, 1100, 4300, 4970, 12900, 225, 5100, 101, 6000, 648, 977, 7000, 7000, 2800, 1100, 3000, 2600, 2900, 5500, 1300, 1000, 8000, 363, 13600, 4100, 2200, 3900, 6400, 8500, 1300, 5500, 2400, 2800, 2400, 715, 717, 3300, 4400, 844, 914, 3800, 662, 658, 1100, 2900, 3100, 797, 246, 3400, 347, 2600, 1000, 2100, 966, 3300, 710, 2500, 815, 755, 603, 941, 2400, 1400, 787, 2800, 2100, 3800, 568, 867, 1000, 730, 430, 560, 748], \"y\": [141, 7916, 797, 1258, 773, 27835, 32966, 66, 21761, 3239, 58, 42301, 7438, 481, 2290, 7194, 11218, 7297, 15284, 30140, 1366, 16917, 135, 11571, 2141, 5923, 26703, 14756, 20727, 11418, 32661, 18986, 15987, 19994, 6874, 6783, 21705, 1508, 23740, 9695, 6555, 8494, 10457, 25366, 1908, 20779, 5990, 9053, 7115, 1016, 2027, 7230, 5982, 1173, 13755, 7471, 1260, 1265, 2598, 4043, 4734, 1556, 356, 4486, 880, 8183, 1609, 3203, 559, 9611, 1336, 6148, 1324, 2562, 1267, 1831, 8692, 5709, 1849, 5188, 4678, 12175, 1329, 430, 3959, 2170, 380, 267, 1626], \"type\": \"scatter\", \"uid\": \"86879ea8-2b4d-48d4-8002-82cdf68e78de\", \"xaxis\": \"x8\", \"yaxis\": \"y8\"}, {\"marker\": {\"color\": \"rgb(255, 233, 69)\", \"size\": 6}, \"mode\": \"markers\", \"name\": \"unlisted\", \"showlegend\": false, \"x\": [205, 121], \"y\": [147, 62], \"type\": \"scatter\", \"uid\": \"71ce2d18-6c9d-4076-91ab-c266572e2f09\", \"xaxis\": \"x8\", \"yaxis\": \"y8\"}, {\"marker\": {\"color\": \"rgb(0, 32, 76)\", \"size\": 6}, \"mode\": \"markers\", \"name\": \"published\", \"showlegend\": false, \"x\": [19, 17, 15, 5, 11, 12, 14, 6, 11, 5, 6, 12, 6, 7, 4, 6, 11, 6, 10, 3, 6, 12, 3, 9, 8, 4, 11, 9, 11, 10, 11, 10, 8, 10, 12, 12, 7, 3, 15, 13, 11, 9, 12, 11, 20, 10, 14, 9, 18, 15, 6, 11, 8, 10, 3, 17, 15, 1, 16, 10, 15, 5, 8, 17, 9, 8, 13, 10, 9, 11, 6, 15, 9, 6, 8, 9, 7, 6, 15, 12, 8, 5, 7, 6, 9, 5, 8, 27, 8], \"y\": [43.52, 22.78, 28.18, 34.52, 31.01, 23.98, 25.11, 41.77, 26.5, 62.04, 53.21, 31.16, 35.83, 27.87, 54.63, 41.77, 30.9, 47.39, 29.79, 62.51, 43.12, 29.0, 57.94, 32.4, 42.86, 43.28, 20.45, 22.44, 36.75, 36.97, 27.09, 33.36, 31.39, 33.88, 31.15, 26.69, 31.63, 63.28, 18.9, 20.86, 23.74, 25.07, 23.86, 21.94, 16.85, 25.54, 22.08, 27.46, 14.42, 18.18, 42.15, 24.17, 32.46, 27.19, 44.04, 16.73, 19.63, 74.24, 17.48, 26.9, 18.89, 40.99, 18.17, 18.21, 28.46, 27.09, 20.58, 23.6, 25.83, 28.35, 39.7, 16.9, 24.35, 38.71, 21.76, 21.67, 30.09, 34.92, 17.94, 21.65, 19.6, 44.82, 22.0, 47.94, 29.2, 31.63, 37.92, 19.21, 30.01], \"type\": \"scatter\", \"uid\": \"5678aec3-7bc5-4579-852b-c5691b043a7d\", \"xaxis\": \"x9\", \"yaxis\": \"y9\"}, {\"marker\": {\"color\": \"rgb(255, 233, 69)\", \"size\": 6}, \"mode\": \"markers\", \"name\": \"unlisted\", \"showlegend\": false, \"x\": [8, 8], \"y\": [35.42, 24.22], \"type\": \"scatter\", \"uid\": \"4640d05d-98ce-43a1-aa4e-b3c696a6c982\", \"xaxis\": \"x9\", \"yaxis\": \"y9\"}, {\"marker\": {\"color\": \"rgb(0, 32, 76)\", \"size\": 6}, \"mode\": \"markers\", \"name\": \"published\", \"showlegend\": false, \"x\": [141, 7916, 797, 1258, 773, 27835, 32966, 66, 21761, 3239, 58, 42301, 7438, 481, 2290, 7194, 11218, 7297, 15284, 30140, 1366, 16917, 135, 11571, 2141, 5923, 26703, 14756, 20727, 11418, 32661, 18986, 15987, 19994, 6874, 6783, 21705, 1508, 23740, 9695, 6555, 8494, 10457, 25366, 1908, 20779, 5990, 9053, 7115, 1016, 2027, 7230, 5982, 1173, 13755, 7471, 1260, 1265, 2598, 4043, 4734, 1556, 356, 4486, 880, 8183, 1609, 3203, 559, 9611, 1336, 6148, 1324, 2562, 1267, 1831, 8692, 5709, 1849, 5188, 4678, 12175, 1329, 430, 3959, 2170, 380, 267, 1626], \"y\": [43.52, 22.78, 28.18, 34.52, 31.01, 23.98, 25.11, 41.77, 26.5, 62.04, 53.21, 31.16, 35.83, 27.87, 54.63, 41.77, 30.9, 47.39, 29.79, 62.51, 43.12, 29.0, 57.94, 32.4, 42.86, 43.28, 20.45, 22.44, 36.75, 36.97, 27.09, 33.36, 31.39, 33.88, 31.15, 26.69, 31.63, 63.28, 18.9, 20.86, 23.74, 25.07, 23.86, 21.94, 16.85, 25.54, 22.08, 27.46, 14.42, 18.18, 42.15, 24.17, 32.46, 27.19, 44.04, 16.73, 19.63, 74.24, 17.48, 26.9, 18.89, 40.99, 18.17, 18.21, 28.46, 27.09, 20.58, 23.6, 25.83, 28.35, 39.7, 16.9, 24.35, 38.71, 21.76, 21.67, 30.09, 34.92, 17.94, 21.65, 19.6, 44.82, 22.0, 47.94, 29.2, 31.63, 37.92, 19.21, 30.01], \"type\": \"scatter\", \"uid\": \"3cbd02da-9dd5-437a-84ff-ddca92307e2e\", \"xaxis\": \"x10\", \"yaxis\": \"y10\"}, {\"marker\": {\"color\": \"rgb(255, 233, 69)\", \"size\": 6}, \"mode\": \"markers\", \"name\": \"unlisted\", \"showlegend\": false, \"x\": [147, 62], \"y\": [35.42, 24.22], \"type\": \"scatter\", \"uid\": \"d62d8ca5-817b-48a1-8dd2-fa64b2795f97\", \"xaxis\": \"x10\", \"yaxis\": \"y10\"}, {\"marker\": {\"color\": \"rgb(0, 32, 76)\"}, \"showlegend\": false, \"x\": [43.52, 22.78, 28.18, 34.52, 31.01, 23.98, 25.11, 41.77, 26.5, 62.04, 53.21, 31.16, 35.83, 27.87, 54.63, 41.77, 30.9, 47.39, 29.79, 62.51, 43.12, 29.0, 57.94, 32.4, 42.86, 43.28, 20.45, 22.44, 36.75, 36.97, 27.09, 33.36, 31.39, 33.88, 31.15, 26.69, 31.63, 63.28, 18.9, 20.86, 23.74, 25.07, 23.86, 21.94, 16.85, 25.54, 22.08, 27.46, 14.42, 18.18, 42.15, 24.17, 32.46, 27.19, 44.04, 16.73, 19.63, 74.24, 17.48, 26.9, 18.89, 40.99, 18.17, 18.21, 28.46, 27.09, 20.58, 23.6, 25.83, 28.35, 39.7, 16.9, 24.35, 38.71, 21.76, 21.67, 30.09, 34.92, 17.94, 21.65, 19.6, 44.82, 22.0, 47.94, 29.2, 31.63, 37.92, 19.21, 30.01], \"type\": \"histogram\", \"uid\": \"5e835ffe-1c38-4ab9-9dfe-76b0d3cc95ca\", \"xaxis\": \"x11\", \"yaxis\": \"y11\"}, {\"marker\": {\"color\": \"rgb(255, 233, 69)\"}, \"showlegend\": false, \"x\": [35.42, 24.22], \"type\": \"histogram\", \"uid\": \"a85a333d-6486-4d21-b48e-2cdf168eac37\", \"xaxis\": \"x11\", \"yaxis\": \"y11\"}, {\"marker\": {\"color\": \"rgb(0, 32, 76)\", \"size\": 6}, \"mode\": \"markers\", \"name\": \"published\", \"showlegend\": false, \"x\": [123, 868, 186, 11, 120, 2100, 4100, 59, 2800, 82, 21, 7300, 1200, 285, 1600, 1600, 1100, 4300, 4970, 12900, 225, 5100, 101, 6000, 648, 977, 7000, 7000, 2800, 1100, 3000, 2600, 2900, 5500, 1300, 1000, 8000, 363, 13600, 4100, 2200, 3900, 6400, 8500, 1300, 5500, 2400, 2800, 2400, 715, 717, 3300, 4400, 844, 914, 3800, 662, 658, 1100, 2900, 3100, 797, 246, 3400, 347, 2600, 1000, 2100, 966, 3300, 710, 2500, 815, 755, 603, 941, 2400, 1400, 787, 2800, 2100, 3800, 568, 867, 1000, 730, 430, 560, 748], \"y\": [43.52, 22.78, 28.18, 34.52, 31.01, 23.98, 25.11, 41.77, 26.5, 62.04, 53.21, 31.16, 35.83, 27.87, 54.63, 41.77, 30.9, 47.39, 29.79, 62.51, 43.12, 29.0, 57.94, 32.4, 42.86, 43.28, 20.45, 22.44, 36.75, 36.97, 27.09, 33.36, 31.39, 33.88, 31.15, 26.69, 31.63, 63.28, 18.9, 20.86, 23.74, 25.07, 23.86, 21.94, 16.85, 25.54, 22.08, 27.46, 14.42, 18.18, 42.15, 24.17, 32.46, 27.19, 44.04, 16.73, 19.63, 74.24, 17.48, 26.9, 18.89, 40.99, 18.17, 18.21, 28.46, 27.09, 20.58, 23.6, 25.83, 28.35, 39.7, 16.9, 24.35, 38.71, 21.76, 21.67, 30.09, 34.92, 17.94, 21.65, 19.6, 44.82, 22.0, 47.94, 29.2, 31.63, 37.92, 19.21, 30.01], \"type\": \"scatter\", \"uid\": \"2d726363-971d-45ff-bae3-d6d73b6d8eec\", \"xaxis\": \"x12\", \"yaxis\": \"y12\"}, {\"marker\": {\"color\": \"rgb(255, 233, 69)\", \"size\": 6}, \"mode\": \"markers\", \"name\": \"unlisted\", \"showlegend\": false, \"x\": [205, 121], \"y\": [35.42, 24.22], \"type\": \"scatter\", \"uid\": \"8fe89e40-9c8d-4441-82c7-4c385626a3ab\", \"xaxis\": \"x12\", \"yaxis\": \"y12\"}, {\"marker\": {\"color\": \"rgb(0, 32, 76)\", \"size\": 6}, \"mode\": \"markers\", \"name\": \"published\", \"showlegend\": false, \"x\": [19, 17, 15, 5, 11, 12, 14, 6, 11, 5, 6, 12, 6, 7, 4, 6, 11, 6, 10, 3, 6, 12, 3, 9, 8, 4, 11, 9, 11, 10, 11, 10, 8, 10, 12, 12, 7, 3, 15, 13, 11, 9, 12, 11, 20, 10, 14, 9, 18, 15, 6, 11, 8, 10, 3, 17, 15, 1, 16, 10, 15, 5, 8, 17, 9, 8, 13, 10, 9, 11, 6, 15, 9, 6, 8, 9, 7, 6, 15, 12, 8, 5, 7, 6, 9, 5, 8, 27, 8], \"y\": [123, 868, 186, 11, 120, 2100, 4100, 59, 2800, 82, 21, 7300, 1200, 285, 1600, 1600, 1100, 4300, 4970, 12900, 225, 5100, 101, 6000, 648, 977, 7000, 7000, 2800, 1100, 3000, 2600, 2900, 5500, 1300, 1000, 8000, 363, 13600, 4100, 2200, 3900, 6400, 8500, 1300, 5500, 2400, 2800, 2400, 715, 717, 3300, 4400, 844, 914, 3800, 662, 658, 1100, 2900, 3100, 797, 246, 3400, 347, 2600, 1000, 2100, 966, 3300, 710, 2500, 815, 755, 603, 941, 2400, 1400, 787, 2800, 2100, 3800, 568, 867, 1000, 730, 430, 560, 748], \"type\": \"scatter\", \"uid\": \"7af7836a-1db3-454e-9d76-e4fbce7f8f4f\", \"xaxis\": \"x13\", \"yaxis\": \"y13\"}, {\"marker\": {\"color\": \"rgb(255, 233, 69)\", \"size\": 6}, \"mode\": \"markers\", \"name\": \"unlisted\", \"showlegend\": false, \"x\": [8, 8], \"y\": [205, 121], \"type\": \"scatter\", \"uid\": \"466763f9-591f-41ec-af09-6fcb84c6a0f1\", \"xaxis\": \"x13\", \"yaxis\": \"y13\"}, {\"marker\": {\"color\": \"rgb(0, 32, 76)\", \"size\": 6}, \"mode\": \"markers\", \"name\": \"published\", \"showlegend\": false, \"x\": [141, 7916, 797, 1258, 773, 27835, 32966, 66, 21761, 3239, 58, 42301, 7438, 481, 2290, 7194, 11218, 7297, 15284, 30140, 1366, 16917, 135, 11571, 2141, 5923, 26703, 14756, 20727, 11418, 32661, 18986, 15987, 19994, 6874, 6783, 21705, 1508, 23740, 9695, 6555, 8494, 10457, 25366, 1908, 20779, 5990, 9053, 7115, 1016, 2027, 7230, 5982, 1173, 13755, 7471, 1260, 1265, 2598, 4043, 4734, 1556, 356, 4486, 880, 8183, 1609, 3203, 559, 9611, 1336, 6148, 1324, 2562, 1267, 1831, 8692, 5709, 1849, 5188, 4678, 12175, 1329, 430, 3959, 2170, 380, 267, 1626], \"y\": [123, 868, 186, 11, 120, 2100, 4100, 59, 2800, 82, 21, 7300, 1200, 285, 1600, 1600, 1100, 4300, 4970, 12900, 225, 5100, 101, 6000, 648, 977, 7000, 7000, 2800, 1100, 3000, 2600, 2900, 5500, 1300, 1000, 8000, 363, 13600, 4100, 2200, 3900, 6400, 8500, 1300, 5500, 2400, 2800, 2400, 715, 717, 3300, 4400, 844, 914, 3800, 662, 658, 1100, 2900, 3100, 797, 246, 3400, 347, 2600, 1000, 2100, 966, 3300, 710, 2500, 815, 755, 603, 941, 2400, 1400, 787, 2800, 2100, 3800, 568, 867, 1000, 730, 430, 560, 748], \"type\": \"scatter\", \"uid\": \"b0bffa2e-7809-4187-83ee-9e817dbfc5f0\", \"xaxis\": \"x14\", \"yaxis\": \"y14\"}, {\"marker\": {\"color\": \"rgb(255, 233, 69)\", \"size\": 6}, \"mode\": \"markers\", \"name\": \"unlisted\", \"showlegend\": false, \"x\": [147, 62], \"y\": [205, 121], \"type\": \"scatter\", \"uid\": \"6dece7fb-254e-4a5d-8b5e-eb1f63bbbc6d\", \"xaxis\": \"x14\", \"yaxis\": \"y14\"}, {\"marker\": {\"color\": \"rgb(0, 32, 76)\", \"size\": 6}, \"mode\": \"markers\", \"name\": \"published\", \"showlegend\": false, \"x\": [43.52, 22.78, 28.18, 34.52, 31.01, 23.98, 25.11, 41.77, 26.5, 62.04, 53.21, 31.16, 35.83, 27.87, 54.63, 41.77, 30.9, 47.39, 29.79, 62.51, 43.12, 29.0, 57.94, 32.4, 42.86, 43.28, 20.45, 22.44, 36.75, 36.97, 27.09, 33.36, 31.39, 33.88, 31.15, 26.69, 31.63, 63.28, 18.9, 20.86, 23.74, 25.07, 23.86, 21.94, 16.85, 25.54, 22.08, 27.46, 14.42, 18.18, 42.15, 24.17, 32.46, 27.19, 44.04, 16.73, 19.63, 74.24, 17.48, 26.9, 18.89, 40.99, 18.17, 18.21, 28.46, 27.09, 20.58, 23.6, 25.83, 28.35, 39.7, 16.9, 24.35, 38.71, 21.76, 21.67, 30.09, 34.92, 17.94, 21.65, 19.6, 44.82, 22.0, 47.94, 29.2, 31.63, 37.92, 19.21, 30.01], \"y\": [123, 868, 186, 11, 120, 2100, 4100, 59, 2800, 82, 21, 7300, 1200, 285, 1600, 1600, 1100, 4300, 4970, 12900, 225, 5100, 101, 6000, 648, 977, 7000, 7000, 2800, 1100, 3000, 2600, 2900, 5500, 1300, 1000, 8000, 363, 13600, 4100, 2200, 3900, 6400, 8500, 1300, 5500, 2400, 2800, 2400, 715, 717, 3300, 4400, 844, 914, 3800, 662, 658, 1100, 2900, 3100, 797, 246, 3400, 347, 2600, 1000, 2100, 966, 3300, 710, 2500, 815, 755, 603, 941, 2400, 1400, 787, 2800, 2100, 3800, 568, 867, 1000, 730, 430, 560, 748], \"type\": \"scatter\", \"uid\": \"f6fdeb70-43d8-4e18-b7ce-193a2778ad83\", \"xaxis\": \"x15\", \"yaxis\": \"y15\"}, {\"marker\": {\"color\": \"rgb(255, 233, 69)\", \"size\": 6}, \"mode\": \"markers\", \"name\": \"unlisted\", \"showlegend\": false, \"x\": [35.42, 24.22], \"y\": [205, 121], \"type\": \"scatter\", \"uid\": \"c078810d-b613-48da-b00c-52e0e31793b5\", \"xaxis\": \"x15\", \"yaxis\": \"y15\"}, {\"marker\": {\"color\": \"rgb(0, 32, 76)\"}, \"showlegend\": false, \"x\": [123, 868, 186, 11, 120, 2100, 4100, 59, 2800, 82, 21, 7300, 1200, 285, 1600, 1600, 1100, 4300, 4970, 12900, 225, 5100, 101, 6000, 648, 977, 7000, 7000, 2800, 1100, 3000, 2600, 2900, 5500, 1300, 1000, 8000, 363, 13600, 4100, 2200, 3900, 6400, 8500, 1300, 5500, 2400, 2800, 2400, 715, 717, 3300, 4400, 844, 914, 3800, 662, 658, 1100, 2900, 3100, 797, 246, 3400, 347, 2600, 1000, 2100, 966, 3300, 710, 2500, 815, 755, 603, 941, 2400, 1400, 787, 2800, 2100, 3800, 568, 867, 1000, 730, 430, 560, 748], \"type\": \"histogram\", \"uid\": \"fd37e604-66d2-4d7f-b2fb-84ff8f13d496\", \"xaxis\": \"x16\", \"yaxis\": \"y16\"}, {\"marker\": {\"color\": \"rgb(255, 233, 69)\"}, \"showlegend\": false, \"x\": [205, 121], \"type\": \"histogram\", \"uid\": \"f35488bc-959c-4a27-8b8c-11077e1d606d\", \"xaxis\": \"x16\", \"yaxis\": \"y16\"}], {\"xaxis\": {\"anchor\": \"y\", \"domain\": [0.0, 0.2125]}, \"yaxis\": {\"anchor\": \"x\", \"domain\": [0.80625, 1.0], \"title\": {\"text\": \"read_time\"}}, \"xaxis2\": {\"anchor\": \"y2\", \"domain\": [0.2625, 0.475]}, \"yaxis2\": {\"anchor\": \"x2\", \"domain\": [0.80625, 1.0]}, \"xaxis3\": {\"anchor\": \"y3\", \"domain\": [0.525, 0.7375]}, \"yaxis3\": {\"anchor\": \"x3\", \"domain\": [0.80625, 1.0]}, \"xaxis4\": {\"anchor\": \"y4\", \"domain\": [0.7875, 1.0]}, \"yaxis4\": {\"anchor\": \"x4\", \"domain\": [0.80625, 1.0]}, \"xaxis5\": {\"anchor\": \"y5\", \"domain\": [0.0, 0.2125]}, \"yaxis5\": {\"anchor\": \"x5\", \"domain\": [0.5375, 0.73125], \"title\": {\"text\": \"reads\"}}, \"xaxis6\": {\"anchor\": \"y6\", \"domain\": [0.2625, 0.475]}, \"yaxis6\": {\"anchor\": \"x6\", \"domain\": [0.5375, 0.73125]}, \"xaxis7\": {\"anchor\": \"y7\", \"domain\": [0.525, 0.7375]}, \"yaxis7\": {\"anchor\": \"x7\", \"domain\": [0.5375, 0.73125]}, \"xaxis8\": {\"anchor\": \"y8\", \"domain\": [0.7875, 1.0]}, \"yaxis8\": {\"anchor\": \"x8\", \"domain\": [0.5375, 0.73125]}, \"xaxis9\": {\"anchor\": \"y9\", \"domain\": [0.0, 0.2125]}, \"yaxis9\": {\"anchor\": \"x9\", \"domain\": [0.26875, 0.4625], \"title\": {\"text\": \"read_ratio\"}}, \"xaxis10\": {\"anchor\": \"y10\", \"domain\": [0.2625, 0.475]}, \"yaxis10\": {\"anchor\": \"x10\", \"domain\": [0.26875, 0.4625]}, \"xaxis11\": {\"anchor\": \"y11\", \"domain\": [0.525, 0.7375]}, \"yaxis11\": {\"anchor\": \"x11\", \"domain\": [0.26875, 0.4625]}, \"xaxis12\": {\"anchor\": \"y12\", \"domain\": [0.7875, 1.0]}, \"yaxis12\": {\"anchor\": \"x12\", \"domain\": [0.26875, 0.4625]}, \"xaxis13\": {\"anchor\": \"y13\", \"domain\": [0.0, 0.2125], \"title\": {\"text\": \"read_time\"}}, \"yaxis13\": {\"anchor\": \"x13\", \"domain\": [0.0, 0.19375], \"title\": {\"text\": \"claps\"}}, \"xaxis14\": {\"anchor\": \"y14\", \"domain\": [0.2625, 0.475], \"title\": {\"text\": \"reads\"}}, \"yaxis14\": {\"anchor\": \"x14\", \"domain\": [0.0, 0.19375]}, \"xaxis15\": {\"anchor\": \"y15\", \"domain\": [0.525, 0.7375], \"title\": {\"text\": \"read_ratio\"}}, \"yaxis15\": {\"anchor\": \"x15\", \"domain\": [0.0, 0.19375]}, \"xaxis16\": {\"anchor\": \"y16\", \"domain\": [0.7875, 1.0], \"title\": {\"text\": \"claps\"}}, \"yaxis16\": {\"anchor\": \"x16\", \"domain\": [0.0, 0.19375]}, \"height\": 800, \"width\": 800, \"title\": {\"text\": \"Scatterplot Matrix\"}, \"showlegend\": true, \"barmode\": \"stack\"}, {\"showLink\": false, \"linkText\": \"Export to plot.ly\", \"plotlyServerURL\": \"https://plot.ly\"})});</script>"
      ],
      "text/vnd.plotly.v1+html": [
       "<div id=\"e59935a9-f665-4db1-a8b5-5c3b01562456\" style=\"height: 800px; width: 800px;\" class=\"plotly-graph-div\"></div><script type=\"text/javascript\">require([\"plotly\"], function(Plotly) { window.PLOTLYENV=window.PLOTLYENV || {};window.PLOTLYENV.BASE_URL=\"https://plot.ly\";Plotly.newPlot(\"e59935a9-f665-4db1-a8b5-5c3b01562456\", [{\"marker\": {\"color\": \"rgb(0, 32, 76)\"}, \"showlegend\": false, \"x\": [19, 17, 15, 5, 11, 12, 14, 6, 11, 5, 6, 12, 6, 7, 4, 6, 11, 6, 10, 3, 6, 12, 3, 9, 8, 4, 11, 9, 11, 10, 11, 10, 8, 10, 12, 12, 7, 3, 15, 13, 11, 9, 12, 11, 20, 10, 14, 9, 18, 15, 6, 11, 8, 10, 3, 17, 15, 1, 16, 10, 15, 5, 8, 17, 9, 8, 13, 10, 9, 11, 6, 15, 9, 6, 8, 9, 7, 6, 15, 12, 8, 5, 7, 6, 9, 5, 8, 27, 8], \"type\": \"histogram\", \"uid\": \"93907914-7ad3-4e0d-bfbb-c000f2a33001\", \"xaxis\": \"x\", \"yaxis\": \"y\"}, {\"marker\": {\"color\": \"rgb(255, 233, 69)\"}, \"showlegend\": false, \"x\": [8, 8], \"type\": \"histogram\", \"uid\": \"5e378629-2a94-4e0d-8158-9b2b0fb245c5\", \"xaxis\": \"x\", \"yaxis\": \"y\"}, {\"marker\": {\"color\": \"rgb(0, 32, 76)\", \"size\": 6}, \"mode\": \"markers\", \"name\": \"published\", \"showlegend\": true, \"x\": [141, 7916, 797, 1258, 773, 27835, 32966, 66, 21761, 3239, 58, 42301, 7438, 481, 2290, 7194, 11218, 7297, 15284, 30140, 1366, 16917, 135, 11571, 2141, 5923, 26703, 14756, 20727, 11418, 32661, 18986, 15987, 19994, 6874, 6783, 21705, 1508, 23740, 9695, 6555, 8494, 10457, 25366, 1908, 20779, 5990, 9053, 7115, 1016, 2027, 7230, 5982, 1173, 13755, 7471, 1260, 1265, 2598, 4043, 4734, 1556, 356, 4486, 880, 8183, 1609, 3203, 559, 9611, 1336, 6148, 1324, 2562, 1267, 1831, 8692, 5709, 1849, 5188, 4678, 12175, 1329, 430, 3959, 2170, 380, 267, 1626], \"y\": [19, 17, 15, 5, 11, 12, 14, 6, 11, 5, 6, 12, 6, 7, 4, 6, 11, 6, 10, 3, 6, 12, 3, 9, 8, 4, 11, 9, 11, 10, 11, 10, 8, 10, 12, 12, 7, 3, 15, 13, 11, 9, 12, 11, 20, 10, 14, 9, 18, 15, 6, 11, 8, 10, 3, 17, 15, 1, 16, 10, 15, 5, 8, 17, 9, 8, 13, 10, 9, 11, 6, 15, 9, 6, 8, 9, 7, 6, 15, 12, 8, 5, 7, 6, 9, 5, 8, 27, 8], \"type\": \"scatter\", \"uid\": \"72f4b78f-303b-4af1-83e1-32d1cdea27fc\", \"xaxis\": \"x2\", \"yaxis\": \"y2\"}, {\"marker\": {\"color\": \"rgb(255, 233, 69)\", \"size\": 6}, \"mode\": \"markers\", \"name\": \"unlisted\", \"showlegend\": true, \"x\": [147, 62], \"y\": [8, 8], \"type\": \"scatter\", \"uid\": \"78a93c5c-b874-4698-ba91-d5b72c877bd1\", \"xaxis\": \"x2\", \"yaxis\": \"y2\"}, {\"marker\": {\"color\": \"rgb(0, 32, 76)\", \"size\": 6}, \"mode\": \"markers\", \"name\": \"published\", \"showlegend\": false, \"x\": [43.52, 22.78, 28.18, 34.52, 31.01, 23.98, 25.11, 41.77, 26.5, 62.04, 53.21, 31.16, 35.83, 27.87, 54.63, 41.77, 30.9, 47.39, 29.79, 62.51, 43.12, 29.0, 57.94, 32.4, 42.86, 43.28, 20.45, 22.44, 36.75, 36.97, 27.09, 33.36, 31.39, 33.88, 31.15, 26.69, 31.63, 63.28, 18.9, 20.86, 23.74, 25.07, 23.86, 21.94, 16.85, 25.54, 22.08, 27.46, 14.42, 18.18, 42.15, 24.17, 32.46, 27.19, 44.04, 16.73, 19.63, 74.24, 17.48, 26.9, 18.89, 40.99, 18.17, 18.21, 28.46, 27.09, 20.58, 23.6, 25.83, 28.35, 39.7, 16.9, 24.35, 38.71, 21.76, 21.67, 30.09, 34.92, 17.94, 21.65, 19.6, 44.82, 22.0, 47.94, 29.2, 31.63, 37.92, 19.21, 30.01], \"y\": [19, 17, 15, 5, 11, 12, 14, 6, 11, 5, 6, 12, 6, 7, 4, 6, 11, 6, 10, 3, 6, 12, 3, 9, 8, 4, 11, 9, 11, 10, 11, 10, 8, 10, 12, 12, 7, 3, 15, 13, 11, 9, 12, 11, 20, 10, 14, 9, 18, 15, 6, 11, 8, 10, 3, 17, 15, 1, 16, 10, 15, 5, 8, 17, 9, 8, 13, 10, 9, 11, 6, 15, 9, 6, 8, 9, 7, 6, 15, 12, 8, 5, 7, 6, 9, 5, 8, 27, 8], \"type\": \"scatter\", \"uid\": \"ebd42c55-18f9-4f82-8303-4d45d56598a6\", \"xaxis\": \"x3\", \"yaxis\": \"y3\"}, {\"marker\": {\"color\": \"rgb(255, 233, 69)\", \"size\": 6}, \"mode\": \"markers\", \"name\": \"unlisted\", \"showlegend\": false, \"x\": [35.42, 24.22], \"y\": [8, 8], \"type\": \"scatter\", \"uid\": \"7d912370-ae87-4559-890c-283b0af172b4\", \"xaxis\": \"x3\", \"yaxis\": \"y3\"}, {\"marker\": {\"color\": \"rgb(0, 32, 76)\", \"size\": 6}, \"mode\": \"markers\", \"name\": \"published\", \"showlegend\": false, \"x\": [123, 868, 186, 11, 120, 2100, 4100, 59, 2800, 82, 21, 7300, 1200, 285, 1600, 1600, 1100, 4300, 4970, 12900, 225, 5100, 101, 6000, 648, 977, 7000, 7000, 2800, 1100, 3000, 2600, 2900, 5500, 1300, 1000, 8000, 363, 13600, 4100, 2200, 3900, 6400, 8500, 1300, 5500, 2400, 2800, 2400, 715, 717, 3300, 4400, 844, 914, 3800, 662, 658, 1100, 2900, 3100, 797, 246, 3400, 347, 2600, 1000, 2100, 966, 3300, 710, 2500, 815, 755, 603, 941, 2400, 1400, 787, 2800, 2100, 3800, 568, 867, 1000, 730, 430, 560, 748], \"y\": [19, 17, 15, 5, 11, 12, 14, 6, 11, 5, 6, 12, 6, 7, 4, 6, 11, 6, 10, 3, 6, 12, 3, 9, 8, 4, 11, 9, 11, 10, 11, 10, 8, 10, 12, 12, 7, 3, 15, 13, 11, 9, 12, 11, 20, 10, 14, 9, 18, 15, 6, 11, 8, 10, 3, 17, 15, 1, 16, 10, 15, 5, 8, 17, 9, 8, 13, 10, 9, 11, 6, 15, 9, 6, 8, 9, 7, 6, 15, 12, 8, 5, 7, 6, 9, 5, 8, 27, 8], \"type\": \"scatter\", \"uid\": \"c0184594-254c-477c-8a79-ad1708d71d8d\", \"xaxis\": \"x4\", \"yaxis\": \"y4\"}, {\"marker\": {\"color\": \"rgb(255, 233, 69)\", \"size\": 6}, \"mode\": \"markers\", \"name\": \"unlisted\", \"showlegend\": false, \"x\": [205, 121], \"y\": [8, 8], \"type\": \"scatter\", \"uid\": \"4c1a3464-0c49-4cff-91a6-2df3d19b8ef3\", \"xaxis\": \"x4\", \"yaxis\": \"y4\"}, {\"marker\": {\"color\": \"rgb(0, 32, 76)\", \"size\": 6}, \"mode\": \"markers\", \"name\": \"published\", \"showlegend\": false, \"x\": [19, 17, 15, 5, 11, 12, 14, 6, 11, 5, 6, 12, 6, 7, 4, 6, 11, 6, 10, 3, 6, 12, 3, 9, 8, 4, 11, 9, 11, 10, 11, 10, 8, 10, 12, 12, 7, 3, 15, 13, 11, 9, 12, 11, 20, 10, 14, 9, 18, 15, 6, 11, 8, 10, 3, 17, 15, 1, 16, 10, 15, 5, 8, 17, 9, 8, 13, 10, 9, 11, 6, 15, 9, 6, 8, 9, 7, 6, 15, 12, 8, 5, 7, 6, 9, 5, 8, 27, 8], \"y\": [141, 7916, 797, 1258, 773, 27835, 32966, 66, 21761, 3239, 58, 42301, 7438, 481, 2290, 7194, 11218, 7297, 15284, 30140, 1366, 16917, 135, 11571, 2141, 5923, 26703, 14756, 20727, 11418, 32661, 18986, 15987, 19994, 6874, 6783, 21705, 1508, 23740, 9695, 6555, 8494, 10457, 25366, 1908, 20779, 5990, 9053, 7115, 1016, 2027, 7230, 5982, 1173, 13755, 7471, 1260, 1265, 2598, 4043, 4734, 1556, 356, 4486, 880, 8183, 1609, 3203, 559, 9611, 1336, 6148, 1324, 2562, 1267, 1831, 8692, 5709, 1849, 5188, 4678, 12175, 1329, 430, 3959, 2170, 380, 267, 1626], \"type\": \"scatter\", \"uid\": \"9749ffd4-d398-48cf-9f82-be52f129eaf0\", \"xaxis\": \"x5\", \"yaxis\": \"y5\"}, {\"marker\": {\"color\": \"rgb(255, 233, 69)\", \"size\": 6}, \"mode\": \"markers\", \"name\": \"unlisted\", \"showlegend\": false, \"x\": [8, 8], \"y\": [147, 62], \"type\": \"scatter\", \"uid\": \"6836c98b-4fac-457a-a5dd-63b3a119bc1a\", \"xaxis\": \"x5\", \"yaxis\": \"y5\"}, {\"marker\": {\"color\": \"rgb(0, 32, 76)\"}, \"showlegend\": false, \"x\": [141, 7916, 797, 1258, 773, 27835, 32966, 66, 21761, 3239, 58, 42301, 7438, 481, 2290, 7194, 11218, 7297, 15284, 30140, 1366, 16917, 135, 11571, 2141, 5923, 26703, 14756, 20727, 11418, 32661, 18986, 15987, 19994, 6874, 6783, 21705, 1508, 23740, 9695, 6555, 8494, 10457, 25366, 1908, 20779, 5990, 9053, 7115, 1016, 2027, 7230, 5982, 1173, 13755, 7471, 1260, 1265, 2598, 4043, 4734, 1556, 356, 4486, 880, 8183, 1609, 3203, 559, 9611, 1336, 6148, 1324, 2562, 1267, 1831, 8692, 5709, 1849, 5188, 4678, 12175, 1329, 430, 3959, 2170, 380, 267, 1626], \"type\": \"histogram\", \"uid\": \"f03628ec-9d21-4fd0-9800-22ab7392b441\", \"xaxis\": \"x6\", \"yaxis\": \"y6\"}, {\"marker\": {\"color\": \"rgb(255, 233, 69)\"}, \"showlegend\": false, \"x\": [147, 62], \"type\": \"histogram\", \"uid\": \"8508c03a-a17d-4ac6-b790-aa1e64bc5349\", \"xaxis\": \"x6\", \"yaxis\": \"y6\"}, {\"marker\": {\"color\": \"rgb(0, 32, 76)\", \"size\": 6}, \"mode\": \"markers\", \"name\": \"published\", \"showlegend\": false, \"x\": [43.52, 22.78, 28.18, 34.52, 31.01, 23.98, 25.11, 41.77, 26.5, 62.04, 53.21, 31.16, 35.83, 27.87, 54.63, 41.77, 30.9, 47.39, 29.79, 62.51, 43.12, 29.0, 57.94, 32.4, 42.86, 43.28, 20.45, 22.44, 36.75, 36.97, 27.09, 33.36, 31.39, 33.88, 31.15, 26.69, 31.63, 63.28, 18.9, 20.86, 23.74, 25.07, 23.86, 21.94, 16.85, 25.54, 22.08, 27.46, 14.42, 18.18, 42.15, 24.17, 32.46, 27.19, 44.04, 16.73, 19.63, 74.24, 17.48, 26.9, 18.89, 40.99, 18.17, 18.21, 28.46, 27.09, 20.58, 23.6, 25.83, 28.35, 39.7, 16.9, 24.35, 38.71, 21.76, 21.67, 30.09, 34.92, 17.94, 21.65, 19.6, 44.82, 22.0, 47.94, 29.2, 31.63, 37.92, 19.21, 30.01], \"y\": [141, 7916, 797, 1258, 773, 27835, 32966, 66, 21761, 3239, 58, 42301, 7438, 481, 2290, 7194, 11218, 7297, 15284, 30140, 1366, 16917, 135, 11571, 2141, 5923, 26703, 14756, 20727, 11418, 32661, 18986, 15987, 19994, 6874, 6783, 21705, 1508, 23740, 9695, 6555, 8494, 10457, 25366, 1908, 20779, 5990, 9053, 7115, 1016, 2027, 7230, 5982, 1173, 13755, 7471, 1260, 1265, 2598, 4043, 4734, 1556, 356, 4486, 880, 8183, 1609, 3203, 559, 9611, 1336, 6148, 1324, 2562, 1267, 1831, 8692, 5709, 1849, 5188, 4678, 12175, 1329, 430, 3959, 2170, 380, 267, 1626], \"type\": \"scatter\", \"uid\": \"c97a07ac-e7ea-48bb-a409-8fe3aebb6e2b\", \"xaxis\": \"x7\", \"yaxis\": \"y7\"}, {\"marker\": {\"color\": \"rgb(255, 233, 69)\", \"size\": 6}, \"mode\": \"markers\", \"name\": \"unlisted\", \"showlegend\": false, \"x\": [35.42, 24.22], \"y\": [147, 62], \"type\": \"scatter\", \"uid\": \"669ed69c-a209-4192-9b82-6ad3c9b4de51\", \"xaxis\": \"x7\", \"yaxis\": \"y7\"}, {\"marker\": {\"color\": \"rgb(0, 32, 76)\", \"size\": 6}, \"mode\": \"markers\", \"name\": \"published\", \"showlegend\": false, \"x\": [123, 868, 186, 11, 120, 2100, 4100, 59, 2800, 82, 21, 7300, 1200, 285, 1600, 1600, 1100, 4300, 4970, 12900, 225, 5100, 101, 6000, 648, 977, 7000, 7000, 2800, 1100, 3000, 2600, 2900, 5500, 1300, 1000, 8000, 363, 13600, 4100, 2200, 3900, 6400, 8500, 1300, 5500, 2400, 2800, 2400, 715, 717, 3300, 4400, 844, 914, 3800, 662, 658, 1100, 2900, 3100, 797, 246, 3400, 347, 2600, 1000, 2100, 966, 3300, 710, 2500, 815, 755, 603, 941, 2400, 1400, 787, 2800, 2100, 3800, 568, 867, 1000, 730, 430, 560, 748], \"y\": [141, 7916, 797, 1258, 773, 27835, 32966, 66, 21761, 3239, 58, 42301, 7438, 481, 2290, 7194, 11218, 7297, 15284, 30140, 1366, 16917, 135, 11571, 2141, 5923, 26703, 14756, 20727, 11418, 32661, 18986, 15987, 19994, 6874, 6783, 21705, 1508, 23740, 9695, 6555, 8494, 10457, 25366, 1908, 20779, 5990, 9053, 7115, 1016, 2027, 7230, 5982, 1173, 13755, 7471, 1260, 1265, 2598, 4043, 4734, 1556, 356, 4486, 880, 8183, 1609, 3203, 559, 9611, 1336, 6148, 1324, 2562, 1267, 1831, 8692, 5709, 1849, 5188, 4678, 12175, 1329, 430, 3959, 2170, 380, 267, 1626], \"type\": \"scatter\", \"uid\": \"86879ea8-2b4d-48d4-8002-82cdf68e78de\", \"xaxis\": \"x8\", \"yaxis\": \"y8\"}, {\"marker\": {\"color\": \"rgb(255, 233, 69)\", \"size\": 6}, \"mode\": \"markers\", \"name\": \"unlisted\", \"showlegend\": false, \"x\": [205, 121], \"y\": [147, 62], \"type\": \"scatter\", \"uid\": \"71ce2d18-6c9d-4076-91ab-c266572e2f09\", \"xaxis\": \"x8\", \"yaxis\": \"y8\"}, {\"marker\": {\"color\": \"rgb(0, 32, 76)\", \"size\": 6}, \"mode\": \"markers\", \"name\": \"published\", \"showlegend\": false, \"x\": [19, 17, 15, 5, 11, 12, 14, 6, 11, 5, 6, 12, 6, 7, 4, 6, 11, 6, 10, 3, 6, 12, 3, 9, 8, 4, 11, 9, 11, 10, 11, 10, 8, 10, 12, 12, 7, 3, 15, 13, 11, 9, 12, 11, 20, 10, 14, 9, 18, 15, 6, 11, 8, 10, 3, 17, 15, 1, 16, 10, 15, 5, 8, 17, 9, 8, 13, 10, 9, 11, 6, 15, 9, 6, 8, 9, 7, 6, 15, 12, 8, 5, 7, 6, 9, 5, 8, 27, 8], \"y\": [43.52, 22.78, 28.18, 34.52, 31.01, 23.98, 25.11, 41.77, 26.5, 62.04, 53.21, 31.16, 35.83, 27.87, 54.63, 41.77, 30.9, 47.39, 29.79, 62.51, 43.12, 29.0, 57.94, 32.4, 42.86, 43.28, 20.45, 22.44, 36.75, 36.97, 27.09, 33.36, 31.39, 33.88, 31.15, 26.69, 31.63, 63.28, 18.9, 20.86, 23.74, 25.07, 23.86, 21.94, 16.85, 25.54, 22.08, 27.46, 14.42, 18.18, 42.15, 24.17, 32.46, 27.19, 44.04, 16.73, 19.63, 74.24, 17.48, 26.9, 18.89, 40.99, 18.17, 18.21, 28.46, 27.09, 20.58, 23.6, 25.83, 28.35, 39.7, 16.9, 24.35, 38.71, 21.76, 21.67, 30.09, 34.92, 17.94, 21.65, 19.6, 44.82, 22.0, 47.94, 29.2, 31.63, 37.92, 19.21, 30.01], \"type\": \"scatter\", \"uid\": \"5678aec3-7bc5-4579-852b-c5691b043a7d\", \"xaxis\": \"x9\", \"yaxis\": \"y9\"}, {\"marker\": {\"color\": \"rgb(255, 233, 69)\", \"size\": 6}, \"mode\": \"markers\", \"name\": \"unlisted\", \"showlegend\": false, \"x\": [8, 8], \"y\": [35.42, 24.22], \"type\": \"scatter\", \"uid\": \"4640d05d-98ce-43a1-aa4e-b3c696a6c982\", \"xaxis\": \"x9\", \"yaxis\": \"y9\"}, {\"marker\": {\"color\": \"rgb(0, 32, 76)\", \"size\": 6}, \"mode\": \"markers\", \"name\": \"published\", \"showlegend\": false, \"x\": [141, 7916, 797, 1258, 773, 27835, 32966, 66, 21761, 3239, 58, 42301, 7438, 481, 2290, 7194, 11218, 7297, 15284, 30140, 1366, 16917, 135, 11571, 2141, 5923, 26703, 14756, 20727, 11418, 32661, 18986, 15987, 19994, 6874, 6783, 21705, 1508, 23740, 9695, 6555, 8494, 10457, 25366, 1908, 20779, 5990, 9053, 7115, 1016, 2027, 7230, 5982, 1173, 13755, 7471, 1260, 1265, 2598, 4043, 4734, 1556, 356, 4486, 880, 8183, 1609, 3203, 559, 9611, 1336, 6148, 1324, 2562, 1267, 1831, 8692, 5709, 1849, 5188, 4678, 12175, 1329, 430, 3959, 2170, 380, 267, 1626], \"y\": [43.52, 22.78, 28.18, 34.52, 31.01, 23.98, 25.11, 41.77, 26.5, 62.04, 53.21, 31.16, 35.83, 27.87, 54.63, 41.77, 30.9, 47.39, 29.79, 62.51, 43.12, 29.0, 57.94, 32.4, 42.86, 43.28, 20.45, 22.44, 36.75, 36.97, 27.09, 33.36, 31.39, 33.88, 31.15, 26.69, 31.63, 63.28, 18.9, 20.86, 23.74, 25.07, 23.86, 21.94, 16.85, 25.54, 22.08, 27.46, 14.42, 18.18, 42.15, 24.17, 32.46, 27.19, 44.04, 16.73, 19.63, 74.24, 17.48, 26.9, 18.89, 40.99, 18.17, 18.21, 28.46, 27.09, 20.58, 23.6, 25.83, 28.35, 39.7, 16.9, 24.35, 38.71, 21.76, 21.67, 30.09, 34.92, 17.94, 21.65, 19.6, 44.82, 22.0, 47.94, 29.2, 31.63, 37.92, 19.21, 30.01], \"type\": \"scatter\", \"uid\": \"3cbd02da-9dd5-437a-84ff-ddca92307e2e\", \"xaxis\": \"x10\", \"yaxis\": \"y10\"}, {\"marker\": {\"color\": \"rgb(255, 233, 69)\", \"size\": 6}, \"mode\": \"markers\", \"name\": \"unlisted\", \"showlegend\": false, \"x\": [147, 62], \"y\": [35.42, 24.22], \"type\": \"scatter\", \"uid\": \"d62d8ca5-817b-48a1-8dd2-fa64b2795f97\", \"xaxis\": \"x10\", \"yaxis\": \"y10\"}, {\"marker\": {\"color\": \"rgb(0, 32, 76)\"}, \"showlegend\": false, \"x\": [43.52, 22.78, 28.18, 34.52, 31.01, 23.98, 25.11, 41.77, 26.5, 62.04, 53.21, 31.16, 35.83, 27.87, 54.63, 41.77, 30.9, 47.39, 29.79, 62.51, 43.12, 29.0, 57.94, 32.4, 42.86, 43.28, 20.45, 22.44, 36.75, 36.97, 27.09, 33.36, 31.39, 33.88, 31.15, 26.69, 31.63, 63.28, 18.9, 20.86, 23.74, 25.07, 23.86, 21.94, 16.85, 25.54, 22.08, 27.46, 14.42, 18.18, 42.15, 24.17, 32.46, 27.19, 44.04, 16.73, 19.63, 74.24, 17.48, 26.9, 18.89, 40.99, 18.17, 18.21, 28.46, 27.09, 20.58, 23.6, 25.83, 28.35, 39.7, 16.9, 24.35, 38.71, 21.76, 21.67, 30.09, 34.92, 17.94, 21.65, 19.6, 44.82, 22.0, 47.94, 29.2, 31.63, 37.92, 19.21, 30.01], \"type\": \"histogram\", \"uid\": \"5e835ffe-1c38-4ab9-9dfe-76b0d3cc95ca\", \"xaxis\": \"x11\", \"yaxis\": \"y11\"}, {\"marker\": {\"color\": \"rgb(255, 233, 69)\"}, \"showlegend\": false, \"x\": [35.42, 24.22], \"type\": \"histogram\", \"uid\": \"a85a333d-6486-4d21-b48e-2cdf168eac37\", \"xaxis\": \"x11\", \"yaxis\": \"y11\"}, {\"marker\": {\"color\": \"rgb(0, 32, 76)\", \"size\": 6}, \"mode\": \"markers\", \"name\": \"published\", \"showlegend\": false, \"x\": [123, 868, 186, 11, 120, 2100, 4100, 59, 2800, 82, 21, 7300, 1200, 285, 1600, 1600, 1100, 4300, 4970, 12900, 225, 5100, 101, 6000, 648, 977, 7000, 7000, 2800, 1100, 3000, 2600, 2900, 5500, 1300, 1000, 8000, 363, 13600, 4100, 2200, 3900, 6400, 8500, 1300, 5500, 2400, 2800, 2400, 715, 717, 3300, 4400, 844, 914, 3800, 662, 658, 1100, 2900, 3100, 797, 246, 3400, 347, 2600, 1000, 2100, 966, 3300, 710, 2500, 815, 755, 603, 941, 2400, 1400, 787, 2800, 2100, 3800, 568, 867, 1000, 730, 430, 560, 748], \"y\": [43.52, 22.78, 28.18, 34.52, 31.01, 23.98, 25.11, 41.77, 26.5, 62.04, 53.21, 31.16, 35.83, 27.87, 54.63, 41.77, 30.9, 47.39, 29.79, 62.51, 43.12, 29.0, 57.94, 32.4, 42.86, 43.28, 20.45, 22.44, 36.75, 36.97, 27.09, 33.36, 31.39, 33.88, 31.15, 26.69, 31.63, 63.28, 18.9, 20.86, 23.74, 25.07, 23.86, 21.94, 16.85, 25.54, 22.08, 27.46, 14.42, 18.18, 42.15, 24.17, 32.46, 27.19, 44.04, 16.73, 19.63, 74.24, 17.48, 26.9, 18.89, 40.99, 18.17, 18.21, 28.46, 27.09, 20.58, 23.6, 25.83, 28.35, 39.7, 16.9, 24.35, 38.71, 21.76, 21.67, 30.09, 34.92, 17.94, 21.65, 19.6, 44.82, 22.0, 47.94, 29.2, 31.63, 37.92, 19.21, 30.01], \"type\": \"scatter\", \"uid\": \"2d726363-971d-45ff-bae3-d6d73b6d8eec\", \"xaxis\": \"x12\", \"yaxis\": \"y12\"}, {\"marker\": {\"color\": \"rgb(255, 233, 69)\", \"size\": 6}, \"mode\": \"markers\", \"name\": \"unlisted\", \"showlegend\": false, \"x\": [205, 121], \"y\": [35.42, 24.22], \"type\": \"scatter\", \"uid\": \"8fe89e40-9c8d-4441-82c7-4c385626a3ab\", \"xaxis\": \"x12\", \"yaxis\": \"y12\"}, {\"marker\": {\"color\": \"rgb(0, 32, 76)\", \"size\": 6}, \"mode\": \"markers\", \"name\": \"published\", \"showlegend\": false, \"x\": [19, 17, 15, 5, 11, 12, 14, 6, 11, 5, 6, 12, 6, 7, 4, 6, 11, 6, 10, 3, 6, 12, 3, 9, 8, 4, 11, 9, 11, 10, 11, 10, 8, 10, 12, 12, 7, 3, 15, 13, 11, 9, 12, 11, 20, 10, 14, 9, 18, 15, 6, 11, 8, 10, 3, 17, 15, 1, 16, 10, 15, 5, 8, 17, 9, 8, 13, 10, 9, 11, 6, 15, 9, 6, 8, 9, 7, 6, 15, 12, 8, 5, 7, 6, 9, 5, 8, 27, 8], \"y\": [123, 868, 186, 11, 120, 2100, 4100, 59, 2800, 82, 21, 7300, 1200, 285, 1600, 1600, 1100, 4300, 4970, 12900, 225, 5100, 101, 6000, 648, 977, 7000, 7000, 2800, 1100, 3000, 2600, 2900, 5500, 1300, 1000, 8000, 363, 13600, 4100, 2200, 3900, 6400, 8500, 1300, 5500, 2400, 2800, 2400, 715, 717, 3300, 4400, 844, 914, 3800, 662, 658, 1100, 2900, 3100, 797, 246, 3400, 347, 2600, 1000, 2100, 966, 3300, 710, 2500, 815, 755, 603, 941, 2400, 1400, 787, 2800, 2100, 3800, 568, 867, 1000, 730, 430, 560, 748], \"type\": \"scatter\", \"uid\": \"7af7836a-1db3-454e-9d76-e4fbce7f8f4f\", \"xaxis\": \"x13\", \"yaxis\": \"y13\"}, {\"marker\": {\"color\": \"rgb(255, 233, 69)\", \"size\": 6}, \"mode\": \"markers\", \"name\": \"unlisted\", \"showlegend\": false, \"x\": [8, 8], \"y\": [205, 121], \"type\": \"scatter\", \"uid\": \"466763f9-591f-41ec-af09-6fcb84c6a0f1\", \"xaxis\": \"x13\", \"yaxis\": \"y13\"}, {\"marker\": {\"color\": \"rgb(0, 32, 76)\", \"size\": 6}, \"mode\": \"markers\", \"name\": \"published\", \"showlegend\": false, \"x\": [141, 7916, 797, 1258, 773, 27835, 32966, 66, 21761, 3239, 58, 42301, 7438, 481, 2290, 7194, 11218, 7297, 15284, 30140, 1366, 16917, 135, 11571, 2141, 5923, 26703, 14756, 20727, 11418, 32661, 18986, 15987, 19994, 6874, 6783, 21705, 1508, 23740, 9695, 6555, 8494, 10457, 25366, 1908, 20779, 5990, 9053, 7115, 1016, 2027, 7230, 5982, 1173, 13755, 7471, 1260, 1265, 2598, 4043, 4734, 1556, 356, 4486, 880, 8183, 1609, 3203, 559, 9611, 1336, 6148, 1324, 2562, 1267, 1831, 8692, 5709, 1849, 5188, 4678, 12175, 1329, 430, 3959, 2170, 380, 267, 1626], \"y\": [123, 868, 186, 11, 120, 2100, 4100, 59, 2800, 82, 21, 7300, 1200, 285, 1600, 1600, 1100, 4300, 4970, 12900, 225, 5100, 101, 6000, 648, 977, 7000, 7000, 2800, 1100, 3000, 2600, 2900, 5500, 1300, 1000, 8000, 363, 13600, 4100, 2200, 3900, 6400, 8500, 1300, 5500, 2400, 2800, 2400, 715, 717, 3300, 4400, 844, 914, 3800, 662, 658, 1100, 2900, 3100, 797, 246, 3400, 347, 2600, 1000, 2100, 966, 3300, 710, 2500, 815, 755, 603, 941, 2400, 1400, 787, 2800, 2100, 3800, 568, 867, 1000, 730, 430, 560, 748], \"type\": \"scatter\", \"uid\": \"b0bffa2e-7809-4187-83ee-9e817dbfc5f0\", \"xaxis\": \"x14\", \"yaxis\": \"y14\"}, {\"marker\": {\"color\": \"rgb(255, 233, 69)\", \"size\": 6}, \"mode\": \"markers\", \"name\": \"unlisted\", \"showlegend\": false, \"x\": [147, 62], \"y\": [205, 121], \"type\": \"scatter\", \"uid\": \"6dece7fb-254e-4a5d-8b5e-eb1f63bbbc6d\", \"xaxis\": \"x14\", \"yaxis\": \"y14\"}, {\"marker\": {\"color\": \"rgb(0, 32, 76)\", \"size\": 6}, \"mode\": \"markers\", \"name\": \"published\", \"showlegend\": false, \"x\": [43.52, 22.78, 28.18, 34.52, 31.01, 23.98, 25.11, 41.77, 26.5, 62.04, 53.21, 31.16, 35.83, 27.87, 54.63, 41.77, 30.9, 47.39, 29.79, 62.51, 43.12, 29.0, 57.94, 32.4, 42.86, 43.28, 20.45, 22.44, 36.75, 36.97, 27.09, 33.36, 31.39, 33.88, 31.15, 26.69, 31.63, 63.28, 18.9, 20.86, 23.74, 25.07, 23.86, 21.94, 16.85, 25.54, 22.08, 27.46, 14.42, 18.18, 42.15, 24.17, 32.46, 27.19, 44.04, 16.73, 19.63, 74.24, 17.48, 26.9, 18.89, 40.99, 18.17, 18.21, 28.46, 27.09, 20.58, 23.6, 25.83, 28.35, 39.7, 16.9, 24.35, 38.71, 21.76, 21.67, 30.09, 34.92, 17.94, 21.65, 19.6, 44.82, 22.0, 47.94, 29.2, 31.63, 37.92, 19.21, 30.01], \"y\": [123, 868, 186, 11, 120, 2100, 4100, 59, 2800, 82, 21, 7300, 1200, 285, 1600, 1600, 1100, 4300, 4970, 12900, 225, 5100, 101, 6000, 648, 977, 7000, 7000, 2800, 1100, 3000, 2600, 2900, 5500, 1300, 1000, 8000, 363, 13600, 4100, 2200, 3900, 6400, 8500, 1300, 5500, 2400, 2800, 2400, 715, 717, 3300, 4400, 844, 914, 3800, 662, 658, 1100, 2900, 3100, 797, 246, 3400, 347, 2600, 1000, 2100, 966, 3300, 710, 2500, 815, 755, 603, 941, 2400, 1400, 787, 2800, 2100, 3800, 568, 867, 1000, 730, 430, 560, 748], \"type\": \"scatter\", \"uid\": \"f6fdeb70-43d8-4e18-b7ce-193a2778ad83\", \"xaxis\": \"x15\", \"yaxis\": \"y15\"}, {\"marker\": {\"color\": \"rgb(255, 233, 69)\", \"size\": 6}, \"mode\": \"markers\", \"name\": \"unlisted\", \"showlegend\": false, \"x\": [35.42, 24.22], \"y\": [205, 121], \"type\": \"scatter\", \"uid\": \"c078810d-b613-48da-b00c-52e0e31793b5\", \"xaxis\": \"x15\", \"yaxis\": \"y15\"}, {\"marker\": {\"color\": \"rgb(0, 32, 76)\"}, \"showlegend\": false, \"x\": [123, 868, 186, 11, 120, 2100, 4100, 59, 2800, 82, 21, 7300, 1200, 285, 1600, 1600, 1100, 4300, 4970, 12900, 225, 5100, 101, 6000, 648, 977, 7000, 7000, 2800, 1100, 3000, 2600, 2900, 5500, 1300, 1000, 8000, 363, 13600, 4100, 2200, 3900, 6400, 8500, 1300, 5500, 2400, 2800, 2400, 715, 717, 3300, 4400, 844, 914, 3800, 662, 658, 1100, 2900, 3100, 797, 246, 3400, 347, 2600, 1000, 2100, 966, 3300, 710, 2500, 815, 755, 603, 941, 2400, 1400, 787, 2800, 2100, 3800, 568, 867, 1000, 730, 430, 560, 748], \"type\": \"histogram\", \"uid\": \"fd37e604-66d2-4d7f-b2fb-84ff8f13d496\", \"xaxis\": \"x16\", \"yaxis\": \"y16\"}, {\"marker\": {\"color\": \"rgb(255, 233, 69)\"}, \"showlegend\": false, \"x\": [205, 121], \"type\": \"histogram\", \"uid\": \"f35488bc-959c-4a27-8b8c-11077e1d606d\", \"xaxis\": \"x16\", \"yaxis\": \"y16\"}], {\"xaxis\": {\"anchor\": \"y\", \"domain\": [0.0, 0.2125]}, \"yaxis\": {\"anchor\": \"x\", \"domain\": [0.80625, 1.0], \"title\": {\"text\": \"read_time\"}}, \"xaxis2\": {\"anchor\": \"y2\", \"domain\": [0.2625, 0.475]}, \"yaxis2\": {\"anchor\": \"x2\", \"domain\": [0.80625, 1.0]}, \"xaxis3\": {\"anchor\": \"y3\", \"domain\": [0.525, 0.7375]}, \"yaxis3\": {\"anchor\": \"x3\", \"domain\": [0.80625, 1.0]}, \"xaxis4\": {\"anchor\": \"y4\", \"domain\": [0.7875, 1.0]}, \"yaxis4\": {\"anchor\": \"x4\", \"domain\": [0.80625, 1.0]}, \"xaxis5\": {\"anchor\": \"y5\", \"domain\": [0.0, 0.2125]}, \"yaxis5\": {\"anchor\": \"x5\", \"domain\": [0.5375, 0.73125], \"title\": {\"text\": \"reads\"}}, \"xaxis6\": {\"anchor\": \"y6\", \"domain\": [0.2625, 0.475]}, \"yaxis6\": {\"anchor\": \"x6\", \"domain\": [0.5375, 0.73125]}, \"xaxis7\": {\"anchor\": \"y7\", \"domain\": [0.525, 0.7375]}, \"yaxis7\": {\"anchor\": \"x7\", \"domain\": [0.5375, 0.73125]}, \"xaxis8\": {\"anchor\": \"y8\", \"domain\": [0.7875, 1.0]}, \"yaxis8\": {\"anchor\": \"x8\", \"domain\": [0.5375, 0.73125]}, \"xaxis9\": {\"anchor\": \"y9\", \"domain\": [0.0, 0.2125]}, \"yaxis9\": {\"anchor\": \"x9\", \"domain\": [0.26875, 0.4625], \"title\": {\"text\": \"read_ratio\"}}, \"xaxis10\": {\"anchor\": \"y10\", \"domain\": [0.2625, 0.475]}, \"yaxis10\": {\"anchor\": \"x10\", \"domain\": [0.26875, 0.4625]}, \"xaxis11\": {\"anchor\": \"y11\", \"domain\": [0.525, 0.7375]}, \"yaxis11\": {\"anchor\": \"x11\", \"domain\": [0.26875, 0.4625]}, \"xaxis12\": {\"anchor\": \"y12\", \"domain\": [0.7875, 1.0]}, \"yaxis12\": {\"anchor\": \"x12\", \"domain\": [0.26875, 0.4625]}, \"xaxis13\": {\"anchor\": \"y13\", \"domain\": [0.0, 0.2125], \"title\": {\"text\": \"read_time\"}}, \"yaxis13\": {\"anchor\": \"x13\", \"domain\": [0.0, 0.19375], \"title\": {\"text\": \"claps\"}}, \"xaxis14\": {\"anchor\": \"y14\", \"domain\": [0.2625, 0.475], \"title\": {\"text\": \"reads\"}}, \"yaxis14\": {\"anchor\": \"x14\", \"domain\": [0.0, 0.19375]}, \"xaxis15\": {\"anchor\": \"y15\", \"domain\": [0.525, 0.7375], \"title\": {\"text\": \"read_ratio\"}}, \"yaxis15\": {\"anchor\": \"x15\", \"domain\": [0.0, 0.19375]}, \"xaxis16\": {\"anchor\": \"y16\", \"domain\": [0.7875, 1.0], \"title\": {\"text\": \"claps\"}}, \"yaxis16\": {\"anchor\": \"x16\", \"domain\": [0.0, 0.19375]}, \"height\": 800, \"width\": 800, \"title\": {\"text\": \"Scatterplot Matrix\"}, \"showlegend\": true, \"barmode\": \"stack\"}, {\"showLink\": false, \"linkText\": \"Export to plot.ly\", \"plotlyServerURL\": \"https://plot.ly\"})});</script>"
      ]
     },
     "metadata": {},
     "output_type": "display_data"
    }
   ],
   "source": [
    "figure = ff.create_scatterplotmatrix(stat_df[['read_time', 'reads', 'read_ratio', 'claps', 'type']],\n",
    "                                     index = 'type', colormap='Cividis', colormap_type='cat',\n",
    "                                     title='Scatterplot Matrix',\n",
    "                                     diag='histogram', width=800, height=800)\n",
    "iplot(figure)"
   ]
  },
  {
   "cell_type": "markdown",
   "metadata": {},
   "source": [
    "# Conclusions\n",
    "\n",
    "Well, this was more a fun exercise than any serious work. I think it shows that above all, data science can be enjoyable. "
   ]
  },
  {
   "cell_type": "code",
   "execution_count": null,
   "metadata": {},
   "outputs": [],
   "source": []
  }
 ],
 "metadata": {
  "hide_input": false,
  "kernelspec": {
   "display_name": "Python 3",
   "language": "python",
   "name": "python3"
  },
  "language_info": {
   "codemirror_mode": {
    "name": "ipython",
    "version": 3
   },
   "file_extension": ".py",
   "mimetype": "text/x-python",
   "name": "python",
   "nbconvert_exporter": "python",
   "pygments_lexer": "ipython3",
   "version": "3.6.8"
  },
  "toc": {
   "base_numbering": 1,
   "nav_menu": {},
   "number_sections": true,
   "sideBar": true,
   "skip_h1_title": false,
   "title_cell": "Table of Contents",
   "title_sidebar": "Contents",
   "toc_cell": false,
   "toc_position": {},
   "toc_section_display": true,
   "toc_window_display": false
  },
  "varInspector": {
   "cols": {
    "lenName": 16,
    "lenType": 16,
    "lenVar": 40
   },
   "kernels_config": {
    "python": {
     "delete_cmd_postfix": "",
     "delete_cmd_prefix": "del ",
     "library": "var_list.py",
     "varRefreshCmd": "print(var_dic_list())"
    },
    "r": {
     "delete_cmd_postfix": ") ",
     "delete_cmd_prefix": "rm(",
     "library": "var_list.r",
     "varRefreshCmd": "cat(var_dic_list()) "
    }
   },
   "types_to_exclude": [
    "module",
    "function",
    "builtin_function_or_method",
    "instance",
    "_Feature"
   ],
   "window_display": false
  }
 },
 "nbformat": 4,
 "nbformat_minor": 2
}
